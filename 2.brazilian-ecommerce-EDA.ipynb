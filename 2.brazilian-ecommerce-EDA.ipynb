{
 "cells": [
  {
   "cell_type": "markdown",
   "metadata": {},
   "source": [
    "### pandas 라이브러리와 탐색적 데이터 분석 과정 익히기\n",
    "\n",
    "> 다양한 데이터 분석 케이스를 통해 데이터 분석과 pandas 라이브러리 활용에 대해 익히보기로 합니다."
   ]
  },
  {
   "cell_type": "markdown",
   "metadata": {},
   "source": [
    "<div class=\"alert alert-block\" style=\"border: 1px solid #FFB300;background-color:#F9FBE7;\">\n",
    "<font size=\"3em\" style=\"font-weight:bold;color:#3f8dbf;\">탐색적 데이터 분석: 1. 데이터의 출처와 주제에 대해 이해</font><br>\n",
    "\n",
    "### 전체 판매 프로세스\n",
    "1. 해당 쇼핑몰에 중소업체가 계약을 맺고\n",
    "2. 중소업체가 해당 쇼핑몰에 직접 상품을 올리고\n",
    "2. 고객이 구매하면, 중소업체가 Olist가 제공하는 물류 파트너를 활용해서 배송을 하고,\n",
    "3. 고객이 상품을 받으면, 고객에게 이메일 survey 가 전송되고,\n",
    "4. 고객이 이메일 survey 에 별점과 커멘트를 남겨서 제출하게 됨\n",
    "    \n",
    "### 데이터 출처\n",
    "- 브라질에서 가장 큰 백화점의 이커머스 쇼핑몰 (https://olist.com/)\n",
    "  - 2016년도부터 2018년도 9월까지의 100k 개의 구매 데이터 정보\n",
    "  - 구매 상태, 가격, 지불수단, 물류 관련, 리뷰관련, 상품 정보, 구매자 지역 관련 정보\n",
    "\n",
    "### 주요 질문(탐색하고자 하는 질문 리스트)\n",
    "- **얼마나 많은 고객이 있는가?** \n",
    "- **고객은 어디에 주로 사는가?** \n",
    "- **고객은 주로 어떤 지불방법을 사용하는가?**\n",
    "- 평균 거래액은 얼마일까?\n",
    "- 일별, 주별, 월별 판매 트렌드는?\n",
    "- 어떤 카테고리가 가장 많은 상품이 팔렸을까?\n",
    "</div>"
   ]
  },
  {
   "cell_type": "markdown",
   "metadata": {},
   "source": [
    "### 1. 얼마나 많은 고객이 있는가?"
   ]
  },
  {
   "cell_type": "code",
   "execution_count": 1,
   "metadata": {},
   "outputs": [],
   "source": [
    "import pandas as pd\n",
    "PATH = \"00_data/\""
   ]
  },
  {
   "cell_type": "code",
   "execution_count": 2,
   "metadata": {},
   "outputs": [],
   "source": [
    "products = pd.read_csv(PATH + \"olist_products_dataset.csv\", encoding='utf-8-sig')\n",
    "customers = pd.read_csv(PATH + \"olist_customers_dataset.csv\", encoding='utf-8-sig')\n",
    "geolocation = pd.read_csv(PATH + \"olist_geolocation_dataset.csv\", encoding='utf-8-sig')\n",
    "order_items = pd.read_csv(PATH + \"olist_order_items_dataset.csv\", encoding='utf-8-sig')\n",
    "payments = pd.read_csv(PATH + \"olist_order_payments_dataset.csv\", encoding='utf-8-sig')\n",
    "reviews = pd.read_csv(PATH + \"olist_order_reviews_dataset.csv\", encoding='utf-8-sig')\n",
    "orders = pd.read_csv(PATH + \"olist_orders_dataset.csv\", encoding='utf-8-sig')\n",
    "sellers = pd.read_csv(PATH + \"olist_sellers_dataset.csv\", encoding='utf-8-sig')\n",
    "category_name = pd.read_csv(PATH + \"product_category_name_translation.csv\", encoding='utf-8-sig')"
   ]
  },
  {
   "cell_type": "code",
   "execution_count": 3,
   "metadata": {},
   "outputs": [
    {
     "data": {
      "text/html": [
       "<div>\n",
       "<style scoped>\n",
       "    .dataframe tbody tr th:only-of-type {\n",
       "        vertical-align: middle;\n",
       "    }\n",
       "\n",
       "    .dataframe tbody tr th {\n",
       "        vertical-align: top;\n",
       "    }\n",
       "\n",
       "    .dataframe thead th {\n",
       "        text-align: right;\n",
       "    }\n",
       "</style>\n",
       "<table border=\"1\" class=\"dataframe\">\n",
       "  <thead>\n",
       "    <tr style=\"text-align: right;\">\n",
       "      <th></th>\n",
       "      <th>customer_id</th>\n",
       "      <th>customer_unique_id</th>\n",
       "      <th>customer_zip_code_prefix</th>\n",
       "      <th>customer_city</th>\n",
       "      <th>customer_state</th>\n",
       "    </tr>\n",
       "  </thead>\n",
       "  <tbody>\n",
       "    <tr>\n",
       "      <th>0</th>\n",
       "      <td>06b8999e2fba1a1fbc88172c00ba8bc7</td>\n",
       "      <td>861eff4711a542e4b93843c6dd7febb0</td>\n",
       "      <td>14409</td>\n",
       "      <td>franca</td>\n",
       "      <td>SP</td>\n",
       "    </tr>\n",
       "    <tr>\n",
       "      <th>1</th>\n",
       "      <td>18955e83d337fd6b2def6b18a428ac77</td>\n",
       "      <td>290c77bc529b7ac935b93aa66c333dc3</td>\n",
       "      <td>9790</td>\n",
       "      <td>sao bernardo do campo</td>\n",
       "      <td>SP</td>\n",
       "    </tr>\n",
       "    <tr>\n",
       "      <th>2</th>\n",
       "      <td>4e7b3e00288586ebd08712fdd0374a03</td>\n",
       "      <td>060e732b5b29e8181a18229c7b0b2b5e</td>\n",
       "      <td>1151</td>\n",
       "      <td>sao paulo</td>\n",
       "      <td>SP</td>\n",
       "    </tr>\n",
       "    <tr>\n",
       "      <th>3</th>\n",
       "      <td>b2b6027bc5c5109e529d4dc6358b12c3</td>\n",
       "      <td>259dac757896d24d7702b9acbbff3f3c</td>\n",
       "      <td>8775</td>\n",
       "      <td>mogi das cruzes</td>\n",
       "      <td>SP</td>\n",
       "    </tr>\n",
       "    <tr>\n",
       "      <th>4</th>\n",
       "      <td>4f2d8ab171c80ec8364f7c12e35b23ad</td>\n",
       "      <td>345ecd01c38d18a9036ed96c73b8d066</td>\n",
       "      <td>13056</td>\n",
       "      <td>campinas</td>\n",
       "      <td>SP</td>\n",
       "    </tr>\n",
       "  </tbody>\n",
       "</table>\n",
       "</div>"
      ],
      "text/plain": [
       "                        customer_id                customer_unique_id  \\\n",
       "0  06b8999e2fba1a1fbc88172c00ba8bc7  861eff4711a542e4b93843c6dd7febb0   \n",
       "1  18955e83d337fd6b2def6b18a428ac77  290c77bc529b7ac935b93aa66c333dc3   \n",
       "2  4e7b3e00288586ebd08712fdd0374a03  060e732b5b29e8181a18229c7b0b2b5e   \n",
       "3  b2b6027bc5c5109e529d4dc6358b12c3  259dac757896d24d7702b9acbbff3f3c   \n",
       "4  4f2d8ab171c80ec8364f7c12e35b23ad  345ecd01c38d18a9036ed96c73b8d066   \n",
       "\n",
       "   customer_zip_code_prefix          customer_city customer_state  \n",
       "0                     14409                 franca             SP  \n",
       "1                      9790  sao bernardo do campo             SP  \n",
       "2                      1151              sao paulo             SP  \n",
       "3                      8775        mogi das cruzes             SP  \n",
       "4                     13056               campinas             SP  "
      ]
     },
     "execution_count": 3,
     "metadata": {},
     "output_type": "execute_result"
    }
   ],
   "source": [
    "customers.head()"
   ]
  },
  {
   "cell_type": "code",
   "execution_count": 4,
   "metadata": {},
   "outputs": [
    {
     "name": "stdout",
     "output_type": "stream",
     "text": [
      "<class 'pandas.core.frame.DataFrame'>\n",
      "RangeIndex: 99441 entries, 0 to 99440\n",
      "Data columns (total 5 columns):\n",
      " #   Column                    Non-Null Count  Dtype \n",
      "---  ------                    --------------  ----- \n",
      " 0   customer_id               99441 non-null  object\n",
      " 1   customer_unique_id        99441 non-null  object\n",
      " 2   customer_zip_code_prefix  99441 non-null  int64 \n",
      " 3   customer_city             99441 non-null  object\n",
      " 4   customer_state            99441 non-null  object\n",
      "dtypes: int64(1), object(4)\n",
      "memory usage: 3.8+ MB\n"
     ]
    }
   ],
   "source": [
    "customers.info()"
   ]
  },
  {
   "cell_type": "markdown",
   "metadata": {},
   "source": [
    "- value_counts(): 각각의 값이 전체 Series 에서 각각 몇 개가 있는지를 알려줌"
   ]
  },
  {
   "cell_type": "code",
   "execution_count": 9,
   "metadata": {},
   "outputs": [
    {
     "data": {
      "text/plain": [
       "17"
      ]
     },
     "execution_count": 9,
     "metadata": {},
     "output_type": "execute_result"
    }
   ],
   "source": [
    "customers['customer_unique_id'].value_counts().max()"
   ]
  },
  {
   "cell_type": "code",
   "execution_count": 10,
   "metadata": {},
   "outputs": [
    {
     "data": {
      "text/plain": [
       "1"
      ]
     },
     "execution_count": 10,
     "metadata": {},
     "output_type": "execute_result"
    }
   ],
   "source": [
    "customers['customer_id'].value_counts().max()"
   ]
  },
  {
   "cell_type": "markdown",
   "metadata": {},
   "source": [
    "- nunique(): unique 한 값의 갯수를 알려줌"
   ]
  },
  {
   "cell_type": "code",
   "execution_count": 11,
   "metadata": {},
   "outputs": [
    {
     "data": {
      "text/plain": [
       "99441"
      ]
     },
     "execution_count": 11,
     "metadata": {},
     "output_type": "execute_result"
    }
   ],
   "source": [
    "customers['customer_id'].nunique()"
   ]
  },
  {
   "cell_type": "code",
   "execution_count": 12,
   "metadata": {},
   "outputs": [
    {
     "data": {
      "text/plain": [
       "96096"
      ]
     },
     "execution_count": 12,
     "metadata": {},
     "output_type": "execute_result"
    }
   ],
   "source": [
    "customers['customer_unique_id'].nunique()"
   ]
  },
  {
   "cell_type": "markdown",
   "metadata": {},
   "source": [
    "<div class=\"alert alert-block\" style=\"border: 1px solid #FFB300;background-color:#F9FBE7;\">\n",
    "<font size=\"3em\" style=\"font-weight:bold;color:#3f8dbf;\">고객 분석1: 실제 고객 수는 99441 로 볼 수 있음</font><br>\n",
    "</div>"
   ]
  },
  {
   "cell_type": "markdown",
   "metadata": {},
   "source": [
    "### 2. 고객은 어디에 주로 사는가?"
   ]
  },
  {
   "cell_type": "code",
   "execution_count": 13,
   "metadata": {},
   "outputs": [
    {
     "data": {
      "text/html": [
       "<div>\n",
       "<style scoped>\n",
       "    .dataframe tbody tr th:only-of-type {\n",
       "        vertical-align: middle;\n",
       "    }\n",
       "\n",
       "    .dataframe tbody tr th {\n",
       "        vertical-align: top;\n",
       "    }\n",
       "\n",
       "    .dataframe thead th {\n",
       "        text-align: right;\n",
       "    }\n",
       "</style>\n",
       "<table border=\"1\" class=\"dataframe\">\n",
       "  <thead>\n",
       "    <tr style=\"text-align: right;\">\n",
       "      <th></th>\n",
       "      <th>customer_id</th>\n",
       "      <th>customer_unique_id</th>\n",
       "      <th>customer_zip_code_prefix</th>\n",
       "      <th>customer_city</th>\n",
       "      <th>customer_state</th>\n",
       "    </tr>\n",
       "  </thead>\n",
       "  <tbody>\n",
       "    <tr>\n",
       "      <th>0</th>\n",
       "      <td>06b8999e2fba1a1fbc88172c00ba8bc7</td>\n",
       "      <td>861eff4711a542e4b93843c6dd7febb0</td>\n",
       "      <td>14409</td>\n",
       "      <td>franca</td>\n",
       "      <td>SP</td>\n",
       "    </tr>\n",
       "    <tr>\n",
       "      <th>1</th>\n",
       "      <td>18955e83d337fd6b2def6b18a428ac77</td>\n",
       "      <td>290c77bc529b7ac935b93aa66c333dc3</td>\n",
       "      <td>9790</td>\n",
       "      <td>sao bernardo do campo</td>\n",
       "      <td>SP</td>\n",
       "    </tr>\n",
       "    <tr>\n",
       "      <th>2</th>\n",
       "      <td>4e7b3e00288586ebd08712fdd0374a03</td>\n",
       "      <td>060e732b5b29e8181a18229c7b0b2b5e</td>\n",
       "      <td>1151</td>\n",
       "      <td>sao paulo</td>\n",
       "      <td>SP</td>\n",
       "    </tr>\n",
       "    <tr>\n",
       "      <th>3</th>\n",
       "      <td>b2b6027bc5c5109e529d4dc6358b12c3</td>\n",
       "      <td>259dac757896d24d7702b9acbbff3f3c</td>\n",
       "      <td>8775</td>\n",
       "      <td>mogi das cruzes</td>\n",
       "      <td>SP</td>\n",
       "    </tr>\n",
       "    <tr>\n",
       "      <th>4</th>\n",
       "      <td>4f2d8ab171c80ec8364f7c12e35b23ad</td>\n",
       "      <td>345ecd01c38d18a9036ed96c73b8d066</td>\n",
       "      <td>13056</td>\n",
       "      <td>campinas</td>\n",
       "      <td>SP</td>\n",
       "    </tr>\n",
       "  </tbody>\n",
       "</table>\n",
       "</div>"
      ],
      "text/plain": [
       "                        customer_id                customer_unique_id  \\\n",
       "0  06b8999e2fba1a1fbc88172c00ba8bc7  861eff4711a542e4b93843c6dd7febb0   \n",
       "1  18955e83d337fd6b2def6b18a428ac77  290c77bc529b7ac935b93aa66c333dc3   \n",
       "2  4e7b3e00288586ebd08712fdd0374a03  060e732b5b29e8181a18229c7b0b2b5e   \n",
       "3  b2b6027bc5c5109e529d4dc6358b12c3  259dac757896d24d7702b9acbbff3f3c   \n",
       "4  4f2d8ab171c80ec8364f7c12e35b23ad  345ecd01c38d18a9036ed96c73b8d066   \n",
       "\n",
       "   customer_zip_code_prefix          customer_city customer_state  \n",
       "0                     14409                 franca             SP  \n",
       "1                      9790  sao bernardo do campo             SP  \n",
       "2                      1151              sao paulo             SP  \n",
       "3                      8775        mogi das cruzes             SP  \n",
       "4                     13056               campinas             SP  "
      ]
     },
     "execution_count": 13,
     "metadata": {},
     "output_type": "execute_result"
    }
   ],
   "source": [
    "customers.head()"
   ]
  },
  {
   "cell_type": "code",
   "execution_count": 15,
   "metadata": {},
   "outputs": [
    {
     "data": {
      "text/html": [
       "<div>\n",
       "<style scoped>\n",
       "    .dataframe tbody tr th:only-of-type {\n",
       "        vertical-align: middle;\n",
       "    }\n",
       "\n",
       "    .dataframe tbody tr th {\n",
       "        vertical-align: top;\n",
       "    }\n",
       "\n",
       "    .dataframe thead th {\n",
       "        text-align: right;\n",
       "    }\n",
       "</style>\n",
       "<table border=\"1\" class=\"dataframe\">\n",
       "  <thead>\n",
       "    <tr style=\"text-align: right;\">\n",
       "      <th></th>\n",
       "      <th>customer_id</th>\n",
       "      <th>customer_unique_id</th>\n",
       "      <th>customer_zip_code_prefix</th>\n",
       "      <th>customer_state</th>\n",
       "    </tr>\n",
       "    <tr>\n",
       "      <th>customer_city</th>\n",
       "      <th></th>\n",
       "      <th></th>\n",
       "      <th></th>\n",
       "      <th></th>\n",
       "    </tr>\n",
       "  </thead>\n",
       "  <tbody>\n",
       "    <tr>\n",
       "      <th>sao paulo</th>\n",
       "      <td>15540</td>\n",
       "      <td>15540</td>\n",
       "      <td>15540</td>\n",
       "      <td>15540</td>\n",
       "    </tr>\n",
       "    <tr>\n",
       "      <th>rio de janeiro</th>\n",
       "      <td>6882</td>\n",
       "      <td>6882</td>\n",
       "      <td>6882</td>\n",
       "      <td>6882</td>\n",
       "    </tr>\n",
       "    <tr>\n",
       "      <th>belo horizonte</th>\n",
       "      <td>2773</td>\n",
       "      <td>2773</td>\n",
       "      <td>2773</td>\n",
       "      <td>2773</td>\n",
       "    </tr>\n",
       "    <tr>\n",
       "      <th>brasilia</th>\n",
       "      <td>2131</td>\n",
       "      <td>2131</td>\n",
       "      <td>2131</td>\n",
       "      <td>2131</td>\n",
       "    </tr>\n",
       "    <tr>\n",
       "      <th>curitiba</th>\n",
       "      <td>1521</td>\n",
       "      <td>1521</td>\n",
       "      <td>1521</td>\n",
       "      <td>1521</td>\n",
       "    </tr>\n",
       "  </tbody>\n",
       "</table>\n",
       "</div>"
      ],
      "text/plain": [
       "                customer_id  customer_unique_id  customer_zip_code_prefix  \\\n",
       "customer_city                                                               \n",
       "sao paulo             15540               15540                     15540   \n",
       "rio de janeiro         6882                6882                      6882   \n",
       "belo horizonte         2773                2773                      2773   \n",
       "brasilia               2131                2131                      2131   \n",
       "curitiba               1521                1521                      1521   \n",
       "\n",
       "                customer_state  \n",
       "customer_city                   \n",
       "sao paulo                15540  \n",
       "rio de janeiro            6882  \n",
       "belo horizonte            2773  \n",
       "brasilia                  2131  \n",
       "curitiba                  1521  "
      ]
     },
     "execution_count": 15,
     "metadata": {},
     "output_type": "execute_result"
    }
   ],
   "source": [
    "customers_location = customers.groupby('customer_city').count().sort_values(by='customer_id', ascending=False)\n",
    "customers_location.head()"
   ]
  },
  {
   "cell_type": "code",
   "execution_count": 18,
   "metadata": {},
   "outputs": [],
   "source": [
    "customers_location = customers.groupby('customer_city')['customer_id'].nunique().sort_values(ascending=False)"
   ]
  },
  {
   "cell_type": "code",
   "execution_count": 17,
   "metadata": {},
   "outputs": [
    {
     "data": {
      "text/plain": [
       "customer_city\n",
       "sao paulo                15540\n",
       "rio de janeiro            6882\n",
       "belo horizonte            2773\n",
       "brasilia                  2131\n",
       "curitiba                  1521\n",
       "campinas                  1444\n",
       "porto alegre              1379\n",
       "salvador                  1245\n",
       "guarulhos                 1189\n",
       "sao bernardo do campo      938\n",
       "niteroi                    849\n",
       "santo andre                797\n",
       "osasco                     746\n",
       "santos                     713\n",
       "goiania                    692\n",
       "sao jose dos campos        691\n",
       "fortaleza                  654\n",
       "sorocaba                   633\n",
       "recife                     613\n",
       "florianopolis              570\n",
       "Name: customer_id, dtype: int64"
      ]
     },
     "execution_count": 17,
     "metadata": {},
     "output_type": "execute_result"
    }
   ],
   "source": [
    "customers_location.head(20)"
   ]
  },
  {
   "cell_type": "code",
   "execution_count": 19,
   "metadata": {},
   "outputs": [
    {
     "data": {
      "text/html": [
       "        <script type=\"text/javascript\">\n",
       "        window.PlotlyConfig = {MathJaxConfig: 'local'};\n",
       "        if (window.MathJax && window.MathJax.Hub && window.MathJax.Hub.Config) {window.MathJax.Hub.Config({SVG: {font: \"STIX-Web\"}});}\n",
       "        if (typeof require !== 'undefined') {\n",
       "        require.undef(\"plotly\");\n",
       "        requirejs.config({\n",
       "            paths: {\n",
       "                'plotly': ['https://cdn.plot.ly/plotly-2.14.0.min']\n",
       "            }\n",
       "        });\n",
       "        require(['plotly'], function(Plotly) {\n",
       "            window._Plotly = Plotly;\n",
       "        });\n",
       "        }\n",
       "        </script>\n",
       "        "
      ]
     },
     "metadata": {},
     "output_type": "display_data"
    }
   ],
   "source": [
    "import chart_studio.plotly as py\n",
    "import cufflinks as cf\n",
    "cf.go_offline(connected=True)"
   ]
  },
  {
   "cell_type": "code",
   "execution_count": 20,
   "metadata": {},
   "outputs": [
    {
     "data": {
      "application/vnd.plotly.v1+json": {
       "config": {
        "linkText": "Export to plot.ly",
        "plotlyServerURL": "https://plot.ly",
        "showLink": true
       },
       "data": [
        {
         "marker": {
          "color": "rgba(255, 153, 51, 0.6)",
          "line": {
           "color": "rgba(255, 153, 51, 1.0)",
           "width": 1
          }
         },
         "name": "customer_id",
         "orientation": "v",
         "text": "",
         "type": "bar",
         "x": [
          "sao paulo",
          "rio de janeiro",
          "belo horizonte",
          "brasilia",
          "curitiba",
          "campinas",
          "porto alegre",
          "salvador",
          "guarulhos",
          "sao bernardo do campo",
          "niteroi",
          "santo andre",
          "osasco",
          "santos",
          "goiania",
          "sao jose dos campos",
          "fortaleza",
          "sorocaba",
          "recife",
          "florianopolis",
          "jundiai",
          "ribeirao preto",
          "belem",
          "nova iguacu",
          "barueri",
          "juiz de fora",
          "contagem",
          "sao goncalo",
          "mogi das cruzes",
          "vitoria",
          "uberlandia",
          "piracicaba",
          "sao luis",
          "sao jose do rio preto",
          "vila velha",
          "carapicuiba",
          "maua",
          "campo grande",
          "praia grande",
          "londrina",
          "taboao da serra",
          "diadema",
          "serra",
          "teresina",
          "indaiatuba",
          "sao caetano do sul",
          "bauru",
          "maringa",
          "taubate",
          "duque de caxias",
          "joinville",
          "joao pessoa",
          "cotia",
          "cuiaba",
          "maceio",
          "sao carlos",
          "petropolis",
          "macae",
          "campos dos goytacazes",
          "suzano",
          "volta redonda",
          "guaruja",
          "aracaju",
          "americana",
          "caxias do sul",
          "montes claros",
          "canoas",
          "natal",
          "betim",
          "santa maria",
          "marilia",
          "jacarei",
          "uberaba",
          "limeira",
          "blumenau",
          "pelotas",
          "feira de santana",
          "santana de parnaiba",
          "valinhos",
          "sumare",
          "itaquaquecetuba",
          "ipatinga",
          "itapevi",
          "sao jose",
          "sao vicente",
          "embu das artes",
          "franca",
          "presidente prudente",
          "atibaia",
          "rio claro",
          "araraquara",
          "cascavel",
          "nova friburgo",
          "braganca paulista",
          "hortolandia",
          "ponta grossa",
          "governador valadares",
          "aracatuba",
          "manaus",
          "marica",
          "cariacica",
          "rio das ostras",
          "divinopolis",
          "itu",
          "jaboatao dos guararapes",
          "sao joao de meriti",
          "sao jose dos pinhais",
          "pouso alegre",
          "paulinia",
          "sete lagoas",
          "rio grande",
          "novo hamburgo",
          "barra mansa",
          "cachoeiro de itapemirim",
          "pocos de caldas",
          "itajai",
          "teresopolis",
          "santa barbara d'oeste",
          "resende",
          "cabo frio",
          "passo fundo",
          "porto velho",
          "anapolis",
          "gravatai",
          "ferraz de vasconcelos",
          "belford roxo",
          "mage",
          "aparecida de goiania",
          "palmas",
          "franco da rocha",
          "ribeirao pires",
          "nilopolis",
          "sao leopoldo",
          "chapeco",
          "caieiras",
          "cajamar",
          "botucatu",
          "ribeirao das neves",
          "pindamonhangaba",
          "santa luzia",
          "patos de minas",
          "francisco morato",
          "balneario camboriu",
          "itapecerica da serra",
          "nova lima",
          "guaratingueta",
          "itatiba",
          "vinhedo",
          "palhoca",
          "salto",
          "araras",
          "itajuba",
          "mogi-guacu",
          "olinda",
          "criciuma",
          "vitoria da conquista",
          "vicosa",
          "varginha",
          "jaragua do sul",
          "caraguatatuba",
          "ananindeua",
          "foz do iguacu",
          "lages",
          "angra dos reis",
          "poa",
          "votorantim",
          "jandira",
          "conselheiro lafaiete",
          "assis",
          "lorena",
          "lavras",
          "sao joao da boa vista",
          "varzea paulista",
          "barbacena",
          "itanhaem",
          "ourinhos",
          "cubatao",
          "itabira",
          "sao roque",
          "birigui",
          "itapetininga",
          "araxa",
          "araruama",
          "ubatuba",
          "mesquita",
          "mogi mirim",
          "mairipora",
          "lauro de freitas",
          "catanduva",
          "teofilo otoni",
          "tatui",
          "rio branco",
          "cacapava",
          "jau",
          "viamao",
          "barretos",
          "ilheus",
          "cachoeirinha",
          "toledo",
          "pinhais",
          "pirassununga",
          "aruja",
          "campina grande",
          "rio verde",
          "guarapari",
          "sao joao del rei",
          "amparo",
          "linhares",
          "rondonopolis",
          "guarapuava",
          "manhuacu",
          "bage",
          "colatina",
          "petrolina",
          "muriae",
          "caruaru",
          "dourados",
          "avare",
          "valenca",
          "paracatu",
          "votuporanga",
          "parnamirim",
          "colombo",
          "caratinga",
          "sertaozinho",
          "itabuna",
          "jaguariuna",
          "santa cruz do sul",
          "camacari",
          "sao sebastiao",
          "brusque",
          "itaborai",
          "lagoa santa",
          "paranagua",
          "tubarao",
          "itapeva",
          "erechim",
          "ouro preto",
          "itauna",
          "campo mourao",
          "alvorada",
          "ituiutaba",
          "bento goncalves",
          "cruzeiro",
          "itapira",
          "lins",
          "queimados",
          "barra do pirai",
          "macapa",
          "araucaria",
          "jaboticabal",
          "unai",
          "araguari",
          "timoteo",
          "jatai",
          "tupa",
          "fernandopolis",
          "pato branco",
          "uba",
          "francisco beltrao",
          "ijui",
          "barreiras",
          "matao",
          "apucarana",
          "cosmopolis",
          "bebedouro",
          "joao monlevade",
          "lajeado",
          "nova serrana",
          "concordia",
          "boituva",
          "leme",
          "registro",
          "ibirite",
          "bertioga",
          "campo limpo paulista",
          "sao mateus",
          "itaguai",
          "uruguaiana",
          "saquarema",
          "paranavai",
          "videira",
          "patrocinio",
          "itaperuna",
          "embu-guacu",
          "santo angelo",
          "sinop",
          "ilhabela",
          "sao pedro da aldeia",
          "sao bento do sul",
          "boa vista",
          "lencois paulista",
          "vespasiano",
          "santarem",
          "vargem grande paulista",
          "itupeva",
          "juazeiro",
          "extrema",
          "sao jose do rio pardo",
          "peruibe",
          "curvelo",
          "louveira",
          "itapema",
          "tres coracoes",
          "passos",
          "guaira",
          "artur nogueira",
          "alfenas",
          "andradina",
          "sabara",
          "pirapora",
          "mongagua",
          "varzea grande",
          "tres lagoas",
          "paulista",
          "araguaina",
          "porto seguro",
          "ponte nova",
          "coronel fabriciano",
          "ouro branco",
          "esteio",
          "umuarama",
          "aracruz",
          "monte mor",
          "alagoinhas",
          "sao miguel do oeste",
          "imperatriz",
          "paulo afonso",
          "sapucaia do sul",
          "pedro leopoldo",
          "tres rios",
          "cacador",
          "bom despacho",
          "cianorte",
          "eunapolis",
          "guanambi",
          "capao da canoa",
          "tremembe",
          "nova odessa",
          "olimpia",
          "tiete",
          "penapolis",
          "guaxupe",
          "mossoro",
          "vassouras",
          "campo largo",
          "para de minas",
          "valparaiso de goias",
          "itumbiara",
          "sao sebastiao do paraiso",
          "alegrete",
          "luis eduardo magalhaes",
          "campo bom",
          "sobral",
          "caldas novas",
          "jequie",
          "pedreira",
          "adamantina",
          "telemaco borba",
          "camaragibe",
          "paracambi",
          "santa fe do sul",
          "almirante tamandare",
          "santa cruz do rio pardo",
          "capivari",
          "caucaia",
          "osorio",
          "rio do sul",
          "arapongas",
          "santa rita do sapucai",
          "maracanau",
          "formosa",
          "monte alto",
          "imbituba",
          "juazeiro do norte",
          "sao lourenco",
          "japeri",
          "catalao",
          "mococa",
          "sao joaquim da barra",
          "seropedica",
          "santa rosa",
          "mariana",
          "cataguases",
          "taquaritinga",
          "luziania",
          "cruz alta",
          "itabirito",
          "promissao",
          "montenegro",
          "formiga",
          "santo antonio de padua",
          "cachoeira do sul",
          "navegantes",
          "guaiba",
          "ibiuna",
          "marechal candido rondon",
          "garanhuns",
          "santo antonio de jesus",
          "jales",
          "ituverava",
          "gaspar",
          "santa isabel",
          "cerquilho",
          "congonhas",
          "gramado",
          "tijucas",
          "mirassol",
          "itarare",
          "alem paraiba",
          "orlandia",
          "arapiraca",
          "xanxere",
          "barra bonita",
          "arraial do cabo",
          "uniao da vitoria",
          "armacao dos buzios",
          "fazenda rio grande",
          "teixeira de freitas",
          "mafra",
          "corumba",
          "batatais",
          "capao bonito",
          "trindade",
          "dracena",
          "farroupilha",
          "primavera do leste",
          "itapolis",
          "rio bonito",
          "miguel pereira",
          "piumhii",
          "porto ferreira",
          "garca",
          "dois vizinhos",
          "camboriu",
          "carangola",
          "rolandia",
          "cambe",
          "caete",
          "matinhos",
          "diamantina",
          "parauapebas",
          "canoinhas",
          "viana",
          "santa barbara",
          "sapiranga",
          "santiago",
          "venancio aires",
          "joacaba",
          "mineiros",
          "frutal",
          "indaial",
          "brumadinho",
          "presidente venceslau",
          "rio grande da serra",
          "campos do jordao",
          "cachoeira paulista",
          "caceres",
          "biguacu",
          "arcos",
          "aparecida",
          "coromandel",
          "barra do garcas",
          "mairinque",
          "tramandai",
          "altamira",
          "nanuque",
          "cordeiro",
          "cornelio procopio",
          "lucas do rio verde",
          "tangara da serra",
          "cravinhos",
          "gurupi",
          "jacobina",
          "sao gabriel",
          "monte carmelo",
          "holambra",
          "carazinho",
          "ilha solteira",
          "sarandi",
          "aguas lindas de goias",
          "dias d'avila",
          "candeias",
          "piedade",
          "sao fidelis",
          "garopaba",
          "medianeira",
          "parnaiba",
          "aguas de lindoia",
          "presidente epitacio",
          "guapimirim",
          "vacaria",
          "brumado",
          "salinas",
          "castro",
          "ibitinga",
          "castanhal",
          "irati",
          "aracati",
          "vera cruz",
          "rancharia",
          "cambui",
          "porto feliz",
          "piracaia",
          "januaria",
          "pitangui",
          "marau",
          "oliveira",
          "maraba",
          "claudio",
          "santos dumont",
          "pederneiras",
          "cachoeiras de macacu",
          "curitibanos",
          "machado",
          "cantagalo",
          "icara",
          "cabo de santo agostinho",
          "ibiruba",
          "simoes filho",
          "campo belo",
          "sao manuel",
          "cafelandia",
          "pinhalzinho",
          "bom jesus do itabapoana",
          "taquara",
          "juquitiba",
          "estancia velha",
          "carlos barbosa",
          "sao gotardo",
          "santana do livramento",
          "braco do norte",
          "tres pontas",
          "tambau",
          "laranjeiras do sul",
          "casimiro de abreu",
          "boa esperanca",
          "monte siao",
          "capelinha",
          "santo antonio de posse",
          "barrinha",
          "sorriso",
          "paraguacu paulista",
          "timbo",
          "picos",
          "piraju",
          "senhor do bonfim",
          "jacutinga",
          "paraty",
          "socorro",
          "jarinu",
          "nova granada",
          "conchal",
          "jaguariaiva",
          "iguaba grande",
          "miracema",
          "visconde do rio branco",
          "espera feliz",
          "palmital",
          "guararapes",
          "monte azul paulista",
          "pereira barreto",
          "nova venecia",
          "crato",
          "paragominas",
          "castelo",
          "bambui",
          "cruz das almas",
          "sao borja",
          "veranopolis",
          "barao de cocais",
          "mandaguari",
          "goianesia",
          "redencao",
          "iracemapolis",
          "espirito santo do pinhal",
          "paraiba do sul",
          "vilhena",
          "santa rita do passa quatro",
          "guapore",
          "ponta pora",
          "ipero",
          "cerqueira cesar",
          "dois irmaos",
          "bom jesus dos perdoes",
          "floriano",
          "guanhaes",
          "ararangua",
          "viradouro",
          "bonfim paulista",
          "pitangueiras",
          "quatro barras",
          "sarzedo",
          "canela",
          "sao francisco",
          "morrinhos",
          "itatiaia",
          "agua boa",
          "novo horizonte",
          "itapetinga",
          "torres",
          "pompeia",
          "bastos",
          "juina",
          "anchieta",
          "americo brasiliense",
          "panambi",
          "ipojuca",
          "ipora",
          "ji-parana",
          "alegre",
          "balsas",
          "piuma",
          "uruacu",
          "bonito",
          "leopoldina",
          "caxambu",
          "sao francisco do sul",
          "posse",
          "salgueiro",
          "jacarezinho",
          "penha",
          "santa vitoria",
          "igrejinha",
          "santo antonio da patrulha",
          "janauba",
          "laranjal paulista",
          "bom jardim",
          "tucurui",
          "charqueadas",
          "santo anastacio",
          "candido mota",
          "itabaiana",
          "santana do paraiso",
          "ouro fino",
          "osvaldo cruz",
          "cajati",
          "itaocara",
          "senador canedo",
          "rio negro",
          "manhumirim",
          "campo novo do parecis",
          "barra velha",
          "cordeiropolis",
          "marialva",
          "marataizes",
          "agudos",
          "guacui",
          "joao pinheiro",
          "natividade",
          "pirapora do bom jesus",
          "novo gama",
          "patos",
          "nova prata",
          "carmo do paranaiba",
          "palmeira",
          "pirai",
          "inhumas",
          "estrela",
          "buritis",
          "taquarituba",
          "caxias",
          "palmeira das missoes",
          "vitoria de santo antao",
          "sao francisco de itabapoana",
          "sao joao da barra",
          "petrolandia",
          "sao luiz gonzaga",
          "fraiburgo",
          "nova era",
          "presidente dutra",
          "marituba",
          "santa adelia",
          "junqueiropolis",
          "eldorado do sul",
          "cunha",
          "santa maria de jetiba",
          "cangucu",
          "conselheiro pena",
          "sao joao nepomuceno",
          "bariri",
          "iturama",
          "ituporanga",
          "venda nova do imigrante",
          "pariquera-acu",
          "timon",
          "sao mateus do sul",
          "iguatu",
          "santa ines",
          "lapa",
          "santo antonio do monte",
          "paraisopolis",
          "paranaiba",
          "bombinhas",
          "serrinha",
          "taio",
          "jaguare",
          "teutonia",
          "porto uniao",
          "sao simao",
          "triunfo",
          "vargem grande do sul",
          "campos novos",
          "capanema",
          "mirassol d'oeste",
          "bandeirantes",
          "lagoa vermelha",
          "itanhandu",
          "italva",
          "chapadao do sul",
          "laguna",
          "piraquara",
          "feliz",
          "sao gabriel da palha",
          "guariba",
          "sao lourenco do sul",
          "nossa senhora do socorro",
          "bom jesus",
          "pirapozinho",
          "miguelopolis",
          "itaporanga",
          "rosario do sul",
          "esmeraldas",
          "almenara",
          "pinheiral",
          "divino",
          "santa rosa de viterbo",
          "quirinopolis",
          "iguape",
          "serra negra",
          "niquelandia",
          "frederico westphalen",
          "sao jose de ribamar",
          "aperibe",
          "porangatu",
          "goiana",
          "mirandopolis",
          "tres marias",
          "conceicao de macabu",
          "santana",
          "mangaratiba",
          "sao sebastiao do cai",
          "ivoti",
          "bocaiuva",
          "irece",
          "tupaciguara",
          "pontal",
          "barra de sao joao",
          "quixada",
          "carmo",
          "ipameri",
          "matias barbosa",
          "itapecerica",
          "sacramento",
          "pojuca",
          "sao miguel arcanjo",
          "jardinopolis",
          "quissama",
          "maracaju",
          "salto de pirapora",
          "eusebio",
          "loanda",
          "casa branca",
          "cesario lange",
          "aluminio",
          "santa maria da vitoria",
          "cacoal",
          "descalvado",
          "ibirama",
          "paty do alferes",
          "ariquemes",
          "santa cruz do capibaribe",
          "parati",
          "rio negrinho",
          "taiobeiras",
          "camaqua",
          "imbe",
          "teodoro sampaio",
          "serrana",
          "quata",
          "ibate",
          "forquilhinha",
          "engenheiro coelho",
          "paraguacu",
          "guaramirim",
          "igarassu",
          "sao pedro",
          "alta floresta",
          "cajazeiras",
          "santo antonio da platina",
          "sao goncalo do amarante",
          "conceicao do mato dentro",
          "tres de maio",
          "sao joao",
          "brotas",
          "limoeiro do norte",
          "itamaraju",
          "pires do rio",
          "pirajui",
          "belo jardim",
          "andradas",
          "ibipora",
          "lucelia",
          "mendes",
          "pilar do sul",
          "maravilha",
          "mata de sao joao",
          "itapiranga",
          "sao lourenco da mata",
          "raul soares",
          "sao lourenco da serra",
          "santo amaro da imperatriz",
          "costa rica",
          "flores da cunha",
          "assis chateaubriand",
          "tapiratiba",
          "tabapua",
          "araripina",
          "santa gertrudes",
          "santa helena",
          "matozinhos",
          "jose bonifacio",
          "parobe",
          "macatuba",
          "sao jose do vale do rio preto",
          "abaete",
          "chavantes",
          "santa vitoria do palmar",
          "raposos",
          "taquari",
          "castilho",
          "treze tilias",
          "goioere",
          "corinto",
          "correia pinto",
          "sao lourenco do oeste",
          "itapipoca",
          "aracoiaba da serra",
          "alvinopolis",
          "rio brilhante",
          "paranapanema",
          "minacu",
          "afonso claudio",
          "bacabal",
          "goitacazes",
          "pompeu",
          "sidrolandia",
          "faxinal dos guedes",
          "araquari",
          "coxim",
          "jequitinhonha",
          "mantena",
          "lagoa da prata",
          "tapejara",
          "igarape",
          "dois corregos",
          "abaetetuba",
          "sombrio",
          "tres passos",
          "capinopolis",
          "floresta",
          "gravata",
          "guararema",
          "mostardas",
          "nova andradina",
          "andira",
          "ouroeste",
          "varzea da palma",
          "bezerros",
          "tanabi",
          "carandai",
          "boa esperanca do sul",
          "abreu e lima",
          "sao joao batista",
          "astolfo dutra",
          "coronel vivida",
          "rio das pedras",
          "barroso",
          "lagarto",
          "embu",
          "canarana",
          "encantado",
          "prata",
          "ibaiti",
          "itamonte",
          "brejo santo",
          "itai",
          "paraibuna",
          "salesopolis",
          "xaxim",
          "pradopolis",
          "santa teresa",
          "morada nova",
          "escada",
          "goiatuba",
          "conchas",
          "palestina",
          "juquia",
          "cicero dantas",
          "charqueada",
          "turmalina",
          "eloi mendes",
          "brodowski",
          "paicandu",
          "paraiso do tocantins",
          "arroio do meio",
          "caconde",
          "buri",
          "serra talhada",
          "caetite",
          "campo formoso",
          "cambara",
          "taua",
          "dom pedrito",
          "caico",
          "aguai",
          "sumidouro",
          "passa quatro",
          "capinzal",
          "querencia",
          "piracanjuba",
          "itajobi",
          "campo verde",
          "urussanga",
          "morro agudo",
          "papucaia",
          "nova xavantina",
          "barra de sao francisco",
          "antonina",
          "monte aprazivel",
          "aimores",
          "itaberaba",
          "urupes",
          "planaltina",
          "rolante",
          "taguai",
          "garibaldi",
          "aguas da prata",
          "santo amaro",
          "palotina",
          "balneario picarras",
          "girua",
          "catu",
          "duartina",
          "fartura",
          "portao",
          "auriflama",
          "sao goncalo do sapucai",
          "mimoso do sul",
          "regente feijo",
          "porecatu",
          "carpina",
          "biritiba-mirim",
          "resplendor",
          "ipira",
          "montanha",
          "aracariguama",
          "carmo do cajuru",
          "campina grande do sul",
          "campina verde",
          "guara",
          "guarabira",
          "julio de castilhos",
          "sao miguel do iguacu",
          "ampere",
          "penedo",
          "conceicao do coite",
          "herval d'oeste",
          "mateus leme",
          "valente",
          "santo augusto",
          "piquete",
          "ibatiba",
          "aracuai",
          "sobradinho",
          "crateus",
          "icem",
          "potirendaba",
          "pomerode",
          "coroata",
          "perdoes",
          "xinguara",
          "dourado",
          "rio paranaiba",
          "bom jesus da lapa",
          "itapoa",
          "borborema",
          "pedro de toledo",
          "porto belo",
          "domingos martins",
          "brasilia de minas",
          "russas",
          "mangueirinha",
          "mar de espanha",
          "sao joaquim",
          "arapoti",
          "braganca",
          "piranguinho",
          "carmo do rio claro",
          "faxinal",
          "camanducaia",
          "santa cruz das palmeiras",
          "santa juliana",
          "arroio dos ratos",
          "schroeder",
          "canaa dos carajas",
          "pau dos ferros",
          "rondon do para",
          "pontes e lacerda",
          "estancia",
          "nepomuceno",
          "guaratuba",
          "palmares",
          "bilac",
          "monte santo de minas",
          "nova londrina",
          "pesqueira",
          "cedral",
          "tiangua",
          "cajuru",
          "piratininga",
          "santa helena de goias",
          "muzambinho",
          "novo cruzeiro",
          "sao marcos",
          "queimadas",
          "camamu",
          "primavera",
          "pinhao",
          "colorado",
          "lindoia",
          "pinheiros",
          "alto paraiso de goias",
          "siqueira campos",
          "buritama",
          "colina",
          "itaguacu",
          "ibia",
          "mirai",
          "buritizeiro",
          "simonesia",
          "planalto",
          "serafina correa",
          "santa branca",
          "guaranesia",
          "macaubas",
          "taruma",
          "nova ponte",
          "paraopeba",
          "itaqui",
          "cristina",
          "joao neiva",
          "cristalina",
          "itamarandiba",
          "nova petropolis",
          "caetanopolis",
          "balneario pinhal",
          "crixas",
          "fervedouro",
          "palmeira dos indios",
          "dores de campos",
          "sao felix do xingu",
          "sao jose da lapa",
          "nucleo residencial pilar",
          "currais novos",
          "valparaiso",
          "cambuci",
          "santo antonio do jacinto",
          "nova esperanca",
          "maracai",
          "teotonio vilela",
          "itacare",
          "parapua",
          "porto nacional",
          "angatuba",
          "ouricuri",
          "lagoa grande",
          "cananeia",
          "sapezal",
          "poco fundo",
          "anicuns",
          "afogados da ingazeira",
          "papanduva",
          "itaiopolis",
          "mutum",
          "jandaia do sul",
          "nova europa",
          "botelhos",
          "cajobi",
          "vila valerio",
          "pontal do parana",
          "virginopolis",
          "baependi",
          "cacu",
          "chapadao do ceu",
          "arraial d'ajuda",
          "guaicara",
          "arroio do sal",
          "encruzilhada do sul",
          "alto do rodrigues",
          "bom jardim de minas",
          "rio acima",
          "ribeira do pombal",
          "camocim",
          "ortigueira",
          "hidrolandia",
          "baixo guandu",
          "martinopolis",
          "sao luis de montes belos",
          "cidade ocidental",
          "sao joaquim de bicas",
          "pirapetinga",
          "nhandeara",
          "quedas do iguacu",
          "colider",
          "goianira",
          "pirangi",
          "tucano",
          "codo",
          "goias",
          "mambore",
          "cocal",
          "jacare",
          "imbituva",
          "lauro muller",
          "arinos",
          "aripuana",
          "ecoporanga",
          "soledade",
          "pimenta bueno",
          "ipiau",
          "alvares machado",
          "perdizes",
          "jaguarao",
          "itambe",
          "ipaba",
          "xangri-la",
          "santa rita",
          "acarau",
          "lambari",
          "navirai",
          "marilandia",
          "porciuncula",
          "ico",
          "trajano de moraes",
          "orleans",
          "getulio vargas",
          "coribe",
          "divinolandia",
          "santa cecilia",
          "rodeio",
          "piedade de caratinga",
          "vila muriqui",
          "limoeiro",
          "general salgado",
          "santa albertina",
          "entre rios de minas",
          "ervalia",
          "dores do indaia",
          "alfredo chaves",
          "alpinopolis",
          "nova veneza",
          "firminopolis",
          "malacacheta",
          "eldorado",
          "estiva gerbi",
          "horizontina",
          "santa rita do araguaia",
          "nova russas",
          "rubiataba",
          "rolim de moura",
          "acreuna",
          "perdigao",
          "luis antonio",
          "madre de deus",
          "espumoso",
          "acailandia",
          "santa maria madalena",
          "guarani",
          "acopiara",
          "ruy barbosa",
          "morro do chapeu",
          "dianopolis",
          "cansancao",
          "ipaussu",
          "lajedo",
          "nazare paulista",
          "avanhandava",
          "ivaipora",
          "casca",
          "casa nova",
          "presidente getulio",
          "bady bassitt",
          "diamantino",
          "sao raimundo nonato",
          "passo de torres",
          "nao-me-toque",
          "tocantinopolis",
          "missal",
          "catende",
          "tres cachoeiras",
          "astorga",
          "sao jose do norte",
          "comodoro",
          "arceburgo",
          "areado",
          "areal",
          "matupa",
          "ribeirao bonito",
          "medeiros neto",
          "ipanema",
          "neropolis",
          "inhambupe",
          "inhapim",
          "ceu azul",
          "cerro largo",
          "ceres",
          "timbauba",
          "barra da estiva",
          "confresa",
          "barra do corda",
          "teixeiras",
          "itapui",
          "bicas",
          "prudentopolis",
          "silvania",
          "cachoeira de minas",
          "taquaritinga do norte",
          "morungaba",
          "simao dias",
          "cabedelo",
          "bocaina",
          "bom conselho",
          "sousa",
          "morro da fumaca",
          "taguatinga",
          "itapuranga",
          "mozarlandia",
          "mucuri",
          "campo maior",
          "itobi",
          "itabera",
          "terra roxa",
          "terra rica",
          "campos belos",
          "pinhalao",
          "campo ere",
          "bela vista de goias",
          "lagoa formosa",
          "primeiro de maio",
          "campinorte",
          "bayeux",
          "campanha",
          "piripiri",
          "conceicao do araguaia",
          "comendador levy gasparian",
          "apiuna",
          "igarapava",
          "cruz",
          "sao domingos do norte",
          "marmeleiro",
          "sao gabriel do oeste",
          "cruzeiro do oeste",
          "aparecida do taboado",
          "sao jeronimo",
          "potiragua",
          "cruzeiro do sul",
          "sao domingos",
          "ibotirama",
          "sao cristovao",
          "ibira",
          "porto real",
          "sao bento do sapucai",
          "paco do lumiar",
          "santo cristo",
          "jaragua",
          "sao joao evangelista",
          "pirai do sul",
          "sao joao dos patos",
          "ubirata",
          "sao francisco de paula",
          "nova trento",
          "amambai",
          "pacaja",
          "quixeramobim",
          "sapucaia",
          "caninde",
          "barcarena",
          "presidente olegario",
          "barbalha",
          "fronteira",
          "campinas do sul",
          "joanopolis",
          "iacanga",
          "apiaca",
          "itaberai",
          "santa cruz",
          "barreiros",
          "canavieiras",
          "rio das flores",
          "seara",
          "aguas belas",
          "itariri",
          "rio novo do sul",
          "pacaembu",
          "campos de julio",
          "santo amaro de campos",
          "seabra",
          "nova santa rita",
          "apiai",
          "canapolis",
          "piratuba",
          "monte alegre do sul",
          "jaiba",
          "gravatal",
          "abre campo",
          "itaobim",
          "paraiso",
          "bofete",
          "sales oliveira",
          "itapaje",
          "soledade de minas",
          "sabinopolis",
          "butia",
          "abelardo luz",
          "brazopolis",
          "itapejara d'oeste",
          "tangua",
          "bom principio",
          "borda da mata",
          "rio largo",
          "tapes",
          "lima duarte",
          "mundo novo",
          "sananduva",
          "guapo",
          "piritiba",
          "oeiras",
          "camapua",
          "camacan",
          "california da barra",
          "itaipulandia",
          "guapiacu",
          "cabreuva",
          "benedito novo",
          "ronda alta",
          "itapura",
          "uruara",
          "itambacuri",
          "cachoeira alta",
          "cabrobo",
          "realeza",
          "jacunda",
          "reboucas",
          "jeceaba",
          "martins soares",
          "presidente bernardes",
          "mamanguape",
          "medina",
          "mallet",
          "santa rita de caldas",
          "nova prata do iguacu",
          "tres coroas",
          "sao joao do piaui",
          "orizona",
          "turvo",
          "catole do rocha",
          "catigua",
          "ubaira",
          "catanduvas",
          "trancoso",
          "sao joao do paraiso",
          "esplanada",
          "cassia",
          "araujos",
          "mata verde",
          "engenheiro paulo de frontin",
          "rio pomba",
          "entre rios",
          "sao jose da barra",
          "conceicao da aparecida",
          "conquista",
          "pombal",
          "indianopolis",
          "jaru",
          "tupi paulista",
          "sao jose do calcado",
          "esperanca",
          "vazante",
          "espigao do oeste",
          "espinosa",
          "rio branco do sul",
          "assai",
          "ipora do oeste",
          "pacajus",
          "juruaia",
          "alcinopolis",
          "cardoso moreira",
          "carai",
          "cardoso",
          "carlopolis",
          "jeremoabo",
          "carmo da mata",
          "bananal",
          "regeneracao",
          "fernando prestes",
          "santa isabel do para",
          "sao sepe",
          "torrinha",
          "rio pardo",
          "tocantins",
          "irapuru",
          "sao goncalo do rio abaixo",
          "balsamo",
          "cosmorama",
          "rafard",
          "inacio martins",
          "jatoba",
          "rio azul",
          "pinheiro machado",
          "quatro bocas",
          "itapagipe",
          "icapui",
          "ribeirao claro",
          "guabiruba",
          "igarata",
          "quatis",
          "roseira",
          "japuiba",
          "ribeirao do pinhal",
          "rio manso",
          "joviania",
          "jaguaribe",
          "quatigua",
          "lago da pedra",
          "prado",
          "iraquara",
          "japura",
          "ipumirim",
          "ibicarai",
          "jesuania",
          "guaracai",
          "rio pardo de minas",
          "itau de minas",
          "jordania",
          "juara",
          "porteirinha",
          "itauba",
          "ibirarema",
          "rio casca",
          "livramento de nossa senhora",
          "horizonte",
          "riachao do jacuipe",
          "jauru",
          "jacupiranga",
          "iconha",
          "joao lisboa",
          "guarei",
          "holambra ii",
          "porto xavier",
          "guaraniacu",
          "guaranta",
          "iepe",
          "lagoa da confusao",
          "jardim",
          "guaranta do norte",
          "lagoa dourada",
          "ladario",
          "roque gonzales",
          "laurentino",
          "remanso",
          "esperantina",
          "granja",
          "carapebus",
          "capivari de baixo",
          "capitolio",
          "capitao leonidas marques",
          "sao tiago",
          "capim grosso",
          "grajau",
          "campos gerais",
          "campos altos",
          "senges",
          "cambuquira",
          "serra dos aimores",
          "monte azul",
          "caldas",
          "monte belo",
          "sete barras",
          "paramirim",
          "severinia",
          "cacapava do sul",
          "buriticupu",
          "sirinhaem",
          "paraipaba",
          "buenopolis",
          "sooretama",
          "moreno",
          "brauna",
          "sao sebastiao do passe",
          "sao roque do canaa",
          "surubim",
          "miracatu",
          "pedro canario",
          "pedra preta",
          "conceicao do rio verde",
          "pedra azul",
          "conceicao do castelo",
          "pecanha",
          "peabiru",
          "paulo frontin",
          "colombia",
          "paulo de faria",
          "sao jose do cedro",
          "sao jose do ouro",
          "cidreira",
          "cidade gaucha",
          "chui",
          "mendes pimentel",
          "mendonca",
          "sao miguel do araguaia",
          "sao miguel do guama",
          "catas altas",
          "miguel calmon",
          "castelandia",
          "cassilandia",
          "carmopolis de minas",
          "sao romao",
          "sud mennucci",
          "tabatinga",
          "cunha pora",
          "araguatins",
          "aracoiaba",
          "una",
          "antonio prado",
          "urbano santos",
          "anita garibaldi",
          "andorinha",
          "utinga",
          "ourilandia do norte",
          "otacilio costa",
          "vargem alta",
          "vargem bonita",
          "nova fatima",
          "altos",
          "alto parnaiba",
          "alto boa vista",
          "alto araguaia",
          "nova mutum",
          "orindiuva",
          "alexania",
          "aguas formosas",
          "agua branca",
          "ocaucu",
          "adolfo",
          "novo progresso",
          "ze doca",
          "pacatuba",
          "arapora",
          "tabira",
          "araruna",
          "taiuva",
          "bonfim",
          "bom sucesso",
          "paracuru",
          "tarabai",
          "bituruna",
          "belo oriente",
          "bataguassu",
          "panorama",
          "terra de areia",
          "palmitos",
          "palmitinho",
          "barra do ribeiro",
          "timburi",
          "bananeiras",
          "palmeira d'oeste",
          "tombos",
          "toritama",
          "aurora",
          "palmares do sul",
          "tres barras",
          "tres fronteiras",
          "ariranha",
          "trombudo central",
          "arcoverde",
          "marechal floriano",
          "colonia vitoria",
          "sao benedito",
          "eugenopolis",
          "custodia",
          "garuva",
          "sao bento do una",
          "macaiba",
          "sao bento",
          "feira nova",
          "santo estevao",
          "maragogi",
          "fundao",
          "santa barbara d oeste",
          "santa fe",
          "macau",
          "maracas",
          "diamante do norte",
          "santo antonio do jardim",
          "frei inocencio",
          "santo antonio do descoberto",
          "santa cruz cabralia",
          "divinolandia de minas",
          "dom feliciano",
          "santa cruz de minas",
          "general carneiro",
          "dom eliseu",
          "santa quiteria",
          "saltinho",
          "euclides da cunha",
          "sales",
          "estacao",
          "mandaguacu",
          "elias fausto",
          "cabralia paulista",
          "terra boa",
          "munhoz de melo",
          "cacequi",
          "jussara",
          "itatinga",
          "florida paulista",
          "muqui",
          "barro",
          "cachoeira",
          "silva jardim",
          "barreirinhas",
          "sideropolis",
          "brejo da madre de deus",
          "presidente tancredo neves",
          "santa cruz de monte castelo",
          "parambu",
          "sertania",
          "sertanopolis",
          "balneario arroio do silva",
          "balneario barra do sul",
          "forquilha",
          "caiaponia",
          "formoso do araguaia",
          "rio do campo",
          "tiradentes",
          "poco verde",
          "tibagi",
          "barra do bugres",
          "mutuipe",
          "itiuba",
          "munhoz",
          "propria",
          "itanhomi",
          "fazenda nova",
          "buerarema",
          "itapaci",
          "tailandia",
          "guaruja do sul",
          "santa maria de itabira",
          "bueno brandao",
          "morretes",
          "bela cruz",
          "fatima do sul",
          "itaperucu",
          "itapemirim",
          "pinheiro",
          "santa mariana",
          "itapecuru mirim",
          "guimarania",
          "quarai",
          "bom repouso",
          "bom jesus do norte",
          "bom jesus do galho",
          "tanhacu",
          "pien",
          "santa lucia",
          "boa vista da aparecida",
          "figueira",
          "tarumirim",
          "bernardino de campos",
          "santa fe de goias",
          "papagaios",
          "prudente de morais",
          "teolandia",
          "juti",
          "curiuva",
          "arvorezinha",
          "nazare",
          "salto veloso",
          "jari",
          "varre-sai",
          "varjota",
          "salto do ceu",
          "juatuba",
          "salto do jacui",
          "salto do lontra",
          "valenca do piaui",
          "urania",
          "analandia",
          "pongai",
          "urucui",
          "uruana",
          "jucurutu",
          "gandu",
          "anta",
          "alto rio doce",
          "glicerio",
          "alto jequitiba",
          "goianapolis",
          "governador portela",
          "gouveia",
          "rosana",
          "volta grande",
          "agua doce do norte",
          "jijoca de jericoacoara",
          "nova santa rosa",
          "jesuitas",
          "aiuruoca",
          "alcobaca",
          "vila dos cabanos",
          "nova olinda do maranhao",
          "nova olinda",
          "guadalupe",
          "altinopolis",
          "anta gorda",
          "ouro preto do oeste",
          "avelar",
          "jacaraci",
          "tupancireta",
          "guaraci",
          "arealva",
          "tucuma",
          "palma",
          "guaraciaba do norte",
          "trindade do sul",
          "guarai",
          "nova bassano",
          "pilao arcado",
          "itaitinga",
          "ascurra",
          "palma sola",
          "macedonia",
          "travessao",
          "santa cruz da conceicao",
          "jacinto machado",
          "araputanga",
          "jacui",
          "arandu",
          "nova bandeirantes",
          "jambeiro",
          "posto da mata",
          "nova aurora",
          "gameleira",
          "sanclerlandia",
          "uibai",
          "jaguaruana",
          "aquidauana",
          "arace",
          "pilar",
          "aragarcas",
          "ubaitaba",
          "uaua",
          "padre bernardo",
          "rio preto",
          "caarapo",
          "irineopolis",
          "santo antonio do amparo",
          "pedrinhas paulista",
          "catuipe",
          "mario campos",
          "sao miguel do guapore",
          "santo antonio das missoes",
          "rio bonito do iguacu",
          "sao miguel",
          "ipiabas",
          "merces",
          "centenario do sul",
          "cerro azul",
          "piranhas",
          "chapada",
          "riacho de santana",
          "mantenopolis",
          "rio novo",
          "chapada gaucha",
          "carmo da cachoeira",
          "corumbaiba",
          "sao sebastiao da grama",
          "miranda",
          "ipua",
          "ipu",
          "dom silverio",
          "iacu",
          "milagres",
          "iapu",
          "renascenca",
          "sao pedro dos ferros",
          "ipiranga",
          "corrente",
          "minas novas",
          "chapada dos guimaraes",
          "maristela",
          "carbonita",
          "ilha de itamaraca",
          "colinas",
          "congonhal",
          "ilhota",
          "ibiam",
          "condor",
          "joaquim nabuco",
          "ilha comprida",
          "coelho neto",
          "matipo",
          "iguatama",
          "delmiro gouveia",
          "conceicao das pedras",
          "condado",
          "piranga",
          "igaracu do tiete",
          "lavinia",
          "rianapolis",
          "maurilandia",
          "chopinzinho",
          "indiara",
          "maracacume",
          "rio bananal",
          "ribeirao",
          "inaja",
          "sao jose do egito",
          "cocalinho",
          "conservatoria",
          "claudia",
          "clementina",
          "imbuia",
          "coaraci",
          "cocal do sul",
          "sao sebastiao do alto",
          "iaciara",
          "saudade do iguacu",
          "maravilhas",
          "parelhas",
          "pirenopolis",
          "moju",
          "itabela",
          "candido de abreu",
          "candelaria",
          "saudades",
          "parauna",
          "campos sales",
          "eliseu martins",
          "campo do meio",
          "senador pompeu",
          "rio piracicaba",
          "campo alegre",
          "sao domingos do prata",
          "candido rodrigues",
          "cruzilia",
          "pejucara",
          "paranaita",
          "monte alegre de minas",
          "cuite",
          "serra do ramalho",
          "quintana",
          "cameta",
          "quilombo",
          "santana do acarau",
          "santana da vargem",
          "ibiraci",
          "eneas marques",
          "itaipava",
          "peixoto de azevedo",
          "conceicao dos ouros",
          "santana do jacare",
          "carajas",
          "crisopolis",
          "sao tomas de aquino",
          "santanesia",
          "corupa",
          "candiota",
          "irapua",
          "sao geraldo",
          "manoel ribas",
          "humaita",
          "capao do leao",
          "sapucai-mirim",
          "rio do pires",
          "edeia",
          "canelinha",
          "cristais paulista",
          "irani",
          "dores do rio preto",
          "dumont",
          "lupercio",
          "marco",
          "nuporanga",
          "luzilandia",
          "pedra bela",
          "pindare mirim",
          "nova erechim",
          "nova monte verde",
          "novo sao joaquim",
          "nova cruz",
          "nova cantu",
          "pindobacu",
          "nova canaa do norte",
          "joaquim tavora",
          "olindina",
          "massaranduba",
          "maria da fe",
          "pedro osorio",
          "pedreiras",
          "maripa",
          "oroco",
          "olho d'agua das flores",
          "oriente",
          "luminarias",
          "pedralva",
          "pedro afonso",
          "luiziania",
          "mari",
          "oscar bressane",
          "pedra branca",
          "pedrinopolis",
          "nova hartz",
          "nova soure",
          "jose de freitas",
          "pitanga",
          "pedra",
          "moreira sales",
          "mirante do paranapanema",
          "manoel viana",
          "motuca",
          "madre de deus de minas",
          "morro reuter",
          "mirinzal",
          "maioba",
          "lobato",
          "parai",
          "pirauba",
          "paraibano",
          "mombuca",
          "morada nova de minas",
          "liberdade",
          "monsenhor tabosa",
          "montalvania",
          "major vieira",
          "lagoa dos gatos",
          "paraiso do norte",
          "monte verde",
          "piumhi",
          "paranaiguara",
          "pereiro",
          "monte carlo",
          "manduri",
          "paranacity",
          "pantano grande",
          "lagoinha",
          "mirandiba",
          "lontras",
          "lavras do sul",
          "ouro verde",
          "mato verde",
          "maranguape",
          "nova alvorada do sul",
          "nova alvorada",
          "paulistana",
          "jumirim",
          "pains",
          "jundiai do sul",
          "pauliceia",
          "maximiliano de almeida",
          "neves paulista",
          "poloni",
          "manga",
          "patu",
          "pocrane",
          "lajinha",
          "piedade dos gerais",
          "palmeiras de goias",
          "juruena",
          "mineiros do tiete",
          "machadinho d'oeste",
          "piedade do rio grande",
          "pocinhos",
          "meleiro",
          "abadia dos dourados",
          "joao ramalho",
          "sao jose do turvo",
          "sao tome",
          "capitao poco",
          "sao sebastiao do maranhao",
          "carambei",
          "caraubas",
          "caravelas",
          "carire",
          "carius",
          "carlos chagas",
          "carmo de minas",
          "sao pedro do ivai",
          "carneirinho",
          "sao pedro da uniao",
          "carrancas",
          "carvalhopolis",
          "castanheira",
          "sao miguel do tapuio",
          "catarina",
          "cedro de sao joao",
          "sao mateus do maranhao",
          "sao martinho",
          "sao luis do paraitinga",
          "sao ludgero",
          "sao valentim",
          "sao vicente ferrer",
          "capela do alto",
          "caibi",
          "cabeceira grande",
          "cabo verde",
          "silvianopolis",
          "silveiras",
          "cachoeira de pajeu",
          "cachoeira dourada",
          "cacule",
          "setubinha",
          "cafeara",
          "caiana",
          "sertao",
          "capela",
          "serrolandia",
          "caldeirao grande",
          "serranopolis",
          "campestre",
          "campina da lagoa",
          "campinapolis",
          "campos borges",
          "camutanga",
          "candido sales",
          "capao do cipo",
          "chapadinha",
          "clevelandia",
          "santana do cariri",
          "sao jose do cerrito",
          "sao francisco do conde",
          "cristais",
          "cristal",
          "cristalandia",
          "cristalia",
          "cruz machado",
          "cruzalia",
          "curaca",
          "curuca",
          "cururupu",
          "sao bernardo",
          "delfinopolis",
          "deputado irapuan pinheiro",
          "descoberto",
          "santo antonio do sudoeste",
          "dionisio cerqueira",
          "santo antonio do itambe",
          "dois irmaos do buriti",
          "dom aquino",
          "dom basilio",
          "santo antonio da alegria",
          "dom pedro",
          "santana do mundau",
          "coruripe",
          "sao goncalo do para",
          "sao goncalo do rio preto",
          "conceicao do jacuipe",
          "sao jose do barreiro",
          "colinas do tocantins",
          "sao jose de uba",
          "colniza",
          "colonia castrolanda",
          "sao jose de mipibu",
          "coluna",
          "conceicao da barra",
          "sao jose da bela vista",
          "conceicao das alagoas",
          "conceicao do para",
          "sao joao batista do gloria",
          "conceicao do tocantins",
          "concordia do para",
          "sao joao do triunfo",
          "coracao de jesus",
          "sao joao do manteninha",
          "corbelia",
          "coremas",
          "sao joao de iracema",
          "coronel joao sa",
          "sao joao d'alianca",
          "breu branco",
          "sucesso",
          "sume",
          "brasil novo",
          "ventania",
          "varzelandia",
          "alto santo",
          "alto taquari",
          "altonia",
          "alvorada do norte",
          "vargem alegre",
          "amelia rodrigues",
          "americano do brasil",
          "valentim gentil",
          "vale real",
          "urutai",
          "andrelandia",
          "urupa",
          "angulo",
          "urubici",
          "antonio carlos",
          "urai",
          "upanema",
          "antonio prado de minas",
          "uniao de minas",
          "umbauba",
          "apodi",
          "vera",
          "vera cruz do oeste",
          "alto alegre",
          "aguas vermelhas",
          "xique-xique",
          "abatia",
          "acu",
          "xambioa",
          "witmarsum",
          "vitorino freire",
          "vista alegre do alto",
          "aguas de santa barbara",
          "aguas de sao pedro",
          "visconde de maua",
          "virgem da lapa",
          "alterosa",
          "vila rica",
          "alambari",
          "vila langaro",
          "vila flores",
          "vigia",
          "alfredo vasconcelos",
          "vianopolis",
          "verissimo",
          "alta floresta d'oeste",
          "vere",
          "uchoa",
          "araci",
          "ubaporanga",
          "bela vista do paraiso",
          "barra dos coqueiros",
          "barracao",
          "barras",
          "terra nova do norte",
          "barro alto",
          "barros cassal",
          "batalha",
          "baturite",
          "beberibe",
          "bela vista",
          "teofilandia",
          "barra do tarrachil",
          "belo campo",
          "belo vale",
          "tenente portela",
          "tejupa",
          "taquarivai",
          "boa viagem",
          "tanque novo",
          "bom jesus do tocantins",
          "bom retiro do sul",
          "tabocas do brejo velho",
          "barra do turvo",
          "barra do mendes",
          "ubajara",
          "tres arroios",
          "tuparetama",
          "tupandi",
          "tucunduva",
          "areia branca",
          "areia branca dos assis",
          "areias",
          "areiopolis",
          "arroio grande",
          "arrozal",
          "ataleia",
          "augusto correa",
          "barra do choca",
          "azurita",
          "bacuri",
          "toropi",
          "tomazina",
          "balneario gaivota",
          "balneario rincao",
          "bandeira",
          "tiros",
          "timbe do sul",
          "barbosa ferraz",
          "santana do manhuacu",
          "colorado do oeste",
          "santana do araguaia",
          "ilopolis",
          "ibiai",
          "ibiapina",
          "rio fortuna",
          "ibicoara",
          "ibimirim",
          "rio do oeste",
          "rio de contas",
          "rinopolis",
          "ribeirao do sul",
          "imaculada",
          "ipiacu",
          "imigrante",
          "inaciolandia",
          "indiana",
          "indiapora",
          "ribeira",
          "riacho dos machados",
          "inubia paulista",
          "restinga seca",
          "reserva",
          "rio maria",
          "hidreletrica tucurui",
          "herculandia",
          "rio real",
          "gaurama",
          "saloa",
          "salgado filho",
          "goianesia do para",
          "goianinha",
          "goncalves",
          "governador celso ramos",
          "sabino",
          "rubim",
          "grao mogol",
          "grao para",
          "guajara-mirim",
          "guapiara",
          "guaraciaba",
          "rodelas",
          "rodeiro",
          "ritapolis",
          "riqueza",
          "riolandia",
          "resende costa",
          "reriutaba",
          "garrafao do norte",
          "jaciara",
          "itinga",
          "itirucu",
          "ituacu",
          "itubera",
          "presidente medici",
          "ivate",
          "ivinhema",
          "jaborandi",
          "prados",
          "pouso redondo",
          "ipubi",
          "pouso alto",
          "jaguari",
          "pote",
          "janiopolis",
          "japira",
          "jaqueira",
          "jardim do serido",
          "ponte serrada",
          "joao alfredo",
          "itatim",
          "itarantim",
          "itarana",
          "itapora",
          "reginopolis",
          "ipueiras",
          "redentora",
          "recreio",
          "raposo",
          "ita",
          "quixere",
          "itacarambi",
          "quixabeira",
          "quinta do sol",
          "itaituba",
          "itaja",
          "itaju",
          "itajuipe",
          "itamari",
          "itaoca",
          "quadra",
          "itapissuma",
          "itapitanga",
          "gastao vidigal",
          "iati",
          "novo oriente",
          "sanharo",
          "estrela do norte",
          "fronteiras",
          "santa terezinha de itaipu",
          "santa rita d'oeste",
          "entre rios do oeste",
          "santa rita de minas",
          "francisco sa",
          "entre-ijuis",
          "francisco badaro",
          "florestal",
          "fortuna",
          "santa tereza do oeste",
          "estreito",
          "florestopolis",
          "santa rosa de lima",
          "formosa do rio preto",
          "esperantinopolis",
          "santaluz",
          "formoso",
          "fatima",
          "santa margarida",
          "sangao",
          "santa isabel do ivai",
          "gameleiras",
          "pedro ii",
          "sao domingos das dores",
          "santa maria da serra",
          "tutoia",
          "perpetuo socorro",
          "queluz",
          "ubata",
          "palmeirinha",
          "placas",
          "sao domingos do maranhao",
          "putinga",
          "santa rita do ibitipoca",
          "turvolandia",
          "uniao dos palmares",
          "sao bras do suacui",
          "santa maria da boa vista",
          "planaltina de goias",
          "ouro verde de minas",
          "protasio alves",
          "urandi",
          "planura",
          "penaforte",
          "urucuca",
          "pacoti",
          "turvania",
          "tracunhaem",
          "sao felipe",
          "trairi",
          "rancho alegre",
          "santa mercedes",
          "quixelo",
          "rancho queimado",
          "santa monica",
          "piripa",
          "quitandinha",
          "quijingue",
          "sao francisco do guapore",
          "tomar do geru",
          "santa maria do suacui",
          "rechan",
          "tocos",
          "urucurituba",
          "tunas do parana",
          "sao goncalo do abaete",
          "tobias barreto",
          "quevedos",
          "santa maria do para",
          "palmeiras",
          "tuparendi",
          "paiva",
          "sao francisco de assis",
          "pimenta",
          "uruoca",
          "porto trombetas",
          "vila nova",
          "porto franco",
          "porto firme",
          "porto esperidiao",
          "virgolandia",
          "porto calvo",
          "porto amazonas",
          "portelandia",
          "vitoria do mearim",
          "olho d'agua das cunhas",
          "portalegre",
          "oeiras do para",
          "wanderley",
          "wenceslau braz",
          "wenceslau guimaraes",
          "werneck",
          "porangaba",
          "ocara",
          "ponto dos volantes",
          "xambre",
          "santana dos montes",
          "xapuri",
          "xavantina",
          "santana do serido",
          "pontalinda",
          "novo repartimento",
          "zacarias",
          "vila nelita",
          "oliveira dos brejinhos",
          "perola d'oeste",
          "pentecoste",
          "perola",
          "peritiba",
          "periquito",
          "sao joao das missoes",
          "vargem",
          "pendencias",
          "pocoes",
          "presidente kubitschek",
          "varjao de minas",
          "varzea alegre",
          "presidente kennedy",
          "santo eduardo",
          "santo antonio do pinhal",
          "presidente alves",
          "venturosa",
          "santo antonio do palma",
          "oros",
          "santa teresinha",
          "poxoreu",
          "santo antonio do grama",
          "vereda",
          "santa terezinha",
          "potim",
          "potengi",
          "vicencia",
          "vicentinopolis",
          "victor graeff",
          "sao joao da mata",
          "panelas",
          "piacabucu",
          "satubinha",
          "sao thome das letras",
          "santa clara do sul",
          "rondon",
          "sao vendelino",
          "sape",
          "sapeacu",
          "roncador",
          "romaria",
          "paripiranga",
          "sapopema",
          "sarapui",
          "rodolfo fernandes",
          "satuba",
          "saude",
          "santa barbara do sul",
          "santa cruz de goias",
          "paulo jacinto",
          "seberi",
          "senador amaral",
          "senador firmino",
          "senador guiomard",
          "senador modestino goncalves",
          "senhora de oliveira",
          "rodeio bonito",
          "paranatinga",
          "sericita",
          "seringueiras",
          "paranapua",
          "passa tres",
          "rubiacea",
          "reserva do cabacal",
          "salmourao",
          "sao jose dos quatro marcos",
          "sao luis do quitunde",
          "pau d'arco",
          "salto da divisa",
          "sao miguel do gostoso",
          "paudalho",
          "patrocinio paulista",
          "pimenteiras",
          "sao miguel dos campos",
          "pindai",
          "sao paulo das missoes",
          "patrocinio do muriae",
          "sao paulo do potengi",
          "sao jose do rio claro",
          "sao jose do belmonte",
          "sao jose do hortencio",
          "sao jose do goiabal",
          "sao pedro de alcantara",
          "pindoba",
          "sao pedro do turvo",
          "pato bragado",
          "sao roque de minas",
          "sao jose do divino",
          "pastos bons",
          "passos maia",
          "pindorama",
          "sao sebastiao da boa vista",
          "pindorama do tocantins",
          "roca sales",
          "serra azul de minas",
          "paulo lopes",
          "teixeira soares",
          "tabuleiro",
          "tacaratu",
          "taciba",
          "santa helena de minas",
          "tamarana",
          "rifaina",
          "tanque d'arca",
          "ribeiraozinho",
          "tapirai",
          "tapiramuta",
          "taquaracu de minas",
          "ribeirao vermelho",
          "sao joao do sul",
          "sao joao do oriente",
          "serra de sao bento",
          "ribeirao branco",
          "piau",
          "piata",
          "pedras de fogo",
          "pedregulho",
          "sao joao do manhuacu",
          "sao joao do ivai",
          "riacho das almas",
          "riachinho",
          "sao luis do curu",
          "riachao das neves",
          "santa izabel do oeste",
          "sao joao de pirabas",
          "rio das antas",
          "tabapora",
          "rio do antonio",
          "sucupira do norte",
          "serra dourada",
          "serrania",
          "pontalina",
          "serranopolis do iguacu",
          "serrita",
          "serro",
          "rio tinto",
          "sao jose da vitoria",
          "sao jose da laje",
          "pintadas",
          "parana",
          "santana da boa vista",
          "sao jose da coroa grande",
          "santa cruz de salinas",
          "santa cruz do prata",
          "sao jorge do patrocinio",
          "rio formoso",
          "santa ernestina",
          "simolandia",
          "sinimbu",
          "sitio do quinto",
          "sitio novo",
          "sitio novo do tocantins",
          "piracuruca",
          "solonopole",
          "sonora",
          "picui",
          "novo oriente do piaui",
          "zortea",
          "jaboti",
          "itamogi",
          "itapiuna",
          "itapirapua paulista",
          "itapirapua",
          "itapicuru",
          "itapetim",
          "brazabrantes",
          "itamira",
          "bras pires",
          "itambaraca",
          "itaguaru",
          "itaguara",
          "itaguaje",
          "buenos aires",
          "itagiba",
          "brasilandia de minas",
          "itaquirai",
          "itabatan",
          "itueta",
          "boninal",
          "boqueirao do leao",
          "jabora",
          "ivai",
          "iuna",
          "borrazopolis",
          "itororo",
          "itaquitinga",
          "itirapina",
          "itaueira",
          "itau",
          "botuvera",
          "itatiaiucu",
          "braco do rio",
          "itagi",
          "itabaianinha",
          "camocim de sao felix",
          "iguaracu",
          "inhauma",
          "inhapi",
          "caiua",
          "inconfidentes",
          "imbe de minas",
          "imbau",
          "iguai",
          "inimutaba",
          "igreja nova",
          "california",
          "igaci",
          "ielmo marinho",
          "ichu",
          "cambira",
          "caibate",
          "ipaporanga",
          "buriti dos lopes",
          "iramaia",
          "buritirama",
          "irupi",
          "buritizal",
          "iraucuba",
          "irara",
          "irape",
          "irai de minas",
          "cachoeira do campo",
          "irai",
          "iracema",
          "ipixuna do para",
          "cachoeira da prata",
          "ipigua",
          "ipe",
          "bonfinopolis de minas",
          "jaci",
          "jacigua",
          "barra de guabiraba",
          "lagoa nova",
          "bandeirantes do tocantins",
          "lagoa do ouro",
          "barao de cotegipe",
          "lagoa do carro",
          "barra",
          "barra de santa rosa",
          "baldim",
          "barra de santo antonio",
          "ladainha",
          "barra de sao miguel",
          "kalore",
          "juvenilia",
          "jussari",
          "bandeira do sul",
          "baianopolis",
          "jacinto",
          "lindoeste",
          "luisburgo",
          "arraias",
          "lucianopolis",
          "arroio do tigre",
          "lourdes",
          "aruana",
          "limeira do oeste",
          "laranjal",
          "augusto pestana",
          "aurea",
          "avelino lopes",
          "leandro ferreira",
          "lavras da mangabeira",
          "laranjal do jari",
          "juscimeira",
          "barrolandia",
          "juranda",
          "bodoquena",
          "boa vista do gurupi",
          "boca da mata",
          "jardim alegre",
          "jaraguari",
          "bocaiuva do sul",
          "bodoco",
          "bom jesus da penha",
          "jupi",
          "jandaira",
          "bom jesus da serra",
          "bom jesus das selvas",
          "jaguaruna",
          "jaguaquara",
          "bonfinopolis",
          "jatauba",
          "bias fortes",
          "jequia da praia",
          "jequitai",
          "jequitiba",
          "jeronimo monteiro",
          "bento de abreu",
          "jesupolis",
          "benevides",
          "joao camara",
          "belmonte",
          "belem do sao francisco",
          "bataypora",
          "jucurucu",
          "julio mesquita",
          "junco do serido",
          "junqueiro",
          "icarai de minas",
          "campanario",
          "luiziana",
          "dormentes",
          "engenheiro beltrao",
          "emilianopolis",
          "elisio medrado",
          "echapora",
          "durande",
          "doverlandia",
          "colmeia",
          "chaveslandia",
          "dona francisca",
          "dona euzebia",
          "colonia jordaozinho",
          "colonia leopoldina",
          "domiciano ribeiro",
          "dom vicoso",
          "engenheiro passos",
          "erval grande",
          "conceicao",
          "euclides da cunha paulista",
          "celina",
          "celso ramos",
          "feliz deserto",
          "fazenda vilanova",
          "extremoz",
          "cerro grande do sul",
          "estrela do indaia",
          "espigao",
          "chacara",
          "chale",
          "chapada do norte",
          "charrua",
          "espirito santo do turvo",
          "espigao alto do iguacu",
          "dom joaquim",
          "conceicao da feira",
          "campestre da serra",
          "cruzeiro da fortaleza",
          "cumari",
          "correntina",
          "cortes",
          "corumba de goias",
          "cubati",
          "corumbatai",
          "costa marques",
          "coronel martins",
          "cotriguacu",
          "couto de magalhaes",
          "coxilha",
          "cristopolis",
          "cristiano otoni",
          "crissiumal",
          "cumaru",
          "coronel macedo",
          "dobrada",
          "coqueiro baixo",
          "divisa alegre",
          "conde",
          "diorama",
          "dionisio",
          "congonhinhas",
          "diogo de vasconcelos",
          "corguinho",
          "damianopolis",
          "coroaci",
          "deodapolis",
          "denise",
          "coroados",
          "david canabarro",
          "dario meira",
          "ferros",
          "figueiropolis d'oeste",
          "flor da serra do sul",
          "canhotinho",
          "guarda-mor",
          "guaratinga",
          "guarara",
          "guarani das missoes",
          "guamare",
          "guaiuba",
          "caninde de sao francisco",
          "campo novo",
          "canitar",
          "grandes rios",
          "capao da porteira",
          "governador lindenberg",
          "capela de santana",
          "capetinga",
          "guariroba",
          "guidoval",
          "ceara-mirim",
          "campina do monte alegre",
          "ibirataia",
          "ibiraja",
          "ibiraiaras",
          "campestre do maranhao",
          "campina das missoes",
          "ibipitanga",
          "campo alegre de goias",
          "herval",
          "ibicare",
          "ibiassuce",
          "ibiaca",
          "ibateguara",
          "iacri",
          "hidrolina",
          "capim branco",
          "capinzal do norte",
          "goianorte",
          "castelo do piaui",
          "carnaubais",
          "francisco dumont",
          "carnaubal",
          "carolina",
          "carutapera",
          "formigueiro",
          "castro alves",
          "goiabeira",
          "catu de abrantes",
          "caturama",
          "cavalcante",
          "flores",
          "floreal",
          "florai",
          "frecheirinha",
          "frei martinho",
          "carmopolis",
          "fruta de leite",
          "carmo do rio verde",
          "carlinda",
          "caririacu",
          "cariri do tocantins",
          "carinhanha",
          "gaucha do norte",
          "gaviao peixoto",
          "careacu",
          "caraiba",
          "getulina",
          "caputira",
          "gloria do goita",
          "glorinha",
          "luiz alves",
          "crisolita",
          "luizlandia do oeste",
          "medeiros",
          "meruoca",
          "milha",
          "miraima",
          "miranorte",
          "anastacio",
          "anadia",
          "ametista do sul",
          "mogi-mirim",
          "mojui dos campos",
          "amaraji",
          "moncoes",
          "mondai",
          "lunardelli",
          "amapora",
          "montauri",
          "monte alegre",
          "alvaro de carvalho",
          "monte castelo",
          "monte formoso",
          "monte gordo",
          "alvares florence",
          "alvarenga",
          "montezuma",
          "mercedes",
          "maua da serra",
          "moreilandia",
          "anitapolis",
          "maracana",
          "maragogipe",
          "aracitaba",
          "aquiraz",
          "apuiares",
          "mariapolis",
          "mariluz",
          "marinopolis",
          "aparecida de sao manuel",
          "martinho campos",
          "martins",
          "mascote",
          "massape",
          "mata grande",
          "mata roma",
          "matelandia",
          "materlandia",
          "antonio pereira",
          "mato leitao",
          "matoes do norte",
          "matrincha",
          "antonio cardoso",
          "matutina",
          "alto rio novo",
          "morpara",
          "mar vermelho",
          "nossa senhora do o",
          "ajuricaba",
          "nova brasilandia d'oeste",
          "nova campina",
          "nova canaa",
          "nova canaa paulista",
          "aguia branca",
          "nova esperanca do sul",
          "agua santa",
          "nova itaberaba",
          "nova mamore",
          "nova olimpia",
          "agua comprida",
          "nova palma",
          "agua clara",
          "agronomica",
          "afranio",
          "acegua",
          "novo barreiro",
          "acaiaca",
          "abrantes",
          "abare",
          "abaira",
          "abaiara",
          "nossa senhora do remedio",
          "nossa senhora de caravaggio",
          "alto parana",
          "alagoinha",
          "alto paraiso",
          "alto horizonte",
          "alto garcas",
          "alto caparao",
          "alto alegre do iguacu",
          "altinho",
          "muniz freire",
          "muquem do sao francisco",
          "altaneira",
          "altamira do parana",
          "murutinga do sul",
          "alpercata",
          "alianca do tocantins",
          "narandiba",
          "alhandra",
          "nazareno",
          "nazario",
          "alfredo wagner",
          "nipoa",
          "nonoai",
          "nossa senhora da gloria",
          "alexandria",
          "nossa senhora das gracas",
          "mara rosa",
          "monnerat",
          "machacalis",
          "arembepe",
          "araguapaz",
          "aramari",
          "mandirituba",
          "mambai",
          "arapei",
          "macaparana",
          "arenapolis",
          "areia",
          "armazem",
          "araponga",
          "mairi",
          "aratuba",
          "magda",
          "arari",
          "ararica",
          "araripe",
          "macambara",
          "mae do rio",
          "arneiroz",
          "lupionopolis",
          "luz",
          "acucena",
          "sao nicolau",
          "alexandrita",
          "sao miguel do cambui",
          "trabiju",
          "caxingo",
          "vieiras",
          "caxambu do sul",
          "alfredo marcondes",
          "cotipora",
          "areial",
          "bacaxa",
          "sao patricio",
          "vila bela da santissima trindade",
          "castanheiras",
          "vicosa do ceara",
          "cassia dos coqueiros",
          "caseiros",
          "cascalho rico",
          "xexeu",
          "sao pedro da agua branca",
          "baguari",
          "alianca",
          "vicentina",
          "vicente dutra",
          "sao pedro do butia",
          "tracuateua",
          "sao miguel do anta",
          "sao pedro do iguacu",
          "cotegipe",
          "sao lourenco do piaui",
          "cezarina",
          "cerro negro",
          "avai",
          "traipu",
          "cerro grande",
          "alcantara",
          "cerrito",
          "cerejeiras",
          "centro novo do maranhao",
          "sao luiz do norte",
          "centralina",
          "trombas",
          "sao mamede",
          "central de santa helena",
          "central",
          "centenario",
          "alegrete do piaui",
          "alegria",
          "sao mateus de minas",
          "alexandra",
          "ceilandia",
          "cedro do abaete",
          "cedro",
          "sao miguel das matas",
          "sao miguel do aleixo",
          "vila flor",
          "abdon batista",
          "arraial d ajuda",
          "cha de alegria",
          "alto bela vista",
          "tocos do moji",
          "capoeiras",
          "capivari do sul",
          "capitao eneas",
          "banabuiu",
          "capitao andrade",
          "tuiuti",
          "capitao",
          "alto alegre do maranhao",
          "cravolandia",
          "capistrano",
          "alto alegre do pindare",
          "tumiritinga",
          "balsa nova",
          "bandeirantes d'oeste",
          "sao vitor",
          "capela nova",
          "capela do alto alegre",
          "venda branca",
          "tunapolis",
          "caparao",
          "banzae",
          "canudos",
          "canto do buriti",
          "cantanhede",
          "tiradentes do sul",
          "sao sebastiao do rio verde",
          "caracol",
          "baixa grande",
          "vertentes",
          "sao pedro do sul",
          "carnauba dos dantas",
          "sao francisco do humaita",
          "carnaiba do sertao",
          "sao rafael",
          "almas",
          "almino afonso",
          "almirante tamandare do sul",
          "carmolandia",
          "vespasiano correa",
          "carmesia",
          "tome-acu",
          "sao sebastiao da amoreira",
          "aratiba",
          "baixa grande do ribeiro",
          "vermelho novo",
          "sao sebastiao da serra",
          "sao sebastiao de campos",
          "aroeiras",
          "caridade",
          "vermelho",
          "treviso",
          "alpestre",
          "balbinos",
          "caraibas",
          "sao sebastiao do paraiba",
          "vila nova do sul",
          "cha grande",
          "sao goncalo do rio das pedras",
          "acajutiba",
          "coracao de maria",
          "coqueiros do sul",
          "aribice",
          "contenda",
          "sao joao do sabugi",
          "sao joao do sobrado",
          "constantina",
          "conselheiro mairinck",
          "conrado",
          "conquista d'oeste",
          "agua doce",
          "assare",
          "confins",
          "coreau",
          "vitorino",
          "agua fria de goias",
          "condeuba",
          "vitoria do jari",
          "sao joaquim do monte",
          "sao jorge",
          "sao jorge d'oeste",
          "sao jorge do ivai",
          "sao jorge do oeste",
          "conceicao do formoso",
          "conceicao do caninde",
          "corumbatai do sul",
          "cordeiros",
          "sao joao do itaperiu",
          "aurora do para",
          "agrestina",
          "adhemar de barros",
          "correntes",
          "adrianopolis",
          "corrego fundo",
          "corrego do ouro",
          "adustina",
          "corrego danta",
          "coronel sapucaia",
          "coronel pacheco",
          "coronel murta",
          "arroio trinta",
          "agisse",
          "coronel joao pessoa",
          "vitorinos",
          "wagner",
          "sao joao da parauna",
          "agrolandia",
          "sao joao da ponte",
          "sao joao da urtiga",
          "coronel freitas",
          "coronel domingos soares",
          "tres irmaos",
          "sao joao de petropolis",
          "acari",
          "tres forquilhas",
          "arvoredo",
          "agua limpa",
          "conceicao do almeida",
          "conceicao da ibitipoca",
          "sao jose do serido",
          "atilio vivacqua",
          "cipo-guacu",
          "cipo",
          "augustinopolis",
          "sao jose do piaui",
          "travesseiro",
          "sao jose do ribeirao",
          "aiuaba",
          "cidelandia",
          "arenopolis",
          "chorrocho",
          "chorozinho",
          "chiapetta",
          "sao jose da boa vista",
          "ajapi",
          "sao jose do xingu",
          "chaval",
          "alto piquiri",
          "sao jose dos cordeiros",
          "alagoa",
          "alagoa grande",
          "alagoa nova",
          "vila reis",
          "chapadao do lageado",
          "vila pereira",
          "aurilandia",
          "sao jose do inhacora",
          "sao geraldo da piedade",
          "ciriaco",
          "claraval",
          "assuncao",
          "vitoria das missoes",
          "agua nova",
          "comercinho",
          "sao jose da tapera",
          "agua preta",
          "combinado",
          "atalaia",
          "vista alegre",
          "viseu",
          "atalanta",
          "aguas claras",
          "aguas frias",
          "aguas mornas",
          "agudo",
          "coite do noia",
          "coimbra",
          "cocos",
          "sao jose do campestre",
          "cocalzinho de goias",
          "sao geraldo do baguari",
          "virginia",
          "cocais",
          "coari",
          "claro dos pocoes",
          "tecainda",
          "barao",
          "varzedo",
          "suzanapolis",
          "braunas",
          "brasopolis",
          "bataipora",
          "tururu",
          "arantina",
          "antonio goncalves",
          "sulina",
          "antonio martins",
          "brasileia",
          "terenos",
          "brasilandia",
          "unistalda",
          "turvelandia",
          "aramina",
          "sardoa",
          "arame",
          "bela vista de minas",
          "botupora",
          "botelho",
          "uniao do sul",
          "bela vista do maranhao",
          "bossoroca",
          "uniao do oeste",
          "antunes",
          "aparecida d'oeste",
          "boraceia",
          "taboquinhas",
          "bora",
          "antonina do norte",
          "brejetuba",
          "brejo",
          "brejo bonito",
          "urucania",
          "barrocas",
          "buriti do tocantins",
          "uruburetama",
          "angustura",
          "siriji",
          "buriti alegre",
          "buriti",
          "buique",
          "bugre",
          "termas de ibira",
          "anhandui",
          "terezinha",
          "brotas de macaubas",
          "uruana de minas",
          "sobralia",
          "anhembi",
          "britania",
          "solanea",
          "anhumas",
          "breves",
          "brejolandia",
          "brejoes",
          "teresina de goias",
          "brejo grande",
          "brejo dos santos",
          "brejo do cruz",
          "tabuleiro do norte",
          "boquira",
          "uniao da serra",
          "tapera",
          "benedito leite",
          "tapinas",
          "apuarema",
          "bodo",
          "ubirajara",
          "ubai",
          "tapurah",
          "aquidaba",
          "araguaia",
          "boa vista do sul",
          "taquarana",
          "aracatu",
          "boa vista do cadeado",
          "boa vista do burica",
          "araguacu",
          "boa vista das missoes",
          "boa ventura",
          "taquarucu do sul",
          "boa esperanca do iguacu",
          "biritinga",
          "bequimao",
          "bertopolis",
          "bertolinia",
          "berilo",
          "aragoiania",
          "teixeira",
          "berizal",
          "taperuaba",
          "bom jardim de goias",
          "boquim",
          "taparuba",
          "uniao",
          "tacuru",
          "sao francisco do gloria",
          "aparecida de monte alto",
          "bonito de santa fe",
          "taiacu",
          "bonito de minas",
          "bemposta",
          "araguana",
          "aparecida do rio negro",
          "umburatiba",
          "tenente ananias",
          "telha",
          "tamandare",
          "bom retiro",
          "bom jesus do sul",
          "umburanas",
          "tamboara",
          "bom jesus do querendo",
          "tangara",
          "apiacas",
          "bom jesus do araguaia",
          "bom jesus do amparo",
          "ulianopolis",
          "uirauna",
          "apora",
          "apore",
          "barro preto",
          "simplicio mendes",
          "anguera",
          "campo do tenente",
          "senador jose porfirio",
          "senador la rocque",
          "campo bonito",
          "campo azul",
          "senador salgado filho",
          "alvorada d'oeste",
          "campo alegre do fidalgo",
          "campo alegre de minas",
          "campo alegre de lourdes",
          "alvorada do gurgueia",
          "amanari",
          "senhora dos remedios",
          "sento se",
          "arara",
          "campinacu",
          "tibau do sul",
          "serio",
          "amapa do maranhao",
          "vargem grande do soturno",
          "vargem grande do rio pardo",
          "vargem grande",
          "serra azul",
          "tuparece",
          "serra bonita",
          "serra branca",
          "barra do jacare",
          "arapua",
          "campo do brito",
          "barauna",
          "serra do salitre",
          "senador cortes",
          "sarutaia",
          "candoi",
          "satiro dias",
          "tavares",
          "barao ataliba nogueira",
          "candido mendes",
          "candido godoi",
          "saubara",
          "candeias do jamari",
          "arataca",
          "candeal",
          "canapi",
          "varzea nova",
          "alto sao joao",
          "varzea do poco",
          "canaa",
          "campos verdes",
          "barao de juparana",
          "sebastiao leal",
          "varzea",
          "campo magro",
          "sede alvorada",
          "segredo",
          "selbach",
          "campo grande do piaui",
          "campo florido",
          "barao do triunfo",
          "amarante",
          "amargosa",
          "angicos",
          "vale do sol",
          "valao do barro",
          "severiano melo",
          "caetanos",
          "caem",
          "cacimbinhas",
          "anaurilandia",
          "andarai",
          "cachoeira do brumado",
          "andre da rocha",
          "silvano",
          "terra nova",
          "silvanopolis",
          "silveira carvalho",
          "silveira martins",
          "andrequice",
          "arapoema",
          "cacaulandia",
          "cabixi",
          "simao pereira",
          "angelica",
          "cabeceiras",
          "cabaceiras do paraguacu",
          "angelina",
          "angelo frechiani",
          "angical",
          "angical do piaui",
          "urucuia",
          "caetes",
          "tupassi",
          "america dourada",
          "ananas",
          "barra do rio azul",
          "serra dos dourados",
          "cambiasca",
          "cambara do sul",
          "camacho",
          "calmon",
          "vargeao",
          "caldeirao grande do piaui",
          "serranopolis de minas",
          "vanini",
          "americo de campos",
          "barra longa",
          "caldas do jorro",
          "caldas brandao",
          "calcado",
          "cajuri",
          "amontada",
          "amparo da serra",
          "barreira",
          "cajueiro",
          "cajari",
          "cajapio",
          "anage",
          "sertao santana",
          "cairu",
          "caicara do norte",
          "sete de setembro",
          "novo mundo",
          "santa salete",
          "sao francisco do brejao",
          "lidice",
          "pio xii",
          "pio ix",
          "pinto bandeira",
          "pinhotiba",
          "lindoia do sul",
          "lindolfo collor",
          "livramento",
          "loreto",
          "lucena",
          "pinhal da serra",
          "luis correia",
          "pingo-d'agua",
          "pindoretama",
          "lutecia",
          "luziapolis",
          "macambira",
          "macaubal",
          "piquerobi",
          "liberato salzano",
          "pouso novo",
          "piracema",
          "lagoinha do piaui",
          "laje do muriae",
          "lajeado grande",
          "lamarao",
          "lamim",
          "pirapo",
          "laranja da terra",
          "pirapemas",
          "lavrinhas",
          "pirambu",
          "pirajuba",
          "lebon regis",
          "lencois",
          "pirai do norte",
          "leoberto leal",
          "leopoldo de bulhoes",
          "leopolis",
          "machadinho",
          "machados",
          "macieira",
          "macuco",
          "manaira",
          "peri mirim",
          "pereiras",
          "manfrinopolis",
          "manoel urbano",
          "mansidao",
          "maquine",
          "pequizeiro",
          "pequi",
          "maranhaozinho",
          "marcelino vieira",
          "marcos parente",
          "marechal deodoro",
          "mariano moro",
          "peixe",
          "pedro velho",
          "maribondo",
          "mampituba",
          "perobal",
          "mamonas",
          "pianco",
          "macuco de minas",
          "madalena",
          "picarras",
          "picarra",
          "picada cafe",
          "mae d'agua",
          "piao",
          "piacu",
          "perola independente",
          "piacatu",
          "magalhaes de almeida",
          "maiquinique",
          "mairipotaba",
          "pescador",
          "major porto",
          "malhador",
          "piratini",
          "abadiania",
          "lagoa salgada",
          "pontes gestal",
          "porto dos gauchos",
          "porto de pedras",
          "jardim olinda",
          "jataizinho",
          "porto alegre do norte",
          "jaua",
          "porto acre",
          "jaupaci",
          "portela",
          "jenipapo de minas",
          "porteiras",
          "jequeri",
          "jerico",
          "jeriquara",
          "populina",
          "ponto novo",
          "ponto do marambaia",
          "jardim de piranhas",
          "porto estrela",
          "jardim abc de goias",
          "janduis",
          "jaguaracu",
          "jaguarembe",
          "jaguaribara",
          "jamaica",
          "jamapara",
          "jampruca",
          "jandaia",
          "japaraiba",
          "jaquirana",
          "japaratuba",
          "porto rico",
          "japi",
          "japoata",
          "porto murtinho",
          "porto lucena",
          "porto grande",
          "ponto belo",
          "jiquirica",
          "lagoa real",
          "joaima",
          "planaltino",
          "planaltina do parana",
          "lago verde",
          "lagoa",
          "lagoa d'anta",
          "lagoa da canoa",
          "lagoa de sao francisco",
          "pium",
          "pitimbu",
          "lagoa de velhos",
          "pitanga de estrada",
          "lagoa do mato",
          "pirpirituba",
          "lagoa do piaui",
          "lagoa dos patos",
          "pires ferreira",
          "lagoa dos tres cantos",
          "jussiape",
          "pocao",
          "pocao de pedras",
          "jucas",
          "ponte alta do norte",
          "pontao",
          "joao dourado",
          "joaquim pires",
          "jose boiteux",
          "jose da penha",
          "joselandia",
          "pombos",
          "poco de pedra",
          "polo petroquimico de triunfo",
          "jurema",
          "juripiranga",
          "pocoes de paineiras",
          "juru",
          "juruti",
          "poco redondo",
          "mariental",
          "pedro gomes",
          "marilac",
          "ouro",
          "nortelandia",
          "paineiras",
          "nossa senhora das dores",
          "paial",
          "padre paraiso",
          "padre gonzales",
          "padre carvalho",
          "pacuja",
          "pacotuba",
          "nossa senhora de lourdes",
          "nova america",
          "nova america da colina",
          "ouvidor",
          "nova araca",
          "ouro verde do oeste",
          "nova boa vista",
          "ouro verde de goias",
          "palhano",
          "nobres",
          "neopolis",
          "palminopolis",
          "pancas",
          "murici",
          "muritiba",
          "palmopolis",
          "murucupi",
          "palmital de minas",
          "mussurepe",
          "mutum parana",
          "palmares paulista",
          "mutunopolis",
          "nacip raydan",
          "nantes",
          "natercia",
          "palmeira d oeste",
          "natividade da serra",
          "nazare da mata",
          "nova brescia",
          "ourizona",
          "mucurici",
          "nova crixas",
          "olhos d'agua",
          "nova santa barbara",
          "nova timboteua",
          "oleo",
          "olaria",
          "oiapoque",
          "nova ubirata",
          "nova vicosa",
          "novais",
          "novo alegre",
          "novo brasil",
          "novo cabrais",
          "novo itacolomi",
          "novo jardim",
          "novo planalto",
          "novo lino",
          "novo oriente de minas",
          "nova roma do sul",
          "nova roma",
          "nova resende",
          "nova independencia",
          "nova esperanca do piria",
          "nova esperanca do sudoeste",
          "ourem",
          "osvaldo kroeff",
          "nova floresta",
          "nova guarita",
          "nova guataporanga",
          "nova ipixuna",
          "nova redencao",
          "nova lacerda",
          "orobo",
          "nova laranjeiras",
          "nova luzitania",
          "orizania",
          "nova padua",
          "onda verde",
          "muliterno",
          "mucuge",
          "marilandia do sul",
          "mirante da serra",
          "paula candido",
          "medicilandia",
          "pau brasil",
          "meridiano",
          "messias targino",
          "mimoso de goias",
          "minas do leao",
          "minduri",
          "ministro andreazza",
          "mira estrela",
          "patis",
          "miradouro",
          "miraguai",
          "miranda do norte",
          "passo de camaragibe",
          "passira",
          "passagem franca",
          "paula freitas",
          "mauriti",
          "paulino neves",
          "pedra menina",
          "marilena",
          "mariopolis",
          "marques de souza",
          "martinesia",
          "pedras altas",
          "pedrao",
          "pedranopolis",
          "pedra lavrada",
          "matriz de camaragibe",
          "pedra do indaia",
          "mata",
          "matias olimpio",
          "pavao",
          "mato rico",
          "matoes",
          "paulistania",
          "passagem",
          "passa tempo",
          "mucambo",
          "miravania",
          "monte bonito",
          "paraju",
          "monte santo",
          "monteiro lobato",
          "paraiso do sul",
          "monteiropolis",
          "paraiso das aguas",
          "montividiu do norte",
          "morro agudo de goias",
          "morro da garca",
          "morro de sao paulo",
          "morro do ferro",
          "morro do pilar",
          "morro grande",
          "morro redondo",
          "morro vermelho",
          "mossamedes",
          "monte belo do sul",
          "monte alverne",
          "monte alegre de sergipe",
          "moema",
          "missao velha",
          "parnarama",
          "missi",
          "mocajuba",
          "parisi",
          "moeda",
          "paripueira",
          "pareci novo",
          "paranapoema",
          "pardinho",
          "mombaca",
          "moncao",
          "paranhos",
          "monsenhor paulo",
          "montadas",
          "montanhas",
          "jaguapita",
          "jacuizinho",
          "cristinapolis",
          "estrela velha",
          "ewbank da camara",
          "fagundes",
          "santa maria do salto",
          "farol",
          "santa maria do herval",
          "faxinalzinho",
          "felicio dos santos",
          "felipe guerra",
          "felisburgo",
          "felixlandia",
          "santa luzia do parua",
          "santa luzia do norte",
          "feliz natal",
          "fenix",
          "santa leopoldina",
          "fernao",
          "ferreiros",
          "eugenio de castro",
          "santa quiteria do maranhao",
          "jacuipe",
          "estrela do sul",
          "engenheiro balduino",
          "engenheiro navarro",
          "entre folhas",
          "epitaciolandia",
          "erebango",
          "erere",
          "erico cardoso",
          "novo machado",
          "santa rosa do sul",
          "esmeralda",
          "santa rita do itueto",
          "estevao de araujo",
          "estiva",
          "estrela d oeste",
          "santa rita de jacutinga",
          "estrela d'oeste",
          "santa rita da floresta",
          "santa isabel do rio preto",
          "filadelfia",
          "flora rica",
          "florania",
          "santa brigida",
          "frei gaspar",
          "frei lagonegro",
          "santa barbara do para",
          "frei rogerio",
          "santa amelia",
          "frutuoso gomes",
          "gabriel monteiro",
          "galia",
          "galinhos",
          "sanga puita",
          "sandolandia",
          "galvao",
          "garruchos",
          "sambaiba",
          "salvador do sul",
          "salto grande",
          "santa cecilia do pavao",
          "santa clara d'oeste",
          "francisco santos",
          "fonseca",
          "santa filomena",
          "santa fe de minas",
          "flores de goias",
          "floresta do araguaia",
          "florida",
          "santa cruz do timbo",
          "florinia",
          "fontoura xavier",
          "francisco dantas",
          "santa cruz do piaui",
          "formosa da serra negra",
          "formosa do oeste",
          "fortaleza dos valos",
          "fortim",
          "foz do jordao",
          "fragosos",
          "embauba",
          "santana de pirapama",
          "elisiario",
          "desterro do melo",
          "curralinho",
          "sao bonifacio",
          "curvelandia",
          "sao bernardino",
          "datas",
          "sao bento abade",
          "delfim moreira",
          "sao bentinho",
          "sao benedito do sul",
          "sao benedito do rio preto",
          "demerval lobao",
          "santo inacio",
          "santo hipolito",
          "santo expedito do sul",
          "santo expedito",
          "desembargador otoni",
          "desterro",
          "sao bras",
          "curral de cima",
          "cupira",
          "crucilandia",
          "croata",
          "sao fernando",
          "crominia",
          "sao felix do coribe",
          "sao felix do araguaia",
          "sao felix de minas",
          "sao felix",
          "sao domingos do sul",
          "sao carlos do ivai",
          "cruzeiro do iguacu",
          "sao domingos do araguaia",
          "cuite velho",
          "cujubim",
          "sao desiderio",
          "sao cristovao do sul",
          "sao clemente",
          "desterro de entre rios",
          "santo antonio dos campos",
          "santana do capivari",
          "santo antonio do taua",
          "dois riachos",
          "dom cavati",
          "santo antonio",
          "dom macedo costa",
          "santo amaro das brotas",
          "dona emma",
          "dores de guanhaes",
          "douradina",
          "santana do sobrado",
          "doutor camargo",
          "doutor mauricio cardoso",
          "doutor ulysses",
          "duas barras",
          "duere",
          "santana do itarare",
          "santana do ipanema",
          "santana do deserto",
          "doce grande",
          "santo antonio das queimadas",
          "santo antonio de goias",
          "divinesia",
          "dezesseis de novembro",
          "santo antonio do rio abaixo",
          "santo antonio do planalto",
          "diamante d'oeste",
          "dias d avila",
          "santo antonio do leverger",
          "santo antonio do leste",
          "divino das laranjeiras",
          "divisa nova",
          "divino de sao lourenco",
          "santo antonio do canaa",
          "santo antonio do caiua",
          "santo antonio do aventureiro",
          "santo antonio do aracangua",
          "divinopolis de goias",
          "divinopolis do tocantins",
          "general camara",
          "general maynard",
          "salto do itarare",
          "quipapa",
          "ipiranga do sul",
          "ipueira",
          "ipuiuna",
          "ipupiara",
          "redencao do gurgueia",
          "redencao da serra",
          "ravena",
          "iretama",
          "isaias coelho",
          "itaara",
          "rancho alegre d'oeste",
          "rainha do mar",
          "itabi",
          "itabirinha",
          "itacoatiara",
          "itacurussa",
          "itagimirim",
          "remigio",
          "ipiranga do norte",
          "ipiranga de goias",
          "riacho de santo antonio",
          "independencia",
          "ribeira do amparo",
          "indiaroba",
          "ribas do rio pardo",
          "inga",
          "riachuelo",
          "ingai",
          "riacho da cruz",
          "ipecaeta",
          "inhuma",
          "inocencia",
          "retirolandia",
          "iomere",
          "ressaquinha",
          "reserva do iguacu",
          "ipaumirim",
          "itaguacu da bahia",
          "itaguari",
          "ilicinea",
          "quilometro 14 do mutum",
          "princesa isabel",
          "itatiba do sul",
          "itiquira",
          "presidente nereu",
          "itupiranga",
          "presidente lucena",
          "itutinga",
          "presidente juscelino",
          "presidente janio quadros",
          "ivora",
          "presidente castello branco",
          "jaboticatubas",
          "pratapolis",
          "jacarau",
          "pranchita",
          "praia norte",
          "jacareacanga",
          "progresso",
          "itarema",
          "prudencio thomaz",
          "quatro pontes",
          "itaicaba",
          "itaju do colonia",
          "querencia do norte",
          "queixada",
          "queiroz",
          "itanhanga",
          "itanhem",
          "itapage",
          "itaporanga d'ajuda",
          "itaparica",
          "quatituba",
          "itape",
          "puxinana",
          "purilandia",
          "pureza",
          "pugmil",
          "ribeirao cascalheira",
          "ilha grande",
          "gentio do ouro",
          "guinda",
          "rubelita",
          "groairas",
          "grupiara",
          "rosario do ivai",
          "rosario",
          "guabiju",
          "guairaca",
          "guamiranga",
          "guape",
          "guapirama",
          "romelandia",
          "guarapua",
          "guaraquecaba",
          "guassusse",
          "guatapara",
          "guia lopes da laguna",
          "riversul",
          "gramado xavier",
          "gramado dos loureiros",
          "rubineia",
          "goiandira",
          "gilbues",
          "girau do ponciano",
          "glaura",
          "salobro",
          "gloria de dourados",
          "salinas da margarida",
          "godoy moreira",
          "goncalves dias",
          "graccho cardoso",
          "gongogi",
          "sacra familia do tingua",
          "saboeiro",
          "governador dix-sept rosado",
          "governador eugenio barros",
          "sabaudia",
          "governador mangabeira",
          "guimaraes",
          "guiricema",
          "ilha dos valadares",
          "guzolandia",
          "ibiracu",
          "ibirapua",
          "ibitiara",
          "ibitioca",
          "ibitira",
          "ibitita",
          "ibitiuva",
          "icaraima",
          "icatu",
          "igapora",
          "igarape-acu",
          "rincao",
          "igarape-miri",
          "ribeiropolis",
          "ribeiro junqueira",
          "igaratinga",
          "igrapiuna",
          "ibiracatu",
          "ibipeba",
          "ibicuitinga",
          "ibarama",
          "rio rufino",
          "heliopolis",
          "herveiras",
          "hulha negra",
          "humberto de campos",
          "humildes",
          "iaras",
          "ibema",
          "rio doce",
          "ibertioga",
          "rio grande do piaui",
          "ibiajara",
          "ibiara",
          "rio espera",
          "rio dos indios",
          "rio dos cedros",
          "lagoao"
         ],
         "y": [
          15540,
          6882,
          2773,
          2131,
          1521,
          1444,
          1379,
          1245,
          1189,
          938,
          849,
          797,
          746,
          713,
          692,
          691,
          654,
          633,
          613,
          570,
          565,
          510,
          447,
          442,
          433,
          427,
          426,
          409,
          383,
          380,
          374,
          369,
          353,
          335,
          334,
          328,
          323,
          320,
          316,
          306,
          296,
          286,
          285,
          281,
          280,
          277,
          273,
          271,
          270,
          266,
          264,
          256,
          250,
          248,
          247,
          241,
          240,
          239,
          238,
          234,
          232,
          226,
          225,
          224,
          224,
          211,
          210,
          207,
          203,
          197,
          196,
          194,
          191,
          190,
          188,
          186,
          185,
          185,
          183,
          183,
          172,
          171,
          170,
          169,
          165,
          165,
          161,
          161,
          159,
          157,
          155,
          153,
          152,
          146,
          145,
          143,
          141,
          141,
          140,
          139,
          139,
          137,
          137,
          136,
          135,
          134,
          133,
          131,
          130,
          128,
          125,
          123,
          123,
          122,
          122,
          120,
          120,
          119,
          117,
          117,
          113,
          113,
          113,
          112,
          111,
          111,
          111,
          110,
          110,
          109,
          109,
          107,
          105,
          103,
          102,
          101,
          101,
          101,
          101,
          100,
          100,
          100,
          100,
          98,
          98,
          98,
          97,
          95,
          95,
          95,
          94,
          94,
          93,
          93,
          93,
          92,
          91,
          89,
          89,
          89,
          88,
          87,
          85,
          85,
          85,
          85,
          85,
          84,
          84,
          83,
          83,
          82,
          80,
          80,
          80,
          80,
          79,
          79,
          79,
          79,
          78,
          78,
          77,
          76,
          76,
          76,
          75,
          75,
          75,
          75,
          75,
          74,
          74,
          74,
          73,
          73,
          72,
          72,
          71,
          69,
          69,
          69,
          68,
          67,
          67,
          67,
          67,
          65,
          65,
          65,
          65,
          65,
          65,
          65,
          64,
          64,
          64,
          64,
          63,
          63,
          63,
          63,
          62,
          62,
          62,
          62,
          62,
          62,
          61,
          61,
          60,
          60,
          60,
          60,
          60,
          58,
          58,
          57,
          57,
          56,
          56,
          56,
          56,
          56,
          55,
          55,
          54,
          54,
          54,
          54,
          54,
          54,
          54,
          54,
          54,
          53,
          53,
          53,
          53,
          52,
          52,
          52,
          52,
          52,
          52,
          51,
          51,
          51,
          51,
          50,
          50,
          50,
          50,
          50,
          49,
          48,
          48,
          48,
          48,
          47,
          47,
          47,
          47,
          47,
          46,
          46,
          46,
          46,
          46,
          45,
          45,
          45,
          45,
          44,
          44,
          44,
          44,
          44,
          44,
          44,
          44,
          44,
          44,
          43,
          43,
          43,
          43,
          43,
          43,
          42,
          42,
          42,
          42,
          42,
          42,
          41,
          41,
          41,
          41,
          41,
          41,
          41,
          41,
          40,
          40,
          40,
          40,
          40,
          40,
          40,
          40,
          40,
          39,
          39,
          38,
          38,
          38,
          38,
          38,
          38,
          37,
          37,
          37,
          37,
          37,
          37,
          37,
          37,
          36,
          36,
          36,
          36,
          36,
          36,
          36,
          36,
          36,
          36,
          35,
          35,
          35,
          35,
          35,
          35,
          35,
          35,
          35,
          35,
          35,
          35,
          35,
          34,
          34,
          34,
          34,
          34,
          34,
          34,
          34,
          34,
          33,
          33,
          33,
          33,
          33,
          33,
          33,
          32,
          32,
          32,
          32,
          32,
          32,
          31,
          31,
          31,
          31,
          31,
          30,
          30,
          30,
          30,
          30,
          30,
          30,
          30,
          30,
          29,
          29,
          29,
          29,
          29,
          29,
          29,
          29,
          29,
          29,
          29,
          29,
          28,
          28,
          28,
          28,
          28,
          28,
          28,
          28,
          28,
          28,
          28,
          28,
          28,
          28,
          28,
          28,
          27,
          27,
          27,
          27,
          27,
          27,
          27,
          27,
          26,
          26,
          26,
          26,
          26,
          26,
          26,
          26,
          26,
          26,
          26,
          26,
          26,
          25,
          25,
          25,
          25,
          25,
          25,
          25,
          25,
          25,
          25,
          25,
          24,
          24,
          24,
          24,
          24,
          24,
          24,
          24,
          24,
          24,
          24,
          24,
          24,
          24,
          24,
          23,
          23,
          23,
          23,
          23,
          23,
          23,
          23,
          23,
          23,
          22,
          22,
          22,
          22,
          22,
          22,
          22,
          22,
          22,
          22,
          22,
          22,
          22,
          22,
          22,
          22,
          22,
          22,
          22,
          21,
          21,
          21,
          21,
          21,
          21,
          21,
          21,
          21,
          21,
          21,
          21,
          21,
          21,
          21,
          21,
          20,
          20,
          20,
          20,
          20,
          20,
          20,
          20,
          20,
          20,
          20,
          20,
          20,
          20,
          20,
          20,
          20,
          19,
          19,
          19,
          19,
          19,
          19,
          19,
          19,
          19,
          19,
          19,
          19,
          19,
          19,
          19,
          19,
          19,
          19,
          19,
          19,
          19,
          18,
          18,
          18,
          18,
          18,
          18,
          18,
          18,
          18,
          18,
          18,
          18,
          18,
          18,
          18,
          18,
          18,
          18,
          18,
          18,
          18,
          18,
          18,
          18,
          18,
          18,
          18,
          18,
          18,
          18,
          18,
          18,
          18,
          18,
          18,
          17,
          17,
          17,
          17,
          17,
          17,
          17,
          17,
          17,
          17,
          17,
          17,
          17,
          17,
          17,
          17,
          17,
          17,
          17,
          17,
          17,
          17,
          17,
          17,
          17,
          17,
          17,
          17,
          17,
          17,
          17,
          16,
          16,
          16,
          16,
          16,
          16,
          16,
          16,
          16,
          16,
          16,
          16,
          16,
          16,
          16,
          16,
          16,
          16,
          16,
          16,
          16,
          16,
          16,
          16,
          16,
          16,
          16,
          16,
          16,
          16,
          16,
          16,
          15,
          15,
          15,
          15,
          15,
          15,
          15,
          15,
          15,
          15,
          15,
          15,
          15,
          15,
          15,
          15,
          15,
          15,
          15,
          15,
          15,
          15,
          15,
          15,
          15,
          15,
          15,
          15,
          15,
          15,
          15,
          15,
          15,
          14,
          14,
          14,
          14,
          14,
          14,
          14,
          14,
          14,
          14,
          14,
          14,
          14,
          14,
          14,
          14,
          14,
          14,
          14,
          14,
          14,
          14,
          14,
          14,
          14,
          14,
          14,
          14,
          14,
          14,
          14,
          14,
          14,
          14,
          14,
          14,
          14,
          13,
          13,
          13,
          13,
          13,
          13,
          13,
          13,
          13,
          13,
          13,
          13,
          13,
          13,
          13,
          13,
          13,
          13,
          13,
          13,
          13,
          13,
          13,
          13,
          13,
          13,
          13,
          13,
          13,
          13,
          13,
          13,
          13,
          13,
          13,
          13,
          13,
          13,
          13,
          13,
          13,
          13,
          13,
          13,
          13,
          13,
          13,
          13,
          13,
          13,
          13,
          13,
          13,
          12,
          12,
          12,
          12,
          12,
          12,
          12,
          12,
          12,
          12,
          12,
          12,
          12,
          12,
          12,
          12,
          12,
          12,
          12,
          12,
          12,
          12,
          12,
          12,
          12,
          12,
          12,
          12,
          12,
          12,
          12,
          12,
          12,
          12,
          12,
          12,
          12,
          12,
          12,
          12,
          12,
          12,
          11,
          11,
          11,
          11,
          11,
          11,
          11,
          11,
          11,
          11,
          11,
          11,
          11,
          11,
          11,
          11,
          11,
          11,
          11,
          11,
          11,
          11,
          11,
          11,
          11,
          11,
          11,
          11,
          11,
          11,
          11,
          11,
          11,
          11,
          11,
          11,
          11,
          11,
          11,
          11,
          11,
          11,
          11,
          11,
          11,
          11,
          11,
          11,
          11,
          11,
          11,
          11,
          11,
          11,
          11,
          11,
          10,
          10,
          10,
          10,
          10,
          10,
          10,
          10,
          10,
          10,
          10,
          10,
          10,
          10,
          10,
          10,
          10,
          10,
          10,
          10,
          10,
          10,
          10,
          10,
          10,
          10,
          10,
          10,
          10,
          10,
          10,
          10,
          10,
          10,
          10,
          10,
          10,
          10,
          10,
          10,
          10,
          10,
          10,
          10,
          10,
          10,
          10,
          10,
          10,
          10,
          10,
          10,
          10,
          10,
          10,
          10,
          10,
          10,
          10,
          10,
          10,
          10,
          10,
          10,
          10,
          10,
          10,
          10,
          10,
          10,
          10,
          10,
          10,
          10,
          10,
          10,
          10,
          10,
          10,
          10,
          9,
          9,
          9,
          9,
          9,
          9,
          9,
          9,
          9,
          9,
          9,
          9,
          9,
          9,
          9,
          9,
          9,
          9,
          9,
          9,
          9,
          9,
          9,
          9,
          9,
          9,
          9,
          9,
          9,
          9,
          9,
          9,
          9,
          9,
          9,
          9,
          9,
          9,
          9,
          9,
          9,
          9,
          9,
          9,
          9,
          9,
          9,
          9,
          9,
          9,
          9,
          9,
          9,
          9,
          9,
          9,
          9,
          9,
          9,
          9,
          9,
          9,
          9,
          9,
          9,
          9,
          9,
          9,
          9,
          9,
          9,
          9,
          9,
          9,
          9,
          9,
          9,
          9,
          9,
          9,
          9,
          9,
          9,
          9,
          9,
          9,
          8,
          8,
          8,
          8,
          8,
          8,
          8,
          8,
          8,
          8,
          8,
          8,
          8,
          8,
          8,
          8,
          8,
          8,
          8,
          8,
          8,
          8,
          8,
          8,
          8,
          8,
          8,
          8,
          8,
          8,
          8,
          8,
          8,
          8,
          8,
          8,
          8,
          8,
          8,
          8,
          8,
          8,
          8,
          8,
          8,
          8,
          8,
          8,
          8,
          8,
          8,
          8,
          8,
          8,
          8,
          8,
          8,
          8,
          8,
          8,
          8,
          8,
          8,
          8,
          8,
          8,
          8,
          8,
          8,
          8,
          8,
          8,
          8,
          8,
          8,
          8,
          8,
          8,
          8,
          8,
          8,
          8,
          8,
          8,
          8,
          8,
          8,
          8,
          8,
          8,
          8,
          8,
          8,
          8,
          8,
          8,
          8,
          8,
          7,
          7,
          7,
          7,
          7,
          7,
          7,
          7,
          7,
          7,
          7,
          7,
          7,
          7,
          7,
          7,
          7,
          7,
          7,
          7,
          7,
          7,
          7,
          7,
          7,
          7,
          7,
          7,
          7,
          7,
          7,
          7,
          7,
          7,
          7,
          7,
          7,
          7,
          7,
          7,
          7,
          7,
          7,
          7,
          7,
          7,
          7,
          7,
          7,
          7,
          7,
          7,
          7,
          7,
          7,
          7,
          7,
          7,
          7,
          7,
          7,
          7,
          7,
          7,
          7,
          7,
          7,
          7,
          7,
          7,
          7,
          7,
          7,
          7,
          7,
          7,
          7,
          7,
          7,
          7,
          7,
          7,
          7,
          7,
          7,
          7,
          7,
          7,
          7,
          7,
          7,
          7,
          7,
          7,
          7,
          7,
          7,
          7,
          7,
          7,
          7,
          7,
          7,
          7,
          7,
          7,
          7,
          7,
          7,
          7,
          7,
          7,
          7,
          7,
          7,
          7,
          7,
          7,
          7,
          7,
          7,
          7,
          7,
          7,
          7,
          7,
          7,
          7,
          7,
          7,
          7,
          7,
          7,
          6,
          6,
          6,
          6,
          6,
          6,
          6,
          6,
          6,
          6,
          6,
          6,
          6,
          6,
          6,
          6,
          6,
          6,
          6,
          6,
          6,
          6,
          6,
          6,
          6,
          6,
          6,
          6,
          6,
          6,
          6,
          6,
          6,
          6,
          6,
          6,
          6,
          6,
          6,
          6,
          6,
          6,
          6,
          6,
          6,
          6,
          6,
          6,
          6,
          6,
          6,
          6,
          6,
          6,
          6,
          6,
          6,
          6,
          6,
          6,
          6,
          6,
          6,
          6,
          6,
          6,
          6,
          6,
          6,
          6,
          6,
          6,
          6,
          6,
          6,
          6,
          6,
          6,
          6,
          6,
          6,
          6,
          6,
          6,
          6,
          6,
          6,
          6,
          6,
          6,
          6,
          6,
          6,
          6,
          6,
          6,
          6,
          6,
          6,
          6,
          6,
          6,
          6,
          6,
          6,
          6,
          6,
          6,
          6,
          6,
          6,
          6,
          6,
          6,
          6,
          6,
          6,
          6,
          6,
          6,
          6,
          6,
          6,
          6,
          6,
          6,
          6,
          6,
          6,
          6,
          6,
          6,
          6,
          6,
          5,
          5,
          5,
          5,
          5,
          5,
          5,
          5,
          5,
          5,
          5,
          5,
          5,
          5,
          5,
          5,
          5,
          5,
          5,
          5,
          5,
          5,
          5,
          5,
          5,
          5,
          5,
          5,
          5,
          5,
          5,
          5,
          5,
          5,
          5,
          5,
          5,
          5,
          5,
          5,
          5,
          5,
          5,
          5,
          5,
          5,
          5,
          5,
          5,
          5,
          5,
          5,
          5,
          5,
          5,
          5,
          5,
          5,
          5,
          5,
          5,
          5,
          5,
          5,
          5,
          5,
          5,
          5,
          5,
          5,
          5,
          5,
          5,
          5,
          5,
          5,
          5,
          5,
          5,
          5,
          5,
          5,
          5,
          5,
          5,
          5,
          5,
          5,
          5,
          5,
          5,
          5,
          5,
          5,
          5,
          5,
          5,
          5,
          5,
          5,
          5,
          5,
          5,
          5,
          5,
          5,
          5,
          5,
          5,
          5,
          5,
          5,
          5,
          5,
          5,
          5,
          5,
          5,
          5,
          5,
          5,
          5,
          5,
          5,
          5,
          5,
          5,
          5,
          5,
          5,
          5,
          5,
          5,
          5,
          5,
          5,
          5,
          5,
          5,
          5,
          5,
          5,
          5,
          5,
          5,
          5,
          5,
          5,
          5,
          5,
          5,
          5,
          5,
          5,
          5,
          5,
          5,
          5,
          5,
          5,
          5,
          5,
          5,
          5,
          5,
          5,
          5,
          5,
          5,
          5,
          5,
          5,
          5,
          5,
          5,
          5,
          5,
          5,
          5,
          5,
          5,
          5,
          5,
          5,
          5,
          5,
          5,
          5,
          5,
          5,
          5,
          5,
          5,
          5,
          5,
          5,
          5,
          5,
          5,
          5,
          5,
          5,
          5,
          5,
          5,
          4,
          4,
          4,
          4,
          4,
          4,
          4,
          4,
          4,
          4,
          4,
          4,
          4,
          4,
          4,
          4,
          4,
          4,
          4,
          4,
          4,
          4,
          4,
          4,
          4,
          4,
          4,
          4,
          4,
          4,
          4,
          4,
          4,
          4,
          4,
          4,
          4,
          4,
          4,
          4,
          4,
          4,
          4,
          4,
          4,
          4,
          4,
          4,
          4,
          4,
          4,
          4,
          4,
          4,
          4,
          4,
          4,
          4,
          4,
          4,
          4,
          4,
          4,
          4,
          4,
          4,
          4,
          4,
          4,
          4,
          4,
          4,
          4,
          4,
          4,
          4,
          4,
          4,
          4,
          4,
          4,
          4,
          4,
          4,
          4,
          4,
          4,
          4,
          4,
          4,
          4,
          4,
          4,
          4,
          4,
          4,
          4,
          4,
          4,
          4,
          4,
          4,
          4,
          4,
          4,
          4,
          4,
          4,
          4,
          4,
          4,
          4,
          4,
          4,
          4,
          4,
          4,
          4,
          4,
          4,
          4,
          4,
          4,
          4,
          4,
          4,
          4,
          4,
          4,
          4,
          4,
          4,
          4,
          4,
          4,
          4,
          4,
          4,
          4,
          4,
          4,
          4,
          4,
          4,
          4,
          4,
          4,
          4,
          4,
          4,
          4,
          4,
          4,
          4,
          4,
          4,
          4,
          4,
          4,
          4,
          4,
          4,
          4,
          4,
          4,
          4,
          4,
          4,
          4,
          4,
          4,
          4,
          4,
          4,
          4,
          4,
          4,
          4,
          4,
          4,
          4,
          4,
          4,
          4,
          4,
          4,
          4,
          4,
          4,
          4,
          4,
          4,
          4,
          4,
          4,
          4,
          4,
          4,
          4,
          4,
          4,
          4,
          4,
          4,
          4,
          4,
          4,
          4,
          4,
          4,
          4,
          4,
          4,
          4,
          4,
          4,
          4,
          4,
          4,
          4,
          4,
          4,
          4,
          4,
          4,
          4,
          4,
          4,
          4,
          4,
          4,
          4,
          4,
          4,
          4,
          4,
          4,
          4,
          4,
          4,
          4,
          4,
          4,
          4,
          4,
          4,
          4,
          4,
          4,
          4,
          4,
          4,
          4,
          4,
          4,
          4,
          4,
          4,
          4,
          4,
          4,
          4,
          4,
          4,
          4,
          4,
          4,
          4,
          4,
          4,
          4,
          4,
          3,
          3,
          3,
          3,
          3,
          3,
          3,
          3,
          3,
          3,
          3,
          3,
          3,
          3,
          3,
          3,
          3,
          3,
          3,
          3,
          3,
          3,
          3,
          3,
          3,
          3,
          3,
          3,
          3,
          3,
          3,
          3,
          3,
          3,
          3,
          3,
          3,
          3,
          3,
          3,
          3,
          3,
          3,
          3,
          3,
          3,
          3,
          3,
          3,
          3,
          3,
          3,
          3,
          3,
          3,
          3,
          3,
          3,
          3,
          3,
          3,
          3,
          3,
          3,
          3,
          3,
          3,
          3,
          3,
          3,
          3,
          3,
          3,
          3,
          3,
          3,
          3,
          3,
          3,
          3,
          3,
          3,
          3,
          3,
          3,
          3,
          3,
          3,
          3,
          3,
          3,
          3,
          3,
          3,
          3,
          3,
          3,
          3,
          3,
          3,
          3,
          3,
          3,
          3,
          3,
          3,
          3,
          3,
          3,
          3,
          3,
          3,
          3,
          3,
          3,
          3,
          3,
          3,
          3,
          3,
          3,
          3,
          3,
          3,
          3,
          3,
          3,
          3,
          3,
          3,
          3,
          3,
          3,
          3,
          3,
          3,
          3,
          3,
          3,
          3,
          3,
          3,
          3,
          3,
          3,
          3,
          3,
          3,
          3,
          3,
          3,
          3,
          3,
          3,
          3,
          3,
          3,
          3,
          3,
          3,
          3,
          3,
          3,
          3,
          3,
          3,
          3,
          3,
          3,
          3,
          3,
          3,
          3,
          3,
          3,
          3,
          3,
          3,
          3,
          3,
          3,
          3,
          3,
          3,
          3,
          3,
          3,
          3,
          3,
          3,
          3,
          3,
          3,
          3,
          3,
          3,
          3,
          3,
          3,
          3,
          3,
          3,
          3,
          3,
          3,
          3,
          3,
          3,
          3,
          3,
          3,
          3,
          3,
          3,
          3,
          3,
          3,
          3,
          3,
          3,
          3,
          3,
          3,
          3,
          3,
          3,
          3,
          3,
          3,
          3,
          3,
          3,
          3,
          3,
          3,
          3,
          3,
          3,
          3,
          3,
          3,
          3,
          3,
          3,
          3,
          3,
          3,
          3,
          3,
          3,
          3,
          3,
          3,
          3,
          3,
          3,
          3,
          3,
          3,
          3,
          3,
          3,
          3,
          3,
          3,
          3,
          3,
          3,
          3,
          3,
          3,
          3,
          3,
          3,
          3,
          3,
          3,
          3,
          3,
          3,
          3,
          3,
          3,
          3,
          3,
          3,
          3,
          3,
          3,
          3,
          3,
          3,
          3,
          3,
          3,
          3,
          3,
          3,
          3,
          3,
          3,
          3,
          3,
          3,
          3,
          3,
          3,
          3,
          3,
          3,
          3,
          3,
          3,
          3,
          3,
          3,
          3,
          3,
          3,
          3,
          3,
          3,
          3,
          3,
          3,
          3,
          3,
          3,
          3,
          3,
          3,
          3,
          3,
          3,
          3,
          3,
          3,
          3,
          3,
          3,
          3,
          3,
          3,
          3,
          3,
          3,
          3,
          3,
          3,
          3,
          3,
          3,
          3,
          3,
          3,
          3,
          3,
          3,
          3,
          3,
          3,
          3,
          3,
          3,
          3,
          3,
          3,
          3,
          3,
          3,
          3,
          3,
          3,
          3,
          3,
          3,
          3,
          3,
          3,
          3,
          3,
          3,
          3,
          3,
          3,
          3,
          3,
          3,
          3,
          3,
          3,
          3,
          3,
          3,
          3,
          3,
          3,
          3,
          3,
          3,
          3,
          3,
          3,
          3,
          3,
          3,
          3,
          3,
          3,
          3,
          3,
          3,
          3,
          3,
          3,
          3,
          3,
          3,
          3,
          3,
          3,
          3,
          3,
          3,
          3,
          2,
          2,
          2,
          2,
          2,
          2,
          2,
          2,
          2,
          2,
          2,
          2,
          2,
          2,
          2,
          2,
          2,
          2,
          2,
          2,
          2,
          2,
          2,
          2,
          2,
          2,
          2,
          2,
          2,
          2,
          2,
          2,
          2,
          2,
          2,
          2,
          2,
          2,
          2,
          2,
          2,
          2,
          2,
          2,
          2,
          2,
          2,
          2,
          2,
          2,
          2,
          2,
          2,
          2,
          2,
          2,
          2,
          2,
          2,
          2,
          2,
          2,
          2,
          2,
          2,
          2,
          2,
          2,
          2,
          2,
          2,
          2,
          2,
          2,
          2,
          2,
          2,
          2,
          2,
          2,
          2,
          2,
          2,
          2,
          2,
          2,
          2,
          2,
          2,
          2,
          2,
          2,
          2,
          2,
          2,
          2,
          2,
          2,
          2,
          2,
          2,
          2,
          2,
          2,
          2,
          2,
          2,
          2,
          2,
          2,
          2,
          2,
          2,
          2,
          2,
          2,
          2,
          2,
          2,
          2,
          2,
          2,
          2,
          2,
          2,
          2,
          2,
          2,
          2,
          2,
          2,
          2,
          2,
          2,
          2,
          2,
          2,
          2,
          2,
          2,
          2,
          2,
          2,
          2,
          2,
          2,
          2,
          2,
          2,
          2,
          2,
          2,
          2,
          2,
          2,
          2,
          2,
          2,
          2,
          2,
          2,
          2,
          2,
          2,
          2,
          2,
          2,
          2,
          2,
          2,
          2,
          2,
          2,
          2,
          2,
          2,
          2,
          2,
          2,
          2,
          2,
          2,
          2,
          2,
          2,
          2,
          2,
          2,
          2,
          2,
          2,
          2,
          2,
          2,
          2,
          2,
          2,
          2,
          2,
          2,
          2,
          2,
          2,
          2,
          2,
          2,
          2,
          2,
          2,
          2,
          2,
          2,
          2,
          2,
          2,
          2,
          2,
          2,
          2,
          2,
          2,
          2,
          2,
          2,
          2,
          2,
          2,
          2,
          2,
          2,
          2,
          2,
          2,
          2,
          2,
          2,
          2,
          2,
          2,
          2,
          2,
          2,
          2,
          2,
          2,
          2,
          2,
          2,
          2,
          2,
          2,
          2,
          2,
          2,
          2,
          2,
          2,
          2,
          2,
          2,
          2,
          2,
          2,
          2,
          2,
          2,
          2,
          2,
          2,
          2,
          2,
          2,
          2,
          2,
          2,
          2,
          2,
          2,
          2,
          2,
          2,
          2,
          2,
          2,
          2,
          2,
          2,
          2,
          2,
          2,
          2,
          2,
          2,
          2,
          2,
          2,
          2,
          2,
          2,
          2,
          2,
          2,
          2,
          2,
          2,
          2,
          2,
          2,
          2,
          2,
          2,
          2,
          2,
          2,
          2,
          2,
          2,
          2,
          2,
          2,
          2,
          2,
          2,
          2,
          2,
          2,
          2,
          2,
          2,
          2,
          2,
          2,
          2,
          2,
          2,
          2,
          2,
          2,
          2,
          2,
          2,
          2,
          2,
          2,
          2,
          2,
          2,
          2,
          2,
          2,
          2,
          2,
          2,
          2,
          2,
          2,
          2,
          2,
          2,
          2,
          2,
          2,
          2,
          2,
          2,
          2,
          2,
          2,
          2,
          2,
          2,
          2,
          2,
          2,
          2,
          2,
          2,
          2,
          2,
          2,
          2,
          2,
          2,
          2,
          2,
          2,
          2,
          2,
          2,
          2,
          2,
          2,
          2,
          2,
          2,
          2,
          2,
          2,
          2,
          2,
          2,
          2,
          2,
          2,
          2,
          2,
          2,
          2,
          2,
          2,
          2,
          2,
          2,
          2,
          2,
          2,
          2,
          2,
          2,
          2,
          2,
          2,
          2,
          2,
          2,
          2,
          2,
          2,
          2,
          2,
          2,
          2,
          2,
          2,
          2,
          2,
          2,
          2,
          2,
          2,
          2,
          2,
          2,
          2,
          2,
          2,
          2,
          2,
          2,
          2,
          2,
          2,
          2,
          2,
          2,
          2,
          2,
          2,
          2,
          2,
          2,
          2,
          2,
          2,
          2,
          2,
          2,
          2,
          2,
          2,
          2,
          2,
          2,
          2,
          2,
          2,
          2,
          2,
          2,
          2,
          2,
          2,
          2,
          2,
          2,
          2,
          2,
          2,
          2,
          2,
          2,
          2,
          2,
          2,
          2,
          2,
          2,
          2,
          2,
          2,
          2,
          2,
          2,
          2,
          2,
          2,
          2,
          2,
          2,
          2,
          2,
          2,
          2,
          2,
          2,
          2,
          2,
          2,
          2,
          2,
          2,
          2,
          2,
          2,
          2,
          2,
          2,
          2,
          2,
          2,
          2,
          2,
          2,
          2,
          2,
          2,
          2,
          2,
          2,
          2,
          2,
          2,
          2,
          2,
          2,
          2,
          2,
          2,
          2,
          2,
          2,
          2,
          2,
          2,
          2,
          2,
          2,
          2,
          2,
          2,
          2,
          2,
          2,
          2,
          2,
          2,
          2,
          2,
          2,
          2,
          2,
          2,
          2,
          2,
          2,
          2,
          2,
          2,
          2,
          2,
          2,
          2,
          2,
          2,
          2,
          2,
          2,
          2,
          2,
          2,
          2,
          2,
          2,
          2,
          2,
          2,
          2,
          2,
          2,
          2,
          2,
          2,
          2,
          2,
          2,
          2,
          2,
          2,
          2,
          2,
          2,
          2,
          2,
          2,
          2,
          2,
          2,
          2,
          2,
          2,
          2,
          2,
          2,
          2,
          2,
          2,
          2,
          2,
          2,
          2,
          2,
          2,
          2,
          2,
          2,
          2,
          2,
          2,
          2,
          2,
          2,
          2,
          2,
          2,
          2,
          2,
          2,
          2,
          2,
          2,
          2,
          2,
          2,
          2,
          2,
          2,
          2,
          2,
          1,
          1,
          1,
          1,
          1,
          1,
          1,
          1,
          1,
          1,
          1,
          1,
          1,
          1,
          1,
          1,
          1,
          1,
          1,
          1,
          1,
          1,
          1,
          1,
          1,
          1,
          1,
          1,
          1,
          1,
          1,
          1,
          1,
          1,
          1,
          1,
          1,
          1,
          1,
          1,
          1,
          1,
          1,
          1,
          1,
          1,
          1,
          1,
          1,
          1,
          1,
          1,
          1,
          1,
          1,
          1,
          1,
          1,
          1,
          1,
          1,
          1,
          1,
          1,
          1,
          1,
          1,
          1,
          1,
          1,
          1,
          1,
          1,
          1,
          1,
          1,
          1,
          1,
          1,
          1,
          1,
          1,
          1,
          1,
          1,
          1,
          1,
          1,
          1,
          1,
          1,
          1,
          1,
          1,
          1,
          1,
          1,
          1,
          1,
          1,
          1,
          1,
          1,
          1,
          1,
          1,
          1,
          1,
          1,
          1,
          1,
          1,
          1,
          1,
          1,
          1,
          1,
          1,
          1,
          1,
          1,
          1,
          1,
          1,
          1,
          1,
          1,
          1,
          1,
          1,
          1,
          1,
          1,
          1,
          1,
          1,
          1,
          1,
          1,
          1,
          1,
          1,
          1,
          1,
          1,
          1,
          1,
          1,
          1,
          1,
          1,
          1,
          1,
          1,
          1,
          1,
          1,
          1,
          1,
          1,
          1,
          1,
          1,
          1,
          1,
          1,
          1,
          1,
          1,
          1,
          1,
          1,
          1,
          1,
          1,
          1,
          1,
          1,
          1,
          1,
          1,
          1,
          1,
          1,
          1,
          1,
          1,
          1,
          1,
          1,
          1,
          1,
          1,
          1,
          1,
          1,
          1,
          1,
          1,
          1,
          1,
          1,
          1,
          1,
          1,
          1,
          1,
          1,
          1,
          1,
          1,
          1,
          1,
          1,
          1,
          1,
          1,
          1,
          1,
          1,
          1,
          1,
          1,
          1,
          1,
          1,
          1,
          1,
          1,
          1,
          1,
          1,
          1,
          1,
          1,
          1,
          1,
          1,
          1,
          1,
          1,
          1,
          1,
          1,
          1,
          1,
          1,
          1,
          1,
          1,
          1,
          1,
          1,
          1,
          1,
          1,
          1,
          1,
          1,
          1,
          1,
          1,
          1,
          1,
          1,
          1,
          1,
          1,
          1,
          1,
          1,
          1,
          1,
          1,
          1,
          1,
          1,
          1,
          1,
          1,
          1,
          1,
          1,
          1,
          1,
          1,
          1,
          1,
          1,
          1,
          1,
          1,
          1,
          1,
          1,
          1,
          1,
          1,
          1,
          1,
          1,
          1,
          1,
          1,
          1,
          1,
          1,
          1,
          1,
          1,
          1,
          1,
          1,
          1,
          1,
          1,
          1,
          1,
          1,
          1,
          1,
          1,
          1,
          1,
          1,
          1,
          1,
          1,
          1,
          1,
          1,
          1,
          1,
          1,
          1,
          1,
          1,
          1,
          1,
          1,
          1,
          1,
          1,
          1,
          1,
          1,
          1,
          1,
          1,
          1,
          1,
          1,
          1,
          1,
          1,
          1,
          1,
          1,
          1,
          1,
          1,
          1,
          1,
          1,
          1,
          1,
          1,
          1,
          1,
          1,
          1,
          1,
          1,
          1,
          1,
          1,
          1,
          1,
          1,
          1,
          1,
          1,
          1,
          1,
          1,
          1,
          1,
          1,
          1,
          1,
          1,
          1,
          1,
          1,
          1,
          1,
          1,
          1,
          1,
          1,
          1,
          1,
          1,
          1,
          1,
          1,
          1,
          1,
          1,
          1,
          1,
          1,
          1,
          1,
          1,
          1,
          1,
          1,
          1,
          1,
          1,
          1,
          1,
          1,
          1,
          1,
          1,
          1,
          1,
          1,
          1,
          1,
          1,
          1,
          1,
          1,
          1,
          1,
          1,
          1,
          1,
          1,
          1,
          1,
          1,
          1,
          1,
          1,
          1,
          1,
          1,
          1,
          1,
          1,
          1,
          1,
          1,
          1,
          1,
          1,
          1,
          1,
          1,
          1,
          1,
          1,
          1,
          1,
          1,
          1,
          1,
          1,
          1,
          1,
          1,
          1,
          1,
          1,
          1,
          1,
          1,
          1,
          1,
          1,
          1,
          1,
          1,
          1,
          1,
          1,
          1,
          1,
          1,
          1,
          1,
          1,
          1,
          1,
          1,
          1,
          1,
          1,
          1,
          1,
          1,
          1,
          1,
          1,
          1,
          1,
          1,
          1,
          1,
          1,
          1,
          1,
          1,
          1,
          1,
          1,
          1,
          1,
          1,
          1,
          1,
          1,
          1,
          1,
          1,
          1,
          1,
          1,
          1,
          1,
          1,
          1,
          1,
          1,
          1,
          1,
          1,
          1,
          1,
          1,
          1,
          1,
          1,
          1,
          1,
          1,
          1,
          1,
          1,
          1,
          1,
          1,
          1,
          1,
          1,
          1,
          1,
          1,
          1,
          1,
          1,
          1,
          1,
          1,
          1,
          1,
          1,
          1,
          1,
          1,
          1,
          1,
          1,
          1,
          1,
          1,
          1,
          1,
          1,
          1,
          1,
          1,
          1,
          1,
          1,
          1,
          1,
          1,
          1,
          1,
          1,
          1,
          1,
          1,
          1,
          1,
          1,
          1,
          1,
          1,
          1,
          1,
          1,
          1,
          1,
          1,
          1,
          1,
          1,
          1,
          1,
          1,
          1,
          1,
          1,
          1,
          1,
          1,
          1,
          1,
          1,
          1,
          1,
          1,
          1,
          1,
          1,
          1,
          1,
          1,
          1,
          1,
          1,
          1,
          1,
          1,
          1,
          1,
          1,
          1,
          1,
          1,
          1,
          1,
          1,
          1,
          1,
          1,
          1,
          1,
          1,
          1,
          1,
          1,
          1,
          1,
          1,
          1,
          1,
          1,
          1,
          1,
          1,
          1,
          1,
          1,
          1,
          1,
          1,
          1,
          1,
          1,
          1,
          1,
          1,
          1,
          1,
          1,
          1,
          1,
          1,
          1,
          1,
          1,
          1,
          1,
          1,
          1,
          1,
          1,
          1,
          1,
          1,
          1,
          1,
          1,
          1,
          1,
          1,
          1,
          1,
          1,
          1,
          1,
          1,
          1,
          1,
          1,
          1,
          1,
          1,
          1,
          1,
          1,
          1,
          1,
          1,
          1,
          1,
          1,
          1,
          1,
          1,
          1,
          1,
          1,
          1,
          1,
          1,
          1,
          1,
          1,
          1,
          1,
          1,
          1,
          1,
          1,
          1,
          1,
          1,
          1,
          1,
          1,
          1,
          1,
          1,
          1,
          1,
          1,
          1,
          1,
          1,
          1,
          1,
          1,
          1,
          1,
          1,
          1,
          1,
          1,
          1,
          1,
          1,
          1,
          1,
          1,
          1,
          1,
          1,
          1,
          1,
          1,
          1,
          1,
          1,
          1,
          1,
          1,
          1,
          1,
          1,
          1,
          1,
          1,
          1,
          1,
          1,
          1,
          1,
          1,
          1,
          1,
          1,
          1,
          1,
          1,
          1,
          1,
          1,
          1,
          1,
          1,
          1,
          1,
          1,
          1,
          1,
          1,
          1,
          1,
          1,
          1,
          1,
          1,
          1,
          1,
          1,
          1,
          1,
          1,
          1,
          1,
          1,
          1,
          1,
          1,
          1,
          1,
          1,
          1,
          1,
          1,
          1,
          1,
          1,
          1,
          1,
          1,
          1,
          1,
          1,
          1,
          1,
          1,
          1,
          1,
          1,
          1,
          1,
          1,
          1,
          1,
          1,
          1,
          1,
          1,
          1,
          1,
          1,
          1,
          1,
          1,
          1,
          1,
          1,
          1,
          1,
          1,
          1,
          1,
          1,
          1,
          1,
          1,
          1,
          1,
          1,
          1,
          1,
          1,
          1,
          1,
          1,
          1,
          1,
          1,
          1,
          1,
          1,
          1,
          1,
          1,
          1,
          1,
          1,
          1,
          1,
          1,
          1,
          1,
          1,
          1,
          1,
          1,
          1,
          1,
          1,
          1,
          1,
          1,
          1,
          1,
          1,
          1,
          1,
          1,
          1,
          1,
          1,
          1,
          1,
          1,
          1,
          1,
          1,
          1,
          1,
          1,
          1,
          1,
          1,
          1,
          1,
          1,
          1,
          1,
          1,
          1,
          1,
          1,
          1,
          1,
          1,
          1,
          1,
          1,
          1,
          1,
          1,
          1,
          1,
          1,
          1,
          1,
          1,
          1,
          1,
          1,
          1,
          1,
          1,
          1,
          1,
          1,
          1,
          1,
          1,
          1,
          1,
          1,
          1,
          1,
          1,
          1,
          1,
          1,
          1,
          1,
          1,
          1,
          1,
          1,
          1,
          1,
          1,
          1,
          1,
          1,
          1,
          1,
          1,
          1,
          1,
          1,
          1,
          1,
          1,
          1,
          1,
          1,
          1,
          1,
          1,
          1,
          1,
          1,
          1,
          1,
          1,
          1,
          1,
          1,
          1,
          1,
          1,
          1,
          1,
          1,
          1,
          1,
          1,
          1,
          1,
          1,
          1,
          1,
          1,
          1,
          1,
          1,
          1,
          1,
          1,
          1,
          1,
          1,
          1,
          1,
          1,
          1,
          1,
          1,
          1,
          1,
          1,
          1,
          1,
          1,
          1,
          1,
          1,
          1,
          1,
          1,
          1,
          1,
          1,
          1,
          1,
          1,
          1,
          1,
          1,
          1,
          1,
          1,
          1,
          1,
          1,
          1,
          1,
          1,
          1,
          1,
          1,
          1,
          1,
          1,
          1,
          1,
          1,
          1,
          1,
          1,
          1,
          1,
          1,
          1,
          1,
          1,
          1,
          1,
          1,
          1,
          1,
          1,
          1,
          1,
          1,
          1,
          1,
          1,
          1,
          1,
          1,
          1,
          1,
          1,
          1,
          1,
          1,
          1,
          1,
          1,
          1,
          1,
          1,
          1,
          1,
          1,
          1,
          1,
          1,
          1,
          1,
          1,
          1,
          1,
          1,
          1,
          1,
          1,
          1,
          1,
          1,
          1,
          1,
          1
         ]
        }
       ],
       "layout": {
        "legend": {
         "bgcolor": "#FFFFFF",
         "font": {
          "color": "#4D5663"
         }
        },
        "paper_bgcolor": "#FFFFFF",
        "plot_bgcolor": "#FFFFFF",
        "template": {
         "data": {
          "bar": [
           {
            "error_x": {
             "color": "#2a3f5f"
            },
            "error_y": {
             "color": "#2a3f5f"
            },
            "marker": {
             "line": {
              "color": "#E5ECF6",
              "width": 0.5
             },
             "pattern": {
              "fillmode": "overlay",
              "size": 10,
              "solidity": 0.2
             }
            },
            "type": "bar"
           }
          ],
          "barpolar": [
           {
            "marker": {
             "line": {
              "color": "#E5ECF6",
              "width": 0.5
             },
             "pattern": {
              "fillmode": "overlay",
              "size": 10,
              "solidity": 0.2
             }
            },
            "type": "barpolar"
           }
          ],
          "carpet": [
           {
            "aaxis": {
             "endlinecolor": "#2a3f5f",
             "gridcolor": "white",
             "linecolor": "white",
             "minorgridcolor": "white",
             "startlinecolor": "#2a3f5f"
            },
            "baxis": {
             "endlinecolor": "#2a3f5f",
             "gridcolor": "white",
             "linecolor": "white",
             "minorgridcolor": "white",
             "startlinecolor": "#2a3f5f"
            },
            "type": "carpet"
           }
          ],
          "choropleth": [
           {
            "colorbar": {
             "outlinewidth": 0,
             "ticks": ""
            },
            "type": "choropleth"
           }
          ],
          "contour": [
           {
            "colorbar": {
             "outlinewidth": 0,
             "ticks": ""
            },
            "colorscale": [
             [
              0,
              "#0d0887"
             ],
             [
              0.1111111111111111,
              "#46039f"
             ],
             [
              0.2222222222222222,
              "#7201a8"
             ],
             [
              0.3333333333333333,
              "#9c179e"
             ],
             [
              0.4444444444444444,
              "#bd3786"
             ],
             [
              0.5555555555555556,
              "#d8576b"
             ],
             [
              0.6666666666666666,
              "#ed7953"
             ],
             [
              0.7777777777777778,
              "#fb9f3a"
             ],
             [
              0.8888888888888888,
              "#fdca26"
             ],
             [
              1,
              "#f0f921"
             ]
            ],
            "type": "contour"
           }
          ],
          "contourcarpet": [
           {
            "colorbar": {
             "outlinewidth": 0,
             "ticks": ""
            },
            "type": "contourcarpet"
           }
          ],
          "heatmap": [
           {
            "colorbar": {
             "outlinewidth": 0,
             "ticks": ""
            },
            "colorscale": [
             [
              0,
              "#0d0887"
             ],
             [
              0.1111111111111111,
              "#46039f"
             ],
             [
              0.2222222222222222,
              "#7201a8"
             ],
             [
              0.3333333333333333,
              "#9c179e"
             ],
             [
              0.4444444444444444,
              "#bd3786"
             ],
             [
              0.5555555555555556,
              "#d8576b"
             ],
             [
              0.6666666666666666,
              "#ed7953"
             ],
             [
              0.7777777777777778,
              "#fb9f3a"
             ],
             [
              0.8888888888888888,
              "#fdca26"
             ],
             [
              1,
              "#f0f921"
             ]
            ],
            "type": "heatmap"
           }
          ],
          "heatmapgl": [
           {
            "colorbar": {
             "outlinewidth": 0,
             "ticks": ""
            },
            "colorscale": [
             [
              0,
              "#0d0887"
             ],
             [
              0.1111111111111111,
              "#46039f"
             ],
             [
              0.2222222222222222,
              "#7201a8"
             ],
             [
              0.3333333333333333,
              "#9c179e"
             ],
             [
              0.4444444444444444,
              "#bd3786"
             ],
             [
              0.5555555555555556,
              "#d8576b"
             ],
             [
              0.6666666666666666,
              "#ed7953"
             ],
             [
              0.7777777777777778,
              "#fb9f3a"
             ],
             [
              0.8888888888888888,
              "#fdca26"
             ],
             [
              1,
              "#f0f921"
             ]
            ],
            "type": "heatmapgl"
           }
          ],
          "histogram": [
           {
            "marker": {
             "pattern": {
              "fillmode": "overlay",
              "size": 10,
              "solidity": 0.2
             }
            },
            "type": "histogram"
           }
          ],
          "histogram2d": [
           {
            "colorbar": {
             "outlinewidth": 0,
             "ticks": ""
            },
            "colorscale": [
             [
              0,
              "#0d0887"
             ],
             [
              0.1111111111111111,
              "#46039f"
             ],
             [
              0.2222222222222222,
              "#7201a8"
             ],
             [
              0.3333333333333333,
              "#9c179e"
             ],
             [
              0.4444444444444444,
              "#bd3786"
             ],
             [
              0.5555555555555556,
              "#d8576b"
             ],
             [
              0.6666666666666666,
              "#ed7953"
             ],
             [
              0.7777777777777778,
              "#fb9f3a"
             ],
             [
              0.8888888888888888,
              "#fdca26"
             ],
             [
              1,
              "#f0f921"
             ]
            ],
            "type": "histogram2d"
           }
          ],
          "histogram2dcontour": [
           {
            "colorbar": {
             "outlinewidth": 0,
             "ticks": ""
            },
            "colorscale": [
             [
              0,
              "#0d0887"
             ],
             [
              0.1111111111111111,
              "#46039f"
             ],
             [
              0.2222222222222222,
              "#7201a8"
             ],
             [
              0.3333333333333333,
              "#9c179e"
             ],
             [
              0.4444444444444444,
              "#bd3786"
             ],
             [
              0.5555555555555556,
              "#d8576b"
             ],
             [
              0.6666666666666666,
              "#ed7953"
             ],
             [
              0.7777777777777778,
              "#fb9f3a"
             ],
             [
              0.8888888888888888,
              "#fdca26"
             ],
             [
              1,
              "#f0f921"
             ]
            ],
            "type": "histogram2dcontour"
           }
          ],
          "mesh3d": [
           {
            "colorbar": {
             "outlinewidth": 0,
             "ticks": ""
            },
            "type": "mesh3d"
           }
          ],
          "parcoords": [
           {
            "line": {
             "colorbar": {
              "outlinewidth": 0,
              "ticks": ""
             }
            },
            "type": "parcoords"
           }
          ],
          "pie": [
           {
            "automargin": true,
            "type": "pie"
           }
          ],
          "scatter": [
           {
            "fillpattern": {
             "fillmode": "overlay",
             "size": 10,
             "solidity": 0.2
            },
            "type": "scatter"
           }
          ],
          "scatter3d": [
           {
            "line": {
             "colorbar": {
              "outlinewidth": 0,
              "ticks": ""
             }
            },
            "marker": {
             "colorbar": {
              "outlinewidth": 0,
              "ticks": ""
             }
            },
            "type": "scatter3d"
           }
          ],
          "scattercarpet": [
           {
            "marker": {
             "colorbar": {
              "outlinewidth": 0,
              "ticks": ""
             }
            },
            "type": "scattercarpet"
           }
          ],
          "scattergeo": [
           {
            "marker": {
             "colorbar": {
              "outlinewidth": 0,
              "ticks": ""
             }
            },
            "type": "scattergeo"
           }
          ],
          "scattergl": [
           {
            "marker": {
             "colorbar": {
              "outlinewidth": 0,
              "ticks": ""
             }
            },
            "type": "scattergl"
           }
          ],
          "scattermapbox": [
           {
            "marker": {
             "colorbar": {
              "outlinewidth": 0,
              "ticks": ""
             }
            },
            "type": "scattermapbox"
           }
          ],
          "scatterpolar": [
           {
            "marker": {
             "colorbar": {
              "outlinewidth": 0,
              "ticks": ""
             }
            },
            "type": "scatterpolar"
           }
          ],
          "scatterpolargl": [
           {
            "marker": {
             "colorbar": {
              "outlinewidth": 0,
              "ticks": ""
             }
            },
            "type": "scatterpolargl"
           }
          ],
          "scatterternary": [
           {
            "marker": {
             "colorbar": {
              "outlinewidth": 0,
              "ticks": ""
             }
            },
            "type": "scatterternary"
           }
          ],
          "surface": [
           {
            "colorbar": {
             "outlinewidth": 0,
             "ticks": ""
            },
            "colorscale": [
             [
              0,
              "#0d0887"
             ],
             [
              0.1111111111111111,
              "#46039f"
             ],
             [
              0.2222222222222222,
              "#7201a8"
             ],
             [
              0.3333333333333333,
              "#9c179e"
             ],
             [
              0.4444444444444444,
              "#bd3786"
             ],
             [
              0.5555555555555556,
              "#d8576b"
             ],
             [
              0.6666666666666666,
              "#ed7953"
             ],
             [
              0.7777777777777778,
              "#fb9f3a"
             ],
             [
              0.8888888888888888,
              "#fdca26"
             ],
             [
              1,
              "#f0f921"
             ]
            ],
            "type": "surface"
           }
          ],
          "table": [
           {
            "cells": {
             "fill": {
              "color": "#EBF0F8"
             },
             "line": {
              "color": "white"
             }
            },
            "header": {
             "fill": {
              "color": "#C8D4E3"
             },
             "line": {
              "color": "white"
             }
            },
            "type": "table"
           }
          ]
         },
         "layout": {
          "annotationdefaults": {
           "arrowcolor": "#2a3f5f",
           "arrowhead": 0,
           "arrowwidth": 1
          },
          "autotypenumbers": "strict",
          "coloraxis": {
           "colorbar": {
            "outlinewidth": 0,
            "ticks": ""
           }
          },
          "colorscale": {
           "diverging": [
            [
             0,
             "#8e0152"
            ],
            [
             0.1,
             "#c51b7d"
            ],
            [
             0.2,
             "#de77ae"
            ],
            [
             0.3,
             "#f1b6da"
            ],
            [
             0.4,
             "#fde0ef"
            ],
            [
             0.5,
             "#f7f7f7"
            ],
            [
             0.6,
             "#e6f5d0"
            ],
            [
             0.7,
             "#b8e186"
            ],
            [
             0.8,
             "#7fbc41"
            ],
            [
             0.9,
             "#4d9221"
            ],
            [
             1,
             "#276419"
            ]
           ],
           "sequential": [
            [
             0,
             "#0d0887"
            ],
            [
             0.1111111111111111,
             "#46039f"
            ],
            [
             0.2222222222222222,
             "#7201a8"
            ],
            [
             0.3333333333333333,
             "#9c179e"
            ],
            [
             0.4444444444444444,
             "#bd3786"
            ],
            [
             0.5555555555555556,
             "#d8576b"
            ],
            [
             0.6666666666666666,
             "#ed7953"
            ],
            [
             0.7777777777777778,
             "#fb9f3a"
            ],
            [
             0.8888888888888888,
             "#fdca26"
            ],
            [
             1,
             "#f0f921"
            ]
           ],
           "sequentialminus": [
            [
             0,
             "#0d0887"
            ],
            [
             0.1111111111111111,
             "#46039f"
            ],
            [
             0.2222222222222222,
             "#7201a8"
            ],
            [
             0.3333333333333333,
             "#9c179e"
            ],
            [
             0.4444444444444444,
             "#bd3786"
            ],
            [
             0.5555555555555556,
             "#d8576b"
            ],
            [
             0.6666666666666666,
             "#ed7953"
            ],
            [
             0.7777777777777778,
             "#fb9f3a"
            ],
            [
             0.8888888888888888,
             "#fdca26"
            ],
            [
             1,
             "#f0f921"
            ]
           ]
          },
          "colorway": [
           "#636efa",
           "#EF553B",
           "#00cc96",
           "#ab63fa",
           "#FFA15A",
           "#19d3f3",
           "#FF6692",
           "#B6E880",
           "#FF97FF",
           "#FECB52"
          ],
          "font": {
           "color": "#2a3f5f"
          },
          "geo": {
           "bgcolor": "white",
           "lakecolor": "white",
           "landcolor": "#E5ECF6",
           "showlakes": true,
           "showland": true,
           "subunitcolor": "white"
          },
          "hoverlabel": {
           "align": "left"
          },
          "hovermode": "closest",
          "mapbox": {
           "style": "light"
          },
          "paper_bgcolor": "white",
          "plot_bgcolor": "#E5ECF6",
          "polar": {
           "angularaxis": {
            "gridcolor": "white",
            "linecolor": "white",
            "ticks": ""
           },
           "bgcolor": "#E5ECF6",
           "radialaxis": {
            "gridcolor": "white",
            "linecolor": "white",
            "ticks": ""
           }
          },
          "scene": {
           "xaxis": {
            "backgroundcolor": "#E5ECF6",
            "gridcolor": "white",
            "gridwidth": 2,
            "linecolor": "white",
            "showbackground": true,
            "ticks": "",
            "zerolinecolor": "white"
           },
           "yaxis": {
            "backgroundcolor": "#E5ECF6",
            "gridcolor": "white",
            "gridwidth": 2,
            "linecolor": "white",
            "showbackground": true,
            "ticks": "",
            "zerolinecolor": "white"
           },
           "zaxis": {
            "backgroundcolor": "#E5ECF6",
            "gridcolor": "white",
            "gridwidth": 2,
            "linecolor": "white",
            "showbackground": true,
            "ticks": "",
            "zerolinecolor": "white"
           }
          },
          "shapedefaults": {
           "line": {
            "color": "#2a3f5f"
           }
          },
          "ternary": {
           "aaxis": {
            "gridcolor": "white",
            "linecolor": "white",
            "ticks": ""
           },
           "baxis": {
            "gridcolor": "white",
            "linecolor": "white",
            "ticks": ""
           },
           "bgcolor": "#E5ECF6",
           "caxis": {
            "gridcolor": "white",
            "linecolor": "white",
            "ticks": ""
           }
          },
          "title": {
           "x": 0.05
          },
          "xaxis": {
           "automargin": true,
           "gridcolor": "white",
           "linecolor": "white",
           "ticks": "",
           "title": {
            "standoff": 15
           },
           "zerolinecolor": "white",
           "zerolinewidth": 2
          },
          "yaxis": {
           "automargin": true,
           "gridcolor": "white",
           "linecolor": "white",
           "ticks": "",
           "title": {
            "standoff": 15
           },
           "zerolinecolor": "white",
           "zerolinewidth": 2
          }
         }
        },
        "title": {
         "font": {
          "color": "#4D5663"
         }
        },
        "xaxis": {
         "gridcolor": "#E1E5ED",
         "showgrid": true,
         "tickfont": {
          "color": "#4D5663"
         },
         "title": {
          "font": {
           "color": "#4D5663"
          },
          "text": ""
         },
         "zerolinecolor": "#E1E5ED"
        },
        "yaxis": {
         "gridcolor": "#E1E5ED",
         "showgrid": true,
         "tickfont": {
          "color": "#4D5663"
         },
         "title": {
          "font": {
           "color": "#4D5663"
          },
          "text": ""
         },
         "zerolinecolor": "#E1E5ED"
        }
       }
      },
      "text/html": [
       "<div>                            <div id=\"db6df032-e8ae-4c51-a993-7e8f7893c1a9\" class=\"plotly-graph-div\" style=\"height:525px; width:100%;\"></div>            <script type=\"text/javascript\">                require([\"plotly\"], function(Plotly) {                    window.PLOTLYENV=window.PLOTLYENV || {};\n",
       "                    window.PLOTLYENV.BASE_URL='https://plot.ly';                                    if (document.getElementById(\"db6df032-e8ae-4c51-a993-7e8f7893c1a9\")) {                    Plotly.newPlot(                        \"db6df032-e8ae-4c51-a993-7e8f7893c1a9\",                        [{\"marker\":{\"color\":\"rgba(255, 153, 51, 0.6)\",\"line\":{\"color\":\"rgba(255, 153, 51, 1.0)\",\"width\":1}},\"name\":\"customer_id\",\"orientation\":\"v\",\"text\":\"\",\"x\":[\"sao paulo\",\"rio de janeiro\",\"belo horizonte\",\"brasilia\",\"curitiba\",\"campinas\",\"porto alegre\",\"salvador\",\"guarulhos\",\"sao bernardo do campo\",\"niteroi\",\"santo andre\",\"osasco\",\"santos\",\"goiania\",\"sao jose dos campos\",\"fortaleza\",\"sorocaba\",\"recife\",\"florianopolis\",\"jundiai\",\"ribeirao preto\",\"belem\",\"nova iguacu\",\"barueri\",\"juiz de fora\",\"contagem\",\"sao goncalo\",\"mogi das cruzes\",\"vitoria\",\"uberlandia\",\"piracicaba\",\"sao luis\",\"sao jose do rio preto\",\"vila velha\",\"carapicuiba\",\"maua\",\"campo grande\",\"praia grande\",\"londrina\",\"taboao da serra\",\"diadema\",\"serra\",\"teresina\",\"indaiatuba\",\"sao caetano do sul\",\"bauru\",\"maringa\",\"taubate\",\"duque de caxias\",\"joinville\",\"joao pessoa\",\"cotia\",\"cuiaba\",\"maceio\",\"sao carlos\",\"petropolis\",\"macae\",\"campos dos goytacazes\",\"suzano\",\"volta redonda\",\"guaruja\",\"aracaju\",\"americana\",\"caxias do sul\",\"montes claros\",\"canoas\",\"natal\",\"betim\",\"santa maria\",\"marilia\",\"jacarei\",\"uberaba\",\"limeira\",\"blumenau\",\"pelotas\",\"feira de santana\",\"santana de parnaiba\",\"valinhos\",\"sumare\",\"itaquaquecetuba\",\"ipatinga\",\"itapevi\",\"sao jose\",\"sao vicente\",\"embu das artes\",\"franca\",\"presidente prudente\",\"atibaia\",\"rio claro\",\"araraquara\",\"cascavel\",\"nova friburgo\",\"braganca paulista\",\"hortolandia\",\"ponta grossa\",\"governador valadares\",\"aracatuba\",\"manaus\",\"marica\",\"cariacica\",\"rio das ostras\",\"divinopolis\",\"itu\",\"jaboatao dos guararapes\",\"sao joao de meriti\",\"sao jose dos pinhais\",\"pouso alegre\",\"paulinia\",\"sete lagoas\",\"rio grande\",\"novo hamburgo\",\"barra mansa\",\"cachoeiro de itapemirim\",\"pocos de caldas\",\"itajai\",\"teresopolis\",\"santa barbara d'oeste\",\"resende\",\"cabo frio\",\"passo fundo\",\"porto velho\",\"anapolis\",\"gravatai\",\"ferraz de vasconcelos\",\"belford roxo\",\"mage\",\"aparecida de goiania\",\"palmas\",\"franco da rocha\",\"ribeirao pires\",\"nilopolis\",\"sao leopoldo\",\"chapeco\",\"caieiras\",\"cajamar\",\"botucatu\",\"ribeirao das neves\",\"pindamonhangaba\",\"santa luzia\",\"patos de minas\",\"francisco morato\",\"balneario camboriu\",\"itapecerica da serra\",\"nova lima\",\"guaratingueta\",\"itatiba\",\"vinhedo\",\"palhoca\",\"salto\",\"araras\",\"itajuba\",\"mogi-guacu\",\"olinda\",\"criciuma\",\"vitoria da conquista\",\"vicosa\",\"varginha\",\"jaragua do sul\",\"caraguatatuba\",\"ananindeua\",\"foz do iguacu\",\"lages\",\"angra dos reis\",\"poa\",\"votorantim\",\"jandira\",\"conselheiro lafaiete\",\"assis\",\"lorena\",\"lavras\",\"sao joao da boa vista\",\"varzea paulista\",\"barbacena\",\"itanhaem\",\"ourinhos\",\"cubatao\",\"itabira\",\"sao roque\",\"birigui\",\"itapetininga\",\"araxa\",\"araruama\",\"ubatuba\",\"mesquita\",\"mogi mirim\",\"mairipora\",\"lauro de freitas\",\"catanduva\",\"teofilo otoni\",\"tatui\",\"rio branco\",\"cacapava\",\"jau\",\"viamao\",\"barretos\",\"ilheus\",\"cachoeirinha\",\"toledo\",\"pinhais\",\"pirassununga\",\"aruja\",\"campina grande\",\"rio verde\",\"guarapari\",\"sao joao del rei\",\"amparo\",\"linhares\",\"rondonopolis\",\"guarapuava\",\"manhuacu\",\"bage\",\"colatina\",\"petrolina\",\"muriae\",\"caruaru\",\"dourados\",\"avare\",\"valenca\",\"paracatu\",\"votuporanga\",\"parnamirim\",\"colombo\",\"caratinga\",\"sertaozinho\",\"itabuna\",\"jaguariuna\",\"santa cruz do sul\",\"camacari\",\"sao sebastiao\",\"brusque\",\"itaborai\",\"lagoa santa\",\"paranagua\",\"tubarao\",\"itapeva\",\"erechim\",\"ouro preto\",\"itauna\",\"campo mourao\",\"alvorada\",\"ituiutaba\",\"bento goncalves\",\"cruzeiro\",\"itapira\",\"lins\",\"queimados\",\"barra do pirai\",\"macapa\",\"araucaria\",\"jaboticabal\",\"unai\",\"araguari\",\"timoteo\",\"jatai\",\"tupa\",\"fernandopolis\",\"pato branco\",\"uba\",\"francisco beltrao\",\"ijui\",\"barreiras\",\"matao\",\"apucarana\",\"cosmopolis\",\"bebedouro\",\"joao monlevade\",\"lajeado\",\"nova serrana\",\"concordia\",\"boituva\",\"leme\",\"registro\",\"ibirite\",\"bertioga\",\"campo limpo paulista\",\"sao mateus\",\"itaguai\",\"uruguaiana\",\"saquarema\",\"paranavai\",\"videira\",\"patrocinio\",\"itaperuna\",\"embu-guacu\",\"santo angelo\",\"sinop\",\"ilhabela\",\"sao pedro da aldeia\",\"sao bento do sul\",\"boa vista\",\"lencois paulista\",\"vespasiano\",\"santarem\",\"vargem grande paulista\",\"itupeva\",\"juazeiro\",\"extrema\",\"sao jose do rio pardo\",\"peruibe\",\"curvelo\",\"louveira\",\"itapema\",\"tres coracoes\",\"passos\",\"guaira\",\"artur nogueira\",\"alfenas\",\"andradina\",\"sabara\",\"pirapora\",\"mongagua\",\"varzea grande\",\"tres lagoas\",\"paulista\",\"araguaina\",\"porto seguro\",\"ponte nova\",\"coronel fabriciano\",\"ouro branco\",\"esteio\",\"umuarama\",\"aracruz\",\"monte mor\",\"alagoinhas\",\"sao miguel do oeste\",\"imperatriz\",\"paulo afonso\",\"sapucaia do sul\",\"pedro leopoldo\",\"tres rios\",\"cacador\",\"bom despacho\",\"cianorte\",\"eunapolis\",\"guanambi\",\"capao da canoa\",\"tremembe\",\"nova odessa\",\"olimpia\",\"tiete\",\"penapolis\",\"guaxupe\",\"mossoro\",\"vassouras\",\"campo largo\",\"para de minas\",\"valparaiso de goias\",\"itumbiara\",\"sao sebastiao do paraiso\",\"alegrete\",\"luis eduardo magalhaes\",\"campo bom\",\"sobral\",\"caldas novas\",\"jequie\",\"pedreira\",\"adamantina\",\"telemaco borba\",\"camaragibe\",\"paracambi\",\"santa fe do sul\",\"almirante tamandare\",\"santa cruz do rio pardo\",\"capivari\",\"caucaia\",\"osorio\",\"rio do sul\",\"arapongas\",\"santa rita do sapucai\",\"maracanau\",\"formosa\",\"monte alto\",\"imbituba\",\"juazeiro do norte\",\"sao lourenco\",\"japeri\",\"catalao\",\"mococa\",\"sao joaquim da barra\",\"seropedica\",\"santa rosa\",\"mariana\",\"cataguases\",\"taquaritinga\",\"luziania\",\"cruz alta\",\"itabirito\",\"promissao\",\"montenegro\",\"formiga\",\"santo antonio de padua\",\"cachoeira do sul\",\"navegantes\",\"guaiba\",\"ibiuna\",\"marechal candido rondon\",\"garanhuns\",\"santo antonio de jesus\",\"jales\",\"ituverava\",\"gaspar\",\"santa isabel\",\"cerquilho\",\"congonhas\",\"gramado\",\"tijucas\",\"mirassol\",\"itarare\",\"alem paraiba\",\"orlandia\",\"arapiraca\",\"xanxere\",\"barra bonita\",\"arraial do cabo\",\"uniao da vitoria\",\"armacao dos buzios\",\"fazenda rio grande\",\"teixeira de freitas\",\"mafra\",\"corumba\",\"batatais\",\"capao bonito\",\"trindade\",\"dracena\",\"farroupilha\",\"primavera do leste\",\"itapolis\",\"rio bonito\",\"miguel pereira\",\"piumhii\",\"porto ferreira\",\"garca\",\"dois vizinhos\",\"camboriu\",\"carangola\",\"rolandia\",\"cambe\",\"caete\",\"matinhos\",\"diamantina\",\"parauapebas\",\"canoinhas\",\"viana\",\"santa barbara\",\"sapiranga\",\"santiago\",\"venancio aires\",\"joacaba\",\"mineiros\",\"frutal\",\"indaial\",\"brumadinho\",\"presidente venceslau\",\"rio grande da serra\",\"campos do jordao\",\"cachoeira paulista\",\"caceres\",\"biguacu\",\"arcos\",\"aparecida\",\"coromandel\",\"barra do garcas\",\"mairinque\",\"tramandai\",\"altamira\",\"nanuque\",\"cordeiro\",\"cornelio procopio\",\"lucas do rio verde\",\"tangara da serra\",\"cravinhos\",\"gurupi\",\"jacobina\",\"sao gabriel\",\"monte carmelo\",\"holambra\",\"carazinho\",\"ilha solteira\",\"sarandi\",\"aguas lindas de goias\",\"dias d'avila\",\"candeias\",\"piedade\",\"sao fidelis\",\"garopaba\",\"medianeira\",\"parnaiba\",\"aguas de lindoia\",\"presidente epitacio\",\"guapimirim\",\"vacaria\",\"brumado\",\"salinas\",\"castro\",\"ibitinga\",\"castanhal\",\"irati\",\"aracati\",\"vera cruz\",\"rancharia\",\"cambui\",\"porto feliz\",\"piracaia\",\"januaria\",\"pitangui\",\"marau\",\"oliveira\",\"maraba\",\"claudio\",\"santos dumont\",\"pederneiras\",\"cachoeiras de macacu\",\"curitibanos\",\"machado\",\"cantagalo\",\"icara\",\"cabo de santo agostinho\",\"ibiruba\",\"simoes filho\",\"campo belo\",\"sao manuel\",\"cafelandia\",\"pinhalzinho\",\"bom jesus do itabapoana\",\"taquara\",\"juquitiba\",\"estancia velha\",\"carlos barbosa\",\"sao gotardo\",\"santana do livramento\",\"braco do norte\",\"tres pontas\",\"tambau\",\"laranjeiras do sul\",\"casimiro de abreu\",\"boa esperanca\",\"monte siao\",\"capelinha\",\"santo antonio de posse\",\"barrinha\",\"sorriso\",\"paraguacu paulista\",\"timbo\",\"picos\",\"piraju\",\"senhor do bonfim\",\"jacutinga\",\"paraty\",\"socorro\",\"jarinu\",\"nova granada\",\"conchal\",\"jaguariaiva\",\"iguaba grande\",\"miracema\",\"visconde do rio branco\",\"espera feliz\",\"palmital\",\"guararapes\",\"monte azul paulista\",\"pereira barreto\",\"nova venecia\",\"crato\",\"paragominas\",\"castelo\",\"bambui\",\"cruz das almas\",\"sao borja\",\"veranopolis\",\"barao de cocais\",\"mandaguari\",\"goianesia\",\"redencao\",\"iracemapolis\",\"espirito santo do pinhal\",\"paraiba do sul\",\"vilhena\",\"santa rita do passa quatro\",\"guapore\",\"ponta pora\",\"ipero\",\"cerqueira cesar\",\"dois irmaos\",\"bom jesus dos perdoes\",\"floriano\",\"guanhaes\",\"ararangua\",\"viradouro\",\"bonfim paulista\",\"pitangueiras\",\"quatro barras\",\"sarzedo\",\"canela\",\"sao francisco\",\"morrinhos\",\"itatiaia\",\"agua boa\",\"novo horizonte\",\"itapetinga\",\"torres\",\"pompeia\",\"bastos\",\"juina\",\"anchieta\",\"americo brasiliense\",\"panambi\",\"ipojuca\",\"ipora\",\"ji-parana\",\"alegre\",\"balsas\",\"piuma\",\"uruacu\",\"bonito\",\"leopoldina\",\"caxambu\",\"sao francisco do sul\",\"posse\",\"salgueiro\",\"jacarezinho\",\"penha\",\"santa vitoria\",\"igrejinha\",\"santo antonio da patrulha\",\"janauba\",\"laranjal paulista\",\"bom jardim\",\"tucurui\",\"charqueadas\",\"santo anastacio\",\"candido mota\",\"itabaiana\",\"santana do paraiso\",\"ouro fino\",\"osvaldo cruz\",\"cajati\",\"itaocara\",\"senador canedo\",\"rio negro\",\"manhumirim\",\"campo novo do parecis\",\"barra velha\",\"cordeiropolis\",\"marialva\",\"marataizes\",\"agudos\",\"guacui\",\"joao pinheiro\",\"natividade\",\"pirapora do bom jesus\",\"novo gama\",\"patos\",\"nova prata\",\"carmo do paranaiba\",\"palmeira\",\"pirai\",\"inhumas\",\"estrela\",\"buritis\",\"taquarituba\",\"caxias\",\"palmeira das missoes\",\"vitoria de santo antao\",\"sao francisco de itabapoana\",\"sao joao da barra\",\"petrolandia\",\"sao luiz gonzaga\",\"fraiburgo\",\"nova era\",\"presidente dutra\",\"marituba\",\"santa adelia\",\"junqueiropolis\",\"eldorado do sul\",\"cunha\",\"santa maria de jetiba\",\"cangucu\",\"conselheiro pena\",\"sao joao nepomuceno\",\"bariri\",\"iturama\",\"ituporanga\",\"venda nova do imigrante\",\"pariquera-acu\",\"timon\",\"sao mateus do sul\",\"iguatu\",\"santa ines\",\"lapa\",\"santo antonio do monte\",\"paraisopolis\",\"paranaiba\",\"bombinhas\",\"serrinha\",\"taio\",\"jaguare\",\"teutonia\",\"porto uniao\",\"sao simao\",\"triunfo\",\"vargem grande do sul\",\"campos novos\",\"capanema\",\"mirassol d'oeste\",\"bandeirantes\",\"lagoa vermelha\",\"itanhandu\",\"italva\",\"chapadao do sul\",\"laguna\",\"piraquara\",\"feliz\",\"sao gabriel da palha\",\"guariba\",\"sao lourenco do sul\",\"nossa senhora do socorro\",\"bom jesus\",\"pirapozinho\",\"miguelopolis\",\"itaporanga\",\"rosario do sul\",\"esmeraldas\",\"almenara\",\"pinheiral\",\"divino\",\"santa rosa de viterbo\",\"quirinopolis\",\"iguape\",\"serra negra\",\"niquelandia\",\"frederico westphalen\",\"sao jose de ribamar\",\"aperibe\",\"porangatu\",\"goiana\",\"mirandopolis\",\"tres marias\",\"conceicao de macabu\",\"santana\",\"mangaratiba\",\"sao sebastiao do cai\",\"ivoti\",\"bocaiuva\",\"irece\",\"tupaciguara\",\"pontal\",\"barra de sao joao\",\"quixada\",\"carmo\",\"ipameri\",\"matias barbosa\",\"itapecerica\",\"sacramento\",\"pojuca\",\"sao miguel arcanjo\",\"jardinopolis\",\"quissama\",\"maracaju\",\"salto de pirapora\",\"eusebio\",\"loanda\",\"casa branca\",\"cesario lange\",\"aluminio\",\"santa maria da vitoria\",\"cacoal\",\"descalvado\",\"ibirama\",\"paty do alferes\",\"ariquemes\",\"santa cruz do capibaribe\",\"parati\",\"rio negrinho\",\"taiobeiras\",\"camaqua\",\"imbe\",\"teodoro sampaio\",\"serrana\",\"quata\",\"ibate\",\"forquilhinha\",\"engenheiro coelho\",\"paraguacu\",\"guaramirim\",\"igarassu\",\"sao pedro\",\"alta floresta\",\"cajazeiras\",\"santo antonio da platina\",\"sao goncalo do amarante\",\"conceicao do mato dentro\",\"tres de maio\",\"sao joao\",\"brotas\",\"limoeiro do norte\",\"itamaraju\",\"pires do rio\",\"pirajui\",\"belo jardim\",\"andradas\",\"ibipora\",\"lucelia\",\"mendes\",\"pilar do sul\",\"maravilha\",\"mata de sao joao\",\"itapiranga\",\"sao lourenco da mata\",\"raul soares\",\"sao lourenco da serra\",\"santo amaro da imperatriz\",\"costa rica\",\"flores da cunha\",\"assis chateaubriand\",\"tapiratiba\",\"tabapua\",\"araripina\",\"santa gertrudes\",\"santa helena\",\"matozinhos\",\"jose bonifacio\",\"parobe\",\"macatuba\",\"sao jose do vale do rio preto\",\"abaete\",\"chavantes\",\"santa vitoria do palmar\",\"raposos\",\"taquari\",\"castilho\",\"treze tilias\",\"goioere\",\"corinto\",\"correia pinto\",\"sao lourenco do oeste\",\"itapipoca\",\"aracoiaba da serra\",\"alvinopolis\",\"rio brilhante\",\"paranapanema\",\"minacu\",\"afonso claudio\",\"bacabal\",\"goitacazes\",\"pompeu\",\"sidrolandia\",\"faxinal dos guedes\",\"araquari\",\"coxim\",\"jequitinhonha\",\"mantena\",\"lagoa da prata\",\"tapejara\",\"igarape\",\"dois corregos\",\"abaetetuba\",\"sombrio\",\"tres passos\",\"capinopolis\",\"floresta\",\"gravata\",\"guararema\",\"mostardas\",\"nova andradina\",\"andira\",\"ouroeste\",\"varzea da palma\",\"bezerros\",\"tanabi\",\"carandai\",\"boa esperanca do sul\",\"abreu e lima\",\"sao joao batista\",\"astolfo dutra\",\"coronel vivida\",\"rio das pedras\",\"barroso\",\"lagarto\",\"embu\",\"canarana\",\"encantado\",\"prata\",\"ibaiti\",\"itamonte\",\"brejo santo\",\"itai\",\"paraibuna\",\"salesopolis\",\"xaxim\",\"pradopolis\",\"santa teresa\",\"morada nova\",\"escada\",\"goiatuba\",\"conchas\",\"palestina\",\"juquia\",\"cicero dantas\",\"charqueada\",\"turmalina\",\"eloi mendes\",\"brodowski\",\"paicandu\",\"paraiso do tocantins\",\"arroio do meio\",\"caconde\",\"buri\",\"serra talhada\",\"caetite\",\"campo formoso\",\"cambara\",\"taua\",\"dom pedrito\",\"caico\",\"aguai\",\"sumidouro\",\"passa quatro\",\"capinzal\",\"querencia\",\"piracanjuba\",\"itajobi\",\"campo verde\",\"urussanga\",\"morro agudo\",\"papucaia\",\"nova xavantina\",\"barra de sao francisco\",\"antonina\",\"monte aprazivel\",\"aimores\",\"itaberaba\",\"urupes\",\"planaltina\",\"rolante\",\"taguai\",\"garibaldi\",\"aguas da prata\",\"santo amaro\",\"palotina\",\"balneario picarras\",\"girua\",\"catu\",\"duartina\",\"fartura\",\"portao\",\"auriflama\",\"sao goncalo do sapucai\",\"mimoso do sul\",\"regente feijo\",\"porecatu\",\"carpina\",\"biritiba-mirim\",\"resplendor\",\"ipira\",\"montanha\",\"aracariguama\",\"carmo do cajuru\",\"campina grande do sul\",\"campina verde\",\"guara\",\"guarabira\",\"julio de castilhos\",\"sao miguel do iguacu\",\"ampere\",\"penedo\",\"conceicao do coite\",\"herval d'oeste\",\"mateus leme\",\"valente\",\"santo augusto\",\"piquete\",\"ibatiba\",\"aracuai\",\"sobradinho\",\"crateus\",\"icem\",\"potirendaba\",\"pomerode\",\"coroata\",\"perdoes\",\"xinguara\",\"dourado\",\"rio paranaiba\",\"bom jesus da lapa\",\"itapoa\",\"borborema\",\"pedro de toledo\",\"porto belo\",\"domingos martins\",\"brasilia de minas\",\"russas\",\"mangueirinha\",\"mar de espanha\",\"sao joaquim\",\"arapoti\",\"braganca\",\"piranguinho\",\"carmo do rio claro\",\"faxinal\",\"camanducaia\",\"santa cruz das palmeiras\",\"santa juliana\",\"arroio dos ratos\",\"schroeder\",\"canaa dos carajas\",\"pau dos ferros\",\"rondon do para\",\"pontes e lacerda\",\"estancia\",\"nepomuceno\",\"guaratuba\",\"palmares\",\"bilac\",\"monte santo de minas\",\"nova londrina\",\"pesqueira\",\"cedral\",\"tiangua\",\"cajuru\",\"piratininga\",\"santa helena de goias\",\"muzambinho\",\"novo cruzeiro\",\"sao marcos\",\"queimadas\",\"camamu\",\"primavera\",\"pinhao\",\"colorado\",\"lindoia\",\"pinheiros\",\"alto paraiso de goias\",\"siqueira campos\",\"buritama\",\"colina\",\"itaguacu\",\"ibia\",\"mirai\",\"buritizeiro\",\"simonesia\",\"planalto\",\"serafina correa\",\"santa branca\",\"guaranesia\",\"macaubas\",\"taruma\",\"nova ponte\",\"paraopeba\",\"itaqui\",\"cristina\",\"joao neiva\",\"cristalina\",\"itamarandiba\",\"nova petropolis\",\"caetanopolis\",\"balneario pinhal\",\"crixas\",\"fervedouro\",\"palmeira dos indios\",\"dores de campos\",\"sao felix do xingu\",\"sao jose da lapa\",\"nucleo residencial pilar\",\"currais novos\",\"valparaiso\",\"cambuci\",\"santo antonio do jacinto\",\"nova esperanca\",\"maracai\",\"teotonio vilela\",\"itacare\",\"parapua\",\"porto nacional\",\"angatuba\",\"ouricuri\",\"lagoa grande\",\"cananeia\",\"sapezal\",\"poco fundo\",\"anicuns\",\"afogados da ingazeira\",\"papanduva\",\"itaiopolis\",\"mutum\",\"jandaia do sul\",\"nova europa\",\"botelhos\",\"cajobi\",\"vila valerio\",\"pontal do parana\",\"virginopolis\",\"baependi\",\"cacu\",\"chapadao do ceu\",\"arraial d'ajuda\",\"guaicara\",\"arroio do sal\",\"encruzilhada do sul\",\"alto do rodrigues\",\"bom jardim de minas\",\"rio acima\",\"ribeira do pombal\",\"camocim\",\"ortigueira\",\"hidrolandia\",\"baixo guandu\",\"martinopolis\",\"sao luis de montes belos\",\"cidade ocidental\",\"sao joaquim de bicas\",\"pirapetinga\",\"nhandeara\",\"quedas do iguacu\",\"colider\",\"goianira\",\"pirangi\",\"tucano\",\"codo\",\"goias\",\"mambore\",\"cocal\",\"jacare\",\"imbituva\",\"lauro muller\",\"arinos\",\"aripuana\",\"ecoporanga\",\"soledade\",\"pimenta bueno\",\"ipiau\",\"alvares machado\",\"perdizes\",\"jaguarao\",\"itambe\",\"ipaba\",\"xangri-la\",\"santa rita\",\"acarau\",\"lambari\",\"navirai\",\"marilandia\",\"porciuncula\",\"ico\",\"trajano de moraes\",\"orleans\",\"getulio vargas\",\"coribe\",\"divinolandia\",\"santa cecilia\",\"rodeio\",\"piedade de caratinga\",\"vila muriqui\",\"limoeiro\",\"general salgado\",\"santa albertina\",\"entre rios de minas\",\"ervalia\",\"dores do indaia\",\"alfredo chaves\",\"alpinopolis\",\"nova veneza\",\"firminopolis\",\"malacacheta\",\"eldorado\",\"estiva gerbi\",\"horizontina\",\"santa rita do araguaia\",\"nova russas\",\"rubiataba\",\"rolim de moura\",\"acreuna\",\"perdigao\",\"luis antonio\",\"madre de deus\",\"espumoso\",\"acailandia\",\"santa maria madalena\",\"guarani\",\"acopiara\",\"ruy barbosa\",\"morro do chapeu\",\"dianopolis\",\"cansancao\",\"ipaussu\",\"lajedo\",\"nazare paulista\",\"avanhandava\",\"ivaipora\",\"casca\",\"casa nova\",\"presidente getulio\",\"bady bassitt\",\"diamantino\",\"sao raimundo nonato\",\"passo de torres\",\"nao-me-toque\",\"tocantinopolis\",\"missal\",\"catende\",\"tres cachoeiras\",\"astorga\",\"sao jose do norte\",\"comodoro\",\"arceburgo\",\"areado\",\"areal\",\"matupa\",\"ribeirao bonito\",\"medeiros neto\",\"ipanema\",\"neropolis\",\"inhambupe\",\"inhapim\",\"ceu azul\",\"cerro largo\",\"ceres\",\"timbauba\",\"barra da estiva\",\"confresa\",\"barra do corda\",\"teixeiras\",\"itapui\",\"bicas\",\"prudentopolis\",\"silvania\",\"cachoeira de minas\",\"taquaritinga do norte\",\"morungaba\",\"simao dias\",\"cabedelo\",\"bocaina\",\"bom conselho\",\"sousa\",\"morro da fumaca\",\"taguatinga\",\"itapuranga\",\"mozarlandia\",\"mucuri\",\"campo maior\",\"itobi\",\"itabera\",\"terra roxa\",\"terra rica\",\"campos belos\",\"pinhalao\",\"campo ere\",\"bela vista de goias\",\"lagoa formosa\",\"primeiro de maio\",\"campinorte\",\"bayeux\",\"campanha\",\"piripiri\",\"conceicao do araguaia\",\"comendador levy gasparian\",\"apiuna\",\"igarapava\",\"cruz\",\"sao domingos do norte\",\"marmeleiro\",\"sao gabriel do oeste\",\"cruzeiro do oeste\",\"aparecida do taboado\",\"sao jeronimo\",\"potiragua\",\"cruzeiro do sul\",\"sao domingos\",\"ibotirama\",\"sao cristovao\",\"ibira\",\"porto real\",\"sao bento do sapucai\",\"paco do lumiar\",\"santo cristo\",\"jaragua\",\"sao joao evangelista\",\"pirai do sul\",\"sao joao dos patos\",\"ubirata\",\"sao francisco de paula\",\"nova trento\",\"amambai\",\"pacaja\",\"quixeramobim\",\"sapucaia\",\"caninde\",\"barcarena\",\"presidente olegario\",\"barbalha\",\"fronteira\",\"campinas do sul\",\"joanopolis\",\"iacanga\",\"apiaca\",\"itaberai\",\"santa cruz\",\"barreiros\",\"canavieiras\",\"rio das flores\",\"seara\",\"aguas belas\",\"itariri\",\"rio novo do sul\",\"pacaembu\",\"campos de julio\",\"santo amaro de campos\",\"seabra\",\"nova santa rita\",\"apiai\",\"canapolis\",\"piratuba\",\"monte alegre do sul\",\"jaiba\",\"gravatal\",\"abre campo\",\"itaobim\",\"paraiso\",\"bofete\",\"sales oliveira\",\"itapaje\",\"soledade de minas\",\"sabinopolis\",\"butia\",\"abelardo luz\",\"brazopolis\",\"itapejara d'oeste\",\"tangua\",\"bom principio\",\"borda da mata\",\"rio largo\",\"tapes\",\"lima duarte\",\"mundo novo\",\"sananduva\",\"guapo\",\"piritiba\",\"oeiras\",\"camapua\",\"camacan\",\"california da barra\",\"itaipulandia\",\"guapiacu\",\"cabreuva\",\"benedito novo\",\"ronda alta\",\"itapura\",\"uruara\",\"itambacuri\",\"cachoeira alta\",\"cabrobo\",\"realeza\",\"jacunda\",\"reboucas\",\"jeceaba\",\"martins soares\",\"presidente bernardes\",\"mamanguape\",\"medina\",\"mallet\",\"santa rita de caldas\",\"nova prata do iguacu\",\"tres coroas\",\"sao joao do piaui\",\"orizona\",\"turvo\",\"catole do rocha\",\"catigua\",\"ubaira\",\"catanduvas\",\"trancoso\",\"sao joao do paraiso\",\"esplanada\",\"cassia\",\"araujos\",\"mata verde\",\"engenheiro paulo de frontin\",\"rio pomba\",\"entre rios\",\"sao jose da barra\",\"conceicao da aparecida\",\"conquista\",\"pombal\",\"indianopolis\",\"jaru\",\"tupi paulista\",\"sao jose do calcado\",\"esperanca\",\"vazante\",\"espigao do oeste\",\"espinosa\",\"rio branco do sul\",\"assai\",\"ipora do oeste\",\"pacajus\",\"juruaia\",\"alcinopolis\",\"cardoso moreira\",\"carai\",\"cardoso\",\"carlopolis\",\"jeremoabo\",\"carmo da mata\",\"bananal\",\"regeneracao\",\"fernando prestes\",\"santa isabel do para\",\"sao sepe\",\"torrinha\",\"rio pardo\",\"tocantins\",\"irapuru\",\"sao goncalo do rio abaixo\",\"balsamo\",\"cosmorama\",\"rafard\",\"inacio martins\",\"jatoba\",\"rio azul\",\"pinheiro machado\",\"quatro bocas\",\"itapagipe\",\"icapui\",\"ribeirao claro\",\"guabiruba\",\"igarata\",\"quatis\",\"roseira\",\"japuiba\",\"ribeirao do pinhal\",\"rio manso\",\"joviania\",\"jaguaribe\",\"quatigua\",\"lago da pedra\",\"prado\",\"iraquara\",\"japura\",\"ipumirim\",\"ibicarai\",\"jesuania\",\"guaracai\",\"rio pardo de minas\",\"itau de minas\",\"jordania\",\"juara\",\"porteirinha\",\"itauba\",\"ibirarema\",\"rio casca\",\"livramento de nossa senhora\",\"horizonte\",\"riachao do jacuipe\",\"jauru\",\"jacupiranga\",\"iconha\",\"joao lisboa\",\"guarei\",\"holambra ii\",\"porto xavier\",\"guaraniacu\",\"guaranta\",\"iepe\",\"lagoa da confusao\",\"jardim\",\"guaranta do norte\",\"lagoa dourada\",\"ladario\",\"roque gonzales\",\"laurentino\",\"remanso\",\"esperantina\",\"granja\",\"carapebus\",\"capivari de baixo\",\"capitolio\",\"capitao leonidas marques\",\"sao tiago\",\"capim grosso\",\"grajau\",\"campos gerais\",\"campos altos\",\"senges\",\"cambuquira\",\"serra dos aimores\",\"monte azul\",\"caldas\",\"monte belo\",\"sete barras\",\"paramirim\",\"severinia\",\"cacapava do sul\",\"buriticupu\",\"sirinhaem\",\"paraipaba\",\"buenopolis\",\"sooretama\",\"moreno\",\"brauna\",\"sao sebastiao do passe\",\"sao roque do canaa\",\"surubim\",\"miracatu\",\"pedro canario\",\"pedra preta\",\"conceicao do rio verde\",\"pedra azul\",\"conceicao do castelo\",\"pecanha\",\"peabiru\",\"paulo frontin\",\"colombia\",\"paulo de faria\",\"sao jose do cedro\",\"sao jose do ouro\",\"cidreira\",\"cidade gaucha\",\"chui\",\"mendes pimentel\",\"mendonca\",\"sao miguel do araguaia\",\"sao miguel do guama\",\"catas altas\",\"miguel calmon\",\"castelandia\",\"cassilandia\",\"carmopolis de minas\",\"sao romao\",\"sud mennucci\",\"tabatinga\",\"cunha pora\",\"araguatins\",\"aracoiaba\",\"una\",\"antonio prado\",\"urbano santos\",\"anita garibaldi\",\"andorinha\",\"utinga\",\"ourilandia do norte\",\"otacilio costa\",\"vargem alta\",\"vargem bonita\",\"nova fatima\",\"altos\",\"alto parnaiba\",\"alto boa vista\",\"alto araguaia\",\"nova mutum\",\"orindiuva\",\"alexania\",\"aguas formosas\",\"agua branca\",\"ocaucu\",\"adolfo\",\"novo progresso\",\"ze doca\",\"pacatuba\",\"arapora\",\"tabira\",\"araruna\",\"taiuva\",\"bonfim\",\"bom sucesso\",\"paracuru\",\"tarabai\",\"bituruna\",\"belo oriente\",\"bataguassu\",\"panorama\",\"terra de areia\",\"palmitos\",\"palmitinho\",\"barra do ribeiro\",\"timburi\",\"bananeiras\",\"palmeira d'oeste\",\"tombos\",\"toritama\",\"aurora\",\"palmares do sul\",\"tres barras\",\"tres fronteiras\",\"ariranha\",\"trombudo central\",\"arcoverde\",\"marechal floriano\",\"colonia vitoria\",\"sao benedito\",\"eugenopolis\",\"custodia\",\"garuva\",\"sao bento do una\",\"macaiba\",\"sao bento\",\"feira nova\",\"santo estevao\",\"maragogi\",\"fundao\",\"santa barbara d oeste\",\"santa fe\",\"macau\",\"maracas\",\"diamante do norte\",\"santo antonio do jardim\",\"frei inocencio\",\"santo antonio do descoberto\",\"santa cruz cabralia\",\"divinolandia de minas\",\"dom feliciano\",\"santa cruz de minas\",\"general carneiro\",\"dom eliseu\",\"santa quiteria\",\"saltinho\",\"euclides da cunha\",\"sales\",\"estacao\",\"mandaguacu\",\"elias fausto\",\"cabralia paulista\",\"terra boa\",\"munhoz de melo\",\"cacequi\",\"jussara\",\"itatinga\",\"florida paulista\",\"muqui\",\"barro\",\"cachoeira\",\"silva jardim\",\"barreirinhas\",\"sideropolis\",\"brejo da madre de deus\",\"presidente tancredo neves\",\"santa cruz de monte castelo\",\"parambu\",\"sertania\",\"sertanopolis\",\"balneario arroio do silva\",\"balneario barra do sul\",\"forquilha\",\"caiaponia\",\"formoso do araguaia\",\"rio do campo\",\"tiradentes\",\"poco verde\",\"tibagi\",\"barra do bugres\",\"mutuipe\",\"itiuba\",\"munhoz\",\"propria\",\"itanhomi\",\"fazenda nova\",\"buerarema\",\"itapaci\",\"tailandia\",\"guaruja do sul\",\"santa maria de itabira\",\"bueno brandao\",\"morretes\",\"bela cruz\",\"fatima do sul\",\"itaperucu\",\"itapemirim\",\"pinheiro\",\"santa mariana\",\"itapecuru mirim\",\"guimarania\",\"quarai\",\"bom repouso\",\"bom jesus do norte\",\"bom jesus do galho\",\"tanhacu\",\"pien\",\"santa lucia\",\"boa vista da aparecida\",\"figueira\",\"tarumirim\",\"bernardino de campos\",\"santa fe de goias\",\"papagaios\",\"prudente de morais\",\"teolandia\",\"juti\",\"curiuva\",\"arvorezinha\",\"nazare\",\"salto veloso\",\"jari\",\"varre-sai\",\"varjota\",\"salto do ceu\",\"juatuba\",\"salto do jacui\",\"salto do lontra\",\"valenca do piaui\",\"urania\",\"analandia\",\"pongai\",\"urucui\",\"uruana\",\"jucurutu\",\"gandu\",\"anta\",\"alto rio doce\",\"glicerio\",\"alto jequitiba\",\"goianapolis\",\"governador portela\",\"gouveia\",\"rosana\",\"volta grande\",\"agua doce do norte\",\"jijoca de jericoacoara\",\"nova santa rosa\",\"jesuitas\",\"aiuruoca\",\"alcobaca\",\"vila dos cabanos\",\"nova olinda do maranhao\",\"nova olinda\",\"guadalupe\",\"altinopolis\",\"anta gorda\",\"ouro preto do oeste\",\"avelar\",\"jacaraci\",\"tupancireta\",\"guaraci\",\"arealva\",\"tucuma\",\"palma\",\"guaraciaba do norte\",\"trindade do sul\",\"guarai\",\"nova bassano\",\"pilao arcado\",\"itaitinga\",\"ascurra\",\"palma sola\",\"macedonia\",\"travessao\",\"santa cruz da conceicao\",\"jacinto machado\",\"araputanga\",\"jacui\",\"arandu\",\"nova bandeirantes\",\"jambeiro\",\"posto da mata\",\"nova aurora\",\"gameleira\",\"sanclerlandia\",\"uibai\",\"jaguaruana\",\"aquidauana\",\"arace\",\"pilar\",\"aragarcas\",\"ubaitaba\",\"uaua\",\"padre bernardo\",\"rio preto\",\"caarapo\",\"irineopolis\",\"santo antonio do amparo\",\"pedrinhas paulista\",\"catuipe\",\"mario campos\",\"sao miguel do guapore\",\"santo antonio das missoes\",\"rio bonito do iguacu\",\"sao miguel\",\"ipiabas\",\"merces\",\"centenario do sul\",\"cerro azul\",\"piranhas\",\"chapada\",\"riacho de santana\",\"mantenopolis\",\"rio novo\",\"chapada gaucha\",\"carmo da cachoeira\",\"corumbaiba\",\"sao sebastiao da grama\",\"miranda\",\"ipua\",\"ipu\",\"dom silverio\",\"iacu\",\"milagres\",\"iapu\",\"renascenca\",\"sao pedro dos ferros\",\"ipiranga\",\"corrente\",\"minas novas\",\"chapada dos guimaraes\",\"maristela\",\"carbonita\",\"ilha de itamaraca\",\"colinas\",\"congonhal\",\"ilhota\",\"ibiam\",\"condor\",\"joaquim nabuco\",\"ilha comprida\",\"coelho neto\",\"matipo\",\"iguatama\",\"delmiro gouveia\",\"conceicao das pedras\",\"condado\",\"piranga\",\"igaracu do tiete\",\"lavinia\",\"rianapolis\",\"maurilandia\",\"chopinzinho\",\"indiara\",\"maracacume\",\"rio bananal\",\"ribeirao\",\"inaja\",\"sao jose do egito\",\"cocalinho\",\"conservatoria\",\"claudia\",\"clementina\",\"imbuia\",\"coaraci\",\"cocal do sul\",\"sao sebastiao do alto\",\"iaciara\",\"saudade do iguacu\",\"maravilhas\",\"parelhas\",\"pirenopolis\",\"moju\",\"itabela\",\"candido de abreu\",\"candelaria\",\"saudades\",\"parauna\",\"campos sales\",\"eliseu martins\",\"campo do meio\",\"senador pompeu\",\"rio piracicaba\",\"campo alegre\",\"sao domingos do prata\",\"candido rodrigues\",\"cruzilia\",\"pejucara\",\"paranaita\",\"monte alegre de minas\",\"cuite\",\"serra do ramalho\",\"quintana\",\"cameta\",\"quilombo\",\"santana do acarau\",\"santana da vargem\",\"ibiraci\",\"eneas marques\",\"itaipava\",\"peixoto de azevedo\",\"conceicao dos ouros\",\"santana do jacare\",\"carajas\",\"crisopolis\",\"sao tomas de aquino\",\"santanesia\",\"corupa\",\"candiota\",\"irapua\",\"sao geraldo\",\"manoel ribas\",\"humaita\",\"capao do leao\",\"sapucai-mirim\",\"rio do pires\",\"edeia\",\"canelinha\",\"cristais paulista\",\"irani\",\"dores do rio preto\",\"dumont\",\"lupercio\",\"marco\",\"nuporanga\",\"luzilandia\",\"pedra bela\",\"pindare mirim\",\"nova erechim\",\"nova monte verde\",\"novo sao joaquim\",\"nova cruz\",\"nova cantu\",\"pindobacu\",\"nova canaa do norte\",\"joaquim tavora\",\"olindina\",\"massaranduba\",\"maria da fe\",\"pedro osorio\",\"pedreiras\",\"maripa\",\"oroco\",\"olho d'agua das flores\",\"oriente\",\"luminarias\",\"pedralva\",\"pedro afonso\",\"luiziania\",\"mari\",\"oscar bressane\",\"pedra branca\",\"pedrinopolis\",\"nova hartz\",\"nova soure\",\"jose de freitas\",\"pitanga\",\"pedra\",\"moreira sales\",\"mirante do paranapanema\",\"manoel viana\",\"motuca\",\"madre de deus de minas\",\"morro reuter\",\"mirinzal\",\"maioba\",\"lobato\",\"parai\",\"pirauba\",\"paraibano\",\"mombuca\",\"morada nova de minas\",\"liberdade\",\"monsenhor tabosa\",\"montalvania\",\"major vieira\",\"lagoa dos gatos\",\"paraiso do norte\",\"monte verde\",\"piumhi\",\"paranaiguara\",\"pereiro\",\"monte carlo\",\"manduri\",\"paranacity\",\"pantano grande\",\"lagoinha\",\"mirandiba\",\"lontras\",\"lavras do sul\",\"ouro verde\",\"mato verde\",\"maranguape\",\"nova alvorada do sul\",\"nova alvorada\",\"paulistana\",\"jumirim\",\"pains\",\"jundiai do sul\",\"pauliceia\",\"maximiliano de almeida\",\"neves paulista\",\"poloni\",\"manga\",\"patu\",\"pocrane\",\"lajinha\",\"piedade dos gerais\",\"palmeiras de goias\",\"juruena\",\"mineiros do tiete\",\"machadinho d'oeste\",\"piedade do rio grande\",\"pocinhos\",\"meleiro\",\"abadia dos dourados\",\"joao ramalho\",\"sao jose do turvo\",\"sao tome\",\"capitao poco\",\"sao sebastiao do maranhao\",\"carambei\",\"caraubas\",\"caravelas\",\"carire\",\"carius\",\"carlos chagas\",\"carmo de minas\",\"sao pedro do ivai\",\"carneirinho\",\"sao pedro da uniao\",\"carrancas\",\"carvalhopolis\",\"castanheira\",\"sao miguel do tapuio\",\"catarina\",\"cedro de sao joao\",\"sao mateus do maranhao\",\"sao martinho\",\"sao luis do paraitinga\",\"sao ludgero\",\"sao valentim\",\"sao vicente ferrer\",\"capela do alto\",\"caibi\",\"cabeceira grande\",\"cabo verde\",\"silvianopolis\",\"silveiras\",\"cachoeira de pajeu\",\"cachoeira dourada\",\"cacule\",\"setubinha\",\"cafeara\",\"caiana\",\"sertao\",\"capela\",\"serrolandia\",\"caldeirao grande\",\"serranopolis\",\"campestre\",\"campina da lagoa\",\"campinapolis\",\"campos borges\",\"camutanga\",\"candido sales\",\"capao do cipo\",\"chapadinha\",\"clevelandia\",\"santana do cariri\",\"sao jose do cerrito\",\"sao francisco do conde\",\"cristais\",\"cristal\",\"cristalandia\",\"cristalia\",\"cruz machado\",\"cruzalia\",\"curaca\",\"curuca\",\"cururupu\",\"sao bernardo\",\"delfinopolis\",\"deputado irapuan pinheiro\",\"descoberto\",\"santo antonio do sudoeste\",\"dionisio cerqueira\",\"santo antonio do itambe\",\"dois irmaos do buriti\",\"dom aquino\",\"dom basilio\",\"santo antonio da alegria\",\"dom pedro\",\"santana do mundau\",\"coruripe\",\"sao goncalo do para\",\"sao goncalo do rio preto\",\"conceicao do jacuipe\",\"sao jose do barreiro\",\"colinas do tocantins\",\"sao jose de uba\",\"colniza\",\"colonia castrolanda\",\"sao jose de mipibu\",\"coluna\",\"conceicao da barra\",\"sao jose da bela vista\",\"conceicao das alagoas\",\"conceicao do para\",\"sao joao batista do gloria\",\"conceicao do tocantins\",\"concordia do para\",\"sao joao do triunfo\",\"coracao de jesus\",\"sao joao do manteninha\",\"corbelia\",\"coremas\",\"sao joao de iracema\",\"coronel joao sa\",\"sao joao d'alianca\",\"breu branco\",\"sucesso\",\"sume\",\"brasil novo\",\"ventania\",\"varzelandia\",\"alto santo\",\"alto taquari\",\"altonia\",\"alvorada do norte\",\"vargem alegre\",\"amelia rodrigues\",\"americano do brasil\",\"valentim gentil\",\"vale real\",\"urutai\",\"andrelandia\",\"urupa\",\"angulo\",\"urubici\",\"antonio carlos\",\"urai\",\"upanema\",\"antonio prado de minas\",\"uniao de minas\",\"umbauba\",\"apodi\",\"vera\",\"vera cruz do oeste\",\"alto alegre\",\"aguas vermelhas\",\"xique-xique\",\"abatia\",\"acu\",\"xambioa\",\"witmarsum\",\"vitorino freire\",\"vista alegre do alto\",\"aguas de santa barbara\",\"aguas de sao pedro\",\"visconde de maua\",\"virgem da lapa\",\"alterosa\",\"vila rica\",\"alambari\",\"vila langaro\",\"vila flores\",\"vigia\",\"alfredo vasconcelos\",\"vianopolis\",\"verissimo\",\"alta floresta d'oeste\",\"vere\",\"uchoa\",\"araci\",\"ubaporanga\",\"bela vista do paraiso\",\"barra dos coqueiros\",\"barracao\",\"barras\",\"terra nova do norte\",\"barro alto\",\"barros cassal\",\"batalha\",\"baturite\",\"beberibe\",\"bela vista\",\"teofilandia\",\"barra do tarrachil\",\"belo campo\",\"belo vale\",\"tenente portela\",\"tejupa\",\"taquarivai\",\"boa viagem\",\"tanque novo\",\"bom jesus do tocantins\",\"bom retiro do sul\",\"tabocas do brejo velho\",\"barra do turvo\",\"barra do mendes\",\"ubajara\",\"tres arroios\",\"tuparetama\",\"tupandi\",\"tucunduva\",\"areia branca\",\"areia branca dos assis\",\"areias\",\"areiopolis\",\"arroio grande\",\"arrozal\",\"ataleia\",\"augusto correa\",\"barra do choca\",\"azurita\",\"bacuri\",\"toropi\",\"tomazina\",\"balneario gaivota\",\"balneario rincao\",\"bandeira\",\"tiros\",\"timbe do sul\",\"barbosa ferraz\",\"santana do manhuacu\",\"colorado do oeste\",\"santana do araguaia\",\"ilopolis\",\"ibiai\",\"ibiapina\",\"rio fortuna\",\"ibicoara\",\"ibimirim\",\"rio do oeste\",\"rio de contas\",\"rinopolis\",\"ribeirao do sul\",\"imaculada\",\"ipiacu\",\"imigrante\",\"inaciolandia\",\"indiana\",\"indiapora\",\"ribeira\",\"riacho dos machados\",\"inubia paulista\",\"restinga seca\",\"reserva\",\"rio maria\",\"hidreletrica tucurui\",\"herculandia\",\"rio real\",\"gaurama\",\"saloa\",\"salgado filho\",\"goianesia do para\",\"goianinha\",\"goncalves\",\"governador celso ramos\",\"sabino\",\"rubim\",\"grao mogol\",\"grao para\",\"guajara-mirim\",\"guapiara\",\"guaraciaba\",\"rodelas\",\"rodeiro\",\"ritapolis\",\"riqueza\",\"riolandia\",\"resende costa\",\"reriutaba\",\"garrafao do norte\",\"jaciara\",\"itinga\",\"itirucu\",\"ituacu\",\"itubera\",\"presidente medici\",\"ivate\",\"ivinhema\",\"jaborandi\",\"prados\",\"pouso redondo\",\"ipubi\",\"pouso alto\",\"jaguari\",\"pote\",\"janiopolis\",\"japira\",\"jaqueira\",\"jardim do serido\",\"ponte serrada\",\"joao alfredo\",\"itatim\",\"itarantim\",\"itarana\",\"itapora\",\"reginopolis\",\"ipueiras\",\"redentora\",\"recreio\",\"raposo\",\"ita\",\"quixere\",\"itacarambi\",\"quixabeira\",\"quinta do sol\",\"itaituba\",\"itaja\",\"itaju\",\"itajuipe\",\"itamari\",\"itaoca\",\"quadra\",\"itapissuma\",\"itapitanga\",\"gastao vidigal\",\"iati\",\"novo oriente\",\"sanharo\",\"estrela do norte\",\"fronteiras\",\"santa terezinha de itaipu\",\"santa rita d'oeste\",\"entre rios do oeste\",\"santa rita de minas\",\"francisco sa\",\"entre-ijuis\",\"francisco badaro\",\"florestal\",\"fortuna\",\"santa tereza do oeste\",\"estreito\",\"florestopolis\",\"santa rosa de lima\",\"formosa do rio preto\",\"esperantinopolis\",\"santaluz\",\"formoso\",\"fatima\",\"santa margarida\",\"sangao\",\"santa isabel do ivai\",\"gameleiras\",\"pedro ii\",\"sao domingos das dores\",\"santa maria da serra\",\"tutoia\",\"perpetuo socorro\",\"queluz\",\"ubata\",\"palmeirinha\",\"placas\",\"sao domingos do maranhao\",\"putinga\",\"santa rita do ibitipoca\",\"turvolandia\",\"uniao dos palmares\",\"sao bras do suacui\",\"santa maria da boa vista\",\"planaltina de goias\",\"ouro verde de minas\",\"protasio alves\",\"urandi\",\"planura\",\"penaforte\",\"urucuca\",\"pacoti\",\"turvania\",\"tracunhaem\",\"sao felipe\",\"trairi\",\"rancho alegre\",\"santa mercedes\",\"quixelo\",\"rancho queimado\",\"santa monica\",\"piripa\",\"quitandinha\",\"quijingue\",\"sao francisco do guapore\",\"tomar do geru\",\"santa maria do suacui\",\"rechan\",\"tocos\",\"urucurituba\",\"tunas do parana\",\"sao goncalo do abaete\",\"tobias barreto\",\"quevedos\",\"santa maria do para\",\"palmeiras\",\"tuparendi\",\"paiva\",\"sao francisco de assis\",\"pimenta\",\"uruoca\",\"porto trombetas\",\"vila nova\",\"porto franco\",\"porto firme\",\"porto esperidiao\",\"virgolandia\",\"porto calvo\",\"porto amazonas\",\"portelandia\",\"vitoria do mearim\",\"olho d'agua das cunhas\",\"portalegre\",\"oeiras do para\",\"wanderley\",\"wenceslau braz\",\"wenceslau guimaraes\",\"werneck\",\"porangaba\",\"ocara\",\"ponto dos volantes\",\"xambre\",\"santana dos montes\",\"xapuri\",\"xavantina\",\"santana do serido\",\"pontalinda\",\"novo repartimento\",\"zacarias\",\"vila nelita\",\"oliveira dos brejinhos\",\"perola d'oeste\",\"pentecoste\",\"perola\",\"peritiba\",\"periquito\",\"sao joao das missoes\",\"vargem\",\"pendencias\",\"pocoes\",\"presidente kubitschek\",\"varjao de minas\",\"varzea alegre\",\"presidente kennedy\",\"santo eduardo\",\"santo antonio do pinhal\",\"presidente alves\",\"venturosa\",\"santo antonio do palma\",\"oros\",\"santa teresinha\",\"poxoreu\",\"santo antonio do grama\",\"vereda\",\"santa terezinha\",\"potim\",\"potengi\",\"vicencia\",\"vicentinopolis\",\"victor graeff\",\"sao joao da mata\",\"panelas\",\"piacabucu\",\"satubinha\",\"sao thome das letras\",\"santa clara do sul\",\"rondon\",\"sao vendelino\",\"sape\",\"sapeacu\",\"roncador\",\"romaria\",\"paripiranga\",\"sapopema\",\"sarapui\",\"rodolfo fernandes\",\"satuba\",\"saude\",\"santa barbara do sul\",\"santa cruz de goias\",\"paulo jacinto\",\"seberi\",\"senador amaral\",\"senador firmino\",\"senador guiomard\",\"senador modestino goncalves\",\"senhora de oliveira\",\"rodeio bonito\",\"paranatinga\",\"sericita\",\"seringueiras\",\"paranapua\",\"passa tres\",\"rubiacea\",\"reserva do cabacal\",\"salmourao\",\"sao jose dos quatro marcos\",\"sao luis do quitunde\",\"pau d'arco\",\"salto da divisa\",\"sao miguel do gostoso\",\"paudalho\",\"patrocinio paulista\",\"pimenteiras\",\"sao miguel dos campos\",\"pindai\",\"sao paulo das missoes\",\"patrocinio do muriae\",\"sao paulo do potengi\",\"sao jose do rio claro\",\"sao jose do belmonte\",\"sao jose do hortencio\",\"sao jose do goiabal\",\"sao pedro de alcantara\",\"pindoba\",\"sao pedro do turvo\",\"pato bragado\",\"sao roque de minas\",\"sao jose do divino\",\"pastos bons\",\"passos maia\",\"pindorama\",\"sao sebastiao da boa vista\",\"pindorama do tocantins\",\"roca sales\",\"serra azul de minas\",\"paulo lopes\",\"teixeira soares\",\"tabuleiro\",\"tacaratu\",\"taciba\",\"santa helena de minas\",\"tamarana\",\"rifaina\",\"tanque d'arca\",\"ribeiraozinho\",\"tapirai\",\"tapiramuta\",\"taquaracu de minas\",\"ribeirao vermelho\",\"sao joao do sul\",\"sao joao do oriente\",\"serra de sao bento\",\"ribeirao branco\",\"piau\",\"piata\",\"pedras de fogo\",\"pedregulho\",\"sao joao do manhuacu\",\"sao joao do ivai\",\"riacho das almas\",\"riachinho\",\"sao luis do curu\",\"riachao das neves\",\"santa izabel do oeste\",\"sao joao de pirabas\",\"rio das antas\",\"tabapora\",\"rio do antonio\",\"sucupira do norte\",\"serra dourada\",\"serrania\",\"pontalina\",\"serranopolis do iguacu\",\"serrita\",\"serro\",\"rio tinto\",\"sao jose da vitoria\",\"sao jose da laje\",\"pintadas\",\"parana\",\"santana da boa vista\",\"sao jose da coroa grande\",\"santa cruz de salinas\",\"santa cruz do prata\",\"sao jorge do patrocinio\",\"rio formoso\",\"santa ernestina\",\"simolandia\",\"sinimbu\",\"sitio do quinto\",\"sitio novo\",\"sitio novo do tocantins\",\"piracuruca\",\"solonopole\",\"sonora\",\"picui\",\"novo oriente do piaui\",\"zortea\",\"jaboti\",\"itamogi\",\"itapiuna\",\"itapirapua paulista\",\"itapirapua\",\"itapicuru\",\"itapetim\",\"brazabrantes\",\"itamira\",\"bras pires\",\"itambaraca\",\"itaguaru\",\"itaguara\",\"itaguaje\",\"buenos aires\",\"itagiba\",\"brasilandia de minas\",\"itaquirai\",\"itabatan\",\"itueta\",\"boninal\",\"boqueirao do leao\",\"jabora\",\"ivai\",\"iuna\",\"borrazopolis\",\"itororo\",\"itaquitinga\",\"itirapina\",\"itaueira\",\"itau\",\"botuvera\",\"itatiaiucu\",\"braco do rio\",\"itagi\",\"itabaianinha\",\"camocim de sao felix\",\"iguaracu\",\"inhauma\",\"inhapi\",\"caiua\",\"inconfidentes\",\"imbe de minas\",\"imbau\",\"iguai\",\"inimutaba\",\"igreja nova\",\"california\",\"igaci\",\"ielmo marinho\",\"ichu\",\"cambira\",\"caibate\",\"ipaporanga\",\"buriti dos lopes\",\"iramaia\",\"buritirama\",\"irupi\",\"buritizal\",\"iraucuba\",\"irara\",\"irape\",\"irai de minas\",\"cachoeira do campo\",\"irai\",\"iracema\",\"ipixuna do para\",\"cachoeira da prata\",\"ipigua\",\"ipe\",\"bonfinopolis de minas\",\"jaci\",\"jacigua\",\"barra de guabiraba\",\"lagoa nova\",\"bandeirantes do tocantins\",\"lagoa do ouro\",\"barao de cotegipe\",\"lagoa do carro\",\"barra\",\"barra de santa rosa\",\"baldim\",\"barra de santo antonio\",\"ladainha\",\"barra de sao miguel\",\"kalore\",\"juvenilia\",\"jussari\",\"bandeira do sul\",\"baianopolis\",\"jacinto\",\"lindoeste\",\"luisburgo\",\"arraias\",\"lucianopolis\",\"arroio do tigre\",\"lourdes\",\"aruana\",\"limeira do oeste\",\"laranjal\",\"augusto pestana\",\"aurea\",\"avelino lopes\",\"leandro ferreira\",\"lavras da mangabeira\",\"laranjal do jari\",\"juscimeira\",\"barrolandia\",\"juranda\",\"bodoquena\",\"boa vista do gurupi\",\"boca da mata\",\"jardim alegre\",\"jaraguari\",\"bocaiuva do sul\",\"bodoco\",\"bom jesus da penha\",\"jupi\",\"jandaira\",\"bom jesus da serra\",\"bom jesus das selvas\",\"jaguaruna\",\"jaguaquara\",\"bonfinopolis\",\"jatauba\",\"bias fortes\",\"jequia da praia\",\"jequitai\",\"jequitiba\",\"jeronimo monteiro\",\"bento de abreu\",\"jesupolis\",\"benevides\",\"joao camara\",\"belmonte\",\"belem do sao francisco\",\"bataypora\",\"jucurucu\",\"julio mesquita\",\"junco do serido\",\"junqueiro\",\"icarai de minas\",\"campanario\",\"luiziana\",\"dormentes\",\"engenheiro beltrao\",\"emilianopolis\",\"elisio medrado\",\"echapora\",\"durande\",\"doverlandia\",\"colmeia\",\"chaveslandia\",\"dona francisca\",\"dona euzebia\",\"colonia jordaozinho\",\"colonia leopoldina\",\"domiciano ribeiro\",\"dom vicoso\",\"engenheiro passos\",\"erval grande\",\"conceicao\",\"euclides da cunha paulista\",\"celina\",\"celso ramos\",\"feliz deserto\",\"fazenda vilanova\",\"extremoz\",\"cerro grande do sul\",\"estrela do indaia\",\"espigao\",\"chacara\",\"chale\",\"chapada do norte\",\"charrua\",\"espirito santo do turvo\",\"espigao alto do iguacu\",\"dom joaquim\",\"conceicao da feira\",\"campestre da serra\",\"cruzeiro da fortaleza\",\"cumari\",\"correntina\",\"cortes\",\"corumba de goias\",\"cubati\",\"corumbatai\",\"costa marques\",\"coronel martins\",\"cotriguacu\",\"couto de magalhaes\",\"coxilha\",\"cristopolis\",\"cristiano otoni\",\"crissiumal\",\"cumaru\",\"coronel macedo\",\"dobrada\",\"coqueiro baixo\",\"divisa alegre\",\"conde\",\"diorama\",\"dionisio\",\"congonhinhas\",\"diogo de vasconcelos\",\"corguinho\",\"damianopolis\",\"coroaci\",\"deodapolis\",\"denise\",\"coroados\",\"david canabarro\",\"dario meira\",\"ferros\",\"figueiropolis d'oeste\",\"flor da serra do sul\",\"canhotinho\",\"guarda-mor\",\"guaratinga\",\"guarara\",\"guarani das missoes\",\"guamare\",\"guaiuba\",\"caninde de sao francisco\",\"campo novo\",\"canitar\",\"grandes rios\",\"capao da porteira\",\"governador lindenberg\",\"capela de santana\",\"capetinga\",\"guariroba\",\"guidoval\",\"ceara-mirim\",\"campina do monte alegre\",\"ibirataia\",\"ibiraja\",\"ibiraiaras\",\"campestre do maranhao\",\"campina das missoes\",\"ibipitanga\",\"campo alegre de goias\",\"herval\",\"ibicare\",\"ibiassuce\",\"ibiaca\",\"ibateguara\",\"iacri\",\"hidrolina\",\"capim branco\",\"capinzal do norte\",\"goianorte\",\"castelo do piaui\",\"carnaubais\",\"francisco dumont\",\"carnaubal\",\"carolina\",\"carutapera\",\"formigueiro\",\"castro alves\",\"goiabeira\",\"catu de abrantes\",\"caturama\",\"cavalcante\",\"flores\",\"floreal\",\"florai\",\"frecheirinha\",\"frei martinho\",\"carmopolis\",\"fruta de leite\",\"carmo do rio verde\",\"carlinda\",\"caririacu\",\"cariri do tocantins\",\"carinhanha\",\"gaucha do norte\",\"gaviao peixoto\",\"careacu\",\"caraiba\",\"getulina\",\"caputira\",\"gloria do goita\",\"glorinha\",\"luiz alves\",\"crisolita\",\"luizlandia do oeste\",\"medeiros\",\"meruoca\",\"milha\",\"miraima\",\"miranorte\",\"anastacio\",\"anadia\",\"ametista do sul\",\"mogi-mirim\",\"mojui dos campos\",\"amaraji\",\"moncoes\",\"mondai\",\"lunardelli\",\"amapora\",\"montauri\",\"monte alegre\",\"alvaro de carvalho\",\"monte castelo\",\"monte formoso\",\"monte gordo\",\"alvares florence\",\"alvarenga\",\"montezuma\",\"mercedes\",\"maua da serra\",\"moreilandia\",\"anitapolis\",\"maracana\",\"maragogipe\",\"aracitaba\",\"aquiraz\",\"apuiares\",\"mariapolis\",\"mariluz\",\"marinopolis\",\"aparecida de sao manuel\",\"martinho campos\",\"martins\",\"mascote\",\"massape\",\"mata grande\",\"mata roma\",\"matelandia\",\"materlandia\",\"antonio pereira\",\"mato leitao\",\"matoes do norte\",\"matrincha\",\"antonio cardoso\",\"matutina\",\"alto rio novo\",\"morpara\",\"mar vermelho\",\"nossa senhora do o\",\"ajuricaba\",\"nova brasilandia d'oeste\",\"nova campina\",\"nova canaa\",\"nova canaa paulista\",\"aguia branca\",\"nova esperanca do sul\",\"agua santa\",\"nova itaberaba\",\"nova mamore\",\"nova olimpia\",\"agua comprida\",\"nova palma\",\"agua clara\",\"agronomica\",\"afranio\",\"acegua\",\"novo barreiro\",\"acaiaca\",\"abrantes\",\"abare\",\"abaira\",\"abaiara\",\"nossa senhora do remedio\",\"nossa senhora de caravaggio\",\"alto parana\",\"alagoinha\",\"alto paraiso\",\"alto horizonte\",\"alto garcas\",\"alto caparao\",\"alto alegre do iguacu\",\"altinho\",\"muniz freire\",\"muquem do sao francisco\",\"altaneira\",\"altamira do parana\",\"murutinga do sul\",\"alpercata\",\"alianca do tocantins\",\"narandiba\",\"alhandra\",\"nazareno\",\"nazario\",\"alfredo wagner\",\"nipoa\",\"nonoai\",\"nossa senhora da gloria\",\"alexandria\",\"nossa senhora das gracas\",\"mara rosa\",\"monnerat\",\"machacalis\",\"arembepe\",\"araguapaz\",\"aramari\",\"mandirituba\",\"mambai\",\"arapei\",\"macaparana\",\"arenapolis\",\"areia\",\"armazem\",\"araponga\",\"mairi\",\"aratuba\",\"magda\",\"arari\",\"ararica\",\"araripe\",\"macambara\",\"mae do rio\",\"arneiroz\",\"lupionopolis\",\"luz\",\"acucena\",\"sao nicolau\",\"alexandrita\",\"sao miguel do cambui\",\"trabiju\",\"caxingo\",\"vieiras\",\"caxambu do sul\",\"alfredo marcondes\",\"cotipora\",\"areial\",\"bacaxa\",\"sao patricio\",\"vila bela da santissima trindade\",\"castanheiras\",\"vicosa do ceara\",\"cassia dos coqueiros\",\"caseiros\",\"cascalho rico\",\"xexeu\",\"sao pedro da agua branca\",\"baguari\",\"alianca\",\"vicentina\",\"vicente dutra\",\"sao pedro do butia\",\"tracuateua\",\"sao miguel do anta\",\"sao pedro do iguacu\",\"cotegipe\",\"sao lourenco do piaui\",\"cezarina\",\"cerro negro\",\"avai\",\"traipu\",\"cerro grande\",\"alcantara\",\"cerrito\",\"cerejeiras\",\"centro novo do maranhao\",\"sao luiz do norte\",\"centralina\",\"trombas\",\"sao mamede\",\"central de santa helena\",\"central\",\"centenario\",\"alegrete do piaui\",\"alegria\",\"sao mateus de minas\",\"alexandra\",\"ceilandia\",\"cedro do abaete\",\"cedro\",\"sao miguel das matas\",\"sao miguel do aleixo\",\"vila flor\",\"abdon batista\",\"arraial d ajuda\",\"cha de alegria\",\"alto bela vista\",\"tocos do moji\",\"capoeiras\",\"capivari do sul\",\"capitao eneas\",\"banabuiu\",\"capitao andrade\",\"tuiuti\",\"capitao\",\"alto alegre do maranhao\",\"cravolandia\",\"capistrano\",\"alto alegre do pindare\",\"tumiritinga\",\"balsa nova\",\"bandeirantes d'oeste\",\"sao vitor\",\"capela nova\",\"capela do alto alegre\",\"venda branca\",\"tunapolis\",\"caparao\",\"banzae\",\"canudos\",\"canto do buriti\",\"cantanhede\",\"tiradentes do sul\",\"sao sebastiao do rio verde\",\"caracol\",\"baixa grande\",\"vertentes\",\"sao pedro do sul\",\"carnauba dos dantas\",\"sao francisco do humaita\",\"carnaiba do sertao\",\"sao rafael\",\"almas\",\"almino afonso\",\"almirante tamandare do sul\",\"carmolandia\",\"vespasiano correa\",\"carmesia\",\"tome-acu\",\"sao sebastiao da amoreira\",\"aratiba\",\"baixa grande do ribeiro\",\"vermelho novo\",\"sao sebastiao da serra\",\"sao sebastiao de campos\",\"aroeiras\",\"caridade\",\"vermelho\",\"treviso\",\"alpestre\",\"balbinos\",\"caraibas\",\"sao sebastiao do paraiba\",\"vila nova do sul\",\"cha grande\",\"sao goncalo do rio das pedras\",\"acajutiba\",\"coracao de maria\",\"coqueiros do sul\",\"aribice\",\"contenda\",\"sao joao do sabugi\",\"sao joao do sobrado\",\"constantina\",\"conselheiro mairinck\",\"conrado\",\"conquista d'oeste\",\"agua doce\",\"assare\",\"confins\",\"coreau\",\"vitorino\",\"agua fria de goias\",\"condeuba\",\"vitoria do jari\",\"sao joaquim do monte\",\"sao jorge\",\"sao jorge d'oeste\",\"sao jorge do ivai\",\"sao jorge do oeste\",\"conceicao do formoso\",\"conceicao do caninde\",\"corumbatai do sul\",\"cordeiros\",\"sao joao do itaperiu\",\"aurora do para\",\"agrestina\",\"adhemar de barros\",\"correntes\",\"adrianopolis\",\"corrego fundo\",\"corrego do ouro\",\"adustina\",\"corrego danta\",\"coronel sapucaia\",\"coronel pacheco\",\"coronel murta\",\"arroio trinta\",\"agisse\",\"coronel joao pessoa\",\"vitorinos\",\"wagner\",\"sao joao da parauna\",\"agrolandia\",\"sao joao da ponte\",\"sao joao da urtiga\",\"coronel freitas\",\"coronel domingos soares\",\"tres irmaos\",\"sao joao de petropolis\",\"acari\",\"tres forquilhas\",\"arvoredo\",\"agua limpa\",\"conceicao do almeida\",\"conceicao da ibitipoca\",\"sao jose do serido\",\"atilio vivacqua\",\"cipo-guacu\",\"cipo\",\"augustinopolis\",\"sao jose do piaui\",\"travesseiro\",\"sao jose do ribeirao\",\"aiuaba\",\"cidelandia\",\"arenopolis\",\"chorrocho\",\"chorozinho\",\"chiapetta\",\"sao jose da boa vista\",\"ajapi\",\"sao jose do xingu\",\"chaval\",\"alto piquiri\",\"sao jose dos cordeiros\",\"alagoa\",\"alagoa grande\",\"alagoa nova\",\"vila reis\",\"chapadao do lageado\",\"vila pereira\",\"aurilandia\",\"sao jose do inhacora\",\"sao geraldo da piedade\",\"ciriaco\",\"claraval\",\"assuncao\",\"vitoria das missoes\",\"agua nova\",\"comercinho\",\"sao jose da tapera\",\"agua preta\",\"combinado\",\"atalaia\",\"vista alegre\",\"viseu\",\"atalanta\",\"aguas claras\",\"aguas frias\",\"aguas mornas\",\"agudo\",\"coite do noia\",\"coimbra\",\"cocos\",\"sao jose do campestre\",\"cocalzinho de goias\",\"sao geraldo do baguari\",\"virginia\",\"cocais\",\"coari\",\"claro dos pocoes\",\"tecainda\",\"barao\",\"varzedo\",\"suzanapolis\",\"braunas\",\"brasopolis\",\"bataipora\",\"tururu\",\"arantina\",\"antonio goncalves\",\"sulina\",\"antonio martins\",\"brasileia\",\"terenos\",\"brasilandia\",\"unistalda\",\"turvelandia\",\"aramina\",\"sardoa\",\"arame\",\"bela vista de minas\",\"botupora\",\"botelho\",\"uniao do sul\",\"bela vista do maranhao\",\"bossoroca\",\"uniao do oeste\",\"antunes\",\"aparecida d'oeste\",\"boraceia\",\"taboquinhas\",\"bora\",\"antonina do norte\",\"brejetuba\",\"brejo\",\"brejo bonito\",\"urucania\",\"barrocas\",\"buriti do tocantins\",\"uruburetama\",\"angustura\",\"siriji\",\"buriti alegre\",\"buriti\",\"buique\",\"bugre\",\"termas de ibira\",\"anhandui\",\"terezinha\",\"brotas de macaubas\",\"uruana de minas\",\"sobralia\",\"anhembi\",\"britania\",\"solanea\",\"anhumas\",\"breves\",\"brejolandia\",\"brejoes\",\"teresina de goias\",\"brejo grande\",\"brejo dos santos\",\"brejo do cruz\",\"tabuleiro do norte\",\"boquira\",\"uniao da serra\",\"tapera\",\"benedito leite\",\"tapinas\",\"apuarema\",\"bodo\",\"ubirajara\",\"ubai\",\"tapurah\",\"aquidaba\",\"araguaia\",\"boa vista do sul\",\"taquarana\",\"aracatu\",\"boa vista do cadeado\",\"boa vista do burica\",\"araguacu\",\"boa vista das missoes\",\"boa ventura\",\"taquarucu do sul\",\"boa esperanca do iguacu\",\"biritinga\",\"bequimao\",\"bertopolis\",\"bertolinia\",\"berilo\",\"aragoiania\",\"teixeira\",\"berizal\",\"taperuaba\",\"bom jardim de goias\",\"boquim\",\"taparuba\",\"uniao\",\"tacuru\",\"sao francisco do gloria\",\"aparecida de monte alto\",\"bonito de santa fe\",\"taiacu\",\"bonito de minas\",\"bemposta\",\"araguana\",\"aparecida do rio negro\",\"umburatiba\",\"tenente ananias\",\"telha\",\"tamandare\",\"bom retiro\",\"bom jesus do sul\",\"umburanas\",\"tamboara\",\"bom jesus do querendo\",\"tangara\",\"apiacas\",\"bom jesus do araguaia\",\"bom jesus do amparo\",\"ulianopolis\",\"uirauna\",\"apora\",\"apore\",\"barro preto\",\"simplicio mendes\",\"anguera\",\"campo do tenente\",\"senador jose porfirio\",\"senador la rocque\",\"campo bonito\",\"campo azul\",\"senador salgado filho\",\"alvorada d'oeste\",\"campo alegre do fidalgo\",\"campo alegre de minas\",\"campo alegre de lourdes\",\"alvorada do gurgueia\",\"amanari\",\"senhora dos remedios\",\"sento se\",\"arara\",\"campinacu\",\"tibau do sul\",\"serio\",\"amapa do maranhao\",\"vargem grande do soturno\",\"vargem grande do rio pardo\",\"vargem grande\",\"serra azul\",\"tuparece\",\"serra bonita\",\"serra branca\",\"barra do jacare\",\"arapua\",\"campo do brito\",\"barauna\",\"serra do salitre\",\"senador cortes\",\"sarutaia\",\"candoi\",\"satiro dias\",\"tavares\",\"barao ataliba nogueira\",\"candido mendes\",\"candido godoi\",\"saubara\",\"candeias do jamari\",\"arataca\",\"candeal\",\"canapi\",\"varzea nova\",\"alto sao joao\",\"varzea do poco\",\"canaa\",\"campos verdes\",\"barao de juparana\",\"sebastiao leal\",\"varzea\",\"campo magro\",\"sede alvorada\",\"segredo\",\"selbach\",\"campo grande do piaui\",\"campo florido\",\"barao do triunfo\",\"amarante\",\"amargosa\",\"angicos\",\"vale do sol\",\"valao do barro\",\"severiano melo\",\"caetanos\",\"caem\",\"cacimbinhas\",\"anaurilandia\",\"andarai\",\"cachoeira do brumado\",\"andre da rocha\",\"silvano\",\"terra nova\",\"silvanopolis\",\"silveira carvalho\",\"silveira martins\",\"andrequice\",\"arapoema\",\"cacaulandia\",\"cabixi\",\"simao pereira\",\"angelica\",\"cabeceiras\",\"cabaceiras do paraguacu\",\"angelina\",\"angelo frechiani\",\"angical\",\"angical do piaui\",\"urucuia\",\"caetes\",\"tupassi\",\"america dourada\",\"ananas\",\"barra do rio azul\",\"serra dos dourados\",\"cambiasca\",\"cambara do sul\",\"camacho\",\"calmon\",\"vargeao\",\"caldeirao grande do piaui\",\"serranopolis de minas\",\"vanini\",\"americo de campos\",\"barra longa\",\"caldas do jorro\",\"caldas brandao\",\"calcado\",\"cajuri\",\"amontada\",\"amparo da serra\",\"barreira\",\"cajueiro\",\"cajari\",\"cajapio\",\"anage\",\"sertao santana\",\"cairu\",\"caicara do norte\",\"sete de setembro\",\"novo mundo\",\"santa salete\",\"sao francisco do brejao\",\"lidice\",\"pio xii\",\"pio ix\",\"pinto bandeira\",\"pinhotiba\",\"lindoia do sul\",\"lindolfo collor\",\"livramento\",\"loreto\",\"lucena\",\"pinhal da serra\",\"luis correia\",\"pingo-d'agua\",\"pindoretama\",\"lutecia\",\"luziapolis\",\"macambira\",\"macaubal\",\"piquerobi\",\"liberato salzano\",\"pouso novo\",\"piracema\",\"lagoinha do piaui\",\"laje do muriae\",\"lajeado grande\",\"lamarao\",\"lamim\",\"pirapo\",\"laranja da terra\",\"pirapemas\",\"lavrinhas\",\"pirambu\",\"pirajuba\",\"lebon regis\",\"lencois\",\"pirai do norte\",\"leoberto leal\",\"leopoldo de bulhoes\",\"leopolis\",\"machadinho\",\"machados\",\"macieira\",\"macuco\",\"manaira\",\"peri mirim\",\"pereiras\",\"manfrinopolis\",\"manoel urbano\",\"mansidao\",\"maquine\",\"pequizeiro\",\"pequi\",\"maranhaozinho\",\"marcelino vieira\",\"marcos parente\",\"marechal deodoro\",\"mariano moro\",\"peixe\",\"pedro velho\",\"maribondo\",\"mampituba\",\"perobal\",\"mamonas\",\"pianco\",\"macuco de minas\",\"madalena\",\"picarras\",\"picarra\",\"picada cafe\",\"mae d'agua\",\"piao\",\"piacu\",\"perola independente\",\"piacatu\",\"magalhaes de almeida\",\"maiquinique\",\"mairipotaba\",\"pescador\",\"major porto\",\"malhador\",\"piratini\",\"abadiania\",\"lagoa salgada\",\"pontes gestal\",\"porto dos gauchos\",\"porto de pedras\",\"jardim olinda\",\"jataizinho\",\"porto alegre do norte\",\"jaua\",\"porto acre\",\"jaupaci\",\"portela\",\"jenipapo de minas\",\"porteiras\",\"jequeri\",\"jerico\",\"jeriquara\",\"populina\",\"ponto novo\",\"ponto do marambaia\",\"jardim de piranhas\",\"porto estrela\",\"jardim abc de goias\",\"janduis\",\"jaguaracu\",\"jaguarembe\",\"jaguaribara\",\"jamaica\",\"jamapara\",\"jampruca\",\"jandaia\",\"japaraiba\",\"jaquirana\",\"japaratuba\",\"porto rico\",\"japi\",\"japoata\",\"porto murtinho\",\"porto lucena\",\"porto grande\",\"ponto belo\",\"jiquirica\",\"lagoa real\",\"joaima\",\"planaltino\",\"planaltina do parana\",\"lago verde\",\"lagoa\",\"lagoa d'anta\",\"lagoa da canoa\",\"lagoa de sao francisco\",\"pium\",\"pitimbu\",\"lagoa de velhos\",\"pitanga de estrada\",\"lagoa do mato\",\"pirpirituba\",\"lagoa do piaui\",\"lagoa dos patos\",\"pires ferreira\",\"lagoa dos tres cantos\",\"jussiape\",\"pocao\",\"pocao de pedras\",\"jucas\",\"ponte alta do norte\",\"pontao\",\"joao dourado\",\"joaquim pires\",\"jose boiteux\",\"jose da penha\",\"joselandia\",\"pombos\",\"poco de pedra\",\"polo petroquimico de triunfo\",\"jurema\",\"juripiranga\",\"pocoes de paineiras\",\"juru\",\"juruti\",\"poco redondo\",\"mariental\",\"pedro gomes\",\"marilac\",\"ouro\",\"nortelandia\",\"paineiras\",\"nossa senhora das dores\",\"paial\",\"padre paraiso\",\"padre gonzales\",\"padre carvalho\",\"pacuja\",\"pacotuba\",\"nossa senhora de lourdes\",\"nova america\",\"nova america da colina\",\"ouvidor\",\"nova araca\",\"ouro verde do oeste\",\"nova boa vista\",\"ouro verde de goias\",\"palhano\",\"nobres\",\"neopolis\",\"palminopolis\",\"pancas\",\"murici\",\"muritiba\",\"palmopolis\",\"murucupi\",\"palmital de minas\",\"mussurepe\",\"mutum parana\",\"palmares paulista\",\"mutunopolis\",\"nacip raydan\",\"nantes\",\"natercia\",\"palmeira d oeste\",\"natividade da serra\",\"nazare da mata\",\"nova brescia\",\"ourizona\",\"mucurici\",\"nova crixas\",\"olhos d'agua\",\"nova santa barbara\",\"nova timboteua\",\"oleo\",\"olaria\",\"oiapoque\",\"nova ubirata\",\"nova vicosa\",\"novais\",\"novo alegre\",\"novo brasil\",\"novo cabrais\",\"novo itacolomi\",\"novo jardim\",\"novo planalto\",\"novo lino\",\"novo oriente de minas\",\"nova roma do sul\",\"nova roma\",\"nova resende\",\"nova independencia\",\"nova esperanca do piria\",\"nova esperanca do sudoeste\",\"ourem\",\"osvaldo kroeff\",\"nova floresta\",\"nova guarita\",\"nova guataporanga\",\"nova ipixuna\",\"nova redencao\",\"nova lacerda\",\"orobo\",\"nova laranjeiras\",\"nova luzitania\",\"orizania\",\"nova padua\",\"onda verde\",\"muliterno\",\"mucuge\",\"marilandia do sul\",\"mirante da serra\",\"paula candido\",\"medicilandia\",\"pau brasil\",\"meridiano\",\"messias targino\",\"mimoso de goias\",\"minas do leao\",\"minduri\",\"ministro andreazza\",\"mira estrela\",\"patis\",\"miradouro\",\"miraguai\",\"miranda do norte\",\"passo de camaragibe\",\"passira\",\"passagem franca\",\"paula freitas\",\"mauriti\",\"paulino neves\",\"pedra menina\",\"marilena\",\"mariopolis\",\"marques de souza\",\"martinesia\",\"pedras altas\",\"pedrao\",\"pedranopolis\",\"pedra lavrada\",\"matriz de camaragibe\",\"pedra do indaia\",\"mata\",\"matias olimpio\",\"pavao\",\"mato rico\",\"matoes\",\"paulistania\",\"passagem\",\"passa tempo\",\"mucambo\",\"miravania\",\"monte bonito\",\"paraju\",\"monte santo\",\"monteiro lobato\",\"paraiso do sul\",\"monteiropolis\",\"paraiso das aguas\",\"montividiu do norte\",\"morro agudo de goias\",\"morro da garca\",\"morro de sao paulo\",\"morro do ferro\",\"morro do pilar\",\"morro grande\",\"morro redondo\",\"morro vermelho\",\"mossamedes\",\"monte belo do sul\",\"monte alverne\",\"monte alegre de sergipe\",\"moema\",\"missao velha\",\"parnarama\",\"missi\",\"mocajuba\",\"parisi\",\"moeda\",\"paripueira\",\"pareci novo\",\"paranapoema\",\"pardinho\",\"mombaca\",\"moncao\",\"paranhos\",\"monsenhor paulo\",\"montadas\",\"montanhas\",\"jaguapita\",\"jacuizinho\",\"cristinapolis\",\"estrela velha\",\"ewbank da camara\",\"fagundes\",\"santa maria do salto\",\"farol\",\"santa maria do herval\",\"faxinalzinho\",\"felicio dos santos\",\"felipe guerra\",\"felisburgo\",\"felixlandia\",\"santa luzia do parua\",\"santa luzia do norte\",\"feliz natal\",\"fenix\",\"santa leopoldina\",\"fernao\",\"ferreiros\",\"eugenio de castro\",\"santa quiteria do maranhao\",\"jacuipe\",\"estrela do sul\",\"engenheiro balduino\",\"engenheiro navarro\",\"entre folhas\",\"epitaciolandia\",\"erebango\",\"erere\",\"erico cardoso\",\"novo machado\",\"santa rosa do sul\",\"esmeralda\",\"santa rita do itueto\",\"estevao de araujo\",\"estiva\",\"estrela d oeste\",\"santa rita de jacutinga\",\"estrela d'oeste\",\"santa rita da floresta\",\"santa isabel do rio preto\",\"filadelfia\",\"flora rica\",\"florania\",\"santa brigida\",\"frei gaspar\",\"frei lagonegro\",\"santa barbara do para\",\"frei rogerio\",\"santa amelia\",\"frutuoso gomes\",\"gabriel monteiro\",\"galia\",\"galinhos\",\"sanga puita\",\"sandolandia\",\"galvao\",\"garruchos\",\"sambaiba\",\"salvador do sul\",\"salto grande\",\"santa cecilia do pavao\",\"santa clara d'oeste\",\"francisco santos\",\"fonseca\",\"santa filomena\",\"santa fe de minas\",\"flores de goias\",\"floresta do araguaia\",\"florida\",\"santa cruz do timbo\",\"florinia\",\"fontoura xavier\",\"francisco dantas\",\"santa cruz do piaui\",\"formosa da serra negra\",\"formosa do oeste\",\"fortaleza dos valos\",\"fortim\",\"foz do jordao\",\"fragosos\",\"embauba\",\"santana de pirapama\",\"elisiario\",\"desterro do melo\",\"curralinho\",\"sao bonifacio\",\"curvelandia\",\"sao bernardino\",\"datas\",\"sao bento abade\",\"delfim moreira\",\"sao bentinho\",\"sao benedito do sul\",\"sao benedito do rio preto\",\"demerval lobao\",\"santo inacio\",\"santo hipolito\",\"santo expedito do sul\",\"santo expedito\",\"desembargador otoni\",\"desterro\",\"sao bras\",\"curral de cima\",\"cupira\",\"crucilandia\",\"croata\",\"sao fernando\",\"crominia\",\"sao felix do coribe\",\"sao felix do araguaia\",\"sao felix de minas\",\"sao felix\",\"sao domingos do sul\",\"sao carlos do ivai\",\"cruzeiro do iguacu\",\"sao domingos do araguaia\",\"cuite velho\",\"cujubim\",\"sao desiderio\",\"sao cristovao do sul\",\"sao clemente\",\"desterro de entre rios\",\"santo antonio dos campos\",\"santana do capivari\",\"santo antonio do taua\",\"dois riachos\",\"dom cavati\",\"santo antonio\",\"dom macedo costa\",\"santo amaro das brotas\",\"dona emma\",\"dores de guanhaes\",\"douradina\",\"santana do sobrado\",\"doutor camargo\",\"doutor mauricio cardoso\",\"doutor ulysses\",\"duas barras\",\"duere\",\"santana do itarare\",\"santana do ipanema\",\"santana do deserto\",\"doce grande\",\"santo antonio das queimadas\",\"santo antonio de goias\",\"divinesia\",\"dezesseis de novembro\",\"santo antonio do rio abaixo\",\"santo antonio do planalto\",\"diamante d'oeste\",\"dias d avila\",\"santo antonio do leverger\",\"santo antonio do leste\",\"divino das laranjeiras\",\"divisa nova\",\"divino de sao lourenco\",\"santo antonio do canaa\",\"santo antonio do caiua\",\"santo antonio do aventureiro\",\"santo antonio do aracangua\",\"divinopolis de goias\",\"divinopolis do tocantins\",\"general camara\",\"general maynard\",\"salto do itarare\",\"quipapa\",\"ipiranga do sul\",\"ipueira\",\"ipuiuna\",\"ipupiara\",\"redencao do gurgueia\",\"redencao da serra\",\"ravena\",\"iretama\",\"isaias coelho\",\"itaara\",\"rancho alegre d'oeste\",\"rainha do mar\",\"itabi\",\"itabirinha\",\"itacoatiara\",\"itacurussa\",\"itagimirim\",\"remigio\",\"ipiranga do norte\",\"ipiranga de goias\",\"riacho de santo antonio\",\"independencia\",\"ribeira do amparo\",\"indiaroba\",\"ribas do rio pardo\",\"inga\",\"riachuelo\",\"ingai\",\"riacho da cruz\",\"ipecaeta\",\"inhuma\",\"inocencia\",\"retirolandia\",\"iomere\",\"ressaquinha\",\"reserva do iguacu\",\"ipaumirim\",\"itaguacu da bahia\",\"itaguari\",\"ilicinea\",\"quilometro 14 do mutum\",\"princesa isabel\",\"itatiba do sul\",\"itiquira\",\"presidente nereu\",\"itupiranga\",\"presidente lucena\",\"itutinga\",\"presidente juscelino\",\"presidente janio quadros\",\"ivora\",\"presidente castello branco\",\"jaboticatubas\",\"pratapolis\",\"jacarau\",\"pranchita\",\"praia norte\",\"jacareacanga\",\"progresso\",\"itarema\",\"prudencio thomaz\",\"quatro pontes\",\"itaicaba\",\"itaju do colonia\",\"querencia do norte\",\"queixada\",\"queiroz\",\"itanhanga\",\"itanhem\",\"itapage\",\"itaporanga d'ajuda\",\"itaparica\",\"quatituba\",\"itape\",\"puxinana\",\"purilandia\",\"pureza\",\"pugmil\",\"ribeirao cascalheira\",\"ilha grande\",\"gentio do ouro\",\"guinda\",\"rubelita\",\"groairas\",\"grupiara\",\"rosario do ivai\",\"rosario\",\"guabiju\",\"guairaca\",\"guamiranga\",\"guape\",\"guapirama\",\"romelandia\",\"guarapua\",\"guaraquecaba\",\"guassusse\",\"guatapara\",\"guia lopes da laguna\",\"riversul\",\"gramado xavier\",\"gramado dos loureiros\",\"rubineia\",\"goiandira\",\"gilbues\",\"girau do ponciano\",\"glaura\",\"salobro\",\"gloria de dourados\",\"salinas da margarida\",\"godoy moreira\",\"goncalves dias\",\"graccho cardoso\",\"gongogi\",\"sacra familia do tingua\",\"saboeiro\",\"governador dix-sept rosado\",\"governador eugenio barros\",\"sabaudia\",\"governador mangabeira\",\"guimaraes\",\"guiricema\",\"ilha dos valadares\",\"guzolandia\",\"ibiracu\",\"ibirapua\",\"ibitiara\",\"ibitioca\",\"ibitira\",\"ibitita\",\"ibitiuva\",\"icaraima\",\"icatu\",\"igapora\",\"igarape-acu\",\"rincao\",\"igarape-miri\",\"ribeiropolis\",\"ribeiro junqueira\",\"igaratinga\",\"igrapiuna\",\"ibiracatu\",\"ibipeba\",\"ibicuitinga\",\"ibarama\",\"rio rufino\",\"heliopolis\",\"herveiras\",\"hulha negra\",\"humberto de campos\",\"humildes\",\"iaras\",\"ibema\",\"rio doce\",\"ibertioga\",\"rio grande do piaui\",\"ibiajara\",\"ibiara\",\"rio espera\",\"rio dos indios\",\"rio dos cedros\",\"lagoao\"],\"y\":[15540,6882,2773,2131,1521,1444,1379,1245,1189,938,849,797,746,713,692,691,654,633,613,570,565,510,447,442,433,427,426,409,383,380,374,369,353,335,334,328,323,320,316,306,296,286,285,281,280,277,273,271,270,266,264,256,250,248,247,241,240,239,238,234,232,226,225,224,224,211,210,207,203,197,196,194,191,190,188,186,185,185,183,183,172,171,170,169,165,165,161,161,159,157,155,153,152,146,145,143,141,141,140,139,139,137,137,136,135,134,133,131,130,128,125,123,123,122,122,120,120,119,117,117,113,113,113,112,111,111,111,110,110,109,109,107,105,103,102,101,101,101,101,100,100,100,100,98,98,98,97,95,95,95,94,94,93,93,93,92,91,89,89,89,88,87,85,85,85,85,85,84,84,83,83,82,80,80,80,80,79,79,79,79,78,78,77,76,76,76,75,75,75,75,75,74,74,74,73,73,72,72,71,69,69,69,68,67,67,67,67,65,65,65,65,65,65,65,64,64,64,64,63,63,63,63,62,62,62,62,62,62,61,61,60,60,60,60,60,58,58,57,57,56,56,56,56,56,55,55,54,54,54,54,54,54,54,54,54,53,53,53,53,52,52,52,52,52,52,51,51,51,51,50,50,50,50,50,49,48,48,48,48,47,47,47,47,47,46,46,46,46,46,45,45,45,45,44,44,44,44,44,44,44,44,44,44,43,43,43,43,43,43,42,42,42,42,42,42,41,41,41,41,41,41,41,41,40,40,40,40,40,40,40,40,40,39,39,38,38,38,38,38,38,37,37,37,37,37,37,37,37,36,36,36,36,36,36,36,36,36,36,35,35,35,35,35,35,35,35,35,35,35,35,35,34,34,34,34,34,34,34,34,34,33,33,33,33,33,33,33,32,32,32,32,32,32,31,31,31,31,31,30,30,30,30,30,30,30,30,30,29,29,29,29,29,29,29,29,29,29,29,29,28,28,28,28,28,28,28,28,28,28,28,28,28,28,28,28,27,27,27,27,27,27,27,27,26,26,26,26,26,26,26,26,26,26,26,26,26,25,25,25,25,25,25,25,25,25,25,25,24,24,24,24,24,24,24,24,24,24,24,24,24,24,24,23,23,23,23,23,23,23,23,23,23,22,22,22,22,22,22,22,22,22,22,22,22,22,22,22,22,22,22,22,21,21,21,21,21,21,21,21,21,21,21,21,21,21,21,21,20,20,20,20,20,20,20,20,20,20,20,20,20,20,20,20,20,19,19,19,19,19,19,19,19,19,19,19,19,19,19,19,19,19,19,19,19,19,18,18,18,18,18,18,18,18,18,18,18,18,18,18,18,18,18,18,18,18,18,18,18,18,18,18,18,18,18,18,18,18,18,18,18,17,17,17,17,17,17,17,17,17,17,17,17,17,17,17,17,17,17,17,17,17,17,17,17,17,17,17,17,17,17,17,16,16,16,16,16,16,16,16,16,16,16,16,16,16,16,16,16,16,16,16,16,16,16,16,16,16,16,16,16,16,16,16,15,15,15,15,15,15,15,15,15,15,15,15,15,15,15,15,15,15,15,15,15,15,15,15,15,15,15,15,15,15,15,15,15,14,14,14,14,14,14,14,14,14,14,14,14,14,14,14,14,14,14,14,14,14,14,14,14,14,14,14,14,14,14,14,14,14,14,14,14,14,13,13,13,13,13,13,13,13,13,13,13,13,13,13,13,13,13,13,13,13,13,13,13,13,13,13,13,13,13,13,13,13,13,13,13,13,13,13,13,13,13,13,13,13,13,13,13,13,13,13,13,13,13,12,12,12,12,12,12,12,12,12,12,12,12,12,12,12,12,12,12,12,12,12,12,12,12,12,12,12,12,12,12,12,12,12,12,12,12,12,12,12,12,12,12,11,11,11,11,11,11,11,11,11,11,11,11,11,11,11,11,11,11,11,11,11,11,11,11,11,11,11,11,11,11,11,11,11,11,11,11,11,11,11,11,11,11,11,11,11,11,11,11,11,11,11,11,11,11,11,11,10,10,10,10,10,10,10,10,10,10,10,10,10,10,10,10,10,10,10,10,10,10,10,10,10,10,10,10,10,10,10,10,10,10,10,10,10,10,10,10,10,10,10,10,10,10,10,10,10,10,10,10,10,10,10,10,10,10,10,10,10,10,10,10,10,10,10,10,10,10,10,10,10,10,10,10,10,10,10,10,9,9,9,9,9,9,9,9,9,9,9,9,9,9,9,9,9,9,9,9,9,9,9,9,9,9,9,9,9,9,9,9,9,9,9,9,9,9,9,9,9,9,9,9,9,9,9,9,9,9,9,9,9,9,9,9,9,9,9,9,9,9,9,9,9,9,9,9,9,9,9,9,9,9,9,9,9,9,9,9,9,9,9,9,9,9,8,8,8,8,8,8,8,8,8,8,8,8,8,8,8,8,8,8,8,8,8,8,8,8,8,8,8,8,8,8,8,8,8,8,8,8,8,8,8,8,8,8,8,8,8,8,8,8,8,8,8,8,8,8,8,8,8,8,8,8,8,8,8,8,8,8,8,8,8,8,8,8,8,8,8,8,8,8,8,8,8,8,8,8,8,8,8,8,8,8,8,8,8,8,8,8,8,8,7,7,7,7,7,7,7,7,7,7,7,7,7,7,7,7,7,7,7,7,7,7,7,7,7,7,7,7,7,7,7,7,7,7,7,7,7,7,7,7,7,7,7,7,7,7,7,7,7,7,7,7,7,7,7,7,7,7,7,7,7,7,7,7,7,7,7,7,7,7,7,7,7,7,7,7,7,7,7,7,7,7,7,7,7,7,7,7,7,7,7,7,7,7,7,7,7,7,7,7,7,7,7,7,7,7,7,7,7,7,7,7,7,7,7,7,7,7,7,7,7,7,7,7,7,7,7,7,7,7,7,7,7,6,6,6,6,6,6,6,6,6,6,6,6,6,6,6,6,6,6,6,6,6,6,6,6,6,6,6,6,6,6,6,6,6,6,6,6,6,6,6,6,6,6,6,6,6,6,6,6,6,6,6,6,6,6,6,6,6,6,6,6,6,6,6,6,6,6,6,6,6,6,6,6,6,6,6,6,6,6,6,6,6,6,6,6,6,6,6,6,6,6,6,6,6,6,6,6,6,6,6,6,6,6,6,6,6,6,6,6,6,6,6,6,6,6,6,6,6,6,6,6,6,6,6,6,6,6,6,6,6,6,6,6,6,6,5,5,5,5,5,5,5,5,5,5,5,5,5,5,5,5,5,5,5,5,5,5,5,5,5,5,5,5,5,5,5,5,5,5,5,5,5,5,5,5,5,5,5,5,5,5,5,5,5,5,5,5,5,5,5,5,5,5,5,5,5,5,5,5,5,5,5,5,5,5,5,5,5,5,5,5,5,5,5,5,5,5,5,5,5,5,5,5,5,5,5,5,5,5,5,5,5,5,5,5,5,5,5,5,5,5,5,5,5,5,5,5,5,5,5,5,5,5,5,5,5,5,5,5,5,5,5,5,5,5,5,5,5,5,5,5,5,5,5,5,5,5,5,5,5,5,5,5,5,5,5,5,5,5,5,5,5,5,5,5,5,5,5,5,5,5,5,5,5,5,5,5,5,5,5,5,5,5,5,5,5,5,5,5,5,5,5,5,5,5,5,5,5,5,5,5,5,5,5,5,5,5,5,5,5,4,4,4,4,4,4,4,4,4,4,4,4,4,4,4,4,4,4,4,4,4,4,4,4,4,4,4,4,4,4,4,4,4,4,4,4,4,4,4,4,4,4,4,4,4,4,4,4,4,4,4,4,4,4,4,4,4,4,4,4,4,4,4,4,4,4,4,4,4,4,4,4,4,4,4,4,4,4,4,4,4,4,4,4,4,4,4,4,4,4,4,4,4,4,4,4,4,4,4,4,4,4,4,4,4,4,4,4,4,4,4,4,4,4,4,4,4,4,4,4,4,4,4,4,4,4,4,4,4,4,4,4,4,4,4,4,4,4,4,4,4,4,4,4,4,4,4,4,4,4,4,4,4,4,4,4,4,4,4,4,4,4,4,4,4,4,4,4,4,4,4,4,4,4,4,4,4,4,4,4,4,4,4,4,4,4,4,4,4,4,4,4,4,4,4,4,4,4,4,4,4,4,4,4,4,4,4,4,4,4,4,4,4,4,4,4,4,4,4,4,4,4,4,4,4,4,4,4,4,4,4,4,4,4,4,4,4,4,4,4,4,4,4,4,4,4,4,4,4,4,4,4,4,4,4,4,4,4,4,4,4,4,4,4,4,4,4,4,4,4,4,4,3,3,3,3,3,3,3,3,3,3,3,3,3,3,3,3,3,3,3,3,3,3,3,3,3,3,3,3,3,3,3,3,3,3,3,3,3,3,3,3,3,3,3,3,3,3,3,3,3,3,3,3,3,3,3,3,3,3,3,3,3,3,3,3,3,3,3,3,3,3,3,3,3,3,3,3,3,3,3,3,3,3,3,3,3,3,3,3,3,3,3,3,3,3,3,3,3,3,3,3,3,3,3,3,3,3,3,3,3,3,3,3,3,3,3,3,3,3,3,3,3,3,3,3,3,3,3,3,3,3,3,3,3,3,3,3,3,3,3,3,3,3,3,3,3,3,3,3,3,3,3,3,3,3,3,3,3,3,3,3,3,3,3,3,3,3,3,3,3,3,3,3,3,3,3,3,3,3,3,3,3,3,3,3,3,3,3,3,3,3,3,3,3,3,3,3,3,3,3,3,3,3,3,3,3,3,3,3,3,3,3,3,3,3,3,3,3,3,3,3,3,3,3,3,3,3,3,3,3,3,3,3,3,3,3,3,3,3,3,3,3,3,3,3,3,3,3,3,3,3,3,3,3,3,3,3,3,3,3,3,3,3,3,3,3,3,3,3,3,3,3,3,3,3,3,3,3,3,3,3,3,3,3,3,3,3,3,3,3,3,3,3,3,3,3,3,3,3,3,3,3,3,3,3,3,3,3,3,3,3,3,3,3,3,3,3,3,3,3,3,3,3,3,3,3,3,3,3,3,3,3,3,3,3,3,3,3,3,3,3,3,3,3,3,3,3,3,3,3,3,3,3,3,3,3,3,3,3,3,3,3,3,3,3,3,3,3,3,3,3,3,3,3,3,3,3,3,3,3,3,3,3,3,3,3,3,3,3,3,3,3,3,3,3,3,3,3,3,3,3,3,3,3,3,3,3,3,3,3,3,3,3,3,3,3,3,3,3,3,3,3,3,3,3,3,2,2,2,2,2,2,2,2,2,2,2,2,2,2,2,2,2,2,2,2,2,2,2,2,2,2,2,2,2,2,2,2,2,2,2,2,2,2,2,2,2,2,2,2,2,2,2,2,2,2,2,2,2,2,2,2,2,2,2,2,2,2,2,2,2,2,2,2,2,2,2,2,2,2,2,2,2,2,2,2,2,2,2,2,2,2,2,2,2,2,2,2,2,2,2,2,2,2,2,2,2,2,2,2,2,2,2,2,2,2,2,2,2,2,2,2,2,2,2,2,2,2,2,2,2,2,2,2,2,2,2,2,2,2,2,2,2,2,2,2,2,2,2,2,2,2,2,2,2,2,2,2,2,2,2,2,2,2,2,2,2,2,2,2,2,2,2,2,2,2,2,2,2,2,2,2,2,2,2,2,2,2,2,2,2,2,2,2,2,2,2,2,2,2,2,2,2,2,2,2,2,2,2,2,2,2,2,2,2,2,2,2,2,2,2,2,2,2,2,2,2,2,2,2,2,2,2,2,2,2,2,2,2,2,2,2,2,2,2,2,2,2,2,2,2,2,2,2,2,2,2,2,2,2,2,2,2,2,2,2,2,2,2,2,2,2,2,2,2,2,2,2,2,2,2,2,2,2,2,2,2,2,2,2,2,2,2,2,2,2,2,2,2,2,2,2,2,2,2,2,2,2,2,2,2,2,2,2,2,2,2,2,2,2,2,2,2,2,2,2,2,2,2,2,2,2,2,2,2,2,2,2,2,2,2,2,2,2,2,2,2,2,2,2,2,2,2,2,2,2,2,2,2,2,2,2,2,2,2,2,2,2,2,2,2,2,2,2,2,2,2,2,2,2,2,2,2,2,2,2,2,2,2,2,2,2,2,2,2,2,2,2,2,2,2,2,2,2,2,2,2,2,2,2,2,2,2,2,2,2,2,2,2,2,2,2,2,2,2,2,2,2,2,2,2,2,2,2,2,2,2,2,2,2,2,2,2,2,2,2,2,2,2,2,2,2,2,2,2,2,2,2,2,2,2,2,2,2,2,2,2,2,2,2,2,2,2,2,2,2,2,2,2,2,2,2,2,2,2,2,2,2,2,2,2,2,2,2,2,2,2,2,2,2,2,2,2,2,2,2,2,2,2,2,2,2,2,2,2,2,2,2,2,2,2,2,2,2,2,2,2,2,2,2,2,2,2,2,2,2,2,2,2,2,2,2,2,2,2,2,2,2,2,2,2,2,2,2,2,2,2,2,2,2,2,2,2,2,2,2,2,2,2,2,2,2,2,2,2,2,2,2,2,2,2,2,2,2,2,2,2,2,2,2,2,2,2,2,2,2,2,2,2,2,2,2,2,2,2,2,2,2,2,2,2,2,2,2,2,2,2,2,2,2,2,2,2,2,2,2,2,2,2,2,2,2,2,2,2,2,2,2,2,2,2,2,2,2,2,2,2,2,2,2,2,2,2,2,2,2,2,2,2,2,2,2,2,2,1,1,1,1,1,1,1,1,1,1,1,1,1,1,1,1,1,1,1,1,1,1,1,1,1,1,1,1,1,1,1,1,1,1,1,1,1,1,1,1,1,1,1,1,1,1,1,1,1,1,1,1,1,1,1,1,1,1,1,1,1,1,1,1,1,1,1,1,1,1,1,1,1,1,1,1,1,1,1,1,1,1,1,1,1,1,1,1,1,1,1,1,1,1,1,1,1,1,1,1,1,1,1,1,1,1,1,1,1,1,1,1,1,1,1,1,1,1,1,1,1,1,1,1,1,1,1,1,1,1,1,1,1,1,1,1,1,1,1,1,1,1,1,1,1,1,1,1,1,1,1,1,1,1,1,1,1,1,1,1,1,1,1,1,1,1,1,1,1,1,1,1,1,1,1,1,1,1,1,1,1,1,1,1,1,1,1,1,1,1,1,1,1,1,1,1,1,1,1,1,1,1,1,1,1,1,1,1,1,1,1,1,1,1,1,1,1,1,1,1,1,1,1,1,1,1,1,1,1,1,1,1,1,1,1,1,1,1,1,1,1,1,1,1,1,1,1,1,1,1,1,1,1,1,1,1,1,1,1,1,1,1,1,1,1,1,1,1,1,1,1,1,1,1,1,1,1,1,1,1,1,1,1,1,1,1,1,1,1,1,1,1,1,1,1,1,1,1,1,1,1,1,1,1,1,1,1,1,1,1,1,1,1,1,1,1,1,1,1,1,1,1,1,1,1,1,1,1,1,1,1,1,1,1,1,1,1,1,1,1,1,1,1,1,1,1,1,1,1,1,1,1,1,1,1,1,1,1,1,1,1,1,1,1,1,1,1,1,1,1,1,1,1,1,1,1,1,1,1,1,1,1,1,1,1,1,1,1,1,1,1,1,1,1,1,1,1,1,1,1,1,1,1,1,1,1,1,1,1,1,1,1,1,1,1,1,1,1,1,1,1,1,1,1,1,1,1,1,1,1,1,1,1,1,1,1,1,1,1,1,1,1,1,1,1,1,1,1,1,1,1,1,1,1,1,1,1,1,1,1,1,1,1,1,1,1,1,1,1,1,1,1,1,1,1,1,1,1,1,1,1,1,1,1,1,1,1,1,1,1,1,1,1,1,1,1,1,1,1,1,1,1,1,1,1,1,1,1,1,1,1,1,1,1,1,1,1,1,1,1,1,1,1,1,1,1,1,1,1,1,1,1,1,1,1,1,1,1,1,1,1,1,1,1,1,1,1,1,1,1,1,1,1,1,1,1,1,1,1,1,1,1,1,1,1,1,1,1,1,1,1,1,1,1,1,1,1,1,1,1,1,1,1,1,1,1,1,1,1,1,1,1,1,1,1,1,1,1,1,1,1,1,1,1,1,1,1,1,1,1,1,1,1,1,1,1,1,1,1,1,1,1,1,1,1,1,1,1,1,1,1,1,1,1,1,1,1,1,1,1,1,1,1,1,1,1,1,1,1,1,1,1,1,1,1,1,1,1,1,1,1,1,1,1,1,1,1,1,1,1,1,1,1,1,1,1,1,1,1,1,1,1,1,1,1,1,1,1,1,1,1,1,1,1,1,1,1,1,1,1,1,1,1,1,1,1,1,1,1,1,1,1,1,1,1,1,1,1,1,1,1,1,1,1,1,1,1,1,1,1,1,1,1,1,1,1,1,1,1,1,1,1,1,1,1,1,1,1,1,1,1,1,1,1,1,1,1,1,1,1,1,1,1,1,1,1,1,1,1,1,1,1,1,1,1,1,1,1,1,1,1,1,1,1,1,1,1,1,1,1,1,1,1,1,1,1,1,1,1,1,1,1,1,1,1,1,1,1,1,1,1,1,1,1,1,1,1,1,1,1,1,1,1,1,1,1,1,1,1,1,1,1,1,1,1,1,1,1,1,1,1,1,1,1,1,1,1,1,1,1,1,1,1,1,1,1,1,1,1,1,1,1,1,1,1,1,1,1,1,1,1,1,1,1,1,1,1,1,1,1,1,1,1,1,1,1,1,1,1,1,1,1,1,1,1,1,1,1,1,1,1,1,1,1,1,1,1,1,1,1,1,1,1,1,1,1,1,1,1,1,1,1,1,1,1,1,1,1,1,1,1,1,1,1,1,1,1,1,1,1,1,1,1,1,1,1,1,1,1,1,1,1,1,1,1,1,1,1,1,1,1,1,1,1,1,1,1,1,1,1,1,1,1,1,1,1,1,1,1,1,1,1,1,1,1,1,1,1,1,1,1,1,1,1,1,1,1,1,1,1,1,1,1,1,1,1,1,1,1,1,1,1,1,1,1,1,1,1,1,1,1,1,1,1,1,1,1,1,1,1,1,1,1,1,1,1,1,1,1,1,1,1,1,1,1,1,1,1,1,1,1,1,1,1,1,1,1,1,1,1,1,1,1,1,1,1,1,1,1,1,1,1,1,1,1,1,1,1,1,1,1,1,1,1,1,1,1,1,1,1,1,1,1,1,1,1,1,1,1,1,1,1,1,1,1,1,1,1,1,1,1,1,1,1,1,1,1,1,1,1,1,1,1,1,1,1,1,1,1,1,1,1,1,1,1,1,1,1,1,1,1,1,1,1],\"type\":\"bar\"}],                        {\"legend\":{\"bgcolor\":\"#FFFFFF\",\"font\":{\"color\":\"#4D5663\"}},\"paper_bgcolor\":\"#FFFFFF\",\"plot_bgcolor\":\"#FFFFFF\",\"template\":{\"data\":{\"barpolar\":[{\"marker\":{\"line\":{\"color\":\"#E5ECF6\",\"width\":0.5},\"pattern\":{\"fillmode\":\"overlay\",\"size\":10,\"solidity\":0.2}},\"type\":\"barpolar\"}],\"bar\":[{\"error_x\":{\"color\":\"#2a3f5f\"},\"error_y\":{\"color\":\"#2a3f5f\"},\"marker\":{\"line\":{\"color\":\"#E5ECF6\",\"width\":0.5},\"pattern\":{\"fillmode\":\"overlay\",\"size\":10,\"solidity\":0.2}},\"type\":\"bar\"}],\"carpet\":[{\"aaxis\":{\"endlinecolor\":\"#2a3f5f\",\"gridcolor\":\"white\",\"linecolor\":\"white\",\"minorgridcolor\":\"white\",\"startlinecolor\":\"#2a3f5f\"},\"baxis\":{\"endlinecolor\":\"#2a3f5f\",\"gridcolor\":\"white\",\"linecolor\":\"white\",\"minorgridcolor\":\"white\",\"startlinecolor\":\"#2a3f5f\"},\"type\":\"carpet\"}],\"choropleth\":[{\"colorbar\":{\"outlinewidth\":0,\"ticks\":\"\"},\"type\":\"choropleth\"}],\"contourcarpet\":[{\"colorbar\":{\"outlinewidth\":0,\"ticks\":\"\"},\"type\":\"contourcarpet\"}],\"contour\":[{\"colorbar\":{\"outlinewidth\":0,\"ticks\":\"\"},\"colorscale\":[[0.0,\"#0d0887\"],[0.1111111111111111,\"#46039f\"],[0.2222222222222222,\"#7201a8\"],[0.3333333333333333,\"#9c179e\"],[0.4444444444444444,\"#bd3786\"],[0.5555555555555556,\"#d8576b\"],[0.6666666666666666,\"#ed7953\"],[0.7777777777777778,\"#fb9f3a\"],[0.8888888888888888,\"#fdca26\"],[1.0,\"#f0f921\"]],\"type\":\"contour\"}],\"heatmapgl\":[{\"colorbar\":{\"outlinewidth\":0,\"ticks\":\"\"},\"colorscale\":[[0.0,\"#0d0887\"],[0.1111111111111111,\"#46039f\"],[0.2222222222222222,\"#7201a8\"],[0.3333333333333333,\"#9c179e\"],[0.4444444444444444,\"#bd3786\"],[0.5555555555555556,\"#d8576b\"],[0.6666666666666666,\"#ed7953\"],[0.7777777777777778,\"#fb9f3a\"],[0.8888888888888888,\"#fdca26\"],[1.0,\"#f0f921\"]],\"type\":\"heatmapgl\"}],\"heatmap\":[{\"colorbar\":{\"outlinewidth\":0,\"ticks\":\"\"},\"colorscale\":[[0.0,\"#0d0887\"],[0.1111111111111111,\"#46039f\"],[0.2222222222222222,\"#7201a8\"],[0.3333333333333333,\"#9c179e\"],[0.4444444444444444,\"#bd3786\"],[0.5555555555555556,\"#d8576b\"],[0.6666666666666666,\"#ed7953\"],[0.7777777777777778,\"#fb9f3a\"],[0.8888888888888888,\"#fdca26\"],[1.0,\"#f0f921\"]],\"type\":\"heatmap\"}],\"histogram2dcontour\":[{\"colorbar\":{\"outlinewidth\":0,\"ticks\":\"\"},\"colorscale\":[[0.0,\"#0d0887\"],[0.1111111111111111,\"#46039f\"],[0.2222222222222222,\"#7201a8\"],[0.3333333333333333,\"#9c179e\"],[0.4444444444444444,\"#bd3786\"],[0.5555555555555556,\"#d8576b\"],[0.6666666666666666,\"#ed7953\"],[0.7777777777777778,\"#fb9f3a\"],[0.8888888888888888,\"#fdca26\"],[1.0,\"#f0f921\"]],\"type\":\"histogram2dcontour\"}],\"histogram2d\":[{\"colorbar\":{\"outlinewidth\":0,\"ticks\":\"\"},\"colorscale\":[[0.0,\"#0d0887\"],[0.1111111111111111,\"#46039f\"],[0.2222222222222222,\"#7201a8\"],[0.3333333333333333,\"#9c179e\"],[0.4444444444444444,\"#bd3786\"],[0.5555555555555556,\"#d8576b\"],[0.6666666666666666,\"#ed7953\"],[0.7777777777777778,\"#fb9f3a\"],[0.8888888888888888,\"#fdca26\"],[1.0,\"#f0f921\"]],\"type\":\"histogram2d\"}],\"histogram\":[{\"marker\":{\"pattern\":{\"fillmode\":\"overlay\",\"size\":10,\"solidity\":0.2}},\"type\":\"histogram\"}],\"mesh3d\":[{\"colorbar\":{\"outlinewidth\":0,\"ticks\":\"\"},\"type\":\"mesh3d\"}],\"parcoords\":[{\"line\":{\"colorbar\":{\"outlinewidth\":0,\"ticks\":\"\"}},\"type\":\"parcoords\"}],\"pie\":[{\"automargin\":true,\"type\":\"pie\"}],\"scatter3d\":[{\"line\":{\"colorbar\":{\"outlinewidth\":0,\"ticks\":\"\"}},\"marker\":{\"colorbar\":{\"outlinewidth\":0,\"ticks\":\"\"}},\"type\":\"scatter3d\"}],\"scattercarpet\":[{\"marker\":{\"colorbar\":{\"outlinewidth\":0,\"ticks\":\"\"}},\"type\":\"scattercarpet\"}],\"scattergeo\":[{\"marker\":{\"colorbar\":{\"outlinewidth\":0,\"ticks\":\"\"}},\"type\":\"scattergeo\"}],\"scattergl\":[{\"marker\":{\"colorbar\":{\"outlinewidth\":0,\"ticks\":\"\"}},\"type\":\"scattergl\"}],\"scattermapbox\":[{\"marker\":{\"colorbar\":{\"outlinewidth\":0,\"ticks\":\"\"}},\"type\":\"scattermapbox\"}],\"scatterpolargl\":[{\"marker\":{\"colorbar\":{\"outlinewidth\":0,\"ticks\":\"\"}},\"type\":\"scatterpolargl\"}],\"scatterpolar\":[{\"marker\":{\"colorbar\":{\"outlinewidth\":0,\"ticks\":\"\"}},\"type\":\"scatterpolar\"}],\"scatter\":[{\"fillpattern\":{\"fillmode\":\"overlay\",\"size\":10,\"solidity\":0.2},\"type\":\"scatter\"}],\"scatterternary\":[{\"marker\":{\"colorbar\":{\"outlinewidth\":0,\"ticks\":\"\"}},\"type\":\"scatterternary\"}],\"surface\":[{\"colorbar\":{\"outlinewidth\":0,\"ticks\":\"\"},\"colorscale\":[[0.0,\"#0d0887\"],[0.1111111111111111,\"#46039f\"],[0.2222222222222222,\"#7201a8\"],[0.3333333333333333,\"#9c179e\"],[0.4444444444444444,\"#bd3786\"],[0.5555555555555556,\"#d8576b\"],[0.6666666666666666,\"#ed7953\"],[0.7777777777777778,\"#fb9f3a\"],[0.8888888888888888,\"#fdca26\"],[1.0,\"#f0f921\"]],\"type\":\"surface\"}],\"table\":[{\"cells\":{\"fill\":{\"color\":\"#EBF0F8\"},\"line\":{\"color\":\"white\"}},\"header\":{\"fill\":{\"color\":\"#C8D4E3\"},\"line\":{\"color\":\"white\"}},\"type\":\"table\"}]},\"layout\":{\"annotationdefaults\":{\"arrowcolor\":\"#2a3f5f\",\"arrowhead\":0,\"arrowwidth\":1},\"autotypenumbers\":\"strict\",\"coloraxis\":{\"colorbar\":{\"outlinewidth\":0,\"ticks\":\"\"}},\"colorscale\":{\"diverging\":[[0,\"#8e0152\"],[0.1,\"#c51b7d\"],[0.2,\"#de77ae\"],[0.3,\"#f1b6da\"],[0.4,\"#fde0ef\"],[0.5,\"#f7f7f7\"],[0.6,\"#e6f5d0\"],[0.7,\"#b8e186\"],[0.8,\"#7fbc41\"],[0.9,\"#4d9221\"],[1,\"#276419\"]],\"sequential\":[[0.0,\"#0d0887\"],[0.1111111111111111,\"#46039f\"],[0.2222222222222222,\"#7201a8\"],[0.3333333333333333,\"#9c179e\"],[0.4444444444444444,\"#bd3786\"],[0.5555555555555556,\"#d8576b\"],[0.6666666666666666,\"#ed7953\"],[0.7777777777777778,\"#fb9f3a\"],[0.8888888888888888,\"#fdca26\"],[1.0,\"#f0f921\"]],\"sequentialminus\":[[0.0,\"#0d0887\"],[0.1111111111111111,\"#46039f\"],[0.2222222222222222,\"#7201a8\"],[0.3333333333333333,\"#9c179e\"],[0.4444444444444444,\"#bd3786\"],[0.5555555555555556,\"#d8576b\"],[0.6666666666666666,\"#ed7953\"],[0.7777777777777778,\"#fb9f3a\"],[0.8888888888888888,\"#fdca26\"],[1.0,\"#f0f921\"]]},\"colorway\":[\"#636efa\",\"#EF553B\",\"#00cc96\",\"#ab63fa\",\"#FFA15A\",\"#19d3f3\",\"#FF6692\",\"#B6E880\",\"#FF97FF\",\"#FECB52\"],\"font\":{\"color\":\"#2a3f5f\"},\"geo\":{\"bgcolor\":\"white\",\"lakecolor\":\"white\",\"landcolor\":\"#E5ECF6\",\"showlakes\":true,\"showland\":true,\"subunitcolor\":\"white\"},\"hoverlabel\":{\"align\":\"left\"},\"hovermode\":\"closest\",\"mapbox\":{\"style\":\"light\"},\"paper_bgcolor\":\"white\",\"plot_bgcolor\":\"#E5ECF6\",\"polar\":{\"angularaxis\":{\"gridcolor\":\"white\",\"linecolor\":\"white\",\"ticks\":\"\"},\"bgcolor\":\"#E5ECF6\",\"radialaxis\":{\"gridcolor\":\"white\",\"linecolor\":\"white\",\"ticks\":\"\"}},\"scene\":{\"xaxis\":{\"backgroundcolor\":\"#E5ECF6\",\"gridcolor\":\"white\",\"gridwidth\":2,\"linecolor\":\"white\",\"showbackground\":true,\"ticks\":\"\",\"zerolinecolor\":\"white\"},\"yaxis\":{\"backgroundcolor\":\"#E5ECF6\",\"gridcolor\":\"white\",\"gridwidth\":2,\"linecolor\":\"white\",\"showbackground\":true,\"ticks\":\"\",\"zerolinecolor\":\"white\"},\"zaxis\":{\"backgroundcolor\":\"#E5ECF6\",\"gridcolor\":\"white\",\"gridwidth\":2,\"linecolor\":\"white\",\"showbackground\":true,\"ticks\":\"\",\"zerolinecolor\":\"white\"}},\"shapedefaults\":{\"line\":{\"color\":\"#2a3f5f\"}},\"ternary\":{\"aaxis\":{\"gridcolor\":\"white\",\"linecolor\":\"white\",\"ticks\":\"\"},\"baxis\":{\"gridcolor\":\"white\",\"linecolor\":\"white\",\"ticks\":\"\"},\"bgcolor\":\"#E5ECF6\",\"caxis\":{\"gridcolor\":\"white\",\"linecolor\":\"white\",\"ticks\":\"\"}},\"title\":{\"x\":0.05},\"xaxis\":{\"automargin\":true,\"gridcolor\":\"white\",\"linecolor\":\"white\",\"ticks\":\"\",\"title\":{\"standoff\":15},\"zerolinecolor\":\"white\",\"zerolinewidth\":2},\"yaxis\":{\"automargin\":true,\"gridcolor\":\"white\",\"linecolor\":\"white\",\"ticks\":\"\",\"title\":{\"standoff\":15},\"zerolinecolor\":\"white\",\"zerolinewidth\":2}}},\"title\":{\"font\":{\"color\":\"#4D5663\"}},\"xaxis\":{\"gridcolor\":\"#E1E5ED\",\"showgrid\":true,\"tickfont\":{\"color\":\"#4D5663\"},\"title\":{\"font\":{\"color\":\"#4D5663\"},\"text\":\"\"},\"zerolinecolor\":\"#E1E5ED\"},\"yaxis\":{\"gridcolor\":\"#E1E5ED\",\"showgrid\":true,\"tickfont\":{\"color\":\"#4D5663\"},\"title\":{\"font\":{\"color\":\"#4D5663\"},\"text\":\"\"},\"zerolinecolor\":\"#E1E5ED\"}},                        {\"showLink\": true, \"linkText\": \"Export to plot.ly\", \"plotlyServerURL\": \"https://plot.ly\", \"responsive\": true}                    ).then(function(){\n",
       "                            \n",
       "var gd = document.getElementById('db6df032-e8ae-4c51-a993-7e8f7893c1a9');\n",
       "var x = new MutationObserver(function (mutations, observer) {{\n",
       "        var display = window.getComputedStyle(gd).display;\n",
       "        if (!display || display === 'none') {{\n",
       "            console.log([gd, 'removed!']);\n",
       "            Plotly.purge(gd);\n",
       "            observer.disconnect();\n",
       "        }}\n",
       "}});\n",
       "\n",
       "// Listen for the removal of the full notebook cells\n",
       "var notebookContainer = gd.closest('#notebook-container');\n",
       "if (notebookContainer) {{\n",
       "    x.observe(notebookContainer, {childList: true});\n",
       "}}\n",
       "\n",
       "// Listen for the clearing of the current output cell\n",
       "var outputEl = gd.closest('.output');\n",
       "if (outputEl) {{\n",
       "    x.observe(outputEl, {childList: true});\n",
       "}}\n",
       "\n",
       "                        })                };                });            </script>        </div>"
      ]
     },
     "metadata": {},
     "output_type": "display_data"
    }
   ],
   "source": [
    "customers_location.iplot(kind='bar', theme='white')"
   ]
  },
  {
   "cell_type": "code",
   "execution_count": 21,
   "metadata": {},
   "outputs": [],
   "source": [
    "customers_location_top20 = customers_location.head(20)"
   ]
  },
  {
   "cell_type": "markdown",
   "metadata": {},
   "source": [
    "<div class=\"alert alert-block\" style=\"border: 1px solid #FFB300;background-color:#F9FBE7;\">\n",
    "<font size=\"3em\" style=\"font-weight:bold;color:#3f8dbf;\">고객 분석2: 고객이 주로 사는 지역 TOP 20</font><br>\n",
    "</div>"
   ]
  },
  {
   "cell_type": "code",
   "execution_count": 22,
   "metadata": {},
   "outputs": [
    {
     "data": {
      "application/vnd.plotly.v1+json": {
       "config": {
        "linkText": "Export to plot.ly",
        "plotlyServerURL": "https://plot.ly",
        "showLink": true
       },
       "data": [
        {
         "marker": {
          "color": "rgba(255, 153, 51, 0.6)",
          "line": {
           "color": "rgba(255, 153, 51, 1.0)",
           "width": 1
          }
         },
         "name": "customer_id",
         "orientation": "v",
         "text": "",
         "type": "bar",
         "x": [
          "sao paulo",
          "rio de janeiro",
          "belo horizonte",
          "brasilia",
          "curitiba",
          "campinas",
          "porto alegre",
          "salvador",
          "guarulhos",
          "sao bernardo do campo",
          "niteroi",
          "santo andre",
          "osasco",
          "santos",
          "goiania",
          "sao jose dos campos",
          "fortaleza",
          "sorocaba",
          "recife",
          "florianopolis"
         ],
         "y": [
          15540,
          6882,
          2773,
          2131,
          1521,
          1444,
          1379,
          1245,
          1189,
          938,
          849,
          797,
          746,
          713,
          692,
          691,
          654,
          633,
          613,
          570
         ]
        }
       ],
       "layout": {
        "legend": {
         "bgcolor": "#FFFFFF",
         "font": {
          "color": "#4D5663"
         }
        },
        "paper_bgcolor": "#FFFFFF",
        "plot_bgcolor": "#FFFFFF",
        "template": {
         "data": {
          "bar": [
           {
            "error_x": {
             "color": "#2a3f5f"
            },
            "error_y": {
             "color": "#2a3f5f"
            },
            "marker": {
             "line": {
              "color": "#E5ECF6",
              "width": 0.5
             },
             "pattern": {
              "fillmode": "overlay",
              "size": 10,
              "solidity": 0.2
             }
            },
            "type": "bar"
           }
          ],
          "barpolar": [
           {
            "marker": {
             "line": {
              "color": "#E5ECF6",
              "width": 0.5
             },
             "pattern": {
              "fillmode": "overlay",
              "size": 10,
              "solidity": 0.2
             }
            },
            "type": "barpolar"
           }
          ],
          "carpet": [
           {
            "aaxis": {
             "endlinecolor": "#2a3f5f",
             "gridcolor": "white",
             "linecolor": "white",
             "minorgridcolor": "white",
             "startlinecolor": "#2a3f5f"
            },
            "baxis": {
             "endlinecolor": "#2a3f5f",
             "gridcolor": "white",
             "linecolor": "white",
             "minorgridcolor": "white",
             "startlinecolor": "#2a3f5f"
            },
            "type": "carpet"
           }
          ],
          "choropleth": [
           {
            "colorbar": {
             "outlinewidth": 0,
             "ticks": ""
            },
            "type": "choropleth"
           }
          ],
          "contour": [
           {
            "colorbar": {
             "outlinewidth": 0,
             "ticks": ""
            },
            "colorscale": [
             [
              0,
              "#0d0887"
             ],
             [
              0.1111111111111111,
              "#46039f"
             ],
             [
              0.2222222222222222,
              "#7201a8"
             ],
             [
              0.3333333333333333,
              "#9c179e"
             ],
             [
              0.4444444444444444,
              "#bd3786"
             ],
             [
              0.5555555555555556,
              "#d8576b"
             ],
             [
              0.6666666666666666,
              "#ed7953"
             ],
             [
              0.7777777777777778,
              "#fb9f3a"
             ],
             [
              0.8888888888888888,
              "#fdca26"
             ],
             [
              1,
              "#f0f921"
             ]
            ],
            "type": "contour"
           }
          ],
          "contourcarpet": [
           {
            "colorbar": {
             "outlinewidth": 0,
             "ticks": ""
            },
            "type": "contourcarpet"
           }
          ],
          "heatmap": [
           {
            "colorbar": {
             "outlinewidth": 0,
             "ticks": ""
            },
            "colorscale": [
             [
              0,
              "#0d0887"
             ],
             [
              0.1111111111111111,
              "#46039f"
             ],
             [
              0.2222222222222222,
              "#7201a8"
             ],
             [
              0.3333333333333333,
              "#9c179e"
             ],
             [
              0.4444444444444444,
              "#bd3786"
             ],
             [
              0.5555555555555556,
              "#d8576b"
             ],
             [
              0.6666666666666666,
              "#ed7953"
             ],
             [
              0.7777777777777778,
              "#fb9f3a"
             ],
             [
              0.8888888888888888,
              "#fdca26"
             ],
             [
              1,
              "#f0f921"
             ]
            ],
            "type": "heatmap"
           }
          ],
          "heatmapgl": [
           {
            "colorbar": {
             "outlinewidth": 0,
             "ticks": ""
            },
            "colorscale": [
             [
              0,
              "#0d0887"
             ],
             [
              0.1111111111111111,
              "#46039f"
             ],
             [
              0.2222222222222222,
              "#7201a8"
             ],
             [
              0.3333333333333333,
              "#9c179e"
             ],
             [
              0.4444444444444444,
              "#bd3786"
             ],
             [
              0.5555555555555556,
              "#d8576b"
             ],
             [
              0.6666666666666666,
              "#ed7953"
             ],
             [
              0.7777777777777778,
              "#fb9f3a"
             ],
             [
              0.8888888888888888,
              "#fdca26"
             ],
             [
              1,
              "#f0f921"
             ]
            ],
            "type": "heatmapgl"
           }
          ],
          "histogram": [
           {
            "marker": {
             "pattern": {
              "fillmode": "overlay",
              "size": 10,
              "solidity": 0.2
             }
            },
            "type": "histogram"
           }
          ],
          "histogram2d": [
           {
            "colorbar": {
             "outlinewidth": 0,
             "ticks": ""
            },
            "colorscale": [
             [
              0,
              "#0d0887"
             ],
             [
              0.1111111111111111,
              "#46039f"
             ],
             [
              0.2222222222222222,
              "#7201a8"
             ],
             [
              0.3333333333333333,
              "#9c179e"
             ],
             [
              0.4444444444444444,
              "#bd3786"
             ],
             [
              0.5555555555555556,
              "#d8576b"
             ],
             [
              0.6666666666666666,
              "#ed7953"
             ],
             [
              0.7777777777777778,
              "#fb9f3a"
             ],
             [
              0.8888888888888888,
              "#fdca26"
             ],
             [
              1,
              "#f0f921"
             ]
            ],
            "type": "histogram2d"
           }
          ],
          "histogram2dcontour": [
           {
            "colorbar": {
             "outlinewidth": 0,
             "ticks": ""
            },
            "colorscale": [
             [
              0,
              "#0d0887"
             ],
             [
              0.1111111111111111,
              "#46039f"
             ],
             [
              0.2222222222222222,
              "#7201a8"
             ],
             [
              0.3333333333333333,
              "#9c179e"
             ],
             [
              0.4444444444444444,
              "#bd3786"
             ],
             [
              0.5555555555555556,
              "#d8576b"
             ],
             [
              0.6666666666666666,
              "#ed7953"
             ],
             [
              0.7777777777777778,
              "#fb9f3a"
             ],
             [
              0.8888888888888888,
              "#fdca26"
             ],
             [
              1,
              "#f0f921"
             ]
            ],
            "type": "histogram2dcontour"
           }
          ],
          "mesh3d": [
           {
            "colorbar": {
             "outlinewidth": 0,
             "ticks": ""
            },
            "type": "mesh3d"
           }
          ],
          "parcoords": [
           {
            "line": {
             "colorbar": {
              "outlinewidth": 0,
              "ticks": ""
             }
            },
            "type": "parcoords"
           }
          ],
          "pie": [
           {
            "automargin": true,
            "type": "pie"
           }
          ],
          "scatter": [
           {
            "fillpattern": {
             "fillmode": "overlay",
             "size": 10,
             "solidity": 0.2
            },
            "type": "scatter"
           }
          ],
          "scatter3d": [
           {
            "line": {
             "colorbar": {
              "outlinewidth": 0,
              "ticks": ""
             }
            },
            "marker": {
             "colorbar": {
              "outlinewidth": 0,
              "ticks": ""
             }
            },
            "type": "scatter3d"
           }
          ],
          "scattercarpet": [
           {
            "marker": {
             "colorbar": {
              "outlinewidth": 0,
              "ticks": ""
             }
            },
            "type": "scattercarpet"
           }
          ],
          "scattergeo": [
           {
            "marker": {
             "colorbar": {
              "outlinewidth": 0,
              "ticks": ""
             }
            },
            "type": "scattergeo"
           }
          ],
          "scattergl": [
           {
            "marker": {
             "colorbar": {
              "outlinewidth": 0,
              "ticks": ""
             }
            },
            "type": "scattergl"
           }
          ],
          "scattermapbox": [
           {
            "marker": {
             "colorbar": {
              "outlinewidth": 0,
              "ticks": ""
             }
            },
            "type": "scattermapbox"
           }
          ],
          "scatterpolar": [
           {
            "marker": {
             "colorbar": {
              "outlinewidth": 0,
              "ticks": ""
             }
            },
            "type": "scatterpolar"
           }
          ],
          "scatterpolargl": [
           {
            "marker": {
             "colorbar": {
              "outlinewidth": 0,
              "ticks": ""
             }
            },
            "type": "scatterpolargl"
           }
          ],
          "scatterternary": [
           {
            "marker": {
             "colorbar": {
              "outlinewidth": 0,
              "ticks": ""
             }
            },
            "type": "scatterternary"
           }
          ],
          "surface": [
           {
            "colorbar": {
             "outlinewidth": 0,
             "ticks": ""
            },
            "colorscale": [
             [
              0,
              "#0d0887"
             ],
             [
              0.1111111111111111,
              "#46039f"
             ],
             [
              0.2222222222222222,
              "#7201a8"
             ],
             [
              0.3333333333333333,
              "#9c179e"
             ],
             [
              0.4444444444444444,
              "#bd3786"
             ],
             [
              0.5555555555555556,
              "#d8576b"
             ],
             [
              0.6666666666666666,
              "#ed7953"
             ],
             [
              0.7777777777777778,
              "#fb9f3a"
             ],
             [
              0.8888888888888888,
              "#fdca26"
             ],
             [
              1,
              "#f0f921"
             ]
            ],
            "type": "surface"
           }
          ],
          "table": [
           {
            "cells": {
             "fill": {
              "color": "#EBF0F8"
             },
             "line": {
              "color": "white"
             }
            },
            "header": {
             "fill": {
              "color": "#C8D4E3"
             },
             "line": {
              "color": "white"
             }
            },
            "type": "table"
           }
          ]
         },
         "layout": {
          "annotationdefaults": {
           "arrowcolor": "#2a3f5f",
           "arrowhead": 0,
           "arrowwidth": 1
          },
          "autotypenumbers": "strict",
          "coloraxis": {
           "colorbar": {
            "outlinewidth": 0,
            "ticks": ""
           }
          },
          "colorscale": {
           "diverging": [
            [
             0,
             "#8e0152"
            ],
            [
             0.1,
             "#c51b7d"
            ],
            [
             0.2,
             "#de77ae"
            ],
            [
             0.3,
             "#f1b6da"
            ],
            [
             0.4,
             "#fde0ef"
            ],
            [
             0.5,
             "#f7f7f7"
            ],
            [
             0.6,
             "#e6f5d0"
            ],
            [
             0.7,
             "#b8e186"
            ],
            [
             0.8,
             "#7fbc41"
            ],
            [
             0.9,
             "#4d9221"
            ],
            [
             1,
             "#276419"
            ]
           ],
           "sequential": [
            [
             0,
             "#0d0887"
            ],
            [
             0.1111111111111111,
             "#46039f"
            ],
            [
             0.2222222222222222,
             "#7201a8"
            ],
            [
             0.3333333333333333,
             "#9c179e"
            ],
            [
             0.4444444444444444,
             "#bd3786"
            ],
            [
             0.5555555555555556,
             "#d8576b"
            ],
            [
             0.6666666666666666,
             "#ed7953"
            ],
            [
             0.7777777777777778,
             "#fb9f3a"
            ],
            [
             0.8888888888888888,
             "#fdca26"
            ],
            [
             1,
             "#f0f921"
            ]
           ],
           "sequentialminus": [
            [
             0,
             "#0d0887"
            ],
            [
             0.1111111111111111,
             "#46039f"
            ],
            [
             0.2222222222222222,
             "#7201a8"
            ],
            [
             0.3333333333333333,
             "#9c179e"
            ],
            [
             0.4444444444444444,
             "#bd3786"
            ],
            [
             0.5555555555555556,
             "#d8576b"
            ],
            [
             0.6666666666666666,
             "#ed7953"
            ],
            [
             0.7777777777777778,
             "#fb9f3a"
            ],
            [
             0.8888888888888888,
             "#fdca26"
            ],
            [
             1,
             "#f0f921"
            ]
           ]
          },
          "colorway": [
           "#636efa",
           "#EF553B",
           "#00cc96",
           "#ab63fa",
           "#FFA15A",
           "#19d3f3",
           "#FF6692",
           "#B6E880",
           "#FF97FF",
           "#FECB52"
          ],
          "font": {
           "color": "#2a3f5f"
          },
          "geo": {
           "bgcolor": "white",
           "lakecolor": "white",
           "landcolor": "#E5ECF6",
           "showlakes": true,
           "showland": true,
           "subunitcolor": "white"
          },
          "hoverlabel": {
           "align": "left"
          },
          "hovermode": "closest",
          "mapbox": {
           "style": "light"
          },
          "paper_bgcolor": "white",
          "plot_bgcolor": "#E5ECF6",
          "polar": {
           "angularaxis": {
            "gridcolor": "white",
            "linecolor": "white",
            "ticks": ""
           },
           "bgcolor": "#E5ECF6",
           "radialaxis": {
            "gridcolor": "white",
            "linecolor": "white",
            "ticks": ""
           }
          },
          "scene": {
           "xaxis": {
            "backgroundcolor": "#E5ECF6",
            "gridcolor": "white",
            "gridwidth": 2,
            "linecolor": "white",
            "showbackground": true,
            "ticks": "",
            "zerolinecolor": "white"
           },
           "yaxis": {
            "backgroundcolor": "#E5ECF6",
            "gridcolor": "white",
            "gridwidth": 2,
            "linecolor": "white",
            "showbackground": true,
            "ticks": "",
            "zerolinecolor": "white"
           },
           "zaxis": {
            "backgroundcolor": "#E5ECF6",
            "gridcolor": "white",
            "gridwidth": 2,
            "linecolor": "white",
            "showbackground": true,
            "ticks": "",
            "zerolinecolor": "white"
           }
          },
          "shapedefaults": {
           "line": {
            "color": "#2a3f5f"
           }
          },
          "ternary": {
           "aaxis": {
            "gridcolor": "white",
            "linecolor": "white",
            "ticks": ""
           },
           "baxis": {
            "gridcolor": "white",
            "linecolor": "white",
            "ticks": ""
           },
           "bgcolor": "#E5ECF6",
           "caxis": {
            "gridcolor": "white",
            "linecolor": "white",
            "ticks": ""
           }
          },
          "title": {
           "x": 0.05
          },
          "xaxis": {
           "automargin": true,
           "gridcolor": "white",
           "linecolor": "white",
           "ticks": "",
           "title": {
            "standoff": 15
           },
           "zerolinecolor": "white",
           "zerolinewidth": 2
          },
          "yaxis": {
           "automargin": true,
           "gridcolor": "white",
           "linecolor": "white",
           "ticks": "",
           "title": {
            "standoff": 15
           },
           "zerolinecolor": "white",
           "zerolinewidth": 2
          }
         }
        },
        "title": {
         "font": {
          "color": "#4D5663"
         }
        },
        "xaxis": {
         "gridcolor": "#E1E5ED",
         "showgrid": true,
         "tickfont": {
          "color": "#4D5663"
         },
         "title": {
          "font": {
           "color": "#4D5663"
          },
          "text": ""
         },
         "zerolinecolor": "#E1E5ED"
        },
        "yaxis": {
         "gridcolor": "#E1E5ED",
         "showgrid": true,
         "tickfont": {
          "color": "#4D5663"
         },
         "title": {
          "font": {
           "color": "#4D5663"
          },
          "text": ""
         },
         "zerolinecolor": "#E1E5ED"
        }
       }
      },
      "text/html": [
       "<div>                            <div id=\"9e06cf60-b625-4ecc-97e0-e72d3e47505d\" class=\"plotly-graph-div\" style=\"height:525px; width:100%;\"></div>            <script type=\"text/javascript\">                require([\"plotly\"], function(Plotly) {                    window.PLOTLYENV=window.PLOTLYENV || {};\n",
       "                    window.PLOTLYENV.BASE_URL='https://plot.ly';                                    if (document.getElementById(\"9e06cf60-b625-4ecc-97e0-e72d3e47505d\")) {                    Plotly.newPlot(                        \"9e06cf60-b625-4ecc-97e0-e72d3e47505d\",                        [{\"marker\":{\"color\":\"rgba(255, 153, 51, 0.6)\",\"line\":{\"color\":\"rgba(255, 153, 51, 1.0)\",\"width\":1}},\"name\":\"customer_id\",\"orientation\":\"v\",\"text\":\"\",\"x\":[\"sao paulo\",\"rio de janeiro\",\"belo horizonte\",\"brasilia\",\"curitiba\",\"campinas\",\"porto alegre\",\"salvador\",\"guarulhos\",\"sao bernardo do campo\",\"niteroi\",\"santo andre\",\"osasco\",\"santos\",\"goiania\",\"sao jose dos campos\",\"fortaleza\",\"sorocaba\",\"recife\",\"florianopolis\"],\"y\":[15540,6882,2773,2131,1521,1444,1379,1245,1189,938,849,797,746,713,692,691,654,633,613,570],\"type\":\"bar\"}],                        {\"legend\":{\"bgcolor\":\"#FFFFFF\",\"font\":{\"color\":\"#4D5663\"}},\"paper_bgcolor\":\"#FFFFFF\",\"plot_bgcolor\":\"#FFFFFF\",\"template\":{\"data\":{\"barpolar\":[{\"marker\":{\"line\":{\"color\":\"#E5ECF6\",\"width\":0.5},\"pattern\":{\"fillmode\":\"overlay\",\"size\":10,\"solidity\":0.2}},\"type\":\"barpolar\"}],\"bar\":[{\"error_x\":{\"color\":\"#2a3f5f\"},\"error_y\":{\"color\":\"#2a3f5f\"},\"marker\":{\"line\":{\"color\":\"#E5ECF6\",\"width\":0.5},\"pattern\":{\"fillmode\":\"overlay\",\"size\":10,\"solidity\":0.2}},\"type\":\"bar\"}],\"carpet\":[{\"aaxis\":{\"endlinecolor\":\"#2a3f5f\",\"gridcolor\":\"white\",\"linecolor\":\"white\",\"minorgridcolor\":\"white\",\"startlinecolor\":\"#2a3f5f\"},\"baxis\":{\"endlinecolor\":\"#2a3f5f\",\"gridcolor\":\"white\",\"linecolor\":\"white\",\"minorgridcolor\":\"white\",\"startlinecolor\":\"#2a3f5f\"},\"type\":\"carpet\"}],\"choropleth\":[{\"colorbar\":{\"outlinewidth\":0,\"ticks\":\"\"},\"type\":\"choropleth\"}],\"contourcarpet\":[{\"colorbar\":{\"outlinewidth\":0,\"ticks\":\"\"},\"type\":\"contourcarpet\"}],\"contour\":[{\"colorbar\":{\"outlinewidth\":0,\"ticks\":\"\"},\"colorscale\":[[0.0,\"#0d0887\"],[0.1111111111111111,\"#46039f\"],[0.2222222222222222,\"#7201a8\"],[0.3333333333333333,\"#9c179e\"],[0.4444444444444444,\"#bd3786\"],[0.5555555555555556,\"#d8576b\"],[0.6666666666666666,\"#ed7953\"],[0.7777777777777778,\"#fb9f3a\"],[0.8888888888888888,\"#fdca26\"],[1.0,\"#f0f921\"]],\"type\":\"contour\"}],\"heatmapgl\":[{\"colorbar\":{\"outlinewidth\":0,\"ticks\":\"\"},\"colorscale\":[[0.0,\"#0d0887\"],[0.1111111111111111,\"#46039f\"],[0.2222222222222222,\"#7201a8\"],[0.3333333333333333,\"#9c179e\"],[0.4444444444444444,\"#bd3786\"],[0.5555555555555556,\"#d8576b\"],[0.6666666666666666,\"#ed7953\"],[0.7777777777777778,\"#fb9f3a\"],[0.8888888888888888,\"#fdca26\"],[1.0,\"#f0f921\"]],\"type\":\"heatmapgl\"}],\"heatmap\":[{\"colorbar\":{\"outlinewidth\":0,\"ticks\":\"\"},\"colorscale\":[[0.0,\"#0d0887\"],[0.1111111111111111,\"#46039f\"],[0.2222222222222222,\"#7201a8\"],[0.3333333333333333,\"#9c179e\"],[0.4444444444444444,\"#bd3786\"],[0.5555555555555556,\"#d8576b\"],[0.6666666666666666,\"#ed7953\"],[0.7777777777777778,\"#fb9f3a\"],[0.8888888888888888,\"#fdca26\"],[1.0,\"#f0f921\"]],\"type\":\"heatmap\"}],\"histogram2dcontour\":[{\"colorbar\":{\"outlinewidth\":0,\"ticks\":\"\"},\"colorscale\":[[0.0,\"#0d0887\"],[0.1111111111111111,\"#46039f\"],[0.2222222222222222,\"#7201a8\"],[0.3333333333333333,\"#9c179e\"],[0.4444444444444444,\"#bd3786\"],[0.5555555555555556,\"#d8576b\"],[0.6666666666666666,\"#ed7953\"],[0.7777777777777778,\"#fb9f3a\"],[0.8888888888888888,\"#fdca26\"],[1.0,\"#f0f921\"]],\"type\":\"histogram2dcontour\"}],\"histogram2d\":[{\"colorbar\":{\"outlinewidth\":0,\"ticks\":\"\"},\"colorscale\":[[0.0,\"#0d0887\"],[0.1111111111111111,\"#46039f\"],[0.2222222222222222,\"#7201a8\"],[0.3333333333333333,\"#9c179e\"],[0.4444444444444444,\"#bd3786\"],[0.5555555555555556,\"#d8576b\"],[0.6666666666666666,\"#ed7953\"],[0.7777777777777778,\"#fb9f3a\"],[0.8888888888888888,\"#fdca26\"],[1.0,\"#f0f921\"]],\"type\":\"histogram2d\"}],\"histogram\":[{\"marker\":{\"pattern\":{\"fillmode\":\"overlay\",\"size\":10,\"solidity\":0.2}},\"type\":\"histogram\"}],\"mesh3d\":[{\"colorbar\":{\"outlinewidth\":0,\"ticks\":\"\"},\"type\":\"mesh3d\"}],\"parcoords\":[{\"line\":{\"colorbar\":{\"outlinewidth\":0,\"ticks\":\"\"}},\"type\":\"parcoords\"}],\"pie\":[{\"automargin\":true,\"type\":\"pie\"}],\"scatter3d\":[{\"line\":{\"colorbar\":{\"outlinewidth\":0,\"ticks\":\"\"}},\"marker\":{\"colorbar\":{\"outlinewidth\":0,\"ticks\":\"\"}},\"type\":\"scatter3d\"}],\"scattercarpet\":[{\"marker\":{\"colorbar\":{\"outlinewidth\":0,\"ticks\":\"\"}},\"type\":\"scattercarpet\"}],\"scattergeo\":[{\"marker\":{\"colorbar\":{\"outlinewidth\":0,\"ticks\":\"\"}},\"type\":\"scattergeo\"}],\"scattergl\":[{\"marker\":{\"colorbar\":{\"outlinewidth\":0,\"ticks\":\"\"}},\"type\":\"scattergl\"}],\"scattermapbox\":[{\"marker\":{\"colorbar\":{\"outlinewidth\":0,\"ticks\":\"\"}},\"type\":\"scattermapbox\"}],\"scatterpolargl\":[{\"marker\":{\"colorbar\":{\"outlinewidth\":0,\"ticks\":\"\"}},\"type\":\"scatterpolargl\"}],\"scatterpolar\":[{\"marker\":{\"colorbar\":{\"outlinewidth\":0,\"ticks\":\"\"}},\"type\":\"scatterpolar\"}],\"scatter\":[{\"fillpattern\":{\"fillmode\":\"overlay\",\"size\":10,\"solidity\":0.2},\"type\":\"scatter\"}],\"scatterternary\":[{\"marker\":{\"colorbar\":{\"outlinewidth\":0,\"ticks\":\"\"}},\"type\":\"scatterternary\"}],\"surface\":[{\"colorbar\":{\"outlinewidth\":0,\"ticks\":\"\"},\"colorscale\":[[0.0,\"#0d0887\"],[0.1111111111111111,\"#46039f\"],[0.2222222222222222,\"#7201a8\"],[0.3333333333333333,\"#9c179e\"],[0.4444444444444444,\"#bd3786\"],[0.5555555555555556,\"#d8576b\"],[0.6666666666666666,\"#ed7953\"],[0.7777777777777778,\"#fb9f3a\"],[0.8888888888888888,\"#fdca26\"],[1.0,\"#f0f921\"]],\"type\":\"surface\"}],\"table\":[{\"cells\":{\"fill\":{\"color\":\"#EBF0F8\"},\"line\":{\"color\":\"white\"}},\"header\":{\"fill\":{\"color\":\"#C8D4E3\"},\"line\":{\"color\":\"white\"}},\"type\":\"table\"}]},\"layout\":{\"annotationdefaults\":{\"arrowcolor\":\"#2a3f5f\",\"arrowhead\":0,\"arrowwidth\":1},\"autotypenumbers\":\"strict\",\"coloraxis\":{\"colorbar\":{\"outlinewidth\":0,\"ticks\":\"\"}},\"colorscale\":{\"diverging\":[[0,\"#8e0152\"],[0.1,\"#c51b7d\"],[0.2,\"#de77ae\"],[0.3,\"#f1b6da\"],[0.4,\"#fde0ef\"],[0.5,\"#f7f7f7\"],[0.6,\"#e6f5d0\"],[0.7,\"#b8e186\"],[0.8,\"#7fbc41\"],[0.9,\"#4d9221\"],[1,\"#276419\"]],\"sequential\":[[0.0,\"#0d0887\"],[0.1111111111111111,\"#46039f\"],[0.2222222222222222,\"#7201a8\"],[0.3333333333333333,\"#9c179e\"],[0.4444444444444444,\"#bd3786\"],[0.5555555555555556,\"#d8576b\"],[0.6666666666666666,\"#ed7953\"],[0.7777777777777778,\"#fb9f3a\"],[0.8888888888888888,\"#fdca26\"],[1.0,\"#f0f921\"]],\"sequentialminus\":[[0.0,\"#0d0887\"],[0.1111111111111111,\"#46039f\"],[0.2222222222222222,\"#7201a8\"],[0.3333333333333333,\"#9c179e\"],[0.4444444444444444,\"#bd3786\"],[0.5555555555555556,\"#d8576b\"],[0.6666666666666666,\"#ed7953\"],[0.7777777777777778,\"#fb9f3a\"],[0.8888888888888888,\"#fdca26\"],[1.0,\"#f0f921\"]]},\"colorway\":[\"#636efa\",\"#EF553B\",\"#00cc96\",\"#ab63fa\",\"#FFA15A\",\"#19d3f3\",\"#FF6692\",\"#B6E880\",\"#FF97FF\",\"#FECB52\"],\"font\":{\"color\":\"#2a3f5f\"},\"geo\":{\"bgcolor\":\"white\",\"lakecolor\":\"white\",\"landcolor\":\"#E5ECF6\",\"showlakes\":true,\"showland\":true,\"subunitcolor\":\"white\"},\"hoverlabel\":{\"align\":\"left\"},\"hovermode\":\"closest\",\"mapbox\":{\"style\":\"light\"},\"paper_bgcolor\":\"white\",\"plot_bgcolor\":\"#E5ECF6\",\"polar\":{\"angularaxis\":{\"gridcolor\":\"white\",\"linecolor\":\"white\",\"ticks\":\"\"},\"bgcolor\":\"#E5ECF6\",\"radialaxis\":{\"gridcolor\":\"white\",\"linecolor\":\"white\",\"ticks\":\"\"}},\"scene\":{\"xaxis\":{\"backgroundcolor\":\"#E5ECF6\",\"gridcolor\":\"white\",\"gridwidth\":2,\"linecolor\":\"white\",\"showbackground\":true,\"ticks\":\"\",\"zerolinecolor\":\"white\"},\"yaxis\":{\"backgroundcolor\":\"#E5ECF6\",\"gridcolor\":\"white\",\"gridwidth\":2,\"linecolor\":\"white\",\"showbackground\":true,\"ticks\":\"\",\"zerolinecolor\":\"white\"},\"zaxis\":{\"backgroundcolor\":\"#E5ECF6\",\"gridcolor\":\"white\",\"gridwidth\":2,\"linecolor\":\"white\",\"showbackground\":true,\"ticks\":\"\",\"zerolinecolor\":\"white\"}},\"shapedefaults\":{\"line\":{\"color\":\"#2a3f5f\"}},\"ternary\":{\"aaxis\":{\"gridcolor\":\"white\",\"linecolor\":\"white\",\"ticks\":\"\"},\"baxis\":{\"gridcolor\":\"white\",\"linecolor\":\"white\",\"ticks\":\"\"},\"bgcolor\":\"#E5ECF6\",\"caxis\":{\"gridcolor\":\"white\",\"linecolor\":\"white\",\"ticks\":\"\"}},\"title\":{\"x\":0.05},\"xaxis\":{\"automargin\":true,\"gridcolor\":\"white\",\"linecolor\":\"white\",\"ticks\":\"\",\"title\":{\"standoff\":15},\"zerolinecolor\":\"white\",\"zerolinewidth\":2},\"yaxis\":{\"automargin\":true,\"gridcolor\":\"white\",\"linecolor\":\"white\",\"ticks\":\"\",\"title\":{\"standoff\":15},\"zerolinecolor\":\"white\",\"zerolinewidth\":2}}},\"title\":{\"font\":{\"color\":\"#4D5663\"}},\"xaxis\":{\"gridcolor\":\"#E1E5ED\",\"showgrid\":true,\"tickfont\":{\"color\":\"#4D5663\"},\"title\":{\"font\":{\"color\":\"#4D5663\"},\"text\":\"\"},\"zerolinecolor\":\"#E1E5ED\"},\"yaxis\":{\"gridcolor\":\"#E1E5ED\",\"showgrid\":true,\"tickfont\":{\"color\":\"#4D5663\"},\"title\":{\"font\":{\"color\":\"#4D5663\"},\"text\":\"\"},\"zerolinecolor\":\"#E1E5ED\"}},                        {\"showLink\": true, \"linkText\": \"Export to plot.ly\", \"plotlyServerURL\": \"https://plot.ly\", \"responsive\": true}                    ).then(function(){\n",
       "                            \n",
       "var gd = document.getElementById('9e06cf60-b625-4ecc-97e0-e72d3e47505d');\n",
       "var x = new MutationObserver(function (mutations, observer) {{\n",
       "        var display = window.getComputedStyle(gd).display;\n",
       "        if (!display || display === 'none') {{\n",
       "            console.log([gd, 'removed!']);\n",
       "            Plotly.purge(gd);\n",
       "            observer.disconnect();\n",
       "        }}\n",
       "}});\n",
       "\n",
       "// Listen for the removal of the full notebook cells\n",
       "var notebookContainer = gd.closest('#notebook-container');\n",
       "if (notebookContainer) {{\n",
       "    x.observe(notebookContainer, {childList: true});\n",
       "}}\n",
       "\n",
       "// Listen for the clearing of the current output cell\n",
       "var outputEl = gd.closest('.output');\n",
       "if (outputEl) {{\n",
       "    x.observe(outputEl, {childList: true});\n",
       "}}\n",
       "\n",
       "                        })                };                });            </script>        </div>"
      ]
     },
     "metadata": {},
     "output_type": "display_data"
    }
   ],
   "source": [
    "customers_location_top20.iplot(kind='bar', theme='white')"
   ]
  },
  {
   "cell_type": "code",
   "execution_count": 23,
   "metadata": {},
   "outputs": [
    {
     "data": {
      "text/plain": [
       "customer_city\n",
       "sao paulo                15540\n",
       "rio de janeiro            6882\n",
       "belo horizonte            2773\n",
       "brasilia                  2131\n",
       "curitiba                  1521\n",
       "campinas                  1444\n",
       "porto alegre              1379\n",
       "salvador                  1245\n",
       "guarulhos                 1189\n",
       "sao bernardo do campo      938\n",
       "niteroi                    849\n",
       "santo andre                797\n",
       "osasco                     746\n",
       "santos                     713\n",
       "goiania                    692\n",
       "sao jose dos campos        691\n",
       "fortaleza                  654\n",
       "sorocaba                   633\n",
       "recife                     613\n",
       "florianopolis              570\n",
       "Name: customer_id, dtype: int64"
      ]
     },
     "execution_count": 23,
     "metadata": {},
     "output_type": "execute_result"
    }
   ],
   "source": [
    "customers_location_top20"
   ]
  },
  {
   "cell_type": "code",
   "execution_count": 24,
   "metadata": {},
   "outputs": [],
   "source": [
    "top20_customer_locations = customers_location_top20.index"
   ]
  },
  {
   "cell_type": "code",
   "execution_count": 25,
   "metadata": {},
   "outputs": [
    {
     "name": "stdout",
     "output_type": "stream",
     "text": [
      "TOP 1 : sao paulo\n",
      "TOP 2 : rio de janeiro\n",
      "TOP 3 : belo horizonte\n",
      "TOP 4 : brasilia\n",
      "TOP 5 : curitiba\n",
      "TOP 6 : campinas\n",
      "TOP 7 : porto alegre\n",
      "TOP 8 : salvador\n",
      "TOP 9 : guarulhos\n",
      "TOP 10 : sao bernardo do campo\n",
      "TOP 11 : niteroi\n",
      "TOP 12 : santo andre\n",
      "TOP 13 : osasco\n",
      "TOP 14 : santos\n",
      "TOP 15 : goiania\n",
      "TOP 16 : sao jose dos campos\n",
      "TOP 17 : fortaleza\n",
      "TOP 18 : sorocaba\n",
      "TOP 19 : recife\n",
      "TOP 20 : florianopolis\n"
     ]
    }
   ],
   "source": [
    "for index, location in enumerate(list(top20_customer_locations)):\n",
    "    print (\"TOP\", index + 1, \":\", location)"
   ]
  },
  {
   "cell_type": "markdown",
   "metadata": {},
   "source": [
    "<div class=\"alert alert-block\" style=\"border: 1px solid #FFB300;background-color:#F9FBE7;\">\n",
    "<font size=\"3em\" style=\"font-weight:bold;color:#3f8dbf;\">고객 분석3: 고객은 주로 어떤 지불방법을 사용할까?</font><br>\n",
    "</div>"
   ]
  },
  {
   "cell_type": "code",
   "execution_count": 26,
   "metadata": {},
   "outputs": [
    {
     "data": {
      "text/html": [
       "<div>\n",
       "<style scoped>\n",
       "    .dataframe tbody tr th:only-of-type {\n",
       "        vertical-align: middle;\n",
       "    }\n",
       "\n",
       "    .dataframe tbody tr th {\n",
       "        vertical-align: top;\n",
       "    }\n",
       "\n",
       "    .dataframe thead th {\n",
       "        text-align: right;\n",
       "    }\n",
       "</style>\n",
       "<table border=\"1\" class=\"dataframe\">\n",
       "  <thead>\n",
       "    <tr style=\"text-align: right;\">\n",
       "      <th></th>\n",
       "      <th>order_id</th>\n",
       "      <th>payment_sequential</th>\n",
       "      <th>payment_type</th>\n",
       "      <th>payment_installments</th>\n",
       "      <th>payment_value</th>\n",
       "    </tr>\n",
       "  </thead>\n",
       "  <tbody>\n",
       "    <tr>\n",
       "      <th>0</th>\n",
       "      <td>b81ef226f3fe1789b1e8b2acac839d17</td>\n",
       "      <td>1</td>\n",
       "      <td>credit_card</td>\n",
       "      <td>8</td>\n",
       "      <td>99.33</td>\n",
       "    </tr>\n",
       "    <tr>\n",
       "      <th>1</th>\n",
       "      <td>a9810da82917af2d9aefd1278f1dcfa0</td>\n",
       "      <td>1</td>\n",
       "      <td>credit_card</td>\n",
       "      <td>1</td>\n",
       "      <td>24.39</td>\n",
       "    </tr>\n",
       "    <tr>\n",
       "      <th>2</th>\n",
       "      <td>25e8ea4e93396b6fa0d3dd708e76c1bd</td>\n",
       "      <td>1</td>\n",
       "      <td>credit_card</td>\n",
       "      <td>1</td>\n",
       "      <td>65.71</td>\n",
       "    </tr>\n",
       "    <tr>\n",
       "      <th>3</th>\n",
       "      <td>ba78997921bbcdc1373bb41e913ab953</td>\n",
       "      <td>1</td>\n",
       "      <td>credit_card</td>\n",
       "      <td>8</td>\n",
       "      <td>107.78</td>\n",
       "    </tr>\n",
       "    <tr>\n",
       "      <th>4</th>\n",
       "      <td>42fdf880ba16b47b59251dd489d4441a</td>\n",
       "      <td>1</td>\n",
       "      <td>credit_card</td>\n",
       "      <td>2</td>\n",
       "      <td>128.45</td>\n",
       "    </tr>\n",
       "  </tbody>\n",
       "</table>\n",
       "</div>"
      ],
      "text/plain": [
       "                           order_id  payment_sequential payment_type  \\\n",
       "0  b81ef226f3fe1789b1e8b2acac839d17                   1  credit_card   \n",
       "1  a9810da82917af2d9aefd1278f1dcfa0                   1  credit_card   \n",
       "2  25e8ea4e93396b6fa0d3dd708e76c1bd                   1  credit_card   \n",
       "3  ba78997921bbcdc1373bb41e913ab953                   1  credit_card   \n",
       "4  42fdf880ba16b47b59251dd489d4441a                   1  credit_card   \n",
       "\n",
       "   payment_installments  payment_value  \n",
       "0                     8          99.33  \n",
       "1                     1          24.39  \n",
       "2                     1          65.71  \n",
       "3                     8         107.78  \n",
       "4                     2         128.45  "
      ]
     },
     "execution_count": 26,
     "metadata": {},
     "output_type": "execute_result"
    }
   ],
   "source": [
    "payments.head()"
   ]
  },
  {
   "cell_type": "markdown",
   "metadata": {},
   "source": [
    "#### 없는 데이터 확인하기\n",
    "- isnull().sum() 사용"
   ]
  },
  {
   "cell_type": "code",
   "execution_count": 27,
   "metadata": {},
   "outputs": [
    {
     "data": {
      "text/plain": [
       "order_id                0\n",
       "payment_sequential      0\n",
       "payment_type            0\n",
       "payment_installments    0\n",
       "payment_value           0\n",
       "dtype: int64"
      ]
     },
     "execution_count": 27,
     "metadata": {},
     "output_type": "execute_result"
    }
   ],
   "source": [
    "payments.isnull().sum()"
   ]
  },
  {
   "cell_type": "markdown",
   "metadata": {},
   "source": [
    "#### unique 한 값 확인하기\n",
    "- unique() 사용"
   ]
  },
  {
   "cell_type": "code",
   "execution_count": 28,
   "metadata": {},
   "outputs": [
    {
     "data": {
      "text/plain": [
       "array(['credit_card', 'boleto', 'voucher', 'debit_card', 'not_defined'],\n",
       "      dtype=object)"
      ]
     },
     "execution_count": 28,
     "metadata": {},
     "output_type": "execute_result"
    }
   ],
   "source": [
    "payments['payment_type'].unique()"
   ]
  },
  {
   "cell_type": "markdown",
   "metadata": {},
   "source": [
    "#### 특정 값을 가진 행 삭제하기"
   ]
  },
  {
   "cell_type": "code",
   "execution_count": 29,
   "metadata": {},
   "outputs": [],
   "source": [
    "payments = payments[payments['payment_type'] != 'not_defined']"
   ]
  },
  {
   "cell_type": "code",
   "execution_count": 30,
   "metadata": {},
   "outputs": [
    {
     "data": {
      "text/plain": [
       "array(['credit_card', 'boleto', 'voucher', 'debit_card'], dtype=object)"
      ]
     },
     "execution_count": 30,
     "metadata": {},
     "output_type": "execute_result"
    }
   ],
   "source": [
    "payments['payment_type'].unique()"
   ]
  },
  {
   "cell_type": "code",
   "execution_count": 31,
   "metadata": {},
   "outputs": [],
   "source": [
    "payment_type_count = payments.groupby('payment_type')['order_id'].nunique().sort_values(ascending=False)"
   ]
  },
  {
   "cell_type": "code",
   "execution_count": 32,
   "metadata": {},
   "outputs": [
    {
     "data": {
      "text/plain": [
       "payment_type\n",
       "credit_card    76505\n",
       "boleto         19784\n",
       "voucher         3866\n",
       "debit_card      1528\n",
       "Name: order_id, dtype: int64"
      ]
     },
     "execution_count": 32,
     "metadata": {},
     "output_type": "execute_result"
    }
   ],
   "source": [
    "payment_type_count"
   ]
  },
  {
   "cell_type": "code",
   "execution_count": 33,
   "metadata": {},
   "outputs": [
    {
     "data": {
      "application/vnd.plotly.v1+json": {
       "config": {
        "linkText": "Export to plot.ly",
        "plotlyServerURL": "https://plot.ly",
        "showLink": true
       },
       "data": [
        {
         "marker": {
          "color": "rgba(255, 153, 51, 0.6)",
          "line": {
           "color": "rgba(255, 153, 51, 1.0)",
           "width": 1
          }
         },
         "name": "order_id",
         "orientation": "v",
         "text": "",
         "type": "bar",
         "x": [
          "credit_card",
          "boleto",
          "voucher",
          "debit_card"
         ],
         "y": [
          76505,
          19784,
          3866,
          1528
         ]
        }
       ],
       "layout": {
        "legend": {
         "bgcolor": "#FFFFFF",
         "font": {
          "color": "#4D5663"
         }
        },
        "paper_bgcolor": "#FFFFFF",
        "plot_bgcolor": "#FFFFFF",
        "template": {
         "data": {
          "bar": [
           {
            "error_x": {
             "color": "#2a3f5f"
            },
            "error_y": {
             "color": "#2a3f5f"
            },
            "marker": {
             "line": {
              "color": "#E5ECF6",
              "width": 0.5
             },
             "pattern": {
              "fillmode": "overlay",
              "size": 10,
              "solidity": 0.2
             }
            },
            "type": "bar"
           }
          ],
          "barpolar": [
           {
            "marker": {
             "line": {
              "color": "#E5ECF6",
              "width": 0.5
             },
             "pattern": {
              "fillmode": "overlay",
              "size": 10,
              "solidity": 0.2
             }
            },
            "type": "barpolar"
           }
          ],
          "carpet": [
           {
            "aaxis": {
             "endlinecolor": "#2a3f5f",
             "gridcolor": "white",
             "linecolor": "white",
             "minorgridcolor": "white",
             "startlinecolor": "#2a3f5f"
            },
            "baxis": {
             "endlinecolor": "#2a3f5f",
             "gridcolor": "white",
             "linecolor": "white",
             "minorgridcolor": "white",
             "startlinecolor": "#2a3f5f"
            },
            "type": "carpet"
           }
          ],
          "choropleth": [
           {
            "colorbar": {
             "outlinewidth": 0,
             "ticks": ""
            },
            "type": "choropleth"
           }
          ],
          "contour": [
           {
            "colorbar": {
             "outlinewidth": 0,
             "ticks": ""
            },
            "colorscale": [
             [
              0,
              "#0d0887"
             ],
             [
              0.1111111111111111,
              "#46039f"
             ],
             [
              0.2222222222222222,
              "#7201a8"
             ],
             [
              0.3333333333333333,
              "#9c179e"
             ],
             [
              0.4444444444444444,
              "#bd3786"
             ],
             [
              0.5555555555555556,
              "#d8576b"
             ],
             [
              0.6666666666666666,
              "#ed7953"
             ],
             [
              0.7777777777777778,
              "#fb9f3a"
             ],
             [
              0.8888888888888888,
              "#fdca26"
             ],
             [
              1,
              "#f0f921"
             ]
            ],
            "type": "contour"
           }
          ],
          "contourcarpet": [
           {
            "colorbar": {
             "outlinewidth": 0,
             "ticks": ""
            },
            "type": "contourcarpet"
           }
          ],
          "heatmap": [
           {
            "colorbar": {
             "outlinewidth": 0,
             "ticks": ""
            },
            "colorscale": [
             [
              0,
              "#0d0887"
             ],
             [
              0.1111111111111111,
              "#46039f"
             ],
             [
              0.2222222222222222,
              "#7201a8"
             ],
             [
              0.3333333333333333,
              "#9c179e"
             ],
             [
              0.4444444444444444,
              "#bd3786"
             ],
             [
              0.5555555555555556,
              "#d8576b"
             ],
             [
              0.6666666666666666,
              "#ed7953"
             ],
             [
              0.7777777777777778,
              "#fb9f3a"
             ],
             [
              0.8888888888888888,
              "#fdca26"
             ],
             [
              1,
              "#f0f921"
             ]
            ],
            "type": "heatmap"
           }
          ],
          "heatmapgl": [
           {
            "colorbar": {
             "outlinewidth": 0,
             "ticks": ""
            },
            "colorscale": [
             [
              0,
              "#0d0887"
             ],
             [
              0.1111111111111111,
              "#46039f"
             ],
             [
              0.2222222222222222,
              "#7201a8"
             ],
             [
              0.3333333333333333,
              "#9c179e"
             ],
             [
              0.4444444444444444,
              "#bd3786"
             ],
             [
              0.5555555555555556,
              "#d8576b"
             ],
             [
              0.6666666666666666,
              "#ed7953"
             ],
             [
              0.7777777777777778,
              "#fb9f3a"
             ],
             [
              0.8888888888888888,
              "#fdca26"
             ],
             [
              1,
              "#f0f921"
             ]
            ],
            "type": "heatmapgl"
           }
          ],
          "histogram": [
           {
            "marker": {
             "pattern": {
              "fillmode": "overlay",
              "size": 10,
              "solidity": 0.2
             }
            },
            "type": "histogram"
           }
          ],
          "histogram2d": [
           {
            "colorbar": {
             "outlinewidth": 0,
             "ticks": ""
            },
            "colorscale": [
             [
              0,
              "#0d0887"
             ],
             [
              0.1111111111111111,
              "#46039f"
             ],
             [
              0.2222222222222222,
              "#7201a8"
             ],
             [
              0.3333333333333333,
              "#9c179e"
             ],
             [
              0.4444444444444444,
              "#bd3786"
             ],
             [
              0.5555555555555556,
              "#d8576b"
             ],
             [
              0.6666666666666666,
              "#ed7953"
             ],
             [
              0.7777777777777778,
              "#fb9f3a"
             ],
             [
              0.8888888888888888,
              "#fdca26"
             ],
             [
              1,
              "#f0f921"
             ]
            ],
            "type": "histogram2d"
           }
          ],
          "histogram2dcontour": [
           {
            "colorbar": {
             "outlinewidth": 0,
             "ticks": ""
            },
            "colorscale": [
             [
              0,
              "#0d0887"
             ],
             [
              0.1111111111111111,
              "#46039f"
             ],
             [
              0.2222222222222222,
              "#7201a8"
             ],
             [
              0.3333333333333333,
              "#9c179e"
             ],
             [
              0.4444444444444444,
              "#bd3786"
             ],
             [
              0.5555555555555556,
              "#d8576b"
             ],
             [
              0.6666666666666666,
              "#ed7953"
             ],
             [
              0.7777777777777778,
              "#fb9f3a"
             ],
             [
              0.8888888888888888,
              "#fdca26"
             ],
             [
              1,
              "#f0f921"
             ]
            ],
            "type": "histogram2dcontour"
           }
          ],
          "mesh3d": [
           {
            "colorbar": {
             "outlinewidth": 0,
             "ticks": ""
            },
            "type": "mesh3d"
           }
          ],
          "parcoords": [
           {
            "line": {
             "colorbar": {
              "outlinewidth": 0,
              "ticks": ""
             }
            },
            "type": "parcoords"
           }
          ],
          "pie": [
           {
            "automargin": true,
            "type": "pie"
           }
          ],
          "scatter": [
           {
            "fillpattern": {
             "fillmode": "overlay",
             "size": 10,
             "solidity": 0.2
            },
            "type": "scatter"
           }
          ],
          "scatter3d": [
           {
            "line": {
             "colorbar": {
              "outlinewidth": 0,
              "ticks": ""
             }
            },
            "marker": {
             "colorbar": {
              "outlinewidth": 0,
              "ticks": ""
             }
            },
            "type": "scatter3d"
           }
          ],
          "scattercarpet": [
           {
            "marker": {
             "colorbar": {
              "outlinewidth": 0,
              "ticks": ""
             }
            },
            "type": "scattercarpet"
           }
          ],
          "scattergeo": [
           {
            "marker": {
             "colorbar": {
              "outlinewidth": 0,
              "ticks": ""
             }
            },
            "type": "scattergeo"
           }
          ],
          "scattergl": [
           {
            "marker": {
             "colorbar": {
              "outlinewidth": 0,
              "ticks": ""
             }
            },
            "type": "scattergl"
           }
          ],
          "scattermapbox": [
           {
            "marker": {
             "colorbar": {
              "outlinewidth": 0,
              "ticks": ""
             }
            },
            "type": "scattermapbox"
           }
          ],
          "scatterpolar": [
           {
            "marker": {
             "colorbar": {
              "outlinewidth": 0,
              "ticks": ""
             }
            },
            "type": "scatterpolar"
           }
          ],
          "scatterpolargl": [
           {
            "marker": {
             "colorbar": {
              "outlinewidth": 0,
              "ticks": ""
             }
            },
            "type": "scatterpolargl"
           }
          ],
          "scatterternary": [
           {
            "marker": {
             "colorbar": {
              "outlinewidth": 0,
              "ticks": ""
             }
            },
            "type": "scatterternary"
           }
          ],
          "surface": [
           {
            "colorbar": {
             "outlinewidth": 0,
             "ticks": ""
            },
            "colorscale": [
             [
              0,
              "#0d0887"
             ],
             [
              0.1111111111111111,
              "#46039f"
             ],
             [
              0.2222222222222222,
              "#7201a8"
             ],
             [
              0.3333333333333333,
              "#9c179e"
             ],
             [
              0.4444444444444444,
              "#bd3786"
             ],
             [
              0.5555555555555556,
              "#d8576b"
             ],
             [
              0.6666666666666666,
              "#ed7953"
             ],
             [
              0.7777777777777778,
              "#fb9f3a"
             ],
             [
              0.8888888888888888,
              "#fdca26"
             ],
             [
              1,
              "#f0f921"
             ]
            ],
            "type": "surface"
           }
          ],
          "table": [
           {
            "cells": {
             "fill": {
              "color": "#EBF0F8"
             },
             "line": {
              "color": "white"
             }
            },
            "header": {
             "fill": {
              "color": "#C8D4E3"
             },
             "line": {
              "color": "white"
             }
            },
            "type": "table"
           }
          ]
         },
         "layout": {
          "annotationdefaults": {
           "arrowcolor": "#2a3f5f",
           "arrowhead": 0,
           "arrowwidth": 1
          },
          "autotypenumbers": "strict",
          "coloraxis": {
           "colorbar": {
            "outlinewidth": 0,
            "ticks": ""
           }
          },
          "colorscale": {
           "diverging": [
            [
             0,
             "#8e0152"
            ],
            [
             0.1,
             "#c51b7d"
            ],
            [
             0.2,
             "#de77ae"
            ],
            [
             0.3,
             "#f1b6da"
            ],
            [
             0.4,
             "#fde0ef"
            ],
            [
             0.5,
             "#f7f7f7"
            ],
            [
             0.6,
             "#e6f5d0"
            ],
            [
             0.7,
             "#b8e186"
            ],
            [
             0.8,
             "#7fbc41"
            ],
            [
             0.9,
             "#4d9221"
            ],
            [
             1,
             "#276419"
            ]
           ],
           "sequential": [
            [
             0,
             "#0d0887"
            ],
            [
             0.1111111111111111,
             "#46039f"
            ],
            [
             0.2222222222222222,
             "#7201a8"
            ],
            [
             0.3333333333333333,
             "#9c179e"
            ],
            [
             0.4444444444444444,
             "#bd3786"
            ],
            [
             0.5555555555555556,
             "#d8576b"
            ],
            [
             0.6666666666666666,
             "#ed7953"
            ],
            [
             0.7777777777777778,
             "#fb9f3a"
            ],
            [
             0.8888888888888888,
             "#fdca26"
            ],
            [
             1,
             "#f0f921"
            ]
           ],
           "sequentialminus": [
            [
             0,
             "#0d0887"
            ],
            [
             0.1111111111111111,
             "#46039f"
            ],
            [
             0.2222222222222222,
             "#7201a8"
            ],
            [
             0.3333333333333333,
             "#9c179e"
            ],
            [
             0.4444444444444444,
             "#bd3786"
            ],
            [
             0.5555555555555556,
             "#d8576b"
            ],
            [
             0.6666666666666666,
             "#ed7953"
            ],
            [
             0.7777777777777778,
             "#fb9f3a"
            ],
            [
             0.8888888888888888,
             "#fdca26"
            ],
            [
             1,
             "#f0f921"
            ]
           ]
          },
          "colorway": [
           "#636efa",
           "#EF553B",
           "#00cc96",
           "#ab63fa",
           "#FFA15A",
           "#19d3f3",
           "#FF6692",
           "#B6E880",
           "#FF97FF",
           "#FECB52"
          ],
          "font": {
           "color": "#2a3f5f"
          },
          "geo": {
           "bgcolor": "white",
           "lakecolor": "white",
           "landcolor": "#E5ECF6",
           "showlakes": true,
           "showland": true,
           "subunitcolor": "white"
          },
          "hoverlabel": {
           "align": "left"
          },
          "hovermode": "closest",
          "mapbox": {
           "style": "light"
          },
          "paper_bgcolor": "white",
          "plot_bgcolor": "#E5ECF6",
          "polar": {
           "angularaxis": {
            "gridcolor": "white",
            "linecolor": "white",
            "ticks": ""
           },
           "bgcolor": "#E5ECF6",
           "radialaxis": {
            "gridcolor": "white",
            "linecolor": "white",
            "ticks": ""
           }
          },
          "scene": {
           "xaxis": {
            "backgroundcolor": "#E5ECF6",
            "gridcolor": "white",
            "gridwidth": 2,
            "linecolor": "white",
            "showbackground": true,
            "ticks": "",
            "zerolinecolor": "white"
           },
           "yaxis": {
            "backgroundcolor": "#E5ECF6",
            "gridcolor": "white",
            "gridwidth": 2,
            "linecolor": "white",
            "showbackground": true,
            "ticks": "",
            "zerolinecolor": "white"
           },
           "zaxis": {
            "backgroundcolor": "#E5ECF6",
            "gridcolor": "white",
            "gridwidth": 2,
            "linecolor": "white",
            "showbackground": true,
            "ticks": "",
            "zerolinecolor": "white"
           }
          },
          "shapedefaults": {
           "line": {
            "color": "#2a3f5f"
           }
          },
          "ternary": {
           "aaxis": {
            "gridcolor": "white",
            "linecolor": "white",
            "ticks": ""
           },
           "baxis": {
            "gridcolor": "white",
            "linecolor": "white",
            "ticks": ""
           },
           "bgcolor": "#E5ECF6",
           "caxis": {
            "gridcolor": "white",
            "linecolor": "white",
            "ticks": ""
           }
          },
          "title": {
           "x": 0.05
          },
          "xaxis": {
           "automargin": true,
           "gridcolor": "white",
           "linecolor": "white",
           "ticks": "",
           "title": {
            "standoff": 15
           },
           "zerolinecolor": "white",
           "zerolinewidth": 2
          },
          "yaxis": {
           "automargin": true,
           "gridcolor": "white",
           "linecolor": "white",
           "ticks": "",
           "title": {
            "standoff": 15
           },
           "zerolinecolor": "white",
           "zerolinewidth": 2
          }
         }
        },
        "title": {
         "font": {
          "color": "#4D5663"
         }
        },
        "xaxis": {
         "gridcolor": "#E1E5ED",
         "showgrid": true,
         "tickfont": {
          "color": "#4D5663"
         },
         "title": {
          "font": {
           "color": "#4D5663"
          },
          "text": ""
         },
         "zerolinecolor": "#E1E5ED"
        },
        "yaxis": {
         "gridcolor": "#E1E5ED",
         "showgrid": true,
         "tickfont": {
          "color": "#4D5663"
         },
         "title": {
          "font": {
           "color": "#4D5663"
          },
          "text": ""
         },
         "zerolinecolor": "#E1E5ED"
        }
       }
      },
      "text/html": [
       "<div>                            <div id=\"6a988d7f-1a9d-4d1d-ad29-fdc77dcb434c\" class=\"plotly-graph-div\" style=\"height:525px; width:100%;\"></div>            <script type=\"text/javascript\">                require([\"plotly\"], function(Plotly) {                    window.PLOTLYENV=window.PLOTLYENV || {};\n",
       "                    window.PLOTLYENV.BASE_URL='https://plot.ly';                                    if (document.getElementById(\"6a988d7f-1a9d-4d1d-ad29-fdc77dcb434c\")) {                    Plotly.newPlot(                        \"6a988d7f-1a9d-4d1d-ad29-fdc77dcb434c\",                        [{\"marker\":{\"color\":\"rgba(255, 153, 51, 0.6)\",\"line\":{\"color\":\"rgba(255, 153, 51, 1.0)\",\"width\":1}},\"name\":\"order_id\",\"orientation\":\"v\",\"text\":\"\",\"x\":[\"credit_card\",\"boleto\",\"voucher\",\"debit_card\"],\"y\":[76505,19784,3866,1528],\"type\":\"bar\"}],                        {\"legend\":{\"bgcolor\":\"#FFFFFF\",\"font\":{\"color\":\"#4D5663\"}},\"paper_bgcolor\":\"#FFFFFF\",\"plot_bgcolor\":\"#FFFFFF\",\"template\":{\"data\":{\"barpolar\":[{\"marker\":{\"line\":{\"color\":\"#E5ECF6\",\"width\":0.5},\"pattern\":{\"fillmode\":\"overlay\",\"size\":10,\"solidity\":0.2}},\"type\":\"barpolar\"}],\"bar\":[{\"error_x\":{\"color\":\"#2a3f5f\"},\"error_y\":{\"color\":\"#2a3f5f\"},\"marker\":{\"line\":{\"color\":\"#E5ECF6\",\"width\":0.5},\"pattern\":{\"fillmode\":\"overlay\",\"size\":10,\"solidity\":0.2}},\"type\":\"bar\"}],\"carpet\":[{\"aaxis\":{\"endlinecolor\":\"#2a3f5f\",\"gridcolor\":\"white\",\"linecolor\":\"white\",\"minorgridcolor\":\"white\",\"startlinecolor\":\"#2a3f5f\"},\"baxis\":{\"endlinecolor\":\"#2a3f5f\",\"gridcolor\":\"white\",\"linecolor\":\"white\",\"minorgridcolor\":\"white\",\"startlinecolor\":\"#2a3f5f\"},\"type\":\"carpet\"}],\"choropleth\":[{\"colorbar\":{\"outlinewidth\":0,\"ticks\":\"\"},\"type\":\"choropleth\"}],\"contourcarpet\":[{\"colorbar\":{\"outlinewidth\":0,\"ticks\":\"\"},\"type\":\"contourcarpet\"}],\"contour\":[{\"colorbar\":{\"outlinewidth\":0,\"ticks\":\"\"},\"colorscale\":[[0.0,\"#0d0887\"],[0.1111111111111111,\"#46039f\"],[0.2222222222222222,\"#7201a8\"],[0.3333333333333333,\"#9c179e\"],[0.4444444444444444,\"#bd3786\"],[0.5555555555555556,\"#d8576b\"],[0.6666666666666666,\"#ed7953\"],[0.7777777777777778,\"#fb9f3a\"],[0.8888888888888888,\"#fdca26\"],[1.0,\"#f0f921\"]],\"type\":\"contour\"}],\"heatmapgl\":[{\"colorbar\":{\"outlinewidth\":0,\"ticks\":\"\"},\"colorscale\":[[0.0,\"#0d0887\"],[0.1111111111111111,\"#46039f\"],[0.2222222222222222,\"#7201a8\"],[0.3333333333333333,\"#9c179e\"],[0.4444444444444444,\"#bd3786\"],[0.5555555555555556,\"#d8576b\"],[0.6666666666666666,\"#ed7953\"],[0.7777777777777778,\"#fb9f3a\"],[0.8888888888888888,\"#fdca26\"],[1.0,\"#f0f921\"]],\"type\":\"heatmapgl\"}],\"heatmap\":[{\"colorbar\":{\"outlinewidth\":0,\"ticks\":\"\"},\"colorscale\":[[0.0,\"#0d0887\"],[0.1111111111111111,\"#46039f\"],[0.2222222222222222,\"#7201a8\"],[0.3333333333333333,\"#9c179e\"],[0.4444444444444444,\"#bd3786\"],[0.5555555555555556,\"#d8576b\"],[0.6666666666666666,\"#ed7953\"],[0.7777777777777778,\"#fb9f3a\"],[0.8888888888888888,\"#fdca26\"],[1.0,\"#f0f921\"]],\"type\":\"heatmap\"}],\"histogram2dcontour\":[{\"colorbar\":{\"outlinewidth\":0,\"ticks\":\"\"},\"colorscale\":[[0.0,\"#0d0887\"],[0.1111111111111111,\"#46039f\"],[0.2222222222222222,\"#7201a8\"],[0.3333333333333333,\"#9c179e\"],[0.4444444444444444,\"#bd3786\"],[0.5555555555555556,\"#d8576b\"],[0.6666666666666666,\"#ed7953\"],[0.7777777777777778,\"#fb9f3a\"],[0.8888888888888888,\"#fdca26\"],[1.0,\"#f0f921\"]],\"type\":\"histogram2dcontour\"}],\"histogram2d\":[{\"colorbar\":{\"outlinewidth\":0,\"ticks\":\"\"},\"colorscale\":[[0.0,\"#0d0887\"],[0.1111111111111111,\"#46039f\"],[0.2222222222222222,\"#7201a8\"],[0.3333333333333333,\"#9c179e\"],[0.4444444444444444,\"#bd3786\"],[0.5555555555555556,\"#d8576b\"],[0.6666666666666666,\"#ed7953\"],[0.7777777777777778,\"#fb9f3a\"],[0.8888888888888888,\"#fdca26\"],[1.0,\"#f0f921\"]],\"type\":\"histogram2d\"}],\"histogram\":[{\"marker\":{\"pattern\":{\"fillmode\":\"overlay\",\"size\":10,\"solidity\":0.2}},\"type\":\"histogram\"}],\"mesh3d\":[{\"colorbar\":{\"outlinewidth\":0,\"ticks\":\"\"},\"type\":\"mesh3d\"}],\"parcoords\":[{\"line\":{\"colorbar\":{\"outlinewidth\":0,\"ticks\":\"\"}},\"type\":\"parcoords\"}],\"pie\":[{\"automargin\":true,\"type\":\"pie\"}],\"scatter3d\":[{\"line\":{\"colorbar\":{\"outlinewidth\":0,\"ticks\":\"\"}},\"marker\":{\"colorbar\":{\"outlinewidth\":0,\"ticks\":\"\"}},\"type\":\"scatter3d\"}],\"scattercarpet\":[{\"marker\":{\"colorbar\":{\"outlinewidth\":0,\"ticks\":\"\"}},\"type\":\"scattercarpet\"}],\"scattergeo\":[{\"marker\":{\"colorbar\":{\"outlinewidth\":0,\"ticks\":\"\"}},\"type\":\"scattergeo\"}],\"scattergl\":[{\"marker\":{\"colorbar\":{\"outlinewidth\":0,\"ticks\":\"\"}},\"type\":\"scattergl\"}],\"scattermapbox\":[{\"marker\":{\"colorbar\":{\"outlinewidth\":0,\"ticks\":\"\"}},\"type\":\"scattermapbox\"}],\"scatterpolargl\":[{\"marker\":{\"colorbar\":{\"outlinewidth\":0,\"ticks\":\"\"}},\"type\":\"scatterpolargl\"}],\"scatterpolar\":[{\"marker\":{\"colorbar\":{\"outlinewidth\":0,\"ticks\":\"\"}},\"type\":\"scatterpolar\"}],\"scatter\":[{\"fillpattern\":{\"fillmode\":\"overlay\",\"size\":10,\"solidity\":0.2},\"type\":\"scatter\"}],\"scatterternary\":[{\"marker\":{\"colorbar\":{\"outlinewidth\":0,\"ticks\":\"\"}},\"type\":\"scatterternary\"}],\"surface\":[{\"colorbar\":{\"outlinewidth\":0,\"ticks\":\"\"},\"colorscale\":[[0.0,\"#0d0887\"],[0.1111111111111111,\"#46039f\"],[0.2222222222222222,\"#7201a8\"],[0.3333333333333333,\"#9c179e\"],[0.4444444444444444,\"#bd3786\"],[0.5555555555555556,\"#d8576b\"],[0.6666666666666666,\"#ed7953\"],[0.7777777777777778,\"#fb9f3a\"],[0.8888888888888888,\"#fdca26\"],[1.0,\"#f0f921\"]],\"type\":\"surface\"}],\"table\":[{\"cells\":{\"fill\":{\"color\":\"#EBF0F8\"},\"line\":{\"color\":\"white\"}},\"header\":{\"fill\":{\"color\":\"#C8D4E3\"},\"line\":{\"color\":\"white\"}},\"type\":\"table\"}]},\"layout\":{\"annotationdefaults\":{\"arrowcolor\":\"#2a3f5f\",\"arrowhead\":0,\"arrowwidth\":1},\"autotypenumbers\":\"strict\",\"coloraxis\":{\"colorbar\":{\"outlinewidth\":0,\"ticks\":\"\"}},\"colorscale\":{\"diverging\":[[0,\"#8e0152\"],[0.1,\"#c51b7d\"],[0.2,\"#de77ae\"],[0.3,\"#f1b6da\"],[0.4,\"#fde0ef\"],[0.5,\"#f7f7f7\"],[0.6,\"#e6f5d0\"],[0.7,\"#b8e186\"],[0.8,\"#7fbc41\"],[0.9,\"#4d9221\"],[1,\"#276419\"]],\"sequential\":[[0.0,\"#0d0887\"],[0.1111111111111111,\"#46039f\"],[0.2222222222222222,\"#7201a8\"],[0.3333333333333333,\"#9c179e\"],[0.4444444444444444,\"#bd3786\"],[0.5555555555555556,\"#d8576b\"],[0.6666666666666666,\"#ed7953\"],[0.7777777777777778,\"#fb9f3a\"],[0.8888888888888888,\"#fdca26\"],[1.0,\"#f0f921\"]],\"sequentialminus\":[[0.0,\"#0d0887\"],[0.1111111111111111,\"#46039f\"],[0.2222222222222222,\"#7201a8\"],[0.3333333333333333,\"#9c179e\"],[0.4444444444444444,\"#bd3786\"],[0.5555555555555556,\"#d8576b\"],[0.6666666666666666,\"#ed7953\"],[0.7777777777777778,\"#fb9f3a\"],[0.8888888888888888,\"#fdca26\"],[1.0,\"#f0f921\"]]},\"colorway\":[\"#636efa\",\"#EF553B\",\"#00cc96\",\"#ab63fa\",\"#FFA15A\",\"#19d3f3\",\"#FF6692\",\"#B6E880\",\"#FF97FF\",\"#FECB52\"],\"font\":{\"color\":\"#2a3f5f\"},\"geo\":{\"bgcolor\":\"white\",\"lakecolor\":\"white\",\"landcolor\":\"#E5ECF6\",\"showlakes\":true,\"showland\":true,\"subunitcolor\":\"white\"},\"hoverlabel\":{\"align\":\"left\"},\"hovermode\":\"closest\",\"mapbox\":{\"style\":\"light\"},\"paper_bgcolor\":\"white\",\"plot_bgcolor\":\"#E5ECF6\",\"polar\":{\"angularaxis\":{\"gridcolor\":\"white\",\"linecolor\":\"white\",\"ticks\":\"\"},\"bgcolor\":\"#E5ECF6\",\"radialaxis\":{\"gridcolor\":\"white\",\"linecolor\":\"white\",\"ticks\":\"\"}},\"scene\":{\"xaxis\":{\"backgroundcolor\":\"#E5ECF6\",\"gridcolor\":\"white\",\"gridwidth\":2,\"linecolor\":\"white\",\"showbackground\":true,\"ticks\":\"\",\"zerolinecolor\":\"white\"},\"yaxis\":{\"backgroundcolor\":\"#E5ECF6\",\"gridcolor\":\"white\",\"gridwidth\":2,\"linecolor\":\"white\",\"showbackground\":true,\"ticks\":\"\",\"zerolinecolor\":\"white\"},\"zaxis\":{\"backgroundcolor\":\"#E5ECF6\",\"gridcolor\":\"white\",\"gridwidth\":2,\"linecolor\":\"white\",\"showbackground\":true,\"ticks\":\"\",\"zerolinecolor\":\"white\"}},\"shapedefaults\":{\"line\":{\"color\":\"#2a3f5f\"}},\"ternary\":{\"aaxis\":{\"gridcolor\":\"white\",\"linecolor\":\"white\",\"ticks\":\"\"},\"baxis\":{\"gridcolor\":\"white\",\"linecolor\":\"white\",\"ticks\":\"\"},\"bgcolor\":\"#E5ECF6\",\"caxis\":{\"gridcolor\":\"white\",\"linecolor\":\"white\",\"ticks\":\"\"}},\"title\":{\"x\":0.05},\"xaxis\":{\"automargin\":true,\"gridcolor\":\"white\",\"linecolor\":\"white\",\"ticks\":\"\",\"title\":{\"standoff\":15},\"zerolinecolor\":\"white\",\"zerolinewidth\":2},\"yaxis\":{\"automargin\":true,\"gridcolor\":\"white\",\"linecolor\":\"white\",\"ticks\":\"\",\"title\":{\"standoff\":15},\"zerolinecolor\":\"white\",\"zerolinewidth\":2}}},\"title\":{\"font\":{\"color\":\"#4D5663\"}},\"xaxis\":{\"gridcolor\":\"#E1E5ED\",\"showgrid\":true,\"tickfont\":{\"color\":\"#4D5663\"},\"title\":{\"font\":{\"color\":\"#4D5663\"},\"text\":\"\"},\"zerolinecolor\":\"#E1E5ED\"},\"yaxis\":{\"gridcolor\":\"#E1E5ED\",\"showgrid\":true,\"tickfont\":{\"color\":\"#4D5663\"},\"title\":{\"font\":{\"color\":\"#4D5663\"},\"text\":\"\"},\"zerolinecolor\":\"#E1E5ED\"}},                        {\"showLink\": true, \"linkText\": \"Export to plot.ly\", \"plotlyServerURL\": \"https://plot.ly\", \"responsive\": true}                    ).then(function(){\n",
       "                            \n",
       "var gd = document.getElementById('6a988d7f-1a9d-4d1d-ad29-fdc77dcb434c');\n",
       "var x = new MutationObserver(function (mutations, observer) {{\n",
       "        var display = window.getComputedStyle(gd).display;\n",
       "        if (!display || display === 'none') {{\n",
       "            console.log([gd, 'removed!']);\n",
       "            Plotly.purge(gd);\n",
       "            observer.disconnect();\n",
       "        }}\n",
       "}});\n",
       "\n",
       "// Listen for the removal of the full notebook cells\n",
       "var notebookContainer = gd.closest('#notebook-container');\n",
       "if (notebookContainer) {{\n",
       "    x.observe(notebookContainer, {childList: true});\n",
       "}}\n",
       "\n",
       "// Listen for the clearing of the current output cell\n",
       "var outputEl = gd.closest('.output');\n",
       "if (outputEl) {{\n",
       "    x.observe(outputEl, {childList: true});\n",
       "}}\n",
       "\n",
       "                        })                };                });            </script>        </div>"
      ]
     },
     "metadata": {},
     "output_type": "display_data"
    }
   ],
   "source": [
    "payment_type_count.iplot(kind='bar', theme='white')"
   ]
  },
  {
   "cell_type": "markdown",
   "metadata": {},
   "source": [
    "- 참고: https://plotly.com/python/pie-charts/"
   ]
  },
  {
   "cell_type": "code",
   "execution_count": 34,
   "metadata": {},
   "outputs": [
    {
     "data": {
      "text/plain": [
       "payment_type\n",
       "credit_card    76505\n",
       "boleto         19784\n",
       "voucher         3866\n",
       "debit_card      1528\n",
       "Name: order_id, dtype: int64"
      ]
     },
     "execution_count": 34,
     "metadata": {},
     "output_type": "execute_result"
    }
   ],
   "source": [
    "payment_type_count"
   ]
  },
  {
   "cell_type": "code",
   "execution_count": 35,
   "metadata": {},
   "outputs": [
    {
     "data": {
      "application/vnd.plotly.v1+json": {
       "config": {
        "plotlyServerURL": "https://plot.ly"
       },
       "data": [
        {
         "labels": [
          "credit_card",
          "boleto",
          "voucher",
          "debit_card"
         ],
         "type": "pie",
         "values": [
          76505,
          19784,
          3866,
          1528
         ]
        }
       ],
       "layout": {
        "showlegend": true,
        "template": {
         "data": {
          "bar": [
           {
            "error_x": {
             "color": "#2a3f5f"
            },
            "error_y": {
             "color": "#2a3f5f"
            },
            "marker": {
             "line": {
              "color": "#E5ECF6",
              "width": 0.5
             },
             "pattern": {
              "fillmode": "overlay",
              "size": 10,
              "solidity": 0.2
             }
            },
            "type": "bar"
           }
          ],
          "barpolar": [
           {
            "marker": {
             "line": {
              "color": "#E5ECF6",
              "width": 0.5
             },
             "pattern": {
              "fillmode": "overlay",
              "size": 10,
              "solidity": 0.2
             }
            },
            "type": "barpolar"
           }
          ],
          "carpet": [
           {
            "aaxis": {
             "endlinecolor": "#2a3f5f",
             "gridcolor": "white",
             "linecolor": "white",
             "minorgridcolor": "white",
             "startlinecolor": "#2a3f5f"
            },
            "baxis": {
             "endlinecolor": "#2a3f5f",
             "gridcolor": "white",
             "linecolor": "white",
             "minorgridcolor": "white",
             "startlinecolor": "#2a3f5f"
            },
            "type": "carpet"
           }
          ],
          "choropleth": [
           {
            "colorbar": {
             "outlinewidth": 0,
             "ticks": ""
            },
            "type": "choropleth"
           }
          ],
          "contour": [
           {
            "colorbar": {
             "outlinewidth": 0,
             "ticks": ""
            },
            "colorscale": [
             [
              0,
              "#0d0887"
             ],
             [
              0.1111111111111111,
              "#46039f"
             ],
             [
              0.2222222222222222,
              "#7201a8"
             ],
             [
              0.3333333333333333,
              "#9c179e"
             ],
             [
              0.4444444444444444,
              "#bd3786"
             ],
             [
              0.5555555555555556,
              "#d8576b"
             ],
             [
              0.6666666666666666,
              "#ed7953"
             ],
             [
              0.7777777777777778,
              "#fb9f3a"
             ],
             [
              0.8888888888888888,
              "#fdca26"
             ],
             [
              1,
              "#f0f921"
             ]
            ],
            "type": "contour"
           }
          ],
          "contourcarpet": [
           {
            "colorbar": {
             "outlinewidth": 0,
             "ticks": ""
            },
            "type": "contourcarpet"
           }
          ],
          "heatmap": [
           {
            "colorbar": {
             "outlinewidth": 0,
             "ticks": ""
            },
            "colorscale": [
             [
              0,
              "#0d0887"
             ],
             [
              0.1111111111111111,
              "#46039f"
             ],
             [
              0.2222222222222222,
              "#7201a8"
             ],
             [
              0.3333333333333333,
              "#9c179e"
             ],
             [
              0.4444444444444444,
              "#bd3786"
             ],
             [
              0.5555555555555556,
              "#d8576b"
             ],
             [
              0.6666666666666666,
              "#ed7953"
             ],
             [
              0.7777777777777778,
              "#fb9f3a"
             ],
             [
              0.8888888888888888,
              "#fdca26"
             ],
             [
              1,
              "#f0f921"
             ]
            ],
            "type": "heatmap"
           }
          ],
          "heatmapgl": [
           {
            "colorbar": {
             "outlinewidth": 0,
             "ticks": ""
            },
            "colorscale": [
             [
              0,
              "#0d0887"
             ],
             [
              0.1111111111111111,
              "#46039f"
             ],
             [
              0.2222222222222222,
              "#7201a8"
             ],
             [
              0.3333333333333333,
              "#9c179e"
             ],
             [
              0.4444444444444444,
              "#bd3786"
             ],
             [
              0.5555555555555556,
              "#d8576b"
             ],
             [
              0.6666666666666666,
              "#ed7953"
             ],
             [
              0.7777777777777778,
              "#fb9f3a"
             ],
             [
              0.8888888888888888,
              "#fdca26"
             ],
             [
              1,
              "#f0f921"
             ]
            ],
            "type": "heatmapgl"
           }
          ],
          "histogram": [
           {
            "marker": {
             "pattern": {
              "fillmode": "overlay",
              "size": 10,
              "solidity": 0.2
             }
            },
            "type": "histogram"
           }
          ],
          "histogram2d": [
           {
            "colorbar": {
             "outlinewidth": 0,
             "ticks": ""
            },
            "colorscale": [
             [
              0,
              "#0d0887"
             ],
             [
              0.1111111111111111,
              "#46039f"
             ],
             [
              0.2222222222222222,
              "#7201a8"
             ],
             [
              0.3333333333333333,
              "#9c179e"
             ],
             [
              0.4444444444444444,
              "#bd3786"
             ],
             [
              0.5555555555555556,
              "#d8576b"
             ],
             [
              0.6666666666666666,
              "#ed7953"
             ],
             [
              0.7777777777777778,
              "#fb9f3a"
             ],
             [
              0.8888888888888888,
              "#fdca26"
             ],
             [
              1,
              "#f0f921"
             ]
            ],
            "type": "histogram2d"
           }
          ],
          "histogram2dcontour": [
           {
            "colorbar": {
             "outlinewidth": 0,
             "ticks": ""
            },
            "colorscale": [
             [
              0,
              "#0d0887"
             ],
             [
              0.1111111111111111,
              "#46039f"
             ],
             [
              0.2222222222222222,
              "#7201a8"
             ],
             [
              0.3333333333333333,
              "#9c179e"
             ],
             [
              0.4444444444444444,
              "#bd3786"
             ],
             [
              0.5555555555555556,
              "#d8576b"
             ],
             [
              0.6666666666666666,
              "#ed7953"
             ],
             [
              0.7777777777777778,
              "#fb9f3a"
             ],
             [
              0.8888888888888888,
              "#fdca26"
             ],
             [
              1,
              "#f0f921"
             ]
            ],
            "type": "histogram2dcontour"
           }
          ],
          "mesh3d": [
           {
            "colorbar": {
             "outlinewidth": 0,
             "ticks": ""
            },
            "type": "mesh3d"
           }
          ],
          "parcoords": [
           {
            "line": {
             "colorbar": {
              "outlinewidth": 0,
              "ticks": ""
             }
            },
            "type": "parcoords"
           }
          ],
          "pie": [
           {
            "automargin": true,
            "type": "pie"
           }
          ],
          "scatter": [
           {
            "fillpattern": {
             "fillmode": "overlay",
             "size": 10,
             "solidity": 0.2
            },
            "type": "scatter"
           }
          ],
          "scatter3d": [
           {
            "line": {
             "colorbar": {
              "outlinewidth": 0,
              "ticks": ""
             }
            },
            "marker": {
             "colorbar": {
              "outlinewidth": 0,
              "ticks": ""
             }
            },
            "type": "scatter3d"
           }
          ],
          "scattercarpet": [
           {
            "marker": {
             "colorbar": {
              "outlinewidth": 0,
              "ticks": ""
             }
            },
            "type": "scattercarpet"
           }
          ],
          "scattergeo": [
           {
            "marker": {
             "colorbar": {
              "outlinewidth": 0,
              "ticks": ""
             }
            },
            "type": "scattergeo"
           }
          ],
          "scattergl": [
           {
            "marker": {
             "colorbar": {
              "outlinewidth": 0,
              "ticks": ""
             }
            },
            "type": "scattergl"
           }
          ],
          "scattermapbox": [
           {
            "marker": {
             "colorbar": {
              "outlinewidth": 0,
              "ticks": ""
             }
            },
            "type": "scattermapbox"
           }
          ],
          "scatterpolar": [
           {
            "marker": {
             "colorbar": {
              "outlinewidth": 0,
              "ticks": ""
             }
            },
            "type": "scatterpolar"
           }
          ],
          "scatterpolargl": [
           {
            "marker": {
             "colorbar": {
              "outlinewidth": 0,
              "ticks": ""
             }
            },
            "type": "scatterpolargl"
           }
          ],
          "scatterternary": [
           {
            "marker": {
             "colorbar": {
              "outlinewidth": 0,
              "ticks": ""
             }
            },
            "type": "scatterternary"
           }
          ],
          "surface": [
           {
            "colorbar": {
             "outlinewidth": 0,
             "ticks": ""
            },
            "colorscale": [
             [
              0,
              "#0d0887"
             ],
             [
              0.1111111111111111,
              "#46039f"
             ],
             [
              0.2222222222222222,
              "#7201a8"
             ],
             [
              0.3333333333333333,
              "#9c179e"
             ],
             [
              0.4444444444444444,
              "#bd3786"
             ],
             [
              0.5555555555555556,
              "#d8576b"
             ],
             [
              0.6666666666666666,
              "#ed7953"
             ],
             [
              0.7777777777777778,
              "#fb9f3a"
             ],
             [
              0.8888888888888888,
              "#fdca26"
             ],
             [
              1,
              "#f0f921"
             ]
            ],
            "type": "surface"
           }
          ],
          "table": [
           {
            "cells": {
             "fill": {
              "color": "#EBF0F8"
             },
             "line": {
              "color": "white"
             }
            },
            "header": {
             "fill": {
              "color": "#C8D4E3"
             },
             "line": {
              "color": "white"
             }
            },
            "type": "table"
           }
          ]
         },
         "layout": {
          "annotationdefaults": {
           "arrowcolor": "#2a3f5f",
           "arrowhead": 0,
           "arrowwidth": 1
          },
          "autotypenumbers": "strict",
          "coloraxis": {
           "colorbar": {
            "outlinewidth": 0,
            "ticks": ""
           }
          },
          "colorscale": {
           "diverging": [
            [
             0,
             "#8e0152"
            ],
            [
             0.1,
             "#c51b7d"
            ],
            [
             0.2,
             "#de77ae"
            ],
            [
             0.3,
             "#f1b6da"
            ],
            [
             0.4,
             "#fde0ef"
            ],
            [
             0.5,
             "#f7f7f7"
            ],
            [
             0.6,
             "#e6f5d0"
            ],
            [
             0.7,
             "#b8e186"
            ],
            [
             0.8,
             "#7fbc41"
            ],
            [
             0.9,
             "#4d9221"
            ],
            [
             1,
             "#276419"
            ]
           ],
           "sequential": [
            [
             0,
             "#0d0887"
            ],
            [
             0.1111111111111111,
             "#46039f"
            ],
            [
             0.2222222222222222,
             "#7201a8"
            ],
            [
             0.3333333333333333,
             "#9c179e"
            ],
            [
             0.4444444444444444,
             "#bd3786"
            ],
            [
             0.5555555555555556,
             "#d8576b"
            ],
            [
             0.6666666666666666,
             "#ed7953"
            ],
            [
             0.7777777777777778,
             "#fb9f3a"
            ],
            [
             0.8888888888888888,
             "#fdca26"
            ],
            [
             1,
             "#f0f921"
            ]
           ],
           "sequentialminus": [
            [
             0,
             "#0d0887"
            ],
            [
             0.1111111111111111,
             "#46039f"
            ],
            [
             0.2222222222222222,
             "#7201a8"
            ],
            [
             0.3333333333333333,
             "#9c179e"
            ],
            [
             0.4444444444444444,
             "#bd3786"
            ],
            [
             0.5555555555555556,
             "#d8576b"
            ],
            [
             0.6666666666666666,
             "#ed7953"
            ],
            [
             0.7777777777777778,
             "#fb9f3a"
            ],
            [
             0.8888888888888888,
             "#fdca26"
            ],
            [
             1,
             "#f0f921"
            ]
           ]
          },
          "colorway": [
           "#636efa",
           "#EF553B",
           "#00cc96",
           "#ab63fa",
           "#FFA15A",
           "#19d3f3",
           "#FF6692",
           "#B6E880",
           "#FF97FF",
           "#FECB52"
          ],
          "font": {
           "color": "#2a3f5f"
          },
          "geo": {
           "bgcolor": "white",
           "lakecolor": "white",
           "landcolor": "#E5ECF6",
           "showlakes": true,
           "showland": true,
           "subunitcolor": "white"
          },
          "hoverlabel": {
           "align": "left"
          },
          "hovermode": "closest",
          "mapbox": {
           "style": "light"
          },
          "paper_bgcolor": "white",
          "plot_bgcolor": "#E5ECF6",
          "polar": {
           "angularaxis": {
            "gridcolor": "white",
            "linecolor": "white",
            "ticks": ""
           },
           "bgcolor": "#E5ECF6",
           "radialaxis": {
            "gridcolor": "white",
            "linecolor": "white",
            "ticks": ""
           }
          },
          "scene": {
           "xaxis": {
            "backgroundcolor": "#E5ECF6",
            "gridcolor": "white",
            "gridwidth": 2,
            "linecolor": "white",
            "showbackground": true,
            "ticks": "",
            "zerolinecolor": "white"
           },
           "yaxis": {
            "backgroundcolor": "#E5ECF6",
            "gridcolor": "white",
            "gridwidth": 2,
            "linecolor": "white",
            "showbackground": true,
            "ticks": "",
            "zerolinecolor": "white"
           },
           "zaxis": {
            "backgroundcolor": "#E5ECF6",
            "gridcolor": "white",
            "gridwidth": 2,
            "linecolor": "white",
            "showbackground": true,
            "ticks": "",
            "zerolinecolor": "white"
           }
          },
          "shapedefaults": {
           "line": {
            "color": "#2a3f5f"
           }
          },
          "ternary": {
           "aaxis": {
            "gridcolor": "white",
            "linecolor": "white",
            "ticks": ""
           },
           "baxis": {
            "gridcolor": "white",
            "linecolor": "white",
            "ticks": ""
           },
           "bgcolor": "#E5ECF6",
           "caxis": {
            "gridcolor": "white",
            "linecolor": "white",
            "ticks": ""
           }
          },
          "title": {
           "x": 0.05
          },
          "xaxis": {
           "automargin": true,
           "gridcolor": "white",
           "linecolor": "white",
           "ticks": "",
           "title": {
            "standoff": 15
           },
           "zerolinecolor": "white",
           "zerolinewidth": 2
          },
          "yaxis": {
           "automargin": true,
           "gridcolor": "white",
           "linecolor": "white",
           "ticks": "",
           "title": {
            "standoff": 15
           },
           "zerolinecolor": "white",
           "zerolinewidth": 2
          }
         }
        },
        "title": {
         "font": {
          "size": 15
         },
         "text": "Payment Type Analysis"
        }
       }
      },
      "text/html": [
       "<div>                            <div id=\"17c0ed51-b045-4ae2-9299-8214ea2eae82\" class=\"plotly-graph-div\" style=\"height:525px; width:100%;\"></div>            <script type=\"text/javascript\">                require([\"plotly\"], function(Plotly) {                    window.PLOTLYENV=window.PLOTLYENV || {};                                    if (document.getElementById(\"17c0ed51-b045-4ae2-9299-8214ea2eae82\")) {                    Plotly.newPlot(                        \"17c0ed51-b045-4ae2-9299-8214ea2eae82\",                        [{\"labels\":[\"credit_card\",\"boleto\",\"voucher\",\"debit_card\"],\"values\":[76505,19784,3866,1528],\"type\":\"pie\"}],                        {\"template\":{\"data\":{\"histogram2dcontour\":[{\"type\":\"histogram2dcontour\",\"colorbar\":{\"outlinewidth\":0,\"ticks\":\"\"},\"colorscale\":[[0.0,\"#0d0887\"],[0.1111111111111111,\"#46039f\"],[0.2222222222222222,\"#7201a8\"],[0.3333333333333333,\"#9c179e\"],[0.4444444444444444,\"#bd3786\"],[0.5555555555555556,\"#d8576b\"],[0.6666666666666666,\"#ed7953\"],[0.7777777777777778,\"#fb9f3a\"],[0.8888888888888888,\"#fdca26\"],[1.0,\"#f0f921\"]]}],\"choropleth\":[{\"type\":\"choropleth\",\"colorbar\":{\"outlinewidth\":0,\"ticks\":\"\"}}],\"histogram2d\":[{\"type\":\"histogram2d\",\"colorbar\":{\"outlinewidth\":0,\"ticks\":\"\"},\"colorscale\":[[0.0,\"#0d0887\"],[0.1111111111111111,\"#46039f\"],[0.2222222222222222,\"#7201a8\"],[0.3333333333333333,\"#9c179e\"],[0.4444444444444444,\"#bd3786\"],[0.5555555555555556,\"#d8576b\"],[0.6666666666666666,\"#ed7953\"],[0.7777777777777778,\"#fb9f3a\"],[0.8888888888888888,\"#fdca26\"],[1.0,\"#f0f921\"]]}],\"heatmap\":[{\"type\":\"heatmap\",\"colorbar\":{\"outlinewidth\":0,\"ticks\":\"\"},\"colorscale\":[[0.0,\"#0d0887\"],[0.1111111111111111,\"#46039f\"],[0.2222222222222222,\"#7201a8\"],[0.3333333333333333,\"#9c179e\"],[0.4444444444444444,\"#bd3786\"],[0.5555555555555556,\"#d8576b\"],[0.6666666666666666,\"#ed7953\"],[0.7777777777777778,\"#fb9f3a\"],[0.8888888888888888,\"#fdca26\"],[1.0,\"#f0f921\"]]}],\"heatmapgl\":[{\"type\":\"heatmapgl\",\"colorbar\":{\"outlinewidth\":0,\"ticks\":\"\"},\"colorscale\":[[0.0,\"#0d0887\"],[0.1111111111111111,\"#46039f\"],[0.2222222222222222,\"#7201a8\"],[0.3333333333333333,\"#9c179e\"],[0.4444444444444444,\"#bd3786\"],[0.5555555555555556,\"#d8576b\"],[0.6666666666666666,\"#ed7953\"],[0.7777777777777778,\"#fb9f3a\"],[0.8888888888888888,\"#fdca26\"],[1.0,\"#f0f921\"]]}],\"contourcarpet\":[{\"type\":\"contourcarpet\",\"colorbar\":{\"outlinewidth\":0,\"ticks\":\"\"}}],\"contour\":[{\"type\":\"contour\",\"colorbar\":{\"outlinewidth\":0,\"ticks\":\"\"},\"colorscale\":[[0.0,\"#0d0887\"],[0.1111111111111111,\"#46039f\"],[0.2222222222222222,\"#7201a8\"],[0.3333333333333333,\"#9c179e\"],[0.4444444444444444,\"#bd3786\"],[0.5555555555555556,\"#d8576b\"],[0.6666666666666666,\"#ed7953\"],[0.7777777777777778,\"#fb9f3a\"],[0.8888888888888888,\"#fdca26\"],[1.0,\"#f0f921\"]]}],\"surface\":[{\"type\":\"surface\",\"colorbar\":{\"outlinewidth\":0,\"ticks\":\"\"},\"colorscale\":[[0.0,\"#0d0887\"],[0.1111111111111111,\"#46039f\"],[0.2222222222222222,\"#7201a8\"],[0.3333333333333333,\"#9c179e\"],[0.4444444444444444,\"#bd3786\"],[0.5555555555555556,\"#d8576b\"],[0.6666666666666666,\"#ed7953\"],[0.7777777777777778,\"#fb9f3a\"],[0.8888888888888888,\"#fdca26\"],[1.0,\"#f0f921\"]]}],\"mesh3d\":[{\"type\":\"mesh3d\",\"colorbar\":{\"outlinewidth\":0,\"ticks\":\"\"}}],\"scatter\":[{\"fillpattern\":{\"fillmode\":\"overlay\",\"size\":10,\"solidity\":0.2},\"type\":\"scatter\"}],\"parcoords\":[{\"type\":\"parcoords\",\"line\":{\"colorbar\":{\"outlinewidth\":0,\"ticks\":\"\"}}}],\"scatterpolargl\":[{\"type\":\"scatterpolargl\",\"marker\":{\"colorbar\":{\"outlinewidth\":0,\"ticks\":\"\"}}}],\"bar\":[{\"error_x\":{\"color\":\"#2a3f5f\"},\"error_y\":{\"color\":\"#2a3f5f\"},\"marker\":{\"line\":{\"color\":\"#E5ECF6\",\"width\":0.5},\"pattern\":{\"fillmode\":\"overlay\",\"size\":10,\"solidity\":0.2}},\"type\":\"bar\"}],\"scattergeo\":[{\"type\":\"scattergeo\",\"marker\":{\"colorbar\":{\"outlinewidth\":0,\"ticks\":\"\"}}}],\"scatterpolar\":[{\"type\":\"scatterpolar\",\"marker\":{\"colorbar\":{\"outlinewidth\":0,\"ticks\":\"\"}}}],\"histogram\":[{\"marker\":{\"pattern\":{\"fillmode\":\"overlay\",\"size\":10,\"solidity\":0.2}},\"type\":\"histogram\"}],\"scattergl\":[{\"type\":\"scattergl\",\"marker\":{\"colorbar\":{\"outlinewidth\":0,\"ticks\":\"\"}}}],\"scatter3d\":[{\"type\":\"scatter3d\",\"line\":{\"colorbar\":{\"outlinewidth\":0,\"ticks\":\"\"}},\"marker\":{\"colorbar\":{\"outlinewidth\":0,\"ticks\":\"\"}}}],\"scattermapbox\":[{\"type\":\"scattermapbox\",\"marker\":{\"colorbar\":{\"outlinewidth\":0,\"ticks\":\"\"}}}],\"scatterternary\":[{\"type\":\"scatterternary\",\"marker\":{\"colorbar\":{\"outlinewidth\":0,\"ticks\":\"\"}}}],\"scattercarpet\":[{\"type\":\"scattercarpet\",\"marker\":{\"colorbar\":{\"outlinewidth\":0,\"ticks\":\"\"}}}],\"carpet\":[{\"aaxis\":{\"endlinecolor\":\"#2a3f5f\",\"gridcolor\":\"white\",\"linecolor\":\"white\",\"minorgridcolor\":\"white\",\"startlinecolor\":\"#2a3f5f\"},\"baxis\":{\"endlinecolor\":\"#2a3f5f\",\"gridcolor\":\"white\",\"linecolor\":\"white\",\"minorgridcolor\":\"white\",\"startlinecolor\":\"#2a3f5f\"},\"type\":\"carpet\"}],\"table\":[{\"cells\":{\"fill\":{\"color\":\"#EBF0F8\"},\"line\":{\"color\":\"white\"}},\"header\":{\"fill\":{\"color\":\"#C8D4E3\"},\"line\":{\"color\":\"white\"}},\"type\":\"table\"}],\"barpolar\":[{\"marker\":{\"line\":{\"color\":\"#E5ECF6\",\"width\":0.5},\"pattern\":{\"fillmode\":\"overlay\",\"size\":10,\"solidity\":0.2}},\"type\":\"barpolar\"}],\"pie\":[{\"automargin\":true,\"type\":\"pie\"}]},\"layout\":{\"autotypenumbers\":\"strict\",\"colorway\":[\"#636efa\",\"#EF553B\",\"#00cc96\",\"#ab63fa\",\"#FFA15A\",\"#19d3f3\",\"#FF6692\",\"#B6E880\",\"#FF97FF\",\"#FECB52\"],\"font\":{\"color\":\"#2a3f5f\"},\"hovermode\":\"closest\",\"hoverlabel\":{\"align\":\"left\"},\"paper_bgcolor\":\"white\",\"plot_bgcolor\":\"#E5ECF6\",\"polar\":{\"bgcolor\":\"#E5ECF6\",\"angularaxis\":{\"gridcolor\":\"white\",\"linecolor\":\"white\",\"ticks\":\"\"},\"radialaxis\":{\"gridcolor\":\"white\",\"linecolor\":\"white\",\"ticks\":\"\"}},\"ternary\":{\"bgcolor\":\"#E5ECF6\",\"aaxis\":{\"gridcolor\":\"white\",\"linecolor\":\"white\",\"ticks\":\"\"},\"baxis\":{\"gridcolor\":\"white\",\"linecolor\":\"white\",\"ticks\":\"\"},\"caxis\":{\"gridcolor\":\"white\",\"linecolor\":\"white\",\"ticks\":\"\"}},\"coloraxis\":{\"colorbar\":{\"outlinewidth\":0,\"ticks\":\"\"}},\"colorscale\":{\"sequential\":[[0.0,\"#0d0887\"],[0.1111111111111111,\"#46039f\"],[0.2222222222222222,\"#7201a8\"],[0.3333333333333333,\"#9c179e\"],[0.4444444444444444,\"#bd3786\"],[0.5555555555555556,\"#d8576b\"],[0.6666666666666666,\"#ed7953\"],[0.7777777777777778,\"#fb9f3a\"],[0.8888888888888888,\"#fdca26\"],[1.0,\"#f0f921\"]],\"sequentialminus\":[[0.0,\"#0d0887\"],[0.1111111111111111,\"#46039f\"],[0.2222222222222222,\"#7201a8\"],[0.3333333333333333,\"#9c179e\"],[0.4444444444444444,\"#bd3786\"],[0.5555555555555556,\"#d8576b\"],[0.6666666666666666,\"#ed7953\"],[0.7777777777777778,\"#fb9f3a\"],[0.8888888888888888,\"#fdca26\"],[1.0,\"#f0f921\"]],\"diverging\":[[0,\"#8e0152\"],[0.1,\"#c51b7d\"],[0.2,\"#de77ae\"],[0.3,\"#f1b6da\"],[0.4,\"#fde0ef\"],[0.5,\"#f7f7f7\"],[0.6,\"#e6f5d0\"],[0.7,\"#b8e186\"],[0.8,\"#7fbc41\"],[0.9,\"#4d9221\"],[1,\"#276419\"]]},\"xaxis\":{\"gridcolor\":\"white\",\"linecolor\":\"white\",\"ticks\":\"\",\"title\":{\"standoff\":15},\"zerolinecolor\":\"white\",\"automargin\":true,\"zerolinewidth\":2},\"yaxis\":{\"gridcolor\":\"white\",\"linecolor\":\"white\",\"ticks\":\"\",\"title\":{\"standoff\":15},\"zerolinecolor\":\"white\",\"automargin\":true,\"zerolinewidth\":2},\"scene\":{\"xaxis\":{\"backgroundcolor\":\"#E5ECF6\",\"gridcolor\":\"white\",\"linecolor\":\"white\",\"showbackground\":true,\"ticks\":\"\",\"zerolinecolor\":\"white\",\"gridwidth\":2},\"yaxis\":{\"backgroundcolor\":\"#E5ECF6\",\"gridcolor\":\"white\",\"linecolor\":\"white\",\"showbackground\":true,\"ticks\":\"\",\"zerolinecolor\":\"white\",\"gridwidth\":2},\"zaxis\":{\"backgroundcolor\":\"#E5ECF6\",\"gridcolor\":\"white\",\"linecolor\":\"white\",\"showbackground\":true,\"ticks\":\"\",\"zerolinecolor\":\"white\",\"gridwidth\":2}},\"shapedefaults\":{\"line\":{\"color\":\"#2a3f5f\"}},\"annotationdefaults\":{\"arrowcolor\":\"#2a3f5f\",\"arrowhead\":0,\"arrowwidth\":1},\"geo\":{\"bgcolor\":\"white\",\"landcolor\":\"#E5ECF6\",\"subunitcolor\":\"white\",\"showland\":true,\"showlakes\":true,\"lakecolor\":\"white\"},\"title\":{\"x\":0.05},\"mapbox\":{\"style\":\"light\"}}},\"title\":{\"font\":{\"size\":15},\"text\":\"Payment Type Analysis\"},\"showlegend\":true},                        {\"responsive\": true}                    ).then(function(){\n",
       "                            \n",
       "var gd = document.getElementById('17c0ed51-b045-4ae2-9299-8214ea2eae82');\n",
       "var x = new MutationObserver(function (mutations, observer) {{\n",
       "        var display = window.getComputedStyle(gd).display;\n",
       "        if (!display || display === 'none') {{\n",
       "            console.log([gd, 'removed!']);\n",
       "            Plotly.purge(gd);\n",
       "            observer.disconnect();\n",
       "        }}\n",
       "}});\n",
       "\n",
       "// Listen for the removal of the full notebook cells\n",
       "var notebookContainer = gd.closest('#notebook-container');\n",
       "if (notebookContainer) {{\n",
       "    x.observe(notebookContainer, {childList: true});\n",
       "}}\n",
       "\n",
       "// Listen for the clearing of the current output cell\n",
       "var outputEl = gd.closest('.output');\n",
       "if (outputEl) {{\n",
       "    x.observe(outputEl, {childList: true});\n",
       "}}\n",
       "\n",
       "                        })                };                });            </script>        </div>"
      ]
     },
     "metadata": {},
     "output_type": "display_data"
    }
   ],
   "source": [
    "import plotly.graph_objects as go\n",
    "\n",
    "fig = go.Figure()\n",
    "fig.add_trace(\n",
    "    go.Pie(    \n",
    "        labels=payment_type_count.index, values=payment_type_count.values\n",
    "    )\n",
    ")\n",
    "\n",
    "fig.update_layout(\n",
    "    {\n",
    "        \"title\": {\n",
    "            \"text\": \"Payment Type Analysis\",\n",
    "            \"font\": {\n",
    "                \"size\": 15\n",
    "            }\n",
    "        },\n",
    "        \"showlegend\": True\n",
    "    }\n",
    ")\n",
    "\n",
    "fig.show()"
   ]
  },
  {
   "cell_type": "markdown",
   "metadata": {},
   "source": [
    "### 그래프 세부 조정\n",
    "- 각 필드 확인: https://plotly.com/python/reference/"
   ]
  },
  {
   "cell_type": "code",
   "execution_count": 38,
   "metadata": {},
   "outputs": [
    {
     "data": {
      "application/vnd.plotly.v1+json": {
       "config": {
        "plotlyServerURL": "https://plot.ly"
       },
       "data": [
        {
         "insidetextorientation": "tangential",
         "labels": [
          "credit_card",
          "boleto",
          "voucher",
          "debit_card"
         ],
         "textinfo": "label+percent",
         "type": "pie",
         "values": [
          76505,
          19784,
          3866,
          1528
         ]
        }
       ],
       "layout": {
        "showlegend": true,
        "template": {
         "data": {
          "bar": [
           {
            "error_x": {
             "color": "#2a3f5f"
            },
            "error_y": {
             "color": "#2a3f5f"
            },
            "marker": {
             "line": {
              "color": "#E5ECF6",
              "width": 0.5
             },
             "pattern": {
              "fillmode": "overlay",
              "size": 10,
              "solidity": 0.2
             }
            },
            "type": "bar"
           }
          ],
          "barpolar": [
           {
            "marker": {
             "line": {
              "color": "#E5ECF6",
              "width": 0.5
             },
             "pattern": {
              "fillmode": "overlay",
              "size": 10,
              "solidity": 0.2
             }
            },
            "type": "barpolar"
           }
          ],
          "carpet": [
           {
            "aaxis": {
             "endlinecolor": "#2a3f5f",
             "gridcolor": "white",
             "linecolor": "white",
             "minorgridcolor": "white",
             "startlinecolor": "#2a3f5f"
            },
            "baxis": {
             "endlinecolor": "#2a3f5f",
             "gridcolor": "white",
             "linecolor": "white",
             "minorgridcolor": "white",
             "startlinecolor": "#2a3f5f"
            },
            "type": "carpet"
           }
          ],
          "choropleth": [
           {
            "colorbar": {
             "outlinewidth": 0,
             "ticks": ""
            },
            "type": "choropleth"
           }
          ],
          "contour": [
           {
            "colorbar": {
             "outlinewidth": 0,
             "ticks": ""
            },
            "colorscale": [
             [
              0,
              "#0d0887"
             ],
             [
              0.1111111111111111,
              "#46039f"
             ],
             [
              0.2222222222222222,
              "#7201a8"
             ],
             [
              0.3333333333333333,
              "#9c179e"
             ],
             [
              0.4444444444444444,
              "#bd3786"
             ],
             [
              0.5555555555555556,
              "#d8576b"
             ],
             [
              0.6666666666666666,
              "#ed7953"
             ],
             [
              0.7777777777777778,
              "#fb9f3a"
             ],
             [
              0.8888888888888888,
              "#fdca26"
             ],
             [
              1,
              "#f0f921"
             ]
            ],
            "type": "contour"
           }
          ],
          "contourcarpet": [
           {
            "colorbar": {
             "outlinewidth": 0,
             "ticks": ""
            },
            "type": "contourcarpet"
           }
          ],
          "heatmap": [
           {
            "colorbar": {
             "outlinewidth": 0,
             "ticks": ""
            },
            "colorscale": [
             [
              0,
              "#0d0887"
             ],
             [
              0.1111111111111111,
              "#46039f"
             ],
             [
              0.2222222222222222,
              "#7201a8"
             ],
             [
              0.3333333333333333,
              "#9c179e"
             ],
             [
              0.4444444444444444,
              "#bd3786"
             ],
             [
              0.5555555555555556,
              "#d8576b"
             ],
             [
              0.6666666666666666,
              "#ed7953"
             ],
             [
              0.7777777777777778,
              "#fb9f3a"
             ],
             [
              0.8888888888888888,
              "#fdca26"
             ],
             [
              1,
              "#f0f921"
             ]
            ],
            "type": "heatmap"
           }
          ],
          "heatmapgl": [
           {
            "colorbar": {
             "outlinewidth": 0,
             "ticks": ""
            },
            "colorscale": [
             [
              0,
              "#0d0887"
             ],
             [
              0.1111111111111111,
              "#46039f"
             ],
             [
              0.2222222222222222,
              "#7201a8"
             ],
             [
              0.3333333333333333,
              "#9c179e"
             ],
             [
              0.4444444444444444,
              "#bd3786"
             ],
             [
              0.5555555555555556,
              "#d8576b"
             ],
             [
              0.6666666666666666,
              "#ed7953"
             ],
             [
              0.7777777777777778,
              "#fb9f3a"
             ],
             [
              0.8888888888888888,
              "#fdca26"
             ],
             [
              1,
              "#f0f921"
             ]
            ],
            "type": "heatmapgl"
           }
          ],
          "histogram": [
           {
            "marker": {
             "pattern": {
              "fillmode": "overlay",
              "size": 10,
              "solidity": 0.2
             }
            },
            "type": "histogram"
           }
          ],
          "histogram2d": [
           {
            "colorbar": {
             "outlinewidth": 0,
             "ticks": ""
            },
            "colorscale": [
             [
              0,
              "#0d0887"
             ],
             [
              0.1111111111111111,
              "#46039f"
             ],
             [
              0.2222222222222222,
              "#7201a8"
             ],
             [
              0.3333333333333333,
              "#9c179e"
             ],
             [
              0.4444444444444444,
              "#bd3786"
             ],
             [
              0.5555555555555556,
              "#d8576b"
             ],
             [
              0.6666666666666666,
              "#ed7953"
             ],
             [
              0.7777777777777778,
              "#fb9f3a"
             ],
             [
              0.8888888888888888,
              "#fdca26"
             ],
             [
              1,
              "#f0f921"
             ]
            ],
            "type": "histogram2d"
           }
          ],
          "histogram2dcontour": [
           {
            "colorbar": {
             "outlinewidth": 0,
             "ticks": ""
            },
            "colorscale": [
             [
              0,
              "#0d0887"
             ],
             [
              0.1111111111111111,
              "#46039f"
             ],
             [
              0.2222222222222222,
              "#7201a8"
             ],
             [
              0.3333333333333333,
              "#9c179e"
             ],
             [
              0.4444444444444444,
              "#bd3786"
             ],
             [
              0.5555555555555556,
              "#d8576b"
             ],
             [
              0.6666666666666666,
              "#ed7953"
             ],
             [
              0.7777777777777778,
              "#fb9f3a"
             ],
             [
              0.8888888888888888,
              "#fdca26"
             ],
             [
              1,
              "#f0f921"
             ]
            ],
            "type": "histogram2dcontour"
           }
          ],
          "mesh3d": [
           {
            "colorbar": {
             "outlinewidth": 0,
             "ticks": ""
            },
            "type": "mesh3d"
           }
          ],
          "parcoords": [
           {
            "line": {
             "colorbar": {
              "outlinewidth": 0,
              "ticks": ""
             }
            },
            "type": "parcoords"
           }
          ],
          "pie": [
           {
            "automargin": true,
            "type": "pie"
           }
          ],
          "scatter": [
           {
            "fillpattern": {
             "fillmode": "overlay",
             "size": 10,
             "solidity": 0.2
            },
            "type": "scatter"
           }
          ],
          "scatter3d": [
           {
            "line": {
             "colorbar": {
              "outlinewidth": 0,
              "ticks": ""
             }
            },
            "marker": {
             "colorbar": {
              "outlinewidth": 0,
              "ticks": ""
             }
            },
            "type": "scatter3d"
           }
          ],
          "scattercarpet": [
           {
            "marker": {
             "colorbar": {
              "outlinewidth": 0,
              "ticks": ""
             }
            },
            "type": "scattercarpet"
           }
          ],
          "scattergeo": [
           {
            "marker": {
             "colorbar": {
              "outlinewidth": 0,
              "ticks": ""
             }
            },
            "type": "scattergeo"
           }
          ],
          "scattergl": [
           {
            "marker": {
             "colorbar": {
              "outlinewidth": 0,
              "ticks": ""
             }
            },
            "type": "scattergl"
           }
          ],
          "scattermapbox": [
           {
            "marker": {
             "colorbar": {
              "outlinewidth": 0,
              "ticks": ""
             }
            },
            "type": "scattermapbox"
           }
          ],
          "scatterpolar": [
           {
            "marker": {
             "colorbar": {
              "outlinewidth": 0,
              "ticks": ""
             }
            },
            "type": "scatterpolar"
           }
          ],
          "scatterpolargl": [
           {
            "marker": {
             "colorbar": {
              "outlinewidth": 0,
              "ticks": ""
             }
            },
            "type": "scatterpolargl"
           }
          ],
          "scatterternary": [
           {
            "marker": {
             "colorbar": {
              "outlinewidth": 0,
              "ticks": ""
             }
            },
            "type": "scatterternary"
           }
          ],
          "surface": [
           {
            "colorbar": {
             "outlinewidth": 0,
             "ticks": ""
            },
            "colorscale": [
             [
              0,
              "#0d0887"
             ],
             [
              0.1111111111111111,
              "#46039f"
             ],
             [
              0.2222222222222222,
              "#7201a8"
             ],
             [
              0.3333333333333333,
              "#9c179e"
             ],
             [
              0.4444444444444444,
              "#bd3786"
             ],
             [
              0.5555555555555556,
              "#d8576b"
             ],
             [
              0.6666666666666666,
              "#ed7953"
             ],
             [
              0.7777777777777778,
              "#fb9f3a"
             ],
             [
              0.8888888888888888,
              "#fdca26"
             ],
             [
              1,
              "#f0f921"
             ]
            ],
            "type": "surface"
           }
          ],
          "table": [
           {
            "cells": {
             "fill": {
              "color": "#EBF0F8"
             },
             "line": {
              "color": "white"
             }
            },
            "header": {
             "fill": {
              "color": "#C8D4E3"
             },
             "line": {
              "color": "white"
             }
            },
            "type": "table"
           }
          ]
         },
         "layout": {
          "annotationdefaults": {
           "arrowcolor": "#2a3f5f",
           "arrowhead": 0,
           "arrowwidth": 1
          },
          "autotypenumbers": "strict",
          "coloraxis": {
           "colorbar": {
            "outlinewidth": 0,
            "ticks": ""
           }
          },
          "colorscale": {
           "diverging": [
            [
             0,
             "#8e0152"
            ],
            [
             0.1,
             "#c51b7d"
            ],
            [
             0.2,
             "#de77ae"
            ],
            [
             0.3,
             "#f1b6da"
            ],
            [
             0.4,
             "#fde0ef"
            ],
            [
             0.5,
             "#f7f7f7"
            ],
            [
             0.6,
             "#e6f5d0"
            ],
            [
             0.7,
             "#b8e186"
            ],
            [
             0.8,
             "#7fbc41"
            ],
            [
             0.9,
             "#4d9221"
            ],
            [
             1,
             "#276419"
            ]
           ],
           "sequential": [
            [
             0,
             "#0d0887"
            ],
            [
             0.1111111111111111,
             "#46039f"
            ],
            [
             0.2222222222222222,
             "#7201a8"
            ],
            [
             0.3333333333333333,
             "#9c179e"
            ],
            [
             0.4444444444444444,
             "#bd3786"
            ],
            [
             0.5555555555555556,
             "#d8576b"
            ],
            [
             0.6666666666666666,
             "#ed7953"
            ],
            [
             0.7777777777777778,
             "#fb9f3a"
            ],
            [
             0.8888888888888888,
             "#fdca26"
            ],
            [
             1,
             "#f0f921"
            ]
           ],
           "sequentialminus": [
            [
             0,
             "#0d0887"
            ],
            [
             0.1111111111111111,
             "#46039f"
            ],
            [
             0.2222222222222222,
             "#7201a8"
            ],
            [
             0.3333333333333333,
             "#9c179e"
            ],
            [
             0.4444444444444444,
             "#bd3786"
            ],
            [
             0.5555555555555556,
             "#d8576b"
            ],
            [
             0.6666666666666666,
             "#ed7953"
            ],
            [
             0.7777777777777778,
             "#fb9f3a"
            ],
            [
             0.8888888888888888,
             "#fdca26"
            ],
            [
             1,
             "#f0f921"
            ]
           ]
          },
          "colorway": [
           "#636efa",
           "#EF553B",
           "#00cc96",
           "#ab63fa",
           "#FFA15A",
           "#19d3f3",
           "#FF6692",
           "#B6E880",
           "#FF97FF",
           "#FECB52"
          ],
          "font": {
           "color": "#2a3f5f"
          },
          "geo": {
           "bgcolor": "white",
           "lakecolor": "white",
           "landcolor": "#E5ECF6",
           "showlakes": true,
           "showland": true,
           "subunitcolor": "white"
          },
          "hoverlabel": {
           "align": "left"
          },
          "hovermode": "closest",
          "mapbox": {
           "style": "light"
          },
          "paper_bgcolor": "white",
          "plot_bgcolor": "#E5ECF6",
          "polar": {
           "angularaxis": {
            "gridcolor": "white",
            "linecolor": "white",
            "ticks": ""
           },
           "bgcolor": "#E5ECF6",
           "radialaxis": {
            "gridcolor": "white",
            "linecolor": "white",
            "ticks": ""
           }
          },
          "scene": {
           "xaxis": {
            "backgroundcolor": "#E5ECF6",
            "gridcolor": "white",
            "gridwidth": 2,
            "linecolor": "white",
            "showbackground": true,
            "ticks": "",
            "zerolinecolor": "white"
           },
           "yaxis": {
            "backgroundcolor": "#E5ECF6",
            "gridcolor": "white",
            "gridwidth": 2,
            "linecolor": "white",
            "showbackground": true,
            "ticks": "",
            "zerolinecolor": "white"
           },
           "zaxis": {
            "backgroundcolor": "#E5ECF6",
            "gridcolor": "white",
            "gridwidth": 2,
            "linecolor": "white",
            "showbackground": true,
            "ticks": "",
            "zerolinecolor": "white"
           }
          },
          "shapedefaults": {
           "line": {
            "color": "#2a3f5f"
           }
          },
          "ternary": {
           "aaxis": {
            "gridcolor": "white",
            "linecolor": "white",
            "ticks": ""
           },
           "baxis": {
            "gridcolor": "white",
            "linecolor": "white",
            "ticks": ""
           },
           "bgcolor": "#E5ECF6",
           "caxis": {
            "gridcolor": "white",
            "linecolor": "white",
            "ticks": ""
           }
          },
          "title": {
           "x": 0.05
          },
          "xaxis": {
           "automargin": true,
           "gridcolor": "white",
           "linecolor": "white",
           "ticks": "",
           "title": {
            "standoff": 15
           },
           "zerolinecolor": "white",
           "zerolinewidth": 2
          },
          "yaxis": {
           "automargin": true,
           "gridcolor": "white",
           "linecolor": "white",
           "ticks": "",
           "title": {
            "standoff": 15
           },
           "zerolinecolor": "white",
           "zerolinewidth": 2
          }
         }
        },
        "title": {
         "font": {
          "size": 15
         },
         "text": "Payment Type Analysis",
         "x": 0.5,
         "y": 0.9
        }
       }
      },
      "text/html": [
       "<div>                            <div id=\"5fa61270-63e7-4655-9009-14165e007f1a\" class=\"plotly-graph-div\" style=\"height:525px; width:100%;\"></div>            <script type=\"text/javascript\">                require([\"plotly\"], function(Plotly) {                    window.PLOTLYENV=window.PLOTLYENV || {};                                    if (document.getElementById(\"5fa61270-63e7-4655-9009-14165e007f1a\")) {                    Plotly.newPlot(                        \"5fa61270-63e7-4655-9009-14165e007f1a\",                        [{\"insidetextorientation\":\"tangential\",\"labels\":[\"credit_card\",\"boleto\",\"voucher\",\"debit_card\"],\"textinfo\":\"label+percent\",\"values\":[76505,19784,3866,1528],\"type\":\"pie\"}],                        {\"template\":{\"data\":{\"histogram2dcontour\":[{\"type\":\"histogram2dcontour\",\"colorbar\":{\"outlinewidth\":0,\"ticks\":\"\"},\"colorscale\":[[0.0,\"#0d0887\"],[0.1111111111111111,\"#46039f\"],[0.2222222222222222,\"#7201a8\"],[0.3333333333333333,\"#9c179e\"],[0.4444444444444444,\"#bd3786\"],[0.5555555555555556,\"#d8576b\"],[0.6666666666666666,\"#ed7953\"],[0.7777777777777778,\"#fb9f3a\"],[0.8888888888888888,\"#fdca26\"],[1.0,\"#f0f921\"]]}],\"choropleth\":[{\"type\":\"choropleth\",\"colorbar\":{\"outlinewidth\":0,\"ticks\":\"\"}}],\"histogram2d\":[{\"type\":\"histogram2d\",\"colorbar\":{\"outlinewidth\":0,\"ticks\":\"\"},\"colorscale\":[[0.0,\"#0d0887\"],[0.1111111111111111,\"#46039f\"],[0.2222222222222222,\"#7201a8\"],[0.3333333333333333,\"#9c179e\"],[0.4444444444444444,\"#bd3786\"],[0.5555555555555556,\"#d8576b\"],[0.6666666666666666,\"#ed7953\"],[0.7777777777777778,\"#fb9f3a\"],[0.8888888888888888,\"#fdca26\"],[1.0,\"#f0f921\"]]}],\"heatmap\":[{\"type\":\"heatmap\",\"colorbar\":{\"outlinewidth\":0,\"ticks\":\"\"},\"colorscale\":[[0.0,\"#0d0887\"],[0.1111111111111111,\"#46039f\"],[0.2222222222222222,\"#7201a8\"],[0.3333333333333333,\"#9c179e\"],[0.4444444444444444,\"#bd3786\"],[0.5555555555555556,\"#d8576b\"],[0.6666666666666666,\"#ed7953\"],[0.7777777777777778,\"#fb9f3a\"],[0.8888888888888888,\"#fdca26\"],[1.0,\"#f0f921\"]]}],\"heatmapgl\":[{\"type\":\"heatmapgl\",\"colorbar\":{\"outlinewidth\":0,\"ticks\":\"\"},\"colorscale\":[[0.0,\"#0d0887\"],[0.1111111111111111,\"#46039f\"],[0.2222222222222222,\"#7201a8\"],[0.3333333333333333,\"#9c179e\"],[0.4444444444444444,\"#bd3786\"],[0.5555555555555556,\"#d8576b\"],[0.6666666666666666,\"#ed7953\"],[0.7777777777777778,\"#fb9f3a\"],[0.8888888888888888,\"#fdca26\"],[1.0,\"#f0f921\"]]}],\"contourcarpet\":[{\"type\":\"contourcarpet\",\"colorbar\":{\"outlinewidth\":0,\"ticks\":\"\"}}],\"contour\":[{\"type\":\"contour\",\"colorbar\":{\"outlinewidth\":0,\"ticks\":\"\"},\"colorscale\":[[0.0,\"#0d0887\"],[0.1111111111111111,\"#46039f\"],[0.2222222222222222,\"#7201a8\"],[0.3333333333333333,\"#9c179e\"],[0.4444444444444444,\"#bd3786\"],[0.5555555555555556,\"#d8576b\"],[0.6666666666666666,\"#ed7953\"],[0.7777777777777778,\"#fb9f3a\"],[0.8888888888888888,\"#fdca26\"],[1.0,\"#f0f921\"]]}],\"surface\":[{\"type\":\"surface\",\"colorbar\":{\"outlinewidth\":0,\"ticks\":\"\"},\"colorscale\":[[0.0,\"#0d0887\"],[0.1111111111111111,\"#46039f\"],[0.2222222222222222,\"#7201a8\"],[0.3333333333333333,\"#9c179e\"],[0.4444444444444444,\"#bd3786\"],[0.5555555555555556,\"#d8576b\"],[0.6666666666666666,\"#ed7953\"],[0.7777777777777778,\"#fb9f3a\"],[0.8888888888888888,\"#fdca26\"],[1.0,\"#f0f921\"]]}],\"mesh3d\":[{\"type\":\"mesh3d\",\"colorbar\":{\"outlinewidth\":0,\"ticks\":\"\"}}],\"scatter\":[{\"fillpattern\":{\"fillmode\":\"overlay\",\"size\":10,\"solidity\":0.2},\"type\":\"scatter\"}],\"parcoords\":[{\"type\":\"parcoords\",\"line\":{\"colorbar\":{\"outlinewidth\":0,\"ticks\":\"\"}}}],\"scatterpolargl\":[{\"type\":\"scatterpolargl\",\"marker\":{\"colorbar\":{\"outlinewidth\":0,\"ticks\":\"\"}}}],\"bar\":[{\"error_x\":{\"color\":\"#2a3f5f\"},\"error_y\":{\"color\":\"#2a3f5f\"},\"marker\":{\"line\":{\"color\":\"#E5ECF6\",\"width\":0.5},\"pattern\":{\"fillmode\":\"overlay\",\"size\":10,\"solidity\":0.2}},\"type\":\"bar\"}],\"scattergeo\":[{\"type\":\"scattergeo\",\"marker\":{\"colorbar\":{\"outlinewidth\":0,\"ticks\":\"\"}}}],\"scatterpolar\":[{\"type\":\"scatterpolar\",\"marker\":{\"colorbar\":{\"outlinewidth\":0,\"ticks\":\"\"}}}],\"histogram\":[{\"marker\":{\"pattern\":{\"fillmode\":\"overlay\",\"size\":10,\"solidity\":0.2}},\"type\":\"histogram\"}],\"scattergl\":[{\"type\":\"scattergl\",\"marker\":{\"colorbar\":{\"outlinewidth\":0,\"ticks\":\"\"}}}],\"scatter3d\":[{\"type\":\"scatter3d\",\"line\":{\"colorbar\":{\"outlinewidth\":0,\"ticks\":\"\"}},\"marker\":{\"colorbar\":{\"outlinewidth\":0,\"ticks\":\"\"}}}],\"scattermapbox\":[{\"type\":\"scattermapbox\",\"marker\":{\"colorbar\":{\"outlinewidth\":0,\"ticks\":\"\"}}}],\"scatterternary\":[{\"type\":\"scatterternary\",\"marker\":{\"colorbar\":{\"outlinewidth\":0,\"ticks\":\"\"}}}],\"scattercarpet\":[{\"type\":\"scattercarpet\",\"marker\":{\"colorbar\":{\"outlinewidth\":0,\"ticks\":\"\"}}}],\"carpet\":[{\"aaxis\":{\"endlinecolor\":\"#2a3f5f\",\"gridcolor\":\"white\",\"linecolor\":\"white\",\"minorgridcolor\":\"white\",\"startlinecolor\":\"#2a3f5f\"},\"baxis\":{\"endlinecolor\":\"#2a3f5f\",\"gridcolor\":\"white\",\"linecolor\":\"white\",\"minorgridcolor\":\"white\",\"startlinecolor\":\"#2a3f5f\"},\"type\":\"carpet\"}],\"table\":[{\"cells\":{\"fill\":{\"color\":\"#EBF0F8\"},\"line\":{\"color\":\"white\"}},\"header\":{\"fill\":{\"color\":\"#C8D4E3\"},\"line\":{\"color\":\"white\"}},\"type\":\"table\"}],\"barpolar\":[{\"marker\":{\"line\":{\"color\":\"#E5ECF6\",\"width\":0.5},\"pattern\":{\"fillmode\":\"overlay\",\"size\":10,\"solidity\":0.2}},\"type\":\"barpolar\"}],\"pie\":[{\"automargin\":true,\"type\":\"pie\"}]},\"layout\":{\"autotypenumbers\":\"strict\",\"colorway\":[\"#636efa\",\"#EF553B\",\"#00cc96\",\"#ab63fa\",\"#FFA15A\",\"#19d3f3\",\"#FF6692\",\"#B6E880\",\"#FF97FF\",\"#FECB52\"],\"font\":{\"color\":\"#2a3f5f\"},\"hovermode\":\"closest\",\"hoverlabel\":{\"align\":\"left\"},\"paper_bgcolor\":\"white\",\"plot_bgcolor\":\"#E5ECF6\",\"polar\":{\"bgcolor\":\"#E5ECF6\",\"angularaxis\":{\"gridcolor\":\"white\",\"linecolor\":\"white\",\"ticks\":\"\"},\"radialaxis\":{\"gridcolor\":\"white\",\"linecolor\":\"white\",\"ticks\":\"\"}},\"ternary\":{\"bgcolor\":\"#E5ECF6\",\"aaxis\":{\"gridcolor\":\"white\",\"linecolor\":\"white\",\"ticks\":\"\"},\"baxis\":{\"gridcolor\":\"white\",\"linecolor\":\"white\",\"ticks\":\"\"},\"caxis\":{\"gridcolor\":\"white\",\"linecolor\":\"white\",\"ticks\":\"\"}},\"coloraxis\":{\"colorbar\":{\"outlinewidth\":0,\"ticks\":\"\"}},\"colorscale\":{\"sequential\":[[0.0,\"#0d0887\"],[0.1111111111111111,\"#46039f\"],[0.2222222222222222,\"#7201a8\"],[0.3333333333333333,\"#9c179e\"],[0.4444444444444444,\"#bd3786\"],[0.5555555555555556,\"#d8576b\"],[0.6666666666666666,\"#ed7953\"],[0.7777777777777778,\"#fb9f3a\"],[0.8888888888888888,\"#fdca26\"],[1.0,\"#f0f921\"]],\"sequentialminus\":[[0.0,\"#0d0887\"],[0.1111111111111111,\"#46039f\"],[0.2222222222222222,\"#7201a8\"],[0.3333333333333333,\"#9c179e\"],[0.4444444444444444,\"#bd3786\"],[0.5555555555555556,\"#d8576b\"],[0.6666666666666666,\"#ed7953\"],[0.7777777777777778,\"#fb9f3a\"],[0.8888888888888888,\"#fdca26\"],[1.0,\"#f0f921\"]],\"diverging\":[[0,\"#8e0152\"],[0.1,\"#c51b7d\"],[0.2,\"#de77ae\"],[0.3,\"#f1b6da\"],[0.4,\"#fde0ef\"],[0.5,\"#f7f7f7\"],[0.6,\"#e6f5d0\"],[0.7,\"#b8e186\"],[0.8,\"#7fbc41\"],[0.9,\"#4d9221\"],[1,\"#276419\"]]},\"xaxis\":{\"gridcolor\":\"white\",\"linecolor\":\"white\",\"ticks\":\"\",\"title\":{\"standoff\":15},\"zerolinecolor\":\"white\",\"automargin\":true,\"zerolinewidth\":2},\"yaxis\":{\"gridcolor\":\"white\",\"linecolor\":\"white\",\"ticks\":\"\",\"title\":{\"standoff\":15},\"zerolinecolor\":\"white\",\"automargin\":true,\"zerolinewidth\":2},\"scene\":{\"xaxis\":{\"backgroundcolor\":\"#E5ECF6\",\"gridcolor\":\"white\",\"linecolor\":\"white\",\"showbackground\":true,\"ticks\":\"\",\"zerolinecolor\":\"white\",\"gridwidth\":2},\"yaxis\":{\"backgroundcolor\":\"#E5ECF6\",\"gridcolor\":\"white\",\"linecolor\":\"white\",\"showbackground\":true,\"ticks\":\"\",\"zerolinecolor\":\"white\",\"gridwidth\":2},\"zaxis\":{\"backgroundcolor\":\"#E5ECF6\",\"gridcolor\":\"white\",\"linecolor\":\"white\",\"showbackground\":true,\"ticks\":\"\",\"zerolinecolor\":\"white\",\"gridwidth\":2}},\"shapedefaults\":{\"line\":{\"color\":\"#2a3f5f\"}},\"annotationdefaults\":{\"arrowcolor\":\"#2a3f5f\",\"arrowhead\":0,\"arrowwidth\":1},\"geo\":{\"bgcolor\":\"white\",\"landcolor\":\"#E5ECF6\",\"subunitcolor\":\"white\",\"showland\":true,\"showlakes\":true,\"lakecolor\":\"white\"},\"title\":{\"x\":0.05},\"mapbox\":{\"style\":\"light\"}}},\"title\":{\"font\":{\"size\":15},\"text\":\"Payment Type Analysis\",\"x\":0.5,\"y\":0.9},\"showlegend\":true},                        {\"responsive\": true}                    ).then(function(){\n",
       "                            \n",
       "var gd = document.getElementById('5fa61270-63e7-4655-9009-14165e007f1a');\n",
       "var x = new MutationObserver(function (mutations, observer) {{\n",
       "        var display = window.getComputedStyle(gd).display;\n",
       "        if (!display || display === 'none') {{\n",
       "            console.log([gd, 'removed!']);\n",
       "            Plotly.purge(gd);\n",
       "            observer.disconnect();\n",
       "        }}\n",
       "}});\n",
       "\n",
       "// Listen for the removal of the full notebook cells\n",
       "var notebookContainer = gd.closest('#notebook-container');\n",
       "if (notebookContainer) {{\n",
       "    x.observe(notebookContainer, {childList: true});\n",
       "}}\n",
       "\n",
       "// Listen for the clearing of the current output cell\n",
       "var outputEl = gd.closest('.output');\n",
       "if (outputEl) {{\n",
       "    x.observe(outputEl, {childList: true});\n",
       "}}\n",
       "\n",
       "                        })                };                });            </script>        </div>"
      ]
     },
     "metadata": {},
     "output_type": "display_data"
    }
   ],
   "source": [
    "import plotly.graph_objects as go\n",
    "\n",
    "fig = go.Figure()\n",
    "fig.add_trace(\n",
    "    go.Pie(    \n",
    "        labels=payment_type_count.index, values=payment_type_count.values,\n",
    "        textinfo='label+percent', insidetextorientation='tangential' #\"horizontal\" | \"radial\" | \"tangential\" | \"auto\" \n",
    "    )\n",
    ")\n",
    "\n",
    "fig.update_layout(\n",
    "    {\n",
    "        \"title\": {\n",
    "            \"text\": \"Payment Type Analysis\",\n",
    "            \"x\": 0.5,\n",
    "            \"y\": 0.9,\n",
    "            \"font\": {\n",
    "                \"size\": 15\n",
    "            }\n",
    "        },\n",
    "        \"showlegend\": True\n",
    "    }\n",
    ")\n",
    "\n",
    "fig.show()"
   ]
  }
 ],
 "metadata": {
  "kernelspec": {
   "display_name": "Python 3 (ipykernel)",
   "language": "python",
   "name": "python3"
  },
  "language_info": {
   "codemirror_mode": {
    "name": "ipython",
    "version": 3
   },
   "file_extension": ".py",
   "mimetype": "text/x-python",
   "name": "python",
   "nbconvert_exporter": "python",
   "pygments_lexer": "ipython3",
   "version": "3.9.12"
  }
 },
 "nbformat": 4,
 "nbformat_minor": 4
}
